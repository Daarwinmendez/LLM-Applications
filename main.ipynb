{
  "cells": [
    {
      "cell_type": "markdown",
      "metadata": {
        "id": "view-in-github",
        "colab_type": "text"
      },
      "source": [
        "<a href=\"https://colab.research.google.com/github/Daarwinmendez/LLM-Applications/blob/main/main.ipynb\" target=\"_parent\"><img src=\"https://colab.research.google.com/assets/colab-badge.svg\" alt=\"Open In Colab\"/></a>"
      ]
    },
    {
      "cell_type": "code",
      "execution_count": null,
      "id": "ef633935-5ead-467f-b245-eec3369dd37a",
      "metadata": {
        "scrolled": true,
        "id": "ef633935-5ead-467f-b245-eec3369dd37a",
        "outputId": "68be5081-fb13-4b6b-9b7c-b5d9f4c370a1"
      },
      "outputs": [
        {
          "name": "stderr",
          "output_type": "stream",
          "text": [
            "86347.67s - pydevd: Sending message related to process being replaced timed-out after 5 seconds\n"
          ]
        },
        {
          "name": "stdout",
          "output_type": "stream",
          "text": [
            "Requirement already satisfied: torch in ./env/lib/python3.12/site-packages (2.2.2)\n",
            "Requirement already satisfied: filelock in ./env/lib/python3.12/site-packages (from torch) (3.13.1)\n",
            "Requirement already satisfied: typing-extensions>=4.8.0 in ./env/lib/python3.12/site-packages (from torch) (4.11.0)\n",
            "Requirement already satisfied: sympy in ./env/lib/python3.12/site-packages (from torch) (1.13.3)\n",
            "Requirement already satisfied: networkx in ./env/lib/python3.12/site-packages (from torch) (3.4.2)\n",
            "Requirement already satisfied: jinja2 in ./env/lib/python3.12/site-packages (from torch) (3.1.4)\n",
            "Requirement already satisfied: fsspec in ./env/lib/python3.12/site-packages (from torch) (2024.3.1)\n",
            "Requirement already satisfied: MarkupSafe>=2.0 in ./env/lib/python3.12/site-packages (from jinja2->torch) (2.1.3)\n",
            "Requirement already satisfied: mpmath<1.4,>=1.1.0 in ./env/lib/python3.12/site-packages (from sympy->torch) (1.3.0)\n"
          ]
        },
        {
          "name": "stderr",
          "output_type": "stream",
          "text": [
            "86355.55s - pydevd: Sending message related to process being replaced timed-out after 5 seconds\n"
          ]
        },
        {
          "name": "stdout",
          "output_type": "stream",
          "text": [
            "Requirement already satisfied: tensorflow in ./env/lib/python3.12/site-packages (2.16.2)\n",
            "Requirement already satisfied: absl-py>=1.0.0 in ./env/lib/python3.12/site-packages (from tensorflow) (2.1.0)\n",
            "Requirement already satisfied: astunparse>=1.6.0 in ./env/lib/python3.12/site-packages (from tensorflow) (1.6.3)\n",
            "Requirement already satisfied: flatbuffers>=23.5.26 in ./env/lib/python3.12/site-packages (from tensorflow) (24.3.25)\n",
            "Requirement already satisfied: gast!=0.5.0,!=0.5.1,!=0.5.2,>=0.2.1 in ./env/lib/python3.12/site-packages (from tensorflow) (0.6.0)\n",
            "Requirement already satisfied: google-pasta>=0.1.1 in ./env/lib/python3.12/site-packages (from tensorflow) (0.2.0)\n",
            "Requirement already satisfied: h5py>=3.10.0 in ./env/lib/python3.12/site-packages (from tensorflow) (3.12.1)\n",
            "Requirement already satisfied: libclang>=13.0.0 in ./env/lib/python3.12/site-packages (from tensorflow) (18.1.1)\n",
            "Requirement already satisfied: ml-dtypes~=0.3.1 in ./env/lib/python3.12/site-packages (from tensorflow) (0.3.2)\n",
            "Requirement already satisfied: opt-einsum>=2.3.2 in ./env/lib/python3.12/site-packages (from tensorflow) (3.4.0)\n",
            "Requirement already satisfied: packaging in ./env/lib/python3.12/site-packages (from tensorflow) (24.1)\n",
            "Requirement already satisfied: protobuf!=4.21.0,!=4.21.1,!=4.21.2,!=4.21.3,!=4.21.4,!=4.21.5,<5.0.0dev,>=3.20.3 in ./env/lib/python3.12/site-packages (from tensorflow) (4.25.5)\n",
            "Requirement already satisfied: requests<3,>=2.21.0 in ./env/lib/python3.12/site-packages (from tensorflow) (2.32.3)\n",
            "Requirement already satisfied: setuptools in ./env/lib/python3.12/site-packages (from tensorflow) (75.1.0)\n",
            "Requirement already satisfied: six>=1.12.0 in ./env/lib/python3.12/site-packages (from tensorflow) (1.16.0)\n",
            "Requirement already satisfied: termcolor>=1.1.0 in ./env/lib/python3.12/site-packages (from tensorflow) (2.5.0)\n",
            "Requirement already satisfied: typing-extensions>=3.6.6 in ./env/lib/python3.12/site-packages (from tensorflow) (4.11.0)\n",
            "Requirement already satisfied: wrapt>=1.11.0 in ./env/lib/python3.12/site-packages (from tensorflow) (1.16.0)\n",
            "Requirement already satisfied: grpcio<2.0,>=1.24.3 in ./env/lib/python3.12/site-packages (from tensorflow) (1.67.1)\n",
            "Requirement already satisfied: tensorboard<2.17,>=2.16 in ./env/lib/python3.12/site-packages (from tensorflow) (2.16.2)\n",
            "Requirement already satisfied: keras>=3.0.0 in ./env/lib/python3.12/site-packages (from tensorflow) (3.6.0)\n",
            "Requirement already satisfied: numpy<2.0.0,>=1.26.0 in ./env/lib/python3.12/site-packages (from tensorflow) (1.26.4)\n",
            "Requirement already satisfied: wheel<1.0,>=0.23.0 in ./env/lib/python3.12/site-packages (from astunparse>=1.6.0->tensorflow) (0.44.0)\n",
            "Requirement already satisfied: rich in ./env/lib/python3.12/site-packages (from keras>=3.0.0->tensorflow) (13.9.4)\n",
            "Requirement already satisfied: namex in ./env/lib/python3.12/site-packages (from keras>=3.0.0->tensorflow) (0.0.8)\n",
            "Requirement already satisfied: optree in ./env/lib/python3.12/site-packages (from keras>=3.0.0->tensorflow) (0.13.0)\n",
            "Requirement already satisfied: charset-normalizer<4,>=2 in ./env/lib/python3.12/site-packages (from requests<3,>=2.21.0->tensorflow) (3.3.2)\n",
            "Requirement already satisfied: idna<4,>=2.5 in ./env/lib/python3.12/site-packages (from requests<3,>=2.21.0->tensorflow) (3.7)\n",
            "Requirement already satisfied: urllib3<3,>=1.21.1 in ./env/lib/python3.12/site-packages (from requests<3,>=2.21.0->tensorflow) (2.2.3)\n",
            "Requirement already satisfied: certifi>=2017.4.17 in ./env/lib/python3.12/site-packages (from requests<3,>=2.21.0->tensorflow) (2024.8.30)\n",
            "Requirement already satisfied: markdown>=2.6.8 in ./env/lib/python3.12/site-packages (from tensorboard<2.17,>=2.16->tensorflow) (3.7)\n",
            "Requirement already satisfied: tensorboard-data-server<0.8.0,>=0.7.0 in ./env/lib/python3.12/site-packages (from tensorboard<2.17,>=2.16->tensorflow) (0.7.2)\n",
            "Requirement already satisfied: werkzeug>=1.0.1 in ./env/lib/python3.12/site-packages (from tensorboard<2.17,>=2.16->tensorflow) (3.1.2)\n",
            "Requirement already satisfied: MarkupSafe>=2.1.1 in ./env/lib/python3.12/site-packages (from werkzeug>=1.0.1->tensorboard<2.17,>=2.16->tensorflow) (2.1.3)\n",
            "Requirement already satisfied: markdown-it-py>=2.2.0 in ./env/lib/python3.12/site-packages (from rich->keras>=3.0.0->tensorflow) (3.0.0)\n",
            "Requirement already satisfied: pygments<3.0.0,>=2.13.0 in ./env/lib/python3.12/site-packages (from rich->keras>=3.0.0->tensorflow) (2.15.1)\n",
            "Requirement already satisfied: mdurl~=0.1 in ./env/lib/python3.12/site-packages (from markdown-it-py>=2.2.0->rich->keras>=3.0.0->tensorflow) (0.1.2)\n"
          ]
        },
        {
          "name": "stderr",
          "output_type": "stream",
          "text": [
            "86363.14s - pydevd: Sending message related to process being replaced timed-out after 5 seconds\n"
          ]
        },
        {
          "name": "stdout",
          "output_type": "stream",
          "text": [
            "Requirement already satisfied: evaluate in ./env/lib/python3.12/site-packages (0.4.3)\n",
            "Requirement already satisfied: datasets>=2.0.0 in ./env/lib/python3.12/site-packages (from evaluate) (2.19.1)\n",
            "Requirement already satisfied: numpy>=1.17 in ./env/lib/python3.12/site-packages (from evaluate) (1.26.4)\n",
            "Requirement already satisfied: dill in ./env/lib/python3.12/site-packages (from evaluate) (0.3.8)\n",
            "Requirement already satisfied: pandas in ./env/lib/python3.12/site-packages (from evaluate) (2.2.2)\n",
            "Requirement already satisfied: requests>=2.19.0 in ./env/lib/python3.12/site-packages (from evaluate) (2.32.3)\n",
            "Requirement already satisfied: tqdm>=4.62.1 in ./env/lib/python3.12/site-packages (from evaluate) (4.66.5)\n",
            "Requirement already satisfied: xxhash in ./env/lib/python3.12/site-packages (from evaluate) (2.0.2)\n",
            "Requirement already satisfied: multiprocess in ./env/lib/python3.12/site-packages (from evaluate) (0.70.15)\n",
            "Requirement already satisfied: fsspec>=2021.05.0 in ./env/lib/python3.12/site-packages (from fsspec[http]>=2021.05.0->evaluate) (2024.3.1)\n",
            "Requirement already satisfied: huggingface-hub>=0.7.0 in ./env/lib/python3.12/site-packages (from evaluate) (0.24.6)\n",
            "Requirement already satisfied: packaging in ./env/lib/python3.12/site-packages (from evaluate) (24.1)\n",
            "Requirement already satisfied: filelock in ./env/lib/python3.12/site-packages (from datasets>=2.0.0->evaluate) (3.13.1)\n",
            "Requirement already satisfied: pyarrow>=12.0.0 in ./env/lib/python3.12/site-packages (from datasets>=2.0.0->evaluate) (16.1.0)\n",
            "Requirement already satisfied: aiohttp in ./env/lib/python3.12/site-packages (from datasets>=2.0.0->evaluate) (3.10.5)\n",
            "Requirement already satisfied: pyyaml>=5.1 in ./env/lib/python3.12/site-packages (from datasets>=2.0.0->evaluate) (6.0.2)\n",
            "Requirement already satisfied: typing-extensions>=3.7.4.3 in ./env/lib/python3.12/site-packages (from huggingface-hub>=0.7.0->evaluate) (4.11.0)\n",
            "Requirement already satisfied: charset-normalizer<4,>=2 in ./env/lib/python3.12/site-packages (from requests>=2.19.0->evaluate) (3.3.2)\n",
            "Requirement already satisfied: idna<4,>=2.5 in ./env/lib/python3.12/site-packages (from requests>=2.19.0->evaluate) (3.7)\n",
            "Requirement already satisfied: urllib3<3,>=1.21.1 in ./env/lib/python3.12/site-packages (from requests>=2.19.0->evaluate) (2.2.3)\n",
            "Requirement already satisfied: certifi>=2017.4.17 in ./env/lib/python3.12/site-packages (from requests>=2.19.0->evaluate) (2024.8.30)\n",
            "Requirement already satisfied: python-dateutil>=2.8.2 in ./env/lib/python3.12/site-packages (from pandas->evaluate) (2.9.0.post0)\n",
            "Requirement already satisfied: pytz>=2020.1 in ./env/lib/python3.12/site-packages (from pandas->evaluate) (2024.1)\n",
            "Requirement already satisfied: tzdata>=2022.7 in ./env/lib/python3.12/site-packages (from pandas->evaluate) (2023.3)\n",
            "Requirement already satisfied: aiohappyeyeballs>=2.3.0 in ./env/lib/python3.12/site-packages (from aiohttp->datasets>=2.0.0->evaluate) (2.4.0)\n",
            "Requirement already satisfied: aiosignal>=1.1.2 in ./env/lib/python3.12/site-packages (from aiohttp->datasets>=2.0.0->evaluate) (1.2.0)\n",
            "Requirement already satisfied: attrs>=17.3.0 in ./env/lib/python3.12/site-packages (from aiohttp->datasets>=2.0.0->evaluate) (24.2.0)\n",
            "Requirement already satisfied: frozenlist>=1.1.1 in ./env/lib/python3.12/site-packages (from aiohttp->datasets>=2.0.0->evaluate) (1.4.0)\n",
            "Requirement already satisfied: multidict<7.0,>=4.5 in ./env/lib/python3.12/site-packages (from aiohttp->datasets>=2.0.0->evaluate) (6.0.4)\n",
            "Requirement already satisfied: yarl<2.0,>=1.0 in ./env/lib/python3.12/site-packages (from aiohttp->datasets>=2.0.0->evaluate) (1.11.0)\n",
            "Requirement already satisfied: six>=1.5 in ./env/lib/python3.12/site-packages (from python-dateutil>=2.8.2->pandas->evaluate) (1.16.0)\n"
          ]
        },
        {
          "name": "stderr",
          "output_type": "stream",
          "text": [
            "86370.94s - pydevd: Sending message related to process being replaced timed-out after 5 seconds\n"
          ]
        },
        {
          "name": "stdout",
          "output_type": "stream",
          "text": [
            "Requirement already satisfied: rouge_score in ./env/lib/python3.12/site-packages (0.1.2)\n",
            "Requirement already satisfied: absl-py in ./env/lib/python3.12/site-packages (from rouge_score) (2.1.0)\n",
            "Requirement already satisfied: nltk in ./env/lib/python3.12/site-packages (from rouge_score) (3.9.1)\n",
            "Requirement already satisfied: numpy in ./env/lib/python3.12/site-packages (from rouge_score) (1.26.4)\n",
            "Requirement already satisfied: six>=1.14.0 in ./env/lib/python3.12/site-packages (from rouge_score) (1.16.0)\n",
            "Requirement already satisfied: click in ./env/lib/python3.12/site-packages (from nltk->rouge_score) (8.1.7)\n",
            "Requirement already satisfied: joblib in ./env/lib/python3.12/site-packages (from nltk->rouge_score) (1.4.2)\n",
            "Requirement already satisfied: regex>=2021.8.3 in ./env/lib/python3.12/site-packages (from nltk->rouge_score) (2024.9.11)\n",
            "Requirement already satisfied: tqdm in ./env/lib/python3.12/site-packages (from nltk->rouge_score) (4.66.5)\n"
          ]
        },
        {
          "name": "stderr",
          "output_type": "stream",
          "text": [
            "86378.02s - pydevd: Sending message related to process being replaced timed-out after 5 seconds\n"
          ]
        },
        {
          "name": "stdout",
          "output_type": "stream",
          "text": [
            "Requirement already satisfied: transformers in ./env/lib/python3.12/site-packages (4.46.1)\n",
            "Requirement already satisfied: filelock in ./env/lib/python3.12/site-packages (from transformers) (3.13.1)\n",
            "Requirement already satisfied: huggingface-hub<1.0,>=0.23.2 in ./env/lib/python3.12/site-packages (from transformers) (0.24.6)\n",
            "Requirement already satisfied: numpy>=1.17 in ./env/lib/python3.12/site-packages (from transformers) (1.26.4)\n",
            "Requirement already satisfied: packaging>=20.0 in ./env/lib/python3.12/site-packages (from transformers) (24.1)\n",
            "Requirement already satisfied: pyyaml>=5.1 in ./env/lib/python3.12/site-packages (from transformers) (6.0.2)\n",
            "Requirement already satisfied: regex!=2019.12.17 in ./env/lib/python3.12/site-packages (from transformers) (2024.9.11)\n",
            "Requirement already satisfied: requests in ./env/lib/python3.12/site-packages (from transformers) (2.32.3)\n",
            "Requirement already satisfied: safetensors>=0.4.1 in ./env/lib/python3.12/site-packages (from transformers) (0.4.5)\n",
            "Requirement already satisfied: tokenizers<0.21,>=0.20 in ./env/lib/python3.12/site-packages (from transformers) (0.20.1)\n",
            "Requirement already satisfied: tqdm>=4.27 in ./env/lib/python3.12/site-packages (from transformers) (4.66.5)\n",
            "Requirement already satisfied: fsspec>=2023.5.0 in ./env/lib/python3.12/site-packages (from huggingface-hub<1.0,>=0.23.2->transformers) (2024.3.1)\n",
            "Requirement already satisfied: typing-extensions>=3.7.4.3 in ./env/lib/python3.12/site-packages (from huggingface-hub<1.0,>=0.23.2->transformers) (4.11.0)\n",
            "Requirement already satisfied: charset-normalizer<4,>=2 in ./env/lib/python3.12/site-packages (from requests->transformers) (3.3.2)\n",
            "Requirement already satisfied: idna<4,>=2.5 in ./env/lib/python3.12/site-packages (from requests->transformers) (3.7)\n",
            "Requirement already satisfied: urllib3<3,>=1.21.1 in ./env/lib/python3.12/site-packages (from requests->transformers) (2.2.3)\n",
            "Requirement already satisfied: certifi>=2017.4.17 in ./env/lib/python3.12/site-packages (from requests->transformers) (2024.8.30)\n"
          ]
        },
        {
          "name": "stderr",
          "output_type": "stream",
          "text": [
            "86385.46s - pydevd: Sending message related to process being replaced timed-out after 5 seconds\n"
          ]
        },
        {
          "name": "stdout",
          "output_type": "stream",
          "text": [
            "Requirement already satisfied: tf-keras in ./env/lib/python3.12/site-packages (2.16.0)\n",
            "Requirement already satisfied: tensorflow<2.17,>=2.16 in ./env/lib/python3.12/site-packages (from tf-keras) (2.16.2)\n",
            "Requirement already satisfied: absl-py>=1.0.0 in ./env/lib/python3.12/site-packages (from tensorflow<2.17,>=2.16->tf-keras) (2.1.0)\n",
            "Requirement already satisfied: astunparse>=1.6.0 in ./env/lib/python3.12/site-packages (from tensorflow<2.17,>=2.16->tf-keras) (1.6.3)\n",
            "Requirement already satisfied: flatbuffers>=23.5.26 in ./env/lib/python3.12/site-packages (from tensorflow<2.17,>=2.16->tf-keras) (24.3.25)\n",
            "Requirement already satisfied: gast!=0.5.0,!=0.5.1,!=0.5.2,>=0.2.1 in ./env/lib/python3.12/site-packages (from tensorflow<2.17,>=2.16->tf-keras) (0.6.0)\n",
            "Requirement already satisfied: google-pasta>=0.1.1 in ./env/lib/python3.12/site-packages (from tensorflow<2.17,>=2.16->tf-keras) (0.2.0)\n",
            "Requirement already satisfied: h5py>=3.10.0 in ./env/lib/python3.12/site-packages (from tensorflow<2.17,>=2.16->tf-keras) (3.12.1)\n",
            "Requirement already satisfied: libclang>=13.0.0 in ./env/lib/python3.12/site-packages (from tensorflow<2.17,>=2.16->tf-keras) (18.1.1)\n",
            "Requirement already satisfied: ml-dtypes~=0.3.1 in ./env/lib/python3.12/site-packages (from tensorflow<2.17,>=2.16->tf-keras) (0.3.2)\n",
            "Requirement already satisfied: opt-einsum>=2.3.2 in ./env/lib/python3.12/site-packages (from tensorflow<2.17,>=2.16->tf-keras) (3.4.0)\n",
            "Requirement already satisfied: packaging in ./env/lib/python3.12/site-packages (from tensorflow<2.17,>=2.16->tf-keras) (24.1)\n",
            "Requirement already satisfied: protobuf!=4.21.0,!=4.21.1,!=4.21.2,!=4.21.3,!=4.21.4,!=4.21.5,<5.0.0dev,>=3.20.3 in ./env/lib/python3.12/site-packages (from tensorflow<2.17,>=2.16->tf-keras) (4.25.5)\n",
            "Requirement already satisfied: requests<3,>=2.21.0 in ./env/lib/python3.12/site-packages (from tensorflow<2.17,>=2.16->tf-keras) (2.32.3)\n",
            "Requirement already satisfied: setuptools in ./env/lib/python3.12/site-packages (from tensorflow<2.17,>=2.16->tf-keras) (75.1.0)\n",
            "Requirement already satisfied: six>=1.12.0 in ./env/lib/python3.12/site-packages (from tensorflow<2.17,>=2.16->tf-keras) (1.16.0)\n",
            "Requirement already satisfied: termcolor>=1.1.0 in ./env/lib/python3.12/site-packages (from tensorflow<2.17,>=2.16->tf-keras) (2.5.0)\n",
            "Requirement already satisfied: typing-extensions>=3.6.6 in ./env/lib/python3.12/site-packages (from tensorflow<2.17,>=2.16->tf-keras) (4.11.0)\n",
            "Requirement already satisfied: wrapt>=1.11.0 in ./env/lib/python3.12/site-packages (from tensorflow<2.17,>=2.16->tf-keras) (1.16.0)\n",
            "Requirement already satisfied: grpcio<2.0,>=1.24.3 in ./env/lib/python3.12/site-packages (from tensorflow<2.17,>=2.16->tf-keras) (1.67.1)\n",
            "Requirement already satisfied: tensorboard<2.17,>=2.16 in ./env/lib/python3.12/site-packages (from tensorflow<2.17,>=2.16->tf-keras) (2.16.2)\n",
            "Requirement already satisfied: keras>=3.0.0 in ./env/lib/python3.12/site-packages (from tensorflow<2.17,>=2.16->tf-keras) (3.6.0)\n",
            "Requirement already satisfied: numpy<2.0.0,>=1.26.0 in ./env/lib/python3.12/site-packages (from tensorflow<2.17,>=2.16->tf-keras) (1.26.4)\n",
            "Requirement already satisfied: wheel<1.0,>=0.23.0 in ./env/lib/python3.12/site-packages (from astunparse>=1.6.0->tensorflow<2.17,>=2.16->tf-keras) (0.44.0)\n",
            "Requirement already satisfied: rich in ./env/lib/python3.12/site-packages (from keras>=3.0.0->tensorflow<2.17,>=2.16->tf-keras) (13.9.4)\n",
            "Requirement already satisfied: namex in ./env/lib/python3.12/site-packages (from keras>=3.0.0->tensorflow<2.17,>=2.16->tf-keras) (0.0.8)\n",
            "Requirement already satisfied: optree in ./env/lib/python3.12/site-packages (from keras>=3.0.0->tensorflow<2.17,>=2.16->tf-keras) (0.13.0)\n",
            "Requirement already satisfied: charset-normalizer<4,>=2 in ./env/lib/python3.12/site-packages (from requests<3,>=2.21.0->tensorflow<2.17,>=2.16->tf-keras) (3.3.2)\n",
            "Requirement already satisfied: idna<4,>=2.5 in ./env/lib/python3.12/site-packages (from requests<3,>=2.21.0->tensorflow<2.17,>=2.16->tf-keras) (3.7)\n",
            "Requirement already satisfied: urllib3<3,>=1.21.1 in ./env/lib/python3.12/site-packages (from requests<3,>=2.21.0->tensorflow<2.17,>=2.16->tf-keras) (2.2.3)\n",
            "Requirement already satisfied: certifi>=2017.4.17 in ./env/lib/python3.12/site-packages (from requests<3,>=2.21.0->tensorflow<2.17,>=2.16->tf-keras) (2024.8.30)\n",
            "Requirement already satisfied: markdown>=2.6.8 in ./env/lib/python3.12/site-packages (from tensorboard<2.17,>=2.16->tensorflow<2.17,>=2.16->tf-keras) (3.7)\n",
            "Requirement already satisfied: tensorboard-data-server<0.8.0,>=0.7.0 in ./env/lib/python3.12/site-packages (from tensorboard<2.17,>=2.16->tensorflow<2.17,>=2.16->tf-keras) (0.7.2)\n",
            "Requirement already satisfied: werkzeug>=1.0.1 in ./env/lib/python3.12/site-packages (from tensorboard<2.17,>=2.16->tensorflow<2.17,>=2.16->tf-keras) (3.1.2)\n",
            "Requirement already satisfied: MarkupSafe>=2.1.1 in ./env/lib/python3.12/site-packages (from werkzeug>=1.0.1->tensorboard<2.17,>=2.16->tensorflow<2.17,>=2.16->tf-keras) (2.1.3)\n",
            "Requirement already satisfied: markdown-it-py>=2.2.0 in ./env/lib/python3.12/site-packages (from rich->keras>=3.0.0->tensorflow<2.17,>=2.16->tf-keras) (3.0.0)\n",
            "Requirement already satisfied: pygments<3.0.0,>=2.13.0 in ./env/lib/python3.12/site-packages (from rich->keras>=3.0.0->tensorflow<2.17,>=2.16->tf-keras) (2.15.1)\n",
            "Requirement already satisfied: mdurl~=0.1 in ./env/lib/python3.12/site-packages (from markdown-it-py>=2.2.0->rich->keras>=3.0.0->tensorflow<2.17,>=2.16->tf-keras) (0.1.2)\n"
          ]
        },
        {
          "name": "stderr",
          "output_type": "stream",
          "text": [
            "86392.97s - pydevd: Sending message related to process being replaced timed-out after 5 seconds\n"
          ]
        },
        {
          "name": "stdout",
          "output_type": "stream",
          "text": [
            "Requirement already satisfied: datasets in ./env/lib/python3.12/site-packages (2.19.1)\n",
            "Requirement already satisfied: filelock in ./env/lib/python3.12/site-packages (from datasets) (3.13.1)\n",
            "Requirement already satisfied: numpy>=1.17 in ./env/lib/python3.12/site-packages (from datasets) (1.26.4)\n",
            "Requirement already satisfied: pyarrow>=12.0.0 in ./env/lib/python3.12/site-packages (from datasets) (16.1.0)\n",
            "Requirement already satisfied: dill<0.3.9,>=0.3.0 in ./env/lib/python3.12/site-packages (from datasets) (0.3.8)\n",
            "Requirement already satisfied: pandas in ./env/lib/python3.12/site-packages (from datasets) (2.2.2)\n",
            "Requirement already satisfied: requests>=2.19.0 in ./env/lib/python3.12/site-packages (from datasets) (2.32.3)\n",
            "Requirement already satisfied: tqdm>=4.62.1 in ./env/lib/python3.12/site-packages (from datasets) (4.66.5)\n",
            "Requirement already satisfied: xxhash in ./env/lib/python3.12/site-packages (from datasets) (2.0.2)\n",
            "Requirement already satisfied: multiprocess in ./env/lib/python3.12/site-packages (from datasets) (0.70.15)\n",
            "Requirement already satisfied: fsspec<=2024.3.1,>=2023.1.0 in ./env/lib/python3.12/site-packages (from fsspec[http]<=2024.3.1,>=2023.1.0->datasets) (2024.3.1)\n",
            "Requirement already satisfied: aiohttp in ./env/lib/python3.12/site-packages (from datasets) (3.10.5)\n",
            "Requirement already satisfied: huggingface-hub>=0.21.2 in ./env/lib/python3.12/site-packages (from datasets) (0.24.6)\n",
            "Requirement already satisfied: packaging in ./env/lib/python3.12/site-packages (from datasets) (24.1)\n",
            "Requirement already satisfied: pyyaml>=5.1 in ./env/lib/python3.12/site-packages (from datasets) (6.0.2)\n",
            "Requirement already satisfied: aiohappyeyeballs>=2.3.0 in ./env/lib/python3.12/site-packages (from aiohttp->datasets) (2.4.0)\n",
            "Requirement already satisfied: aiosignal>=1.1.2 in ./env/lib/python3.12/site-packages (from aiohttp->datasets) (1.2.0)\n",
            "Requirement already satisfied: attrs>=17.3.0 in ./env/lib/python3.12/site-packages (from aiohttp->datasets) (24.2.0)\n",
            "Requirement already satisfied: frozenlist>=1.1.1 in ./env/lib/python3.12/site-packages (from aiohttp->datasets) (1.4.0)\n",
            "Requirement already satisfied: multidict<7.0,>=4.5 in ./env/lib/python3.12/site-packages (from aiohttp->datasets) (6.0.4)\n",
            "Requirement already satisfied: yarl<2.0,>=1.0 in ./env/lib/python3.12/site-packages (from aiohttp->datasets) (1.11.0)\n",
            "Requirement already satisfied: typing-extensions>=3.7.4.3 in ./env/lib/python3.12/site-packages (from huggingface-hub>=0.21.2->datasets) (4.11.0)\n",
            "Requirement already satisfied: charset-normalizer<4,>=2 in ./env/lib/python3.12/site-packages (from requests>=2.19.0->datasets) (3.3.2)\n",
            "Requirement already satisfied: idna<4,>=2.5 in ./env/lib/python3.12/site-packages (from requests>=2.19.0->datasets) (3.7)\n",
            "Requirement already satisfied: urllib3<3,>=1.21.1 in ./env/lib/python3.12/site-packages (from requests>=2.19.0->datasets) (2.2.3)\n",
            "Requirement already satisfied: certifi>=2017.4.17 in ./env/lib/python3.12/site-packages (from requests>=2.19.0->datasets) (2024.8.30)\n",
            "Requirement already satisfied: python-dateutil>=2.8.2 in ./env/lib/python3.12/site-packages (from pandas->datasets) (2.9.0.post0)\n",
            "Requirement already satisfied: pytz>=2020.1 in ./env/lib/python3.12/site-packages (from pandas->datasets) (2024.1)\n",
            "Requirement already satisfied: tzdata>=2022.7 in ./env/lib/python3.12/site-packages (from pandas->datasets) (2023.3)\n",
            "Requirement already satisfied: six>=1.5 in ./env/lib/python3.12/site-packages (from python-dateutil>=2.8.2->pandas->datasets) (1.16.0)\n"
          ]
        },
        {
          "name": "stderr",
          "output_type": "stream",
          "text": [
            "86400.33s - pydevd: Sending message related to process being replaced timed-out after 5 seconds\n"
          ]
        },
        {
          "name": "stdout",
          "output_type": "stream",
          "text": [
            "Requirement already satisfied: sacremoses==0.0.53 in ./env/lib/python3.12/site-packages (0.0.53)\n",
            "Requirement already satisfied: regex in ./env/lib/python3.12/site-packages (from sacremoses==0.0.53) (2024.9.11)\n",
            "Requirement already satisfied: six in ./env/lib/python3.12/site-packages (from sacremoses==0.0.53) (1.16.0)\n",
            "Requirement already satisfied: click in ./env/lib/python3.12/site-packages (from sacremoses==0.0.53) (8.1.7)\n",
            "Requirement already satisfied: joblib in ./env/lib/python3.12/site-packages (from sacremoses==0.0.53) (1.4.2)\n",
            "Requirement already satisfied: tqdm in ./env/lib/python3.12/site-packages (from sacremoses==0.0.53) (4.66.5)\n"
          ]
        },
        {
          "name": "stderr",
          "output_type": "stream",
          "text": [
            "86407.40s - pydevd: Sending message related to process being replaced timed-out after 5 seconds\n"
          ]
        },
        {
          "name": "stdout",
          "output_type": "stream",
          "text": [
            "Requirement already satisfied: tiktoken in ./env/lib/python3.12/site-packages (0.8.0)\n",
            "Requirement already satisfied: regex>=2022.1.18 in ./env/lib/python3.12/site-packages (from tiktoken) (2024.9.11)\n",
            "Requirement already satisfied: requests>=2.26.0 in ./env/lib/python3.12/site-packages (from tiktoken) (2.32.3)\n",
            "Requirement already satisfied: charset-normalizer<4,>=2 in ./env/lib/python3.12/site-packages (from requests>=2.26.0->tiktoken) (3.3.2)\n",
            "Requirement already satisfied: idna<4,>=2.5 in ./env/lib/python3.12/site-packages (from requests>=2.26.0->tiktoken) (3.7)\n",
            "Requirement already satisfied: urllib3<3,>=1.21.1 in ./env/lib/python3.12/site-packages (from requests>=2.26.0->tiktoken) (2.2.3)\n",
            "Requirement already satisfied: certifi>=2017.4.17 in ./env/lib/python3.12/site-packages (from requests>=2.26.0->tiktoken) (2024.8.30)\n"
          ]
        },
        {
          "name": "stderr",
          "output_type": "stream",
          "text": [
            "86414.44s - pydevd: Sending message related to process being replaced timed-out after 5 seconds\n"
          ]
        },
        {
          "name": "stdout",
          "output_type": "stream",
          "text": [
            "Requirement already satisfied: sentencepiece in ./env/lib/python3.12/site-packages (0.2.0)\n"
          ]
        },
        {
          "name": "stderr",
          "output_type": "stream",
          "text": [
            "86421.51s - pydevd: Sending message related to process being replaced timed-out after 5 seconds\n"
          ]
        },
        {
          "name": "stdout",
          "output_type": "stream",
          "text": [
            "Requirement already satisfied: einops in ./env/lib/python3.12/site-packages (0.8.0)\n"
          ]
        },
        {
          "name": "stderr",
          "output_type": "stream",
          "text": [
            "86428.57s - pydevd: Sending message related to process being replaced timed-out after 5 seconds\n"
          ]
        },
        {
          "name": "stdout",
          "output_type": "stream",
          "text": [
            "Requirement already satisfied: openpyxl in ./env/lib/python3.12/site-packages (3.1.5)\n",
            "Requirement already satisfied: et-xmlfile in ./env/lib/python3.12/site-packages (from openpyxl) (2.0.0)\n"
          ]
        },
        {
          "name": "stderr",
          "output_type": "stream",
          "text": [
            "86435.57s - pydevd: Sending message related to process being replaced timed-out after 5 seconds\n"
          ]
        },
        {
          "name": "stdout",
          "output_type": "stream",
          "text": [
            "Requirement already satisfied: accelerate in ./env/lib/python3.12/site-packages (1.1.1)\n",
            "Requirement already satisfied: huggingface-hub>=0.21.0 in ./env/lib/python3.12/site-packages (from accelerate) (0.24.6)\n",
            "Requirement already satisfied: numpy<3.0.0,>=1.17 in ./env/lib/python3.12/site-packages (from accelerate) (1.26.4)\n",
            "Requirement already satisfied: packaging>=20.0 in ./env/lib/python3.12/site-packages (from accelerate) (24.1)\n",
            "Requirement already satisfied: psutil in ./env/lib/python3.12/site-packages (from accelerate) (5.9.0)\n",
            "Requirement already satisfied: pyyaml in ./env/lib/python3.12/site-packages (from accelerate) (6.0.2)\n",
            "Requirement already satisfied: safetensors>=0.4.3 in ./env/lib/python3.12/site-packages (from accelerate) (0.4.5)\n",
            "Requirement already satisfied: torch>=1.10.0 in ./env/lib/python3.12/site-packages (from accelerate) (2.2.2)\n",
            "Requirement already satisfied: filelock in ./env/lib/python3.12/site-packages (from huggingface-hub>=0.21.0->accelerate) (3.13.1)\n",
            "Requirement already satisfied: fsspec>=2023.5.0 in ./env/lib/python3.12/site-packages (from huggingface-hub>=0.21.0->accelerate) (2024.3.1)\n",
            "Requirement already satisfied: requests in ./env/lib/python3.12/site-packages (from huggingface-hub>=0.21.0->accelerate) (2.32.3)\n",
            "Requirement already satisfied: tqdm>=4.42.1 in ./env/lib/python3.12/site-packages (from huggingface-hub>=0.21.0->accelerate) (4.66.5)\n",
            "Requirement already satisfied: typing-extensions>=3.7.4.3 in ./env/lib/python3.12/site-packages (from huggingface-hub>=0.21.0->accelerate) (4.11.0)\n",
            "Requirement already satisfied: sympy in ./env/lib/python3.12/site-packages (from torch>=1.10.0->accelerate) (1.13.3)\n",
            "Requirement already satisfied: networkx in ./env/lib/python3.12/site-packages (from torch>=1.10.0->accelerate) (3.4.2)\n",
            "Requirement already satisfied: jinja2 in ./env/lib/python3.12/site-packages (from torch>=1.10.0->accelerate) (3.1.4)\n",
            "Requirement already satisfied: MarkupSafe>=2.0 in ./env/lib/python3.12/site-packages (from jinja2->torch>=1.10.0->accelerate) (2.1.3)\n",
            "Requirement already satisfied: charset-normalizer<4,>=2 in ./env/lib/python3.12/site-packages (from requests->huggingface-hub>=0.21.0->accelerate) (3.3.2)\n",
            "Requirement already satisfied: idna<4,>=2.5 in ./env/lib/python3.12/site-packages (from requests->huggingface-hub>=0.21.0->accelerate) (3.7)\n",
            "Requirement already satisfied: urllib3<3,>=1.21.1 in ./env/lib/python3.12/site-packages (from requests->huggingface-hub>=0.21.0->accelerate) (2.2.3)\n",
            "Requirement already satisfied: certifi>=2017.4.17 in ./env/lib/python3.12/site-packages (from requests->huggingface-hub>=0.21.0->accelerate) (2024.8.30)\n",
            "Requirement already satisfied: mpmath<1.4,>=1.1.0 in ./env/lib/python3.12/site-packages (from sympy->torch>=1.10.0->accelerate) (1.3.0)\n"
          ]
        },
        {
          "name": "stderr",
          "output_type": "stream",
          "text": [
            "86442.91s - pydevd: Sending message related to process being replaced timed-out after 5 seconds\n"
          ]
        },
        {
          "name": "stdout",
          "output_type": "stream",
          "text": [
            "Requirement already satisfied: seaborn in ./env/lib/python3.12/site-packages (0.13.2)\n",
            "Requirement already satisfied: numpy!=1.24.0,>=1.20 in ./env/lib/python3.12/site-packages (from seaborn) (1.26.4)\n",
            "Requirement already satisfied: pandas>=1.2 in ./env/lib/python3.12/site-packages (from seaborn) (2.2.2)\n",
            "Requirement already satisfied: matplotlib!=3.6.1,>=3.4 in ./env/lib/python3.12/site-packages (from seaborn) (3.9.2)\n",
            "Requirement already satisfied: contourpy>=1.0.1 in ./env/lib/python3.12/site-packages (from matplotlib!=3.6.1,>=3.4->seaborn) (1.2.0)\n",
            "Requirement already satisfied: cycler>=0.10 in ./env/lib/python3.12/site-packages (from matplotlib!=3.6.1,>=3.4->seaborn) (0.11.0)\n",
            "Requirement already satisfied: fonttools>=4.22.0 in ./env/lib/python3.12/site-packages (from matplotlib!=3.6.1,>=3.4->seaborn) (4.51.0)\n",
            "Requirement already satisfied: kiwisolver>=1.3.1 in ./env/lib/python3.12/site-packages (from matplotlib!=3.6.1,>=3.4->seaborn) (1.4.4)\n",
            "Requirement already satisfied: packaging>=20.0 in ./env/lib/python3.12/site-packages (from matplotlib!=3.6.1,>=3.4->seaborn) (24.1)\n",
            "Requirement already satisfied: pillow>=8 in ./env/lib/python3.12/site-packages (from matplotlib!=3.6.1,>=3.4->seaborn) (10.4.0)\n",
            "Requirement already satisfied: pyparsing>=2.3.1 in ./env/lib/python3.12/site-packages (from matplotlib!=3.6.1,>=3.4->seaborn) (3.1.2)\n",
            "Requirement already satisfied: python-dateutil>=2.7 in ./env/lib/python3.12/site-packages (from matplotlib!=3.6.1,>=3.4->seaborn) (2.9.0.post0)\n",
            "Requirement already satisfied: pytz>=2020.1 in ./env/lib/python3.12/site-packages (from pandas>=1.2->seaborn) (2024.1)\n",
            "Requirement already satisfied: tzdata>=2022.7 in ./env/lib/python3.12/site-packages (from pandas>=1.2->seaborn) (2023.3)\n",
            "Requirement already satisfied: six>=1.5 in ./env/lib/python3.12/site-packages (from python-dateutil>=2.7->matplotlib!=3.6.1,>=3.4->seaborn) (1.16.0)\n"
          ]
        }
      ],
      "source": [
        "!pip install torch\n",
        "!pip install tensorflow\n",
        "!pip install evaluate\n",
        "!pip install rouge_score\n",
        "!pip install transformers\n",
        "!pip install tf-keras\n",
        "!pip install datasets\n",
        "!pip install sacremoses==0.0.53\n",
        "!pip install tiktoken\n",
        "!pip install sentencepiece\n",
        "!pip install einops\n",
        "!pip install openpyxl\n",
        "!pip install accelerate\n",
        "!pip install seaborn"
      ]
    },
    {
      "cell_type": "code",
      "execution_count": null,
      "id": "fa2bf8f8-9c47-4ca9-b69d-187ee50d0f8f",
      "metadata": {
        "id": "fa2bf8f8-9c47-4ca9-b69d-187ee50d0f8f"
      },
      "outputs": [],
      "source": [
        "import pandas as pd\n",
        "import numpy as np\n",
        "import matplotlib.pyplot as plt\n",
        "import seaborn as sns\n",
        "plt.style.use(\"ggplot\")\n",
        "import numpy as np\n",
        "from datasets import load_dataset, list_metrics, load_metric\n",
        "from sklearn.metrics import accuracy_score, confusion_matrix\n",
        "from transformers import pipeline, set_seed, logging, AutoTokenizer\n",
        "import tensorflow as tf\n",
        "import keras as keras\n",
        "import sentencepiece\n",
        "import openpyxl\n",
        "import os\n",
        "from evaluate import load\n",
        "import time\n",
        "import torch\n",
        "import warnings"
      ]
    },
    {
      "cell_type": "markdown",
      "id": "5aa324b0-7225-4d34-9522-5509535cbc56",
      "metadata": {
        "id": "5aa324b0-7225-4d34-9522-5509535cbc56"
      },
      "source": [
        "## Estructura del Benchmark"
      ]
    },
    {
      "cell_type": "code",
      "execution_count": null,
      "id": "9371e3d3-bd8e-4419-a9d6-653b376b6cc5",
      "metadata": {
        "id": "9371e3d3-bd8e-4419-a9d6-653b376b6cc5",
        "outputId": "2a33cfed-a0a4-48c7-ad88-623347e1f6d9"
      },
      "outputs": [
        {
          "data": {
            "text/html": [
              "<div>\n",
              "<style scoped>\n",
              "    .dataframe tbody tr th:only-of-type {\n",
              "        vertical-align: middle;\n",
              "    }\n",
              "\n",
              "    .dataframe tbody tr th {\n",
              "        vertical-align: top;\n",
              "    }\n",
              "\n",
              "    .dataframe thead tr th {\n",
              "        text-align: left;\n",
              "    }\n",
              "\n",
              "    .dataframe thead tr:last-of-type th {\n",
              "        text-align: right;\n",
              "    }\n",
              "</style>\n",
              "<table border=\"1\" class=\"dataframe\">\n",
              "  <thead>\n",
              "    <tr>\n",
              "      <th></th>\n",
              "      <th>Task</th>\n",
              "      <th colspan=\"5\" halign=\"left\">Summarization</th>\n",
              "      <th>...</th>\n",
              "      <th colspan=\"5\" halign=\"left\">Few Shot Learning</th>\n",
              "    </tr>\n",
              "    <tr>\n",
              "      <th></th>\n",
              "      <th>Info</th>\n",
              "      <th>Name</th>\n",
              "      <th>Inference Time</th>\n",
              "      <th>Size (GB)</th>\n",
              "      <th>Qty of Parameters</th>\n",
              "      <th>Metric</th>\n",
              "      <th>...</th>\n",
              "      <th>Name</th>\n",
              "      <th>Inference Time</th>\n",
              "      <th>Size (GB)</th>\n",
              "      <th>Qty of Parameters</th>\n",
              "      <th>Metric</th>\n",
              "    </tr>\n",
              "    <tr>\n",
              "      <th>Model</th>\n",
              "      <th>Size</th>\n",
              "      <th></th>\n",
              "      <th></th>\n",
              "      <th></th>\n",
              "      <th></th>\n",
              "      <th></th>\n",
              "      <th></th>\n",
              "      <th></th>\n",
              "      <th></th>\n",
              "      <th></th>\n",
              "      <th></th>\n",
              "      <th></th>\n",
              "    </tr>\n",
              "  </thead>\n",
              "  <tbody>\n",
              "    <tr>\n",
              "      <th rowspan=\"2\" valign=\"top\">Model1</th>\n",
              "      <th>Size1</th>\n",
              "      <td>NaN</td>\n",
              "      <td>NaN</td>\n",
              "      <td>NaN</td>\n",
              "      <td>NaN</td>\n",
              "      <td>NaN</td>\n",
              "      <td>...</td>\n",
              "      <td>NaN</td>\n",
              "      <td>NaN</td>\n",
              "      <td>NaN</td>\n",
              "      <td>NaN</td>\n",
              "      <td>NaN</td>\n",
              "    </tr>\n",
              "    <tr>\n",
              "      <th>Size2</th>\n",
              "      <td>NaN</td>\n",
              "      <td>NaN</td>\n",
              "      <td>NaN</td>\n",
              "      <td>NaN</td>\n",
              "      <td>NaN</td>\n",
              "      <td>...</td>\n",
              "      <td>NaN</td>\n",
              "      <td>NaN</td>\n",
              "      <td>NaN</td>\n",
              "      <td>NaN</td>\n",
              "      <td>NaN</td>\n",
              "    </tr>\n",
              "    <tr>\n",
              "      <th rowspan=\"2\" valign=\"top\">Model2</th>\n",
              "      <th>Size1</th>\n",
              "      <td>NaN</td>\n",
              "      <td>NaN</td>\n",
              "      <td>NaN</td>\n",
              "      <td>NaN</td>\n",
              "      <td>NaN</td>\n",
              "      <td>...</td>\n",
              "      <td>NaN</td>\n",
              "      <td>NaN</td>\n",
              "      <td>NaN</td>\n",
              "      <td>NaN</td>\n",
              "      <td>NaN</td>\n",
              "    </tr>\n",
              "    <tr>\n",
              "      <th>Size2</th>\n",
              "      <td>NaN</td>\n",
              "      <td>NaN</td>\n",
              "      <td>NaN</td>\n",
              "      <td>NaN</td>\n",
              "      <td>NaN</td>\n",
              "      <td>...</td>\n",
              "      <td>NaN</td>\n",
              "      <td>NaN</td>\n",
              "      <td>NaN</td>\n",
              "      <td>NaN</td>\n",
              "      <td>NaN</td>\n",
              "    </tr>\n",
              "  </tbody>\n",
              "</table>\n",
              "<p>4 rows × 30 columns</p>\n",
              "</div>"
            ],
            "text/plain": [
              "Task         Summarization                                                    \\\n",
              "Info                  Name Inference Time Size (GB) Qty of Parameters Metric   \n",
              "Model  Size                                                                    \n",
              "Model1 Size1           NaN            NaN       NaN               NaN    NaN   \n",
              "       Size2           NaN            NaN       NaN               NaN    NaN   \n",
              "Model2 Size1           NaN            NaN       NaN               NaN    NaN   \n",
              "       Size2           NaN            NaN       NaN               NaN    NaN   \n",
              "\n",
              "Task          ... Few Shot Learning                           \\\n",
              "Info          ...              Name Inference Time Size (GB)   \n",
              "Model  Size   ...                                              \n",
              "Model1 Size1  ...               NaN            NaN       NaN   \n",
              "       Size2  ...               NaN            NaN       NaN   \n",
              "Model2 Size1  ...               NaN            NaN       NaN   \n",
              "       Size2  ...               NaN            NaN       NaN   \n",
              "\n",
              "Task                                   \n",
              "Info         Qty of Parameters Metric  \n",
              "Model  Size                            \n",
              "Model1 Size1               NaN    NaN  \n",
              "       Size2               NaN    NaN  \n",
              "Model2 Size1               NaN    NaN  \n",
              "       Size2               NaN    NaN  \n",
              "\n",
              "[4 rows x 30 columns]"
            ]
          },
          "execution_count": 678,
          "metadata": {},
          "output_type": "execute_result"
        }
      ],
      "source": [
        "# Crear MultiIndex para las columnas\n",
        "columns = pd.MultiIndex.from_product(\n",
        "    [[\"Summarization\", \"Text Classification\", \"Translation\", \"Text Generation\", \"Zero Shot Classification\", \"Few Shot Learning\"],\n",
        "     [\"Name\", \"Inference Time\", \"Size (GB)\", \"Qty of Parameters\", \"Metric\"]],\n",
        "    names=[\"Task\", \"Info\"]\n",
        ")\n",
        "\n",
        "# Crear MultiIndex para las filas (Modelos con subíndices de tamaño)\n",
        "index = pd.MultiIndex.from_product(\n",
        "    [[\"Model1\", \"Model2\"], [\"Size1\", \"Size2\"]],\n",
        "    names=[\"Model\", \"Size\"]\n",
        ")\n",
        "\n",
        "# Crear el DataFrame vacío con el índice y las columnas definidas\n",
        "benchmark = pd.DataFrame(columns=columns, index=index)\n",
        "benchmark # Estructura del Benchmark"
      ]
    },
    {
      "cell_type": "code",
      "execution_count": null,
      "id": "1dbde257-791d-43ba-a4ce-f5cbe6f4392b",
      "metadata": {
        "id": "1dbde257-791d-43ba-a4ce-f5cbe6f4392b"
      },
      "outputs": [],
      "source": []
    },
    {
      "cell_type": "code",
      "execution_count": null,
      "id": "4217780c-e897-4bab-b9b2-7baa4235076c",
      "metadata": {
        "id": "4217780c-e897-4bab-b9b2-7baa4235076c"
      },
      "outputs": [],
      "source": [
        "model_names = [],\n",
        "model_n_params = []\n",
        "model_sizes = []"
      ]
    },
    {
      "cell_type": "code",
      "execution_count": null,
      "id": "b144ef76-887b-4fe4-b17e-63acbd6b5695",
      "metadata": {
        "scrolled": true,
        "id": "b144ef76-887b-4fe4-b17e-63acbd6b5695"
      },
      "outputs": [],
      "source": [
        "#list_metrics()"
      ]
    },
    {
      "cell_type": "markdown",
      "id": "892135a4-42d5-4c27-aa38-972972eae8dc",
      "metadata": {
        "id": "892135a4-42d5-4c27-aa38-972972eae8dc"
      },
      "source": [
        "## Creación de resumen (summarization)"
      ]
    },
    {
      "cell_type": "code",
      "execution_count": null,
      "id": "7b54e1a6-7bd0-4e84-9aea-4ad70d5a25e2",
      "metadata": {
        "id": "7b54e1a6-7bd0-4e84-9aea-4ad70d5a25e2"
      },
      "outputs": [],
      "source": [
        "cache_dir = \"datasets\""
      ]
    },
    {
      "cell_type": "code",
      "execution_count": null,
      "id": "6fc47548-3640-4530-b6ba-59f3501e750e",
      "metadata": {
        "id": "6fc47548-3640-4530-b6ba-59f3501e750e",
        "outputId": "3764d69e-ecd3-4298-fec1-210530f5081e"
      },
      "outputs": [
        {
          "name": "stderr",
          "output_type": "stream",
          "text": [
            "Using the latest cached version of the module from /Users/user/.cache/huggingface/modules/datasets_modules/datasets/xsum/082863bf4754ee058a5b6f6525d0cb2b18eadb62c7b370b095d1364050a52b71 (last modified on Sun Nov  3 23:36:39 2024) since it couldn't be found locally at xsum, or remotely on the Hugging Face Hub.\n",
            "WARNING:datasets.load:Using the latest cached version of the module from /Users/user/.cache/huggingface/modules/datasets_modules/datasets/xsum/082863bf4754ee058a5b6f6525d0cb2b18eadb62c7b370b095d1364050a52b71 (last modified on Sun Nov  3 23:36:39 2024) since it couldn't be found locally at xsum, or remotely on the Hugging Face Hub.\n"
          ]
        },
        {
          "data": {
            "text/plain": [
              "DatasetDict({\n",
              "    train: Dataset({\n",
              "        features: ['document', 'summary', 'id'],\n",
              "        num_rows: 204045\n",
              "    })\n",
              "    validation: Dataset({\n",
              "        features: ['document', 'summary', 'id'],\n",
              "        num_rows: 11332\n",
              "    })\n",
              "    test: Dataset({\n",
              "        features: ['document', 'summary', 'id'],\n",
              "        num_rows: 11334\n",
              "    })\n",
              "})"
            ]
          },
          "execution_count": 684,
          "metadata": {},
          "output_type": "execute_result"
        }
      ],
      "source": [
        "xsum_dataset = load_dataset(\n",
        "    \"xsum\", cache_dir=cache_dir,\n",
        "    trust_remote_code=True\n",
        "\n",
        ")\n",
        "\n",
        "xsum_dataset # Descargo el set de datos"
      ]
    },
    {
      "cell_type": "code",
      "execution_count": null,
      "id": "90993a4a-8868-4a32-ab25-562ec5d46f08",
      "metadata": {
        "id": "90993a4a-8868-4a32-ab25-562ec5d46f08"
      },
      "outputs": [],
      "source": []
    },
    {
      "cell_type": "code",
      "execution_count": null,
      "id": "eceb23c3-e7ab-440d-8dde-80d186f079e1",
      "metadata": {
        "id": "eceb23c3-e7ab-440d-8dde-80d186f079e1",
        "outputId": "63683247-8f33-49be-df6e-30cdb9625ac8"
      },
      "outputs": [
        {
          "data": {
            "text/plain": [
              "'There is a \"chronic\" need for more housing for prison leavers in Wales, according to a charity.'"
            ]
          },
          "execution_count": 687,
          "metadata": {},
          "output_type": "execute_result"
        }
      ],
      "source": [
        "xsum_sample.iloc[0][\"summary\"]"
      ]
    },
    {
      "cell_type": "code",
      "execution_count": null,
      "id": "a14e9101-0624-41a1-8ed9-41b72e8b2092",
      "metadata": {
        "id": "a14e9101-0624-41a1-8ed9-41b72e8b2092"
      },
      "outputs": [],
      "source": []
    },
    {
      "cell_type": "code",
      "execution_count": null,
      "id": "f252cd15-fa5c-47e0-9f0f-a9ef45b469da",
      "metadata": {
        "scrolled": true,
        "id": "f252cd15-fa5c-47e0-9f0f-a9ef45b469da",
        "outputId": "888fede6-5a54-49cb-d9ef-e1401f11747e"
      },
      "outputs": [
        {
          "data": {
            "text/plain": [
              "\u001b[0;31mSignature:\u001b[0m\n",
              "\u001b[0mpipeline\u001b[0m\u001b[0;34m(\u001b[0m\u001b[0;34m\u001b[0m\n",
              "\u001b[0;34m\u001b[0m    \u001b[0mtask\u001b[0m\u001b[0;34m:\u001b[0m \u001b[0mstr\u001b[0m \u001b[0;34m=\u001b[0m \u001b[0;32mNone\u001b[0m\u001b[0;34m,\u001b[0m\u001b[0;34m\u001b[0m\n",
              "\u001b[0;34m\u001b[0m    \u001b[0mmodel\u001b[0m\u001b[0;34m:\u001b[0m \u001b[0mUnion\u001b[0m\u001b[0;34m[\u001b[0m\u001b[0mstr\u001b[0m\u001b[0;34m,\u001b[0m \u001b[0mForwardRef\u001b[0m\u001b[0;34m(\u001b[0m\u001b[0;34m'PreTrainedModel'\u001b[0m\u001b[0;34m)\u001b[0m\u001b[0;34m,\u001b[0m \u001b[0mForwardRef\u001b[0m\u001b[0;34m(\u001b[0m\u001b[0;34m'TFPreTrainedModel'\u001b[0m\u001b[0;34m)\u001b[0m\u001b[0;34m,\u001b[0m \u001b[0mNoneType\u001b[0m\u001b[0;34m]\u001b[0m \u001b[0;34m=\u001b[0m \u001b[0;32mNone\u001b[0m\u001b[0;34m,\u001b[0m\u001b[0;34m\u001b[0m\n",
              "\u001b[0;34m\u001b[0m    \u001b[0mconfig\u001b[0m\u001b[0;34m:\u001b[0m \u001b[0mUnion\u001b[0m\u001b[0;34m[\u001b[0m\u001b[0mstr\u001b[0m\u001b[0;34m,\u001b[0m \u001b[0mtransformers\u001b[0m\u001b[0;34m.\u001b[0m\u001b[0mconfiguration_utils\u001b[0m\u001b[0;34m.\u001b[0m\u001b[0mPretrainedConfig\u001b[0m\u001b[0;34m,\u001b[0m \u001b[0mNoneType\u001b[0m\u001b[0;34m]\u001b[0m \u001b[0;34m=\u001b[0m \u001b[0;32mNone\u001b[0m\u001b[0;34m,\u001b[0m\u001b[0;34m\u001b[0m\n",
              "\u001b[0;34m\u001b[0m    \u001b[0mtokenizer\u001b[0m\u001b[0;34m:\u001b[0m \u001b[0mUnion\u001b[0m\u001b[0;34m[\u001b[0m\u001b[0mstr\u001b[0m\u001b[0;34m,\u001b[0m \u001b[0mtransformers\u001b[0m\u001b[0;34m.\u001b[0m\u001b[0mtokenization_utils\u001b[0m\u001b[0;34m.\u001b[0m\u001b[0mPreTrainedTokenizer\u001b[0m\u001b[0;34m,\u001b[0m \u001b[0mForwardRef\u001b[0m\u001b[0;34m(\u001b[0m\u001b[0;34m'PreTrainedTokenizerFast'\u001b[0m\u001b[0;34m)\u001b[0m\u001b[0;34m,\u001b[0m \u001b[0mNoneType\u001b[0m\u001b[0;34m]\u001b[0m \u001b[0;34m=\u001b[0m \u001b[0;32mNone\u001b[0m\u001b[0;34m,\u001b[0m\u001b[0;34m\u001b[0m\n",
              "\u001b[0;34m\u001b[0m    \u001b[0mfeature_extractor\u001b[0m\u001b[0;34m:\u001b[0m \u001b[0mUnion\u001b[0m\u001b[0;34m[\u001b[0m\u001b[0mstr\u001b[0m\u001b[0;34m,\u001b[0m \u001b[0mForwardRef\u001b[0m\u001b[0;34m(\u001b[0m\u001b[0;34m'SequenceFeatureExtractor'\u001b[0m\u001b[0;34m)\u001b[0m\u001b[0;34m,\u001b[0m \u001b[0mNoneType\u001b[0m\u001b[0;34m]\u001b[0m \u001b[0;34m=\u001b[0m \u001b[0;32mNone\u001b[0m\u001b[0;34m,\u001b[0m\u001b[0;34m\u001b[0m\n",
              "\u001b[0;34m\u001b[0m    \u001b[0mimage_processor\u001b[0m\u001b[0;34m:\u001b[0m \u001b[0mUnion\u001b[0m\u001b[0;34m[\u001b[0m\u001b[0mstr\u001b[0m\u001b[0;34m,\u001b[0m \u001b[0mtransformers\u001b[0m\u001b[0;34m.\u001b[0m\u001b[0mimage_processing_utils\u001b[0m\u001b[0;34m.\u001b[0m\u001b[0mBaseImageProcessor\u001b[0m\u001b[0;34m,\u001b[0m \u001b[0mNoneType\u001b[0m\u001b[0;34m]\u001b[0m \u001b[0;34m=\u001b[0m \u001b[0;32mNone\u001b[0m\u001b[0;34m,\u001b[0m\u001b[0;34m\u001b[0m\n",
              "\u001b[0;34m\u001b[0m    \u001b[0mprocessor\u001b[0m\u001b[0;34m:\u001b[0m \u001b[0mUnion\u001b[0m\u001b[0;34m[\u001b[0m\u001b[0mstr\u001b[0m\u001b[0;34m,\u001b[0m \u001b[0mtransformers\u001b[0m\u001b[0;34m.\u001b[0m\u001b[0mprocessing_utils\u001b[0m\u001b[0;34m.\u001b[0m\u001b[0mProcessorMixin\u001b[0m\u001b[0;34m,\u001b[0m \u001b[0mNoneType\u001b[0m\u001b[0;34m]\u001b[0m \u001b[0;34m=\u001b[0m \u001b[0;32mNone\u001b[0m\u001b[0;34m,\u001b[0m\u001b[0;34m\u001b[0m\n",
              "\u001b[0;34m\u001b[0m    \u001b[0mframework\u001b[0m\u001b[0;34m:\u001b[0m \u001b[0mOptional\u001b[0m\u001b[0;34m[\u001b[0m\u001b[0mstr\u001b[0m\u001b[0;34m]\u001b[0m \u001b[0;34m=\u001b[0m \u001b[0;32mNone\u001b[0m\u001b[0;34m,\u001b[0m\u001b[0;34m\u001b[0m\n",
              "\u001b[0;34m\u001b[0m    \u001b[0mrevision\u001b[0m\u001b[0;34m:\u001b[0m \u001b[0mOptional\u001b[0m\u001b[0;34m[\u001b[0m\u001b[0mstr\u001b[0m\u001b[0;34m]\u001b[0m \u001b[0;34m=\u001b[0m \u001b[0;32mNone\u001b[0m\u001b[0;34m,\u001b[0m\u001b[0;34m\u001b[0m\n",
              "\u001b[0;34m\u001b[0m    \u001b[0muse_fast\u001b[0m\u001b[0;34m:\u001b[0m \u001b[0mbool\u001b[0m \u001b[0;34m=\u001b[0m \u001b[0;32mTrue\u001b[0m\u001b[0;34m,\u001b[0m\u001b[0;34m\u001b[0m\n",
              "\u001b[0;34m\u001b[0m    \u001b[0mtoken\u001b[0m\u001b[0;34m:\u001b[0m \u001b[0mUnion\u001b[0m\u001b[0;34m[\u001b[0m\u001b[0mstr\u001b[0m\u001b[0;34m,\u001b[0m \u001b[0mbool\u001b[0m\u001b[0;34m,\u001b[0m \u001b[0mNoneType\u001b[0m\u001b[0;34m]\u001b[0m \u001b[0;34m=\u001b[0m \u001b[0;32mNone\u001b[0m\u001b[0;34m,\u001b[0m\u001b[0;34m\u001b[0m\n",
              "\u001b[0;34m\u001b[0m    \u001b[0mdevice\u001b[0m\u001b[0;34m:\u001b[0m \u001b[0mUnion\u001b[0m\u001b[0;34m[\u001b[0m\u001b[0mint\u001b[0m\u001b[0;34m,\u001b[0m \u001b[0mstr\u001b[0m\u001b[0;34m,\u001b[0m \u001b[0mForwardRef\u001b[0m\u001b[0;34m(\u001b[0m\u001b[0;34m'torch.device'\u001b[0m\u001b[0;34m)\u001b[0m\u001b[0;34m,\u001b[0m \u001b[0mNoneType\u001b[0m\u001b[0;34m]\u001b[0m \u001b[0;34m=\u001b[0m \u001b[0;32mNone\u001b[0m\u001b[0;34m,\u001b[0m\u001b[0;34m\u001b[0m\n",
              "\u001b[0;34m\u001b[0m    \u001b[0mdevice_map\u001b[0m\u001b[0;34m=\u001b[0m\u001b[0;32mNone\u001b[0m\u001b[0;34m,\u001b[0m\u001b[0;34m\u001b[0m\n",
              "\u001b[0;34m\u001b[0m    \u001b[0mtorch_dtype\u001b[0m\u001b[0;34m=\u001b[0m\u001b[0;32mNone\u001b[0m\u001b[0;34m,\u001b[0m\u001b[0;34m\u001b[0m\n",
              "\u001b[0;34m\u001b[0m    \u001b[0mtrust_remote_code\u001b[0m\u001b[0;34m:\u001b[0m \u001b[0mOptional\u001b[0m\u001b[0;34m[\u001b[0m\u001b[0mbool\u001b[0m\u001b[0;34m]\u001b[0m \u001b[0;34m=\u001b[0m \u001b[0;32mNone\u001b[0m\u001b[0;34m,\u001b[0m\u001b[0;34m\u001b[0m\n",
              "\u001b[0;34m\u001b[0m    \u001b[0mmodel_kwargs\u001b[0m\u001b[0;34m:\u001b[0m \u001b[0mDict\u001b[0m\u001b[0;34m[\u001b[0m\u001b[0mstr\u001b[0m\u001b[0;34m,\u001b[0m \u001b[0mAny\u001b[0m\u001b[0;34m]\u001b[0m \u001b[0;34m=\u001b[0m \u001b[0;32mNone\u001b[0m\u001b[0;34m,\u001b[0m\u001b[0;34m\u001b[0m\n",
              "\u001b[0;34m\u001b[0m    \u001b[0mpipeline_class\u001b[0m\u001b[0;34m:\u001b[0m \u001b[0mOptional\u001b[0m\u001b[0;34m[\u001b[0m\u001b[0mAny\u001b[0m\u001b[0;34m]\u001b[0m \u001b[0;34m=\u001b[0m \u001b[0;32mNone\u001b[0m\u001b[0;34m,\u001b[0m\u001b[0;34m\u001b[0m\n",
              "\u001b[0;34m\u001b[0m    \u001b[0;34m**\u001b[0m\u001b[0mkwargs\u001b[0m\u001b[0;34m,\u001b[0m\u001b[0;34m\u001b[0m\n",
              "\u001b[0;34m\u001b[0m\u001b[0;34m)\u001b[0m \u001b[0;34m->\u001b[0m \u001b[0mtransformers\u001b[0m\u001b[0;34m.\u001b[0m\u001b[0mpipelines\u001b[0m\u001b[0;34m.\u001b[0m\u001b[0mbase\u001b[0m\u001b[0;34m.\u001b[0m\u001b[0mPipeline\u001b[0m\u001b[0;34m\u001b[0m\u001b[0;34m\u001b[0m\u001b[0m\n",
              "\u001b[0;31mDocstring:\u001b[0m\n",
              "Utility factory method to build a [`Pipeline`].\n",
              "\n",
              "A pipeline consists of:\n",
              "\n",
              "    - One or more components for pre-processing model inputs, such as a [tokenizer](tokenizer),\n",
              "    [image_processor](image_processor), [feature_extractor](feature_extractor), or [processor](processors).\n",
              "    - A [model](model) that generates predictions from the inputs.\n",
              "    - Optional post-processing steps to refine the model's output, which can also be handled by processors.\n",
              "\n",
              "<Tip>\n",
              "While there are such optional arguments as `tokenizer`, `feature_extractor`, `image_processor`, and `processor`,\n",
              "they shouldn't be specified all at once. If these components are not provided, `pipeline` will try to load\n",
              "required ones automatically. In case you want to provide these components explicitly, please refer to a\n",
              "specific pipeline in order to get more details regarding what components are required.\n",
              "</Tip>\n",
              "\n",
              "Args:\n",
              "    task (`str`):\n",
              "        The task defining which pipeline will be returned. Currently accepted tasks are:\n",
              "\n",
              "        - `\"audio-classification\"`: will return a [`AudioClassificationPipeline`].\n",
              "        - `\"automatic-speech-recognition\"`: will return a [`AutomaticSpeechRecognitionPipeline`].\n",
              "        - `\"depth-estimation\"`: will return a [`DepthEstimationPipeline`].\n",
              "        - `\"document-question-answering\"`: will return a [`DocumentQuestionAnsweringPipeline`].\n",
              "        - `\"feature-extraction\"`: will return a [`FeatureExtractionPipeline`].\n",
              "        - `\"fill-mask\"`: will return a [`FillMaskPipeline`]:.\n",
              "        - `\"image-classification\"`: will return a [`ImageClassificationPipeline`].\n",
              "        - `\"image-feature-extraction\"`: will return an [`ImageFeatureExtractionPipeline`].\n",
              "        - `\"image-segmentation\"`: will return a [`ImageSegmentationPipeline`].\n",
              "        - `\"image-to-image\"`: will return a [`ImageToImagePipeline`].\n",
              "        - `\"image-to-text\"`: will return a [`ImageToTextPipeline`].\n",
              "        - `\"mask-generation\"`: will return a [`MaskGenerationPipeline`].\n",
              "        - `\"object-detection\"`: will return a [`ObjectDetectionPipeline`].\n",
              "        - `\"question-answering\"`: will return a [`QuestionAnsweringPipeline`].\n",
              "        - `\"summarization\"`: will return a [`SummarizationPipeline`].\n",
              "        - `\"table-question-answering\"`: will return a [`TableQuestionAnsweringPipeline`].\n",
              "        - `\"text2text-generation\"`: will return a [`Text2TextGenerationPipeline`].\n",
              "        - `\"text-classification\"` (alias `\"sentiment-analysis\"` available): will return a\n",
              "          [`TextClassificationPipeline`].\n",
              "        - `\"text-generation\"`: will return a [`TextGenerationPipeline`]:.\n",
              "        - `\"text-to-audio\"` (alias `\"text-to-speech\"` available): will return a [`TextToAudioPipeline`]:.\n",
              "        - `\"token-classification\"` (alias `\"ner\"` available): will return a [`TokenClassificationPipeline`].\n",
              "        - `\"translation\"`: will return a [`TranslationPipeline`].\n",
              "        - `\"translation_xx_to_yy\"`: will return a [`TranslationPipeline`].\n",
              "        - `\"video-classification\"`: will return a [`VideoClassificationPipeline`].\n",
              "        - `\"visual-question-answering\"`: will return a [`VisualQuestionAnsweringPipeline`].\n",
              "        - `\"zero-shot-classification\"`: will return a [`ZeroShotClassificationPipeline`].\n",
              "        - `\"zero-shot-image-classification\"`: will return a [`ZeroShotImageClassificationPipeline`].\n",
              "        - `\"zero-shot-audio-classification\"`: will return a [`ZeroShotAudioClassificationPipeline`].\n",
              "        - `\"zero-shot-object-detection\"`: will return a [`ZeroShotObjectDetectionPipeline`].\n",
              "\n",
              "    model (`str` or [`PreTrainedModel`] or [`TFPreTrainedModel`], *optional*):\n",
              "        The model that will be used by the pipeline to make predictions. This can be a model identifier or an\n",
              "        actual instance of a pretrained model inheriting from [`PreTrainedModel`] (for PyTorch) or\n",
              "        [`TFPreTrainedModel`] (for TensorFlow).\n",
              "\n",
              "        If not provided, the default for the `task` will be loaded.\n",
              "    config (`str` or [`PretrainedConfig`], *optional*):\n",
              "        The configuration that will be used by the pipeline to instantiate the model. This can be a model\n",
              "        identifier or an actual pretrained model configuration inheriting from [`PretrainedConfig`].\n",
              "\n",
              "        If not provided, the default configuration file for the requested model will be used. That means that if\n",
              "        `model` is given, its default configuration will be used. However, if `model` is not supplied, this\n",
              "        `task`'s default model's config is used instead.\n",
              "    tokenizer (`str` or [`PreTrainedTokenizer`], *optional*):\n",
              "        The tokenizer that will be used by the pipeline to encode data for the model. This can be a model\n",
              "        identifier or an actual pretrained tokenizer inheriting from [`PreTrainedTokenizer`].\n",
              "\n",
              "        If not provided, the default tokenizer for the given `model` will be loaded (if it is a string). If `model`\n",
              "        is not specified or not a string, then the default tokenizer for `config` is loaded (if it is a string).\n",
              "        However, if `config` is also not given or not a string, then the default tokenizer for the given `task`\n",
              "        will be loaded.\n",
              "    feature_extractor (`str` or [`PreTrainedFeatureExtractor`], *optional*):\n",
              "        The feature extractor that will be used by the pipeline to encode data for the model. This can be a model\n",
              "        identifier or an actual pretrained feature extractor inheriting from [`PreTrainedFeatureExtractor`].\n",
              "\n",
              "        Feature extractors are used for non-NLP models, such as Speech or Vision models as well as multi-modal\n",
              "        models. Multi-modal models will also require a tokenizer to be passed.\n",
              "\n",
              "        If not provided, the default feature extractor for the given `model` will be loaded (if it is a string). If\n",
              "        `model` is not specified or not a string, then the default feature extractor for `config` is loaded (if it\n",
              "        is a string). However, if `config` is also not given or not a string, then the default feature extractor\n",
              "        for the given `task` will be loaded.\n",
              "    image_processor (`str` or [`BaseImageProcessor`], *optional*):\n",
              "        The image processor that will be used by the pipeline to preprocess images for the model. This can be a\n",
              "        model identifier or an actual image processor inheriting from [`BaseImageProcessor`].\n",
              "\n",
              "        Image processors are used for Vision models and multi-modal models that require image inputs. Multi-modal\n",
              "        models will also require a tokenizer to be passed.\n",
              "\n",
              "        If not provided, the default image processor for the given `model` will be loaded (if it is a string). If\n",
              "        `model` is not specified or not a string, then the default image processor for `config` is loaded (if it is\n",
              "        a string).\n",
              "    processor (`str` or [`ProcessorMixin`], *optional*):\n",
              "        The processor that will be used by the pipeline to preprocess data for the model. This can be a model\n",
              "        identifier or an actual processor inheriting from [`ProcessorMixin`].\n",
              "\n",
              "        Processors are used for multi-modal models that require multi-modal inputs, for example, a model that\n",
              "        requires both text and image inputs.\n",
              "\n",
              "        If not provided, the default processor for the given `model` will be loaded (if it is a string). If `model`\n",
              "        is not specified or not a string, then the default processor for `config` is loaded (if it is a string).\n",
              "    framework (`str`, *optional*):\n",
              "        The framework to use, either `\"pt\"` for PyTorch or `\"tf\"` for TensorFlow. The specified framework must be\n",
              "        installed.\n",
              "\n",
              "        If no framework is specified, will default to the one currently installed. If no framework is specified and\n",
              "        both frameworks are installed, will default to the framework of the `model`, or to PyTorch if no model is\n",
              "        provided.\n",
              "    revision (`str`, *optional*, defaults to `\"main\"`):\n",
              "        When passing a task name or a string model identifier: The specific model version to use. It can be a\n",
              "        branch name, a tag name, or a commit id, since we use a git-based system for storing models and other\n",
              "        artifacts on huggingface.co, so `revision` can be any identifier allowed by git.\n",
              "    use_fast (`bool`, *optional*, defaults to `True`):\n",
              "        Whether or not to use a Fast tokenizer if possible (a [`PreTrainedTokenizerFast`]).\n",
              "    use_auth_token (`str` or *bool*, *optional*):\n",
              "        The token to use as HTTP bearer authorization for remote files. If `True`, will use the token generated\n",
              "        when running `huggingface-cli login` (stored in `~/.huggingface`).\n",
              "    device (`int` or `str` or `torch.device`):\n",
              "        Defines the device (*e.g.*, `\"cpu\"`, `\"cuda:1\"`, `\"mps\"`, or a GPU ordinal rank like `1`) on which this\n",
              "        pipeline will be allocated.\n",
              "    device_map (`str` or `Dict[str, Union[int, str, torch.device]`, *optional*):\n",
              "        Sent directly as `model_kwargs` (just a simpler shortcut). When `accelerate` library is present, set\n",
              "        `device_map=\"auto\"` to compute the most optimized `device_map` automatically (see\n",
              "        [here](https://huggingface.co/docs/accelerate/main/en/package_reference/big_modeling#accelerate.cpu_offload)\n",
              "        for more information).\n",
              "\n",
              "        <Tip warning={true}>\n",
              "\n",
              "        Do not use `device_map` AND `device` at the same time as they will conflict\n",
              "\n",
              "        </Tip>\n",
              "\n",
              "    torch_dtype (`str` or `torch.dtype`, *optional*):\n",
              "        Sent directly as `model_kwargs` (just a simpler shortcut) to use the available precision for this model\n",
              "        (`torch.float16`, `torch.bfloat16`, ... or `\"auto\"`).\n",
              "    trust_remote_code (`bool`, *optional*, defaults to `False`):\n",
              "        Whether or not to allow for custom code defined on the Hub in their own modeling, configuration,\n",
              "        tokenization or even pipeline files. This option should only be set to `True` for repositories you trust\n",
              "        and in which you have read the code, as it will execute code present on the Hub on your local machine.\n",
              "    model_kwargs (`Dict[str, Any]`, *optional*):\n",
              "        Additional dictionary of keyword arguments passed along to the model's `from_pretrained(...,\n",
              "        **model_kwargs)` function.\n",
              "    kwargs (`Dict[str, Any]`, *optional*):\n",
              "        Additional keyword arguments passed along to the specific pipeline init (see the documentation for the\n",
              "        corresponding pipeline class for possible values).\n",
              "\n",
              "Returns:\n",
              "    [`Pipeline`]: A suitable pipeline for the task.\n",
              "\n",
              "Examples:\n",
              "\n",
              "```python\n",
              ">>> from transformers import pipeline, AutoModelForTokenClassification, AutoTokenizer\n",
              "\n",
              ">>> # Sentiment analysis pipeline\n",
              ">>> analyzer = pipeline(\"sentiment-analysis\")\n",
              "\n",
              ">>> # Question answering pipeline, specifying the checkpoint identifier\n",
              ">>> oracle = pipeline(\n",
              "...     \"question-answering\", model=\"distilbert/distilbert-base-cased-distilled-squad\", tokenizer=\"google-bert/bert-base-cased\"\n",
              "... )\n",
              "\n",
              ">>> # Named entity recognition pipeline, passing in a specific model and tokenizer\n",
              ">>> model = AutoModelForTokenClassification.from_pretrained(\"dbmdz/bert-large-cased-finetuned-conll03-english\")\n",
              ">>> tokenizer = AutoTokenizer.from_pretrained(\"google-bert/bert-base-cased\")\n",
              ">>> recognizer = pipeline(\"ner\", model=model, tokenizer=tokenizer)\n",
              "```\n",
              "\u001b[0;31mFile:\u001b[0m      ~/Documents/ITLA/2024 C3/NLP/segundo periodo/LLMs Aplications/env/lib/python3.12/site-packages/transformers/pipelines/__init__.py\n",
              "\u001b[0;31mType:\u001b[0m      function"
            ]
          },
          "metadata": {},
          "output_type": "display_data"
        }
      ],
      "source": [
        "pipeline?"
      ]
    },
    {
      "cell_type": "markdown",
      "id": "76d38f93-65c1-41d6-8546-cdba25e53eac",
      "metadata": {
        "id": "76d38f93-65c1-41d6-8546-cdba25e53eac"
      },
      "source": [
        "### Set 1, modelo 1 (`T5`)"
      ]
    },
    {
      "cell_type": "markdown",
      "id": "f9bc31ee-490a-4a68-a5e8-6c3c9eccb4a1",
      "metadata": {
        "id": "f9bc31ee-490a-4a68-a5e8-6c3c9eccb4a1"
      },
      "source": [
        "#### Small size"
      ]
    },
    {
      "cell_type": "code",
      "execution_count": null,
      "id": "866720d8-6f27-4e80-9d11-2ca2a5cb55ce",
      "metadata": {
        "id": "866720d8-6f27-4e80-9d11-2ca2a5cb55ce",
        "outputId": "46ea636e-abc1-4467-fa75-171b3356f636"
      },
      "outputs": [
        {
          "name": "stdout",
          "output_type": "stream",
          "text": [
            "El modelo tiene aproximadamente 60,506,624 parámetros.\n",
            "El modelo tiene aproximadamente 0.23 GB en memoria.\n"
          ]
        }
      ],
      "source": [
        "small_summarizer = pipeline(\n",
        "    task=\"summarization\",\n",
        "    model=\"t5-small\",\n",
        "    min_length=20,\n",
        "    max_length=40,\n",
        "    truncation=True,\n",
        "    model_kwargs={\"cache_dir\": cache_dir}\n",
        ")\n",
        "\n",
        "model = small_summarizer.model\n",
        "total_params = sum(p.numel() for p in model.parameters())\n",
        "print(f\"El modelo tiene aproximadamente {total_params:,} parámetros.\")\n",
        "\n",
        "\n",
        "\n",
        "# Calcular el tamaño en memoria del modelo en base al dtype de los parámetros\n",
        "model_memory_size = sum(p.numel() * p.element_size() for p in model.parameters())\n",
        "model_memory_size_gb = model_memory_size / (1024 ** 3)  # Convertir a GB\n",
        "\n",
        "# Mostrar el tamaño en memoria\n",
        "print(f\"El modelo tiene aproximadamente {model_memory_size_gb:.2f} GB en memoria.\")"
      ]
    },
    {
      "cell_type": "code",
      "execution_count": null,
      "id": "f7d81a58-b28f-4408-9493-7836c421c8ca",
      "metadata": {
        "scrolled": true,
        "id": "f7d81a58-b28f-4408-9493-7836c421c8ca",
        "outputId": "1653871a-0bc0-4396-faee-31a1d0ad6afb"
      },
      "outputs": [
        {
          "data": {
            "text/plain": [
              "['Prison Link Cymru had 1,099 referrals in 2015-16 and said some ex-offenders were living rough for up to a year before finding suitable accommodation.\\nWorkers at the charity claim investment in housing would be cheaper than jailing homeless repeat offenders.\\nThe Welsh Government said more people than ever were getting help to address housing problems.\\nChanges to the Housing Act in Wales, introduced in 2015, removed the right for prison leavers to be given priority for accommodation.\\nPrison Link Cymru, which helps people find accommodation after their release, said things were generally good for women because issues such as children or domestic violence were now considered.\\nHowever, the same could not be said for men, the charity said, because issues which often affect them, such as post traumatic stress disorder or drug dependency, were often viewed as less of a priority.\\nAndrew Stevens, who works in Welsh prisons trying to secure housing for prison leavers, said the need for accommodation was \"chronic\".\\n\"There\\'s a desperate need for it, finding suitable accommodation for those leaving prison there is just a lack of it everywhere,\" he said.\\n\"It could take six months to a year, without a lot of help they could be on the streets for six months.\\n\"When you think of the consequences of either being on the street, especially with the cold weather at the moment or you may have a roof over your head, sometimes there is only one choice.\"\\nMr Stevens believes building more one-bedroom flats could help ease the problem.\\n\"The average price is a hundred pounds a week to keep someone in a rented flat, prison is a lot more than that so I would imagine it would save the public purse quite a few pounds,\" he said.\\nOfficial figures show 830 one-bedroom properties were built in the year to March 2016, of an overall total of 6,900 new properties in Wales.\\nMarc, 50, who has been in and out of prison for the past 20 years for burglary offences, said he struggled to find accommodation each time he was released.\\nHe said he would ask himself: \"Where am I going to stay? Where am I going to live? Have I got somewhere where I can see my daughter.\"\\n\"You\\'re put out among the same sort of people doing the same sort of thing, and it\\'s difficult, it\\'s difficult to get away from it. It\\'s like every man for himself, there\\'s nothing.\"\\nMarc has now found stable accommodation with homeless charity Emmaus and said it had been life changing.\\n\"You feel safe, you got hot food, you\\'ve got company of people in similar situations to yourself but all dealing with different issues. It\\'s a constructive, helpful atmosphere,\" he said.\\nTom Clarke, chief executive of Emmaus South Wales, agreed there was not enough support available.\\n\"We do still see [people] homeless on the streets, so clearly they haven\\'t got accommodation and haven\\'t got provision,\" he said.\\n\"I think the key is connecting people with the services they need. I don\\'t delude myself that Emmaus can offer a one size fits all for everyone, we can\\'t.\\n\"But there must be other opportunities and given suitable encouragement I believe that can and should happen.\"\\nA Welsh Government spokesman said the national pathway for homeless services to children, young people and adults in the secure estate had prevented many people from losing their home whilst serving their prison sentence.\\nIt added there were already significant demands for one-bedroom flats across the public and private sector and it was providing 20,000 new affordable homes in the next five years.',\n",
              " 'Officers searched properties in the Waterfront Park and Colonsay View areas of the city on Wednesday.\\nDetectives said three firearms, ammunition and a five-figure sum of money were recovered.\\nA 26-year-old man who was arrested and charged appeared at Edinburgh Sheriff Court on Thursday.',\n",
              " 'Jordan Hill, Brittany Covington and Tesfaye Cooper, all 18, and Tanishia Covington, 24, appeared in a Chicago court on Friday.\\nThe four have been charged with hate crimes and aggravated kidnapping and battery, among other things.\\nAn online fundraiser for their victim has collected $51,000 (Â£42,500) so far.\\nDenying the four suspects bail, Judge Maria Kuriakos Ciesil asked: \"Where was your sense of decency?\"\\nProsecutors told the court the beating started in a van and continued at a house, where the suspects allegedly forced the 18-year-old white victim, who suffers from schizophrenia and attention deficit disorder, to drink toilet water and kiss the floor.\\nPolice allege the van was earlier stolen by Mr Hill, who is also accused of demanding $300 from the victim\\'s mother while they held him captive, according to the Chicago Tribune.\\nThe court was also told the suspects stuffed a sock into his mouth, taped his mouth shut and bound his hands with a belt.\\nIn a video made for Facebook Live which was watched millions of times, the assailants can be heard making derogatory statements against white people and Donald Trump.\\nThe victim had been dropped off at a McDonalds to meet Mr Hill - who was one of his friends - on 31 December.\\nHe was found by a police officer on Tuesday, 3 January, a day after he was reported missing by his parents.\\nProsecutors say the suspects each face two hate crimes counts, one because of the victim\\'s race and the other because of his disabilities.',\n",
              " 'The 48-year-old former Arsenal goalkeeper played for the Royals for four years.\\nHe was appointed youth academy director in 2000 and has been director of football since 2003.\\nA West Brom statement said: \"He played a key role in the Championship club twice winning promotion to the Premier League in 2006 and 2012.\"',\n",
              " 'Restoring the function of the organ - which helps control blood sugar levels - reversed symptoms of diabetes in animal experiments.\\nThe study, published in the journal Cell, says the diet reboots the body.\\nExperts said the findings were \"potentially very exciting\" as they could become a new treatment for the disease.\\nThe experiments were on mice put on a modified form of the \"fasting-mimicking diet\".\\nWhen people go on it they spend five days on a low calorie, low protein, low carbohydrate but high unsaturated-fat diet.\\nIt resembles a vegan diet with nuts and soups, but with around 800 to 1,100 calories a day.\\nThen they have 25 days eating what they want - so overall it mimics periods of feast and famine.\\nPrevious research has suggested it can slow the pace of ageing.\\nBut animal experiments showed the diet regenerated a special type of cell in the pancreas called a beta cell.\\nThese are the cells that detect sugar in the blood and release the hormone insulin if it gets too high.\\nDr Valter Longo, from the University of Southern California, said: \"Our conclusion is that by pushing the mice into an extreme state and then bringing them back - by starving them and then feeding them again - the cells in the pancreas are triggered to use some kind of developmental reprogramming that rebuilds the part of the organ that\\'s no longer functioning.\"\\nThere were benefits in both type 1 and type 2 diabetes in the mouse experiments.\\nType 1 is caused by the immune system destroying beta cells and type 2 is largely caused by lifestyle and the body no longer responding to insulin.\\nFurther tests on tissue samples from people with type 1 diabetes produced similar effects.\\nDr Longo said: \"Medically, these findings have the potential to be very important because we\\'ve shown - at least in mouse models - that you can use diet to reverse the symptoms of diabetes.\\n\"Scientifically, the findings are perhaps even more important because we\\'ve shown that you can use diet to reprogram cells without having to make any genetic alterations.\"\\nBBC reporter Peter Bowes took part in a separate trial with Dr Valter Longo.\\nHe said: \"During each five-day fasting cycle, when I ate about a quarter of the average person\\'s diet, I lost between 2kg and 4kg (4.4-8.8lbs).\\n\"But before the next cycle came round, 25 days of eating normally had returned me almost to my original weight.\\n\"But not all consequences of the diet faded so quickly.\"\\nHis blood pressure was lower as was a hormone called IGF-1, which is linked to some cancers.\\nHe said: \"The very small meals I was given during the five-day fast were far from gourmet cooking, but I was glad to have something to eat\"\\nPeter Bowes: Fasting for science\\nPeter Bowes: Intermittent fasting and the good things it did to my body\\nSeparate trials of the diet in people have been shown to improve blood sugar levels. The latest findings help to explain why.\\nHowever, Dr Longo said people should not rush off and crash diet.\\nHe told the BBC: \"It boils down to do not try this at home, this is so much more sophisticated than people realise.\"\\nHe said people could \"get into trouble\" with their health if it was done without medical guidance.\\nDr Emily Burns, research communications manager at Diabetes UK, said: \"This is potentially very exciting news, but we need to see if the results hold true in humans before we\\'ll know more about what it means for people with diabetes.\\n\"People with type-1 and type-2 diabetes would benefit immensely from treatments that can repair or regenerate insulin-producing cells in the pancreas.\"\\nFollow James on Twitter.',\n",
              " 'But there certainly should be.\\nThese are two of the biggest firms in the lucrative international business of making spectacles. France\\'s Essilor is the world\\'s number one manufacturer of lenses and contact lenses, while Italy\\'s Luxottica is the leading frame manufacturer.\\nIt is not obvious that the merger is in the public interest, though the two firms certainly think it is.\\n\"The parties\\' activities are highly complementary and the deal would generate significant synergies and innovation and would be beneficial to customers,\" says Essilor.\\nBut there seems to be growing disquiet in the industry.\\nGordon Ilett, of the Association of Optometrists, says: \"This now allows the [enlarged] group to control all aspects of supply of product - from manufacture to the end user.\\n\"Those businesses who remain as their customers will be indirectly controlled by the terms and conditions imposed by them.\\n\"Whether their UK market share, following this merger, is sufficient for examination by the competition authorities is open to debate, but the effect of it will be reduced choice for the consumer, and will most likely result in reduced quality products longer term,\" Mr Ilett adds.\\nIf the deal goes through later this year the new company, to be called EssilorLuxottica, will become a behemoth of the industry.\\nIt will sell not only lenses and frames around the world but will also be stocking its own optician\\'s shops as well, such as Sunglass Hut, and LensCrafters in the US and Australia, both currently owned by Luxottica.\\nOne long-standing independent UK wholesaler, who asked to remain anonymous, says the merged firm would be so powerful it would probably squeeze out some competitors.\\n\"If those two companies merged there would be a branded frame supplier offering you high-end branded frames, and also offering UK opticians a lens and glazing deal, to suit, so they will control almost everything [they offer] to both independent retailers in the High Street and even the chains,\" he argues.\\nIn his view this would amount, almost, to a stranglehold on the supply of high-end glasses, with some rivals giving up.\\n\"I imagine it would knock out quite a few glazing houses in the UK, and it would probably knock out other fashion frame houses,\" he adds.\\nUnless you know about the eyewear business, or take an interest in investing in big European companies (they both have stock market listings) the names of the two big firms will probably have passed you by.\\nBut if you have been inside an optician\\'s shop you will certainly have heard of the brands they own and make. For instance, the leading varifocal lens brand, Varilux, is made by Essilor.\\nJust a year ago, in presenting its 2015 financial results to investors, Essilor boasted that it was \"an undisputed leader with only 25% market share\" of the combined world market for prescription lenses, sunglasses lenses and lenses for reading glasses.\\nWhen it comes to just the prescription lenses, it has a 41% share of the world market.\\nFor its part, Luxottica owns several of its own brand names such as Ray-Ban and Oakley, and it also makes, under licence, spectacle frames which carry high-fashion names such as Armani, Burberry, Bulgari, Chanel, Prada, Ralph Lauren and Versace.\\nIn 2015 the Italian firm made almost 10% of the 954 million frames that were sold worldwide that year, and claims that about half a billion of its frames are currently perched on people\\'s noses.\\nThe overall industry internationally is in fact quite fragmented with hundreds of other smaller manufacturers and related businesses such as glazing laboratories.\\nMarket research firm GFK describes the optical industry as \"a complex and extremely competitive market-space\".\\nEven so, with the two firms having a combined turnover of more than 15bn euros (Â£12.8bn), of which 3.5bn euros were in Europe, on the grounds of size alone the proposed merger easily meets the requirements of the European Commission for a formal review.\\nThese are:\\nAn inquiry would see if the merged firm threatened to be too dominant, thus reducing competition and leading to higher prices for the customers.\\nA Luxottica spokesman told the BBC that the firm was confident that any scrutiny would not hinder the deal.\\n\"The transaction is subject to mandatory submission to a number of anti-monopoly authorities including the European one, as is customary in transactions of this size and nature,\" he said.\\n\"We are confident that the transaction does not raise anti-monopoly issues and will fully co-operate with the anti-monopoly authorities to obtain the required clearance,\" he added.\\nThe EU itself says it currently has no comment to make and it has not yet been formally notified of the merger deal under the requirements of its own rules.\\nBut the leading chain of opticians, Specsavers, views the impending deal with caution.\\n\"Mergers are a continuing trend in optics, but this is a significant development which will result in huge supply chain and retail implications for the industry and consumers worldwide,\" the firm says.\\n\"It is unlikely that the impact of the merger will be felt by consumers straight away but we will watch with great interest how the new organisation will arrange itself.\"\\nIf you have ever bought a pair of spectacles with anything other than the most basic frame and lenses, you may have gulped at the price, possibly coming to several hundred pounds.\\nOf course, not all spectacles are expensive and not all of the sale price goes to the manufacturers.\\nOpticians and the wholesalers that supply them are businesses that seek to make a profit.\\nThey also need to cover the costs of staff, equipment, shop and office space, stock and all that advertising.\\nBut for the manufacturers such as Essilor and Luxottica, it is a stonkingly profitable business.\\nOn worldwide sales of 6.7bn euros in 2015, Essilor made operating profits of 1.2bn euros.\\nFor the same year, Luxottica sold goods worth 8.8bn euros and made operating profits of 1.4bn euros.\\nWith cost-cutting at a merged business projected to save between 400m and 600m euros per year, profits could be boosted even further.\\nWill customers benefit as well?',\n",
              " 'Media playback is not supported on this device\\nThe Olympic silver medallist accused the organisation of \"ageism\" and having \"zero regard\" for her welfare.\\nShe is the latest high-profile cyclist to come forward after Jess Varnish, Nicole Cooke and Emma Pooley criticised the World Class programme.\\nHouvenaghel told the BBC she felt \"vindicated\" by a leaked draft report detailing British Cycling\\'s failures.\\nThe report said British Cycling \"sanitised\" its own investigation into claims former technical director Shane Sutton used sexist language towards Varnish, who went public last April about her treatment.\\nBritish Cycling subsequently admitted it did not pay \"sufficient care and attention\" to the wellbeing of staff and athletes at the expense of winning medals, an approach Houvenaghel attested to in her BBC interview.\\nBoth Sutton and predecessor Sir Dave Brailsford have now left British Cycling.\\nHouvenaghel, 42, spoke to BBC Sport during its State of Sport week, which on Thursday examines the issue of athlete welfare versus a win-at-all-costs culture.\\nA government-commissioned review, headed by 11-time Paralympic champion Baroness Grey-Thompson, into safety and wellbeing in British sport, is due to be published imminently.\\nIt is expected to recommend significant reforms designed to improve the way athletes are treated by governing bodies.\\nHouvenaghel claimed:\\nBritish Cycling said it \"has acknowledged and takes very seriously previous cultural and governance failings in the World Class Programme\".\\nIt said it has accepted the draft report\\'s findings and already put into a place a 39-point action plan to \"systematically address the cultural and behavioural shortcomings\".\\nThe statement added: \"Our new chair Jonathan Browning has apologised for instances where we have fallen short in our commitment to athlete welfare and has offered to meet with anyone who can help improve British Cycling.\"\\nWho else has spoken out?\\nHouvenaghel won silver in the individual pursuit at the Beijing Olympics in 2008, and gold in the World Championship team pursuit in 2008, 2009 and 2011.\\nShe retired in 2014, aged 39, after withdrawing from the Commonwealth Games in Glasgow with a back injury.\\nHouvenaghel was critical of both Sutton and her team-mates in the aftermath of the London 2012 Olympics, where she was left out of all three team pursuit races as Dani King, Laura Trott and Joanna Rowsell-Shand won gold in a world record time.\\nSpeaking to BBC Sport this week, the Northern Irish rider said that experience was \"very traumatic\" and she felt \"torment\" at having \"no explanation\" for her last-minute omission.\\nAt the time, Brailsford, then performance director, defended the selection saying they had to \"take the personal element out of it, and look at the data and be professional\".\\nHe added: \"I think when a team steps up and makes six world records on the trot and a gold medal, then I don\\'t think you can argue with that.\"\\nBritish Cycling reiterated that point on Thursday, adding it was \"proud to support Wendy in what was a wonderfully successful cycling career\" and she was \"part of a pioneering generation of riders who set new standards of excellence\", but was dropped in London 2012 \"based on her performance\".\\nOther elite cyclists, including King and Roswell-Shand have praised the leadership at British Cycling.\\nAsked whether she was simply not good enough for the 2012 team, Houvenaghel replied: \"It was definitely not about performance. I don\\'t think the fastest team on the day were permitted to race.\\n\"There are certain chosen riders on the team who will not have experienced the culture of fear and will not have been on the receiving end of that - the bullying, the harassment, being frozen out of opportunities.\\n\"It was horrid - it was not the training environment I expected. There was no choice. If you rocked the boat, you were out. There was no alternative.\\n\"Medals at any cost, that\\'s how it was whenever I was there, certainly in 2012.\"\\nHouvenaghel said she also witnessed the sexism that has been highlighted by other female riders, and also claims she was discriminated against because of her age.\\n\"I can certainly relate to the bullying,\" she said. \"For me personally, I felt it was more ageism - being a little bit older than my team-mates, it didn\\'t seem to be something that the staff necessarily wanted for our team in 2012.\\n\"They didn\\'t care about what happened to me afterwards. I never heard another thing from them.\\n\"After six years of constantly medalling at World Cups, World Championships, nationals, both on the track and on the road, they discarded me in a very undignified way from the team, which I don\\'t feel was right.\"\\nFourteen-time Paralympic gold medallist Dame Sarah Storey told BBC Sport that elite level sport in Britain is \"cut-throat\" but there are \"no excuses for crossing that line\" into bullying.\\nAsked about the balance between winning and athlete welfare, the 39-year-old replied: \"It\\'s a really difficult question because you have to be a human being, you have to allow for people to make mistakes. But the currency is race wins, the currency is gold medals.\\n\"It\\'s not an excuse but you have to have a thick skin in sport, you have to be able to take the rough with the smooth because of the racing that you go through.\\n\"But there are no excuses for crossing that line, and if those lines have been crossed they will be found out and they\\'ll be dealt with.\"',\n",
              " 'It\\'s no joke. But Kareem Badr says people did laugh in 2009 when he and two friends paid $20,000 (Â£13,000) for the Hideout in Austin, when it wasn\\'t making money and the previous owner decided not to renew the lease.\\n\"We took over a sinking ship and each brought a bucket to bail it out,\" says Mr Badr.\\n\"None of us had any experience of running a business. But we loved what we were doing enough that it carried us through.\"\\nThree years ago he was able to quit his day job and draw a salary from the club.\\nMr Badr says it\\'s still not as much as he used to make as a programmer (about $80,000 a year), but he now employs around 25 part time and contract workers.\\nAnd he recently expanded the premises, taking over the adjoining coffee house which sells alcohol, and leasing more theatre space.\\nMr Badr says: \"I think my background in computer science helped because I can take a big problem, break it up into small chunks, and figure out how to make it better and more efficient.\\n\"That\\'s basically what we did for every aspect of the business. And by doing that it naturally started to improve.\"\\nMr Badr may have been helped by national trends, which imply a growing enthusiasm for comedy clubs in the US.\\nAn industry report from data firm Ibis World expects total US annual comedy club revenue to grow by 1.8% over the next five years to $344.6m in 2020.\\n\"When the Hideout first opened it was the only improv theatre in Austin,\" says Mr Badr.\\n\"But now there are five [comedy] schools and four theatres. We were at the right place at the right time.\"\\nWhile the Ibis World report showed that dozens of US comedy clubs were forced to close in the wake of the 2008 recession, when fewer people had disposable income to spend on live entertainment, Stephen Rosenfield, director of the American Comedy Institute in New York, says stand-up comedy is now entering a new golden age.\\n\"The US has comedy clubs all over the country, not just in big cities, and they require talent,\" he says.\\n\"In any field there are those at the top who make dynastic fortunes. But because of the significance of the local comedy club, there is a career and a living to be made by good comedians who are not superstars.\"\\nMr Rosenfield says the growing popularity of stand-up comedy is fuelled in part by younger audiences, who view humorous TV hosts such as Jon Stewart, Jay Leno and Steve Colbert as their primary source for news.\\n\"It\\'s not just entertaining them, it\\'s also informing them,\" he says. \"There\\'s a new immediacy to stand-up that makes it much more appealing to a generation that\\'s on social media, tweeting, face booking and blogging.\"\\nBut clubs don\\'t only make money from entertainers. Alcohol alone can bring in as much as 40% of the night\\'s takings, and many clubs demand that audiences buy a minimum number of drinks per person.\\n\"A club really has three businesses going on,\" says Mr Rosenfield.\\n\"It\\'s an entertainment entity, a restaurant and a bar. They make money from selling drinks and dinners, and they make money from the cover charge.\\n\"There are usually three people on the bill. The opening act is the new comedian. They do about 20 minutes and introduce the other comics.\\nThe middle act does about half an hour, and then there\\'s the headliner. They almost always have TV credits, and are the ones people are coming to see. That headliner could be making six figures a year.\"\\nTop-tier performers make much more. According to Forbes, Canadian comedian Russell Peters grossed $19m with 64 shows in 2013, while industry veteran Jerry Seinfeld is the highest paid comedian in the US, set to earn $36m this year.\\nSteve Byrne, 41, is a veteran stand-up comedian based in LA, and star of his own television show Sullivan and Son, which ran for three seasons.\\nHe describes himself as a successful mid-level comedian who makes an annual six figure salary mainly from touring.\\nAnd although he was close to hitting a million dollars a year before his show was cancelled in 2014, he says most comedians make money at clubs and do television to boost their brand rather than their income.\\nMr Bryne says: \"Gigs vary because it depends what you\\'re contracted at.\\n\"If it\\'s somebody starting off in the business it could be $1,500 a show. For somebody who\\'s had some TV credits you could go from $4,500 to $7,500.\\n\"And if you\\'re just a knock out comic, then you\\'re coming in and getting a door deal. You\\'re taking all the tickets, and the club gets the concessions.\"\\nMr Byrne says hard work is the key to success. There is no magic short cut, and few lucky breaks.\\n\"The one single thing that an aspiring comedian should do is write, write, write. What is it that makes you laugh?\\n\"Your voice should resonate with your audience. So find your voice and you will find your audience.\"\\nWhile the music and film industries have been impacted by the internet, such as illegal downloads and reduced album sales, Mr Rosenfield says the online world has actually given live comedy a boost.\\n\"The format of comedy, particularly stand-up, lends itself to digital media like nothing else. One terrific joke can get a million hits,\" he says.\\n\"It\\'s become a new metric for a club manager. If a booker sees that a comic has 500,000 online followers - they\\'ll book him almost sight unseen. That\\'s it.\\n\"Digital is gigantically important and has been for a while.\"\\nBut in the end, the success of comedy comes down to a very simple fact - people need to laugh.\\nBack in 2001 Steve Byrne was a comedian in New York when terrorists flew two planes into the World Trade Centre on 11 September.\\nHe says: \"We all thought \\'who\\'s going to come to a comedy club? The dream\\'s over, I\\'ve got to get a real job now\\'.\\n\"But after a week, I forget which club was the first one to open its doors, but it was packed. People needed an outlet.\\n\"And I remember for months on end those clubs in New York City were just jam packed. That was the thing that told me that this was a profession that is foolproof.\"',\n",
              " 'Relieved that the giant telecoms company would not be broken up, they piled into the shares, sending them up 3% in early trading.\\nBT dodged a bullet - and, as the chief executive of Ofcom, Sharon White, admitted, it was for prosaic reasons.\\nShe said complications with land deals and BT\\'s giant pension scheme meant there were \"practical obstacles\" to a break-up that would delay the process several years.\\nIt\\'s the pension scheme that probably most influenced Ofcom\\'s thinking. BT\\'s retirement scheme, inherited from its time as a state-owned utility, has assets of about Â£40bn and a deficit, on some measures, of about Â£10bn, even though BT has poured in billions of pounds in recent years to redress the gap.\\nSenior sources at the company say that about 80% of the scheme relates to Openreach, the internet infrastructure provider that BT\\'s rivals would like to see spun off.\\nSeparating the pension as part of a break-up would be a costly headache - and there is the small matter of a government guarantee on part of the scheme, something that BT fought in the courts to preserve and won.\\nCreating two new pension schemes, with the risk of weakening the financial resources of one or the other, might be too hot a political potato, even in the pursuit of faster broadband.\\nBT\\'s share price reaction might turn out to be overdone. Ms White plans to enforce the separation by introducing not only a new board to run Openreach, but also new articles of association that will give directors a duty to serve customers of the network as much as the company\\'s owners.\\nThis holds out an obvious prospect of conflicts to come, and runs counter to the normal assumption that in private companies, the shareholder is king.\\nIt also carries an echo of the \"golden shares\" held by the government in Rolls-Royce and BAE Systems, two companies judged important for the defence of the realm. In each case, the golden share is actually enshrined by specific articles of association that give directors and the government powers beyond those normally enjoyed by company boards.\\nBT\\'s chief executive, Gavin Patterson, said he thought he could reach a compromise with Ofcom, but admitted they would need to see the detail of the new articles.\\nIf they prove too much at odds with BT\\'s own desire to control Openreach - which it will still own - get ready for a court battle and perhaps, eventually, a full break-up.',\n",
              " '\"I\\'m really looking forward to it - the home of Scottish football,\" said Rodgers ahead of his maiden visit.\\n\"I hear the pitch is good, a nice big pitch suits the speed in our team and our intensity.\\n\"The technical area goes right out to the end of the pitch, but you might need a taxi to get back to your staff.\"\\nThis will be Rodgers\\' second taste of the Old Firm derby and his experience of the fixture got off to a great start with a 5-1 league victory at Celtic Park last month.\\n\"It was a brilliant performance by the players in every aspect,\" he recalled. \"Obviously this one is on a neutral ground, but we\\'ll be looking to have a similar performance.\\n\"We\\'ll be prepared and focused. We know it\\'s going to be a tough game. We anticipated that the last time.\"\\nRodgers is also aware Celtic\\'s visit to Hampden last season in the Scottish Cup semi-final against Rangers ended in defeat.\\n\"The last experience there wasn\\'t so good for Celtic,\" he said. \"But it\\'s a different team with a different mentality and we\\'ll look to take that mentality into the game.\"\\nRodgers lost two semi-finals in his time at Liverpool and is aiming to make it third time lucky at the club he joined in the summer.\\n\"You have to perform - that\\'s what\\'s important and if you get little bit of luck along the way then hopefully you\\'ll get the result that you want.\" said the Northern Irishman.\\n\"So, for us, it\\'s really looking at our performance level, which in the main has been at a really high level.\\n\"My focus is always on my own team and, if we impose our style of play, it can give a lot of problems to opponents.\"\\nUnlike predecessor Ronny Deila, Rodgers would not be drawn on this semi-final being a step on the way to a potential domestic treble.\\n\"It\\'s very, very difficult to achieve,\" he said. \"There\\'s been great managers here in the past that haven\\'t achieved that.\\n\"But it\\'s the first competition where we\\'ve a chance to win a trophy and I\\'ve always said that it\\'s a priority for us because it\\'s the first one.\\n\"Our idea was to qualify for the Champions League, which we did, to make a good start in the league, which we\\'ve done, and then look to get to the League Cup final.\\n\"Unless you can do that then you don\\'t have the chance to win the trophies.\"',\n",
              " 'The move is in response to an £8m cut in the subsidy received from the Department of Employment and Learning (DEL).\\nThe cut in undergraduate places will come into effect from September 2015.\\nJob losses will be among both academic and non-academic staff and Queen\\'s says no compulsory redundancies should be required.\\nThere are currently around 17,000 full-time undergraduate and postgraduate students at the university, and around 3,800 staff.\\nQueen\\'s has a current intake of around 4,500 undergraduates per year.\\nThe university aims to reduce the number of student places by 1,010 over the next three years.\\nThe BBC understands that there are no immediate plans to close departments or courses, but that the cuts in funding may put some departments and courses at risk.\\nThe Education Minister Stephen Farry said he recognised that some students might now choose to study in other areas of the UK because of the cuts facing Northern Ireland\\'s universities.\\n\"Some people will now be forced to look to opportunities in other parts of Great Britain and may not return to our economy,\" he said.\\n\"Defunding our investment in skills, particularly at a time when we\\'re trying to grow the economy does not make a lot of sense. What\\'s happening is we\\'re going backwards.\\n\"The loss of any place is damaging to our economy, all subjects teach our young people critical skills.\"\\nQueen\\'s vice-chancellor Patrick Johnston said the cuts had the potential to damage the reputation of the university.\\n\"The potential negative impact, not just on the university but on the local economy is very significant,\" he said.\\n\"It\\'s the last thing we want to do, but we have to begin to focus on those areas where we can grow the organisation and develop it - it\\'s clear we can no longer depend on the public purse to fund tuition.\\n\"If we\\'re not competitive we will not attract the best students, and we will not attract the best staff.\"\\nJust under £100m, a third of the university\\'s income, comes from the Northern Ireland Executive.\\nDEL\\'s budget was reduced by £62m earlier this year, and its budget for higher education institutions fell from £203m to £186m, a reduction of 8.2%.\\nUlster University announced in February that it was dropping 53 courses.\\nIt will be cutting jobs and student places, but it has not yet revealed how many.',\n",
              " 'The leaflets said the patient had been referred for an urgent appointment as their symptoms might indicate cancer.\\nEast Sussex NHS Trust has put the mix-up down to an external company that distributes its printed material.\\nIt said the wrong patient information leaflets were added to hospital appointment letters sent out in March.\\nIt has now contacted everyone affected to apologise and explain what went wrong.\\nLiz Fellows, assistant director of operations at the trust, said: \"It was an administrative error and we apologise for any unnecessary anxiety this error may have caused.\"\\nEast Sussex Healthcare NHS Trust covers Hastings, Eastbourne and Rother, and is responsible for the Conquest Hospital and Eastbourne District Hospital.\\nThe trust said that due to the large number of appointment letters it sends out it uses an external printing company to print and distribute appointment letters.\\nIt said each letter is coded to indicate any supplementary information that needs to accompany it.\\nMs Fellows said: \"Unfortunately, for a short period in March, the printing company inadvertently miscoded approximately 850 letters resulting in a \\'two-week information leaflet\\' being inserted with an appointment letter.\\n\"As soon as the error became apparent it was stopped immediately, and letters of apology sent out.\"',\n",
              " 'Emily Thornberry said Labour would not \"frustrate Brexit\" even if it failed to amend the bill.\\nTen shadow ministers were among 47 Labour MPs who rejected party orders to back it last week.\\nShadow chancellor John McDonnell said frontbenchers would have to quit if they defied the whip at the next vote.\\nThe draft legislation comes back to the Commons on Monday for three days of debate culminating in a vote on its third reading.\\nSpeaking on BBC\\'s The Andrew Marr Show, Ms Thornberry rejected a suggestion the party was \"hopelessly divided\" on the issue.\\nShe said she understood colleagues not wanting to vote in favour of invoking Article 50 of the Lisbon Treaty, which begins the formal departure process, but said: \"We have said that we will not frustrate Brexit. We have got our instructions from the British people. We are democrats and the public have voted to leave the European Union.\"\\nLabour will try to amend the draft legislation to secure what it calls a \"meaningful vote\" on the final deal struck between Theresa May and the EU, and to guarantee the status of EU nationals in the UK and Britons living elsewhere in Europe.\\nShadow business secretary Clive Lewis has said he will vote against the bill unless Labour\\'s amendments are accepted, describing them as \"red lines\".\\nMs Thornberry declined to say whether they were non-negotiable red lines for her party, and denied it was \"illogical\" to demand amendments but still back the bill in the final vote if they are rejected.\\n\"There will need to be back channels, private conversations. There are many conversations going on now,\" she said.\\n\"We are speaking to government, we are speaking to Tory backbenchers and we are trying to get a compromise that will work.\"\\nOne of Labour leader Jeremy Corbyn\\'s closest allies, shadow home secretary Diane Abbott, missed Wednesday\\'s vote, citing illness.\\nFormer Labour minister Caroline Flint criticised Ms Abbott, telling ITV\\'s Peston on Sunday: \"We used to have man flu, we now have Brexit flu that Diane has created hereâ€¦ it\\'s about being part of a team.\\n\"I think she holds one of the most important portfolios within a shadow cabinet. If she can\\'t support the leader on this then she should go.\"\\nBut former Labour deputy leader Harriet Harman defended Ms Abbott, pointing out she had earlier said on television she would back the bill so had \"already taken the flak on it\".\\nAmong the rebels in last week\\'s second reading vote were 10 members of the front bench, who would ordinarily be expected to step down after defying leadership instructions to back the bill.\\nLabour leader Jeremy Corbyn told BBC Radio 4\\'s The World This Weekend that changes to his shadow cabinet would be announced \"in the coming few days\".\\nAsked if he should be lenient, he added: \"I\\'m a very lenient person.\"\\nSpeaking later, he said he expected Ms Abbott to vote with the party this week.\\nShadow chancellor John McDonnell said the shadow cabinet would decide how to approach Wednesday\\'s third reading vote on the Brexit bill.\\nHe told Pienaar\\'s Politics on BBC Radio 5 live that if a three-line whip was again imposed, any frontbenchers who rebelled \"will have to step down\".',\n",
              " 'The National League sold the Republic of Ireland midfielder to the Cherries for £175,000 in 2012 and had a 15% sell-on clause included in the deal.\\nO\\'Kane moved for an undisclosed fee, but Nicholson says any money will go to help the cash-strapped club.\\n\"I don\\'t think I\\'ll be getting anything,\" Nicholson told BBC Devon.\\n\"There\\'s more important things.\"\\nThe Gulls are still looking for new owners having been taken over by a consortium of local business people last summer.\\nThey were forced to close down the club\\'s academy and drastically reduce the playing budget after millionaire former owner Thea Bristow left the club.',\n",
              " 'Iwan Wyn Lewis of Penygroes, Gwynedd, had been sectioned at Ysbyty Gwynedd after allegedly assaulting his mother.\\nThe 36-year-old was visited by an officer in April 2016 about his bail arrangements, which a doctor said could have added to his distress.\\nHis body was found in the Menai Strait on 2 May.\\nMr Lewis was receiving treatment at the hospital\\'s Hergest unit and was later moved to the Cynan ward where he received the visit from the officer.\\nSpeaking at the inquest in Caernarfon on Thursday, consultant psychiatrist Dr Olufemi Adebajo said he was \"extremely unhappy\" about the visit.\\n\"I don\\'t think the police should be able to come to the ward without special permission,\" he said.\\nAsked by coroner Nicola Jones whether the conversation with the officer could have added to Mr Lewis\\' agitation and distress, Dr Adebajo said: \"It\\'s quite possible - even likely\".\\nHe said he had known Mr Lewis for more than two years and never considered him to be a suicide risk.\\nThe day before his death, he had asked staff for extra medication because he said he was feeling agitated, but they did not change his dosage because they could see no sign of agitation.\\nOn the evening of 2 May, Mr Lewis told staff he was going to the shop, but 45 minutes later his body was found in the Menai Strait.\\nThe inquest continues.',\n",
              " \"The 33-year-old has featured only twice for the Foxes this term, having signed a new one-year deal with the Premier League newcomers in the summer.\\nFormer Blackpool forward Taylor-Fletcher scored three goals in 23 games for his parent club last season.\\nHe joined the 13th-placed Owls prior to Saturday's Championship game against Norwich City.\",\n",
              " 'Dr Waleed Abdalati told the BBC the that continued access to data is in \"everyone\\'s best interest\".\\nMany US scientists are rushing to copy information onto servers outside the control of the federal government.\\nThey are afraid the Trump administration will curb access to climate and other research.\\nThe President-elect has blown hot and cold on the issue of climate change, having previously tweeted about global warming being a hoax.\\nOn Wednesday, one of his advisers compared scientists who support the mainstream view on global warming to flat-Earthers.\\n\"There was an overwhelming science that the Earth was flat and there was an overwhelming science that we were the centre of the world,\" said Anthony Scaramucci, a member of the Trump transition committee, on CNN.\\n\"We get a lot of things wrong in the scientific community.\"\\nNow at the Co-operative Institute for Research in Environmental Sciences, Dr Abdalati served as Nasa\\'s chief scientist in 2011, for two years.\\nHe says it is too early to tell if this type of rhetoric from the Trump team will be backed up by action against scientists working on climate issues.\\n\"I do think that when it comes to access to federal databases, and information that the taxpayers have paid for, there would have to be a tremendous paradigm shift to actively take steps to make those data unavailable, and I think doing so would be an enormous disservice to the citizens of this country and to the world in general,\" he said via email.\\n\"I do think that the scientific community, educators, members of the private sector who rely on these data in their businesses, and others will need to make clear that continued access to these data, which have been paid for by the taxpayers, allows their full value to be realized and is in everyone\\'s best interest.\"\\nOther researchers are taking a more pessimistic view on the question of data access and are encouraging colleagues and students to make copies. Prof Robert Paterson, from the University of Texas, Austin, says that he learned this the hard way under the administration of George W Bush, another president cool on climate.\\n\"Within a month of coming into office the EPA website went down for three weeks and when it went back up stuff wasn\\'t available anymore,\" Prof Paterson told BBC News.\\n\"If history repeats itself with another administration that is basically a naysayer to climate change science, I would say it would be prudent for folks to do what they can to keep as much as they can on mirror sites.\"\\nOther scientists are concerned about nominations to key government areas such as former Texas governor Rick Perry at Department of Energy (DoE) and Oklahoma attorney general Scott Pruitt at the EPA. Both have heavily criticised the agencies they now lead.\\nAttempts by the Trump transition team at the DoE to obtain a list of all those employees who had worked on climate change have provoked anger as well as fear.\\n\"I was horrified by the report with regard to Department of Energy scientists being named.  We must stand up to that and I have said so. We are all DoE scientists in that regard,\" said Dr Kevin Trenberth who has been a lead author for the Intergovernmental Panel on Climate Change (IPCC) is a senior scientist at the US National Center for Atmospheric Research (NCAR).\\n\"That is a pretty chilling action by an incoming administration - the rhetoric suggests that revenge is a valid response to people who disagree with you,\" said Prof Robert Paterson,\\nThe Energy department has refused to comply with the request and the Trump team has now said the questionnaire was \"not authorised\".\\nMany researchers are worried that the anti-climate tone being struck by the incoming administration will have many serious consequences for scientists trying to do their jobs in real world situations.\\n\"Flooding is a fact of life in Texas and the frequency with which we\\'re seeing it is noticeably increasing,\" said Dr Shannon Van Zandt, at Texas A&M University.\\n\"A lot of the tools that have been developed by Federal agencies have been designed to help communities predict the changes that they\\'re going to see and if that is restricted we would lose the ability to help people understand and incorporate it into the decisions that they\\'re making both at the local level and at the state policy level.\"\\nBut some in this field believe that the change of administration is a good moment to review the type of scientific questions that US researchers are asking.\\nMarcel Crok is a Dutch science writer who doesn\\'t support the scientific consensus on climate change. He says that much of the research in the field takes place in an echo chamber and he welcomes the fact that the Trump administration will challenge this.\\nMr Crok accepts that human emissions of carbon dioxide are warming the planet, but he questions the accepted view on how far and how rapidly temperatures will rise. Mainstream scientists, he says, rely on models that are over sensitive to carbon. He expects this to change under Trump.\\nHe said: \"What the field is trying to do is prove that the observational estimates are wrong and that the models are still right, and in my opinion this is exactly the problem. They should be more open minded, they should be open to the idea that the models are wrong!\"\\n\"I hope that under a Trump regime at least there would be more funding, because if the funding agencies ask these kind of questions they can stimulate research in other directions than proving that the models are right all the time.\"\\nThe idea that aspects of climate research, supported by a minority, should now gain funding at the expense of the majority view, is dismissed by those in the field.\\n\"It is not all spun, it is not all one side or the other,\" said Prof James White from the Institute of Arctic and Alpine Research at the University of Colorado.\\n\"This is good unbiased information, it would be a real shame if that data is turned off.\"\\nFollow Matt on Twitter and on Facebook',\n",
              " 'The ska group tweeted the news: \"It is with deep regret that we say goodbye to our great friend, the world\\'s greatest drummer, our beloved Brad. RIP.\"\\nBradbury joined The Specials in 1979, and continued with the reversioned band The Special AKA, who had a top 10 hit with Free Nelson Mandela.\\nBradbury took part in The Specials reunion tour in 2009. He also headed up a band called JB Allstars.\\nThe band\\'s representatives said the drummer died in England but no cause of death was given.\\nIn a statement, his family said: \"It is with deepest regret that we have to announce the very sad news that our much loved husband and father John \\'Brad\\' Bradbury passed away on Monday the 28 of December.\\n\"Brad\\'s drumming was the powerhouse behind The Specials and it was seen as a key part to the Two Tone sound. He was much respected in the world of drumming and his style of reggae and ska was seen as genuinely ground-breaking when The Specials first hit the charts in 1979.\\n\"He was an integral part of The Specials reforming in 2008 and toured with them extensively up to the present day. His contribution to the world of music can not be understated and he will much missed by family, friends and fans alike.\\n\"It is the family\\'s sincerest wish that they are allowed the time to remember him privately.\"\\nThe news comes three months after the band\\'s trombonist, Rico Rodriguez, died.\\nThe band, famed for their 1960s mod-style outfits, had seven UK top 10 singles including Too Much Too Young and Ghost Town.\\nFounder and songwriter Jerry Dammers dissolved the band in 1981 but they re-grouped and continue to perform and record without their former leading man.\\nBilly Bragg was one of the first musicans to pay tribute to Bradbury.: \"A bad day for good music. First we lose Lemmy, now news that Brad from the Specials has passed away. RIP.\"\\nBradbury was born and brought up in Coventry where the band was formed in 1977.\\nMusic producer Pete Waterman, also from Coventry, expressed his shock at the news of the Bradbury\\'s death.\\nSpeaking to BBC Coventry and Warwickshire, Waterman said: \"I always had a good laugh with Brad. He was always proud of being in the band and what we\\'d and he\\'d achieved.\\n\"He never left Coventry because he always wanted to be part of the scene... he was tremendous.\"',\n",
              " 'The 14-time major champion, playing in his first full PGA Tour event for almost 18 months, carded a level-par second round of 72, but missed the cut by four shots after his first-round 76.\\nWorld number one Jason Day and US Open champion Dustin Johnson also missed the cut at Torrey Pines in San Diego.\\nOvernight leader Rose carded a one-under 71 to put him on eight under.\\nCanada\\'s Adam Hadwin and USA\\'s Brandt Snedeker are tied in second on seven under, while US PGA champion Jimmy Walker missed the cut as he finished on three over.\\nWoods is playing in just his second tournament since 15 months out with a back injury.\\n\"It\\'s frustrating not being able to have a chance to win the tournament,\" said the 41-year-old, who won his last major, the US Open, at the same course in 2008.\\n\"Overall today was a lot better than yesterday. I hit it better, I putted well again. I hit a lot of beautiful putts that didn\\'t go in, but I hit it much better today, which was nice.\"\\nScotland\\'s Martin Laird and England\\'s Paul Casey are both on two under, while Ireland\\'s Shane Lowry is on level par.',\n",
              " 'Media playback is not supported on this device\\n\"If I push it, I could go backwards or end up back on medication,\" he said. \"There is also a chance of rejection.\"\\nThe former Manchester United, Newcastle and Blackburn forward suffered kidney failure in 2015 after contracting an airborne virus.\\nHe has just returned to his role as a United ambassador following surgery.\\nThe 45-year-old is not even allowed to fly to Barcelona for a Manchester United legends game on 30 June.\\nCole said: \"It is a long road ahead. It is a tough road and different to the battles I have had before.\\n\"It is not like getting a football injury, when you go to the gym and work a bit harder.\"\\nHis 28-year-old nephew Alexander provided the donor kidney - \"a noble job\" as Cole described it.\\nCole has improved physically and has lost most of the weight he gained through his illness.\\nAnd while there is still more work to do, Cole, who will be United\\'s assistant manager for the return legends game against Barcelona at Old Trafford on 2 September, is looking forward to playing if a similar match is staged in 2018.\\nHe said: \"I still get very tired but I can do a lot more than I was able to two years ago. If this game is played next year I want to be out there.\"\\nEarlier this week, another former Newcastle and England striker, Alan Shearer, told the BBC he felt English clubs were a long way off being able to challenge for the Champions League.\\nCole agrees, saying: \"From what I have seen in Europe, I am not sure any of the English teams will win it. They are miles apart.\\n\"If you look at Real Madrid, Barcelona or Bayern Munich, a lot of the players people are talking about Premier League clubs paying £50m or £60m for can\\'t get in their teams.\\n\"That tells you where they are at.\"',\n",
              " 'Pakistan\\'s telecoms regulator said the ban was no longer necessary because Google, which owns YouTube, had now launched a Pakistan-specific version.\\nYouTube has denied claims that the authorities can filter content.\\nMany young Pakistanis have welcomed the lifting of the ban but some activists want details of the deal with Google.\\nThey say there should be greater transparency of the terms agreed between Google and the government.\\nA Pakistan Telecommunication Authority (PTA) official confirmed to the BBC that all internet service providers had been directed to open access to YouTube.\\nThe Pakistan Telecommunication Company Ltd posted on its Facebook page on Monday: \"Welcome Back YouTube\".\\nPakistan\\'s ministry of information technology said: \"Google has provided an online web process through which requests for blocking access of offending material can be made by the PTA to Google directly.\\n\"Google/YouTube will accordingly restrict access to the said offending material for users within Pakistan.\"\\nHowever, a YouTube spokeswoman said government requests for the removal of content would not automatically be granted.\\n\"We have clear community guidelines, and when videos violate those rules, we remove them,\" she said.\\n\"In addition, where we have launched YouTube locally and we are notified that a video is illegal in that country, we may restrict access to it after a thorough review.\"\\nShe said requests by governments for content to be removed would be recorded in YouTube\\'s Transparency Report.\\nPakistan\\'s ban on YouTube was imposed by the Supreme Court in 2012 after the US-made film Innocence of Muslims was uploaded.\\nThe amateur-made video was condemned in the Muslim world and sparked widespread protests for its mocking portrayal of the Prophet Muhammad.\\nMore than a dozen people died in protests in Pakistan.\\nBlasphemy is a crime in Pakistan and can carry the death penalty, although such a sentence has not been carried out.\\nGoogle revealed last week that it had launched local versions of YouTube for Nepal, Pakistan and Sri Lanka.',\n",
              " 'The 26-year-old was injured in last week\\'s win over Exeter.\\nDirector of rugby Richard Cockerill told BBC Radio Leicester: \"With eight weeks of the season to go that is probably the last we will see of him.\"\\nMeanwhile, scrum-half Sam Harrison, 24, has signed a new deal, but the length of the contract has not been revealed.\\nBenjamin has been plagued by injuries since signing from Worcester in 2012, suffering a serious neck injury which delayed his first-team debut by 15 months.\\nHe also sustained a knee injury that ruled him out for four months last term.\\nBut Cockerill said: \"It is certainly not too serious and he will make a full recovery in the next eight to 10 weeks.\"',\n",
              " 'Media playback is not supported on this device\\nDoull emulated fellow Welshman Geraint Thomas, who won at the 2008 and 2012 Olympics, by helping Great Britain win team pursuit gold in world record time.\\nThe 23-year-old joined record-breaking Sir Bradley Wiggins, Steven Burke and Ed Clancy to beat the world champions.\\n\"That was just surreal, it feels dreamlike\" said the Cardiff rider.\\nMedia playback is not supported on this device\\n\"We\\'ve been in situations like that before when we\\'ve been so close and have lost so to pull it off now is unbelievable.\"\\nHe had previously won silver medals at the 2015 and 2016 World Championship - this year to the Australian team - but Doull earned Olympic redemption to add to the four Welsh silver medallists in Rio.\\n\"I\\'ve dreamt of this moment for so long,\" added Doull.\\n\"It\\'s what gets you out of the bed in the morning. I\\'ve pictured crossing that line first and winning the Olympics and to finally be here and do it, it\\'s just surreal. It\\'s a culmination of four years of hard work.\"\\nSwimmer Jazz Carlin, rower Victoria Thornley and rugby sevens players Sam Cross and James Davies had already enjoyed podium finishes before Doull secured Wales\\' seventh gold in the last three Olympics.\\nWales had not won an Olympic title in 36 years when Nicole Cooke stormed to women\\'s road race gold in 2008 - the first Welsh cycling medal ever at an Olympics.\\nBut since Cooke\\'s win in Beijing, Wales have won three more cycling gold medals - and could win a fifth on Saturday when Elinor Barker will help the British world record holding women bid for team pursuit gold.\\nDoull - who started cycling at the Maindy Fliers club in Cardiff like Thomas and Barker - had helped the Great Britain team to lower the world record in their heat demolition of New Zealand.\\nBut Team GB were quickly behind in Friday\\'s final as Australia led by 0.7 seconds at the halfway mark, before GB reeled them in and then pulled away in the final 500m to win the 4km race by 0.83 seconds - in a world record time of three minutes, 50.265 seconds.\\nDoull\\'s team-mate Wiggins became the first Briton to win eight Olympic medals - five golds, one silver and two bronzes - as GB won a third successive team pursuit Olympic title.\\n\"It gives you such confidence....you\\'ve got Brad on my right behind me and I\\'ve got Burke and Ed down below me,\" said Doull.\\n\"It\\'s Burke\\'s second Olympic title in his discipline, it\\'s Ed\\'s third and he\\'s the most decorated Yorkshireman, so he keeps telling me, so to have that calibre of team is just massive and it gives you such confidence.\"',\n",
              " 'The death toll doubled over the last two days as officials found more than 100 bodies once waters began receding.\\nOfficials estimate that the floods have affected 450,000 people in the state.\\nThis years monsoon rains have affected millions across at least 20 states in India. The north-eastern state of Assam has also seen dozens killed and hundreds of thousands displaced.\\nThe government has announced aid packages for affected areas and Prime Minister Narendra Modi is due to visit Assam on Tuesday.\\nHe has said the aim of his visit is to find a \"permanent solution\" to the flooding that Assam faces every year.\\nThe Press Trust of India news agency quoted an official as saying that many affected people in Gujarat had begun returning to their villages.',\n",
              " 'Two snowsports enthusiasts got married at a Scottish ski resort before sliding off down a run in their wedding attire.\\nBridget and Jonathan Reid, from Moy, near Tomatin in the Highlands, tied the knot at Nevis Range, near Fort William, on Friday.\\nThe couple first\\'s date six years ago was a skiing trip, so they decided it would be appropriate to get married on skis.\\nAdventure photographer Hamish Frost took their wedding snaps.\\nBridget, who is a teacher, and Jonathan, who runs his own electrical automation company, benefited from recent snowfalls for their big day.\\nThey got married in full Highland dress, which includes a kilt, and white wedding dress surrounded by snow-covered mountain landscape.\\nThe white stuff had been lacking over winter, but last month\\'s Storm Doris and recent spells of colder weather have helped with the operation of Nevis Range and Scotland\\'s other outdoor ski centres.\\nThe newly weds said: \"Over the last couple of years we have spent as many weekends as possible skiing the Back Corries at Nevis Range.\\n\"We love the atmosphere, the friendliness of the staff and the amazing terrain for skiing.  When we heard that we could actually get married there it was a no-brainer.\"\\nThe couple got married at the top of Easy Gully in a ceremony officiated by Halde Pottinger from the Humanist Society of Scotland.\\n\"He was totally up for marrying us on skis and did an amazing job. He is currently trying to establish whether or not we are the first wedding actually conducted and vowed in skis - officiate and couple,\" said the Reids.\\n\"We can\\'t actually believe we are but there can\\'t be many. We also managed to twist the arm of adventure photographer Hamish Frost, who came along to take photographs.\"\\nThe couple added: \"The day could not have been better. Without doubt it was the best conditions of the year - with blue skies and fresh snow, we could not have asked for more.\"\\nThey thanked the staff of Nevis Range for \"a fabulous job making our day possible\", and for helping in throwing \"a hell of a good party\" in the evening.',\n",
              " 'The fine follows the conviction of former RBS trader, Shirlina Tsang, for fraud last year.\\nShe was sentenced to 50 months in prison after being caught falsifying records of emerging markets trades.\\nHong Kong regulators said RBS\\'s controls were \"seriously inadequate\".\\nThe Securities and Futures Commission (SFC) also said there were \"significant weaknesses in its procedures, management systems and internal controls.\"\\nBut the regulator said the fine took into account the bank\\'s speedy action in alerting the authorities once it had discovered the illegal trades, which took place in its emerging markets rates business in 2011.\\n\"This deserves substantial credit and is the reason why today\\'s sanctions are not heavier ones,\" Mark Steward, the SFC\\'s head of enforcement, said in a statement.\\nRBS responded with a statement, reading: \"We put in place a comprehensive remediation programme that strengthened our governance and supervisory oversight, and our control environment.\"\\nThe fine is relatively small compared to others the bank has received in the last few years.\\nIn December RBS agreed to pay 391m euros (£320m) in penalties to the European Commission for its role in the attempted rigging of Yen Libor and Euribor - the Tokyo and euro equivalents of the London interbank offered rate, or Libor.\\nIn the same month it was fined $100m (£60m) by US regulators for violations of US sanctions against Iran, Sudan, Burma, and Cuba.\\nThe bank was found to have removed location information on payments made to US financial institutions from countries such as Iran and Cuba.',\n",
              " 'Here are the best bits we heard backstage at the Royal Albert Hall in London.\\nIn La La Land, Emma Stone plays aspiring actress Mia Dolan.\\nSo does the best actress winner think Mia could ever win a Bafta or Oscar?\\nAfter a dramatic pause, she delivered her verdict.\\n\"Hopefully!\"\\n\"It\\'s been like a whirlwind,\" said Spider-Man actor Tom Holland, winner of the Rising Star Award. \"I\\'m so happy everything seems to be working out.\"\\nThe 20-year-old Brit isn\\'t wrong there. Having made his screen debut in tsunami disaster movie The Impossible, he first appeared as Spidey in Captain America: Civil War and recently finished filming for Spider-Man: Homecoming.\\nBut Tom admitted the super hero role has its drawbacks.\\n\"Ever since I was a kid I\\'ve wanted to be Spider-Man. It\\'s been so fun, but my legs are in bits right now from spider poses after spider poses.\\n\"So I\\'ll be sitting down for the rest of the evening!\"\\nIt was perhaps inevitable that Meryl Streep\\'s speech at the Golden Globes would come up at the Baftas.\\nAsked about Donald Trump\\'s response, supporting actress winner Viola Davis didn\\'t hold back.\\n\"Anyone who labels Meryl Streep an \\'overrated\\' actress obviously doesn\\'t know anything about acting,\" she said.\\n\"That\\'s not just directed towards Donald Trump - that\\'s directed towards anyone.\"\\nShe didn\\'t stop there.\\n\"This is someone who is the master at her skill and she has lasted for 40 years in a very difficult profession,\" Viola continued.\\n\"One of the things people have to know about this woman is that she is the most honourable, accessible human being you could possibly want to meet.\"\\nBest actor winner Casey Affleck said he\\'d grabbed a word with Meryl Streep after the Baftas ceremony.\\n\"She was taking pictures of people... and I told her how much her speech at the Golden Globes meant to all of us and how grateful I was that she did it and kicked in the door a little bit,\" he said.\\nThe Manchester by the Sea star said he hoped more actors would speak out.\\n\"There is a big audience for these awards shows... and I have to say I\\'m very proud to be a part of the arts community.\\n\"I don\\'t always say some of the things I would like to say in those opportunities because there are people like Meryl Streep who say them much better than I can - and if they are going to be said it should be said very, very well because they are important.\"\\n\"I\\'m a little bit wobbly,\" confessed Dev Patel a few minutes after winning the supporting actor prize for Lion.\\n\"I really did not expect it, we have gone to so many awards ceremony and this one is where everything changed, on home turf with my family.\"\\nDev recalled how he had made his acting debut a decade ago on E4\\'s teen drama Skins.\\n\"I remember the first time I ever stepped on a film set, I never knew what a boom mic was,\" he laughed.\\n\"My mum took me to an open casting of Skins after she saw an advert in Metro newspaper and 10 years on we are here at the Baftas - that is pretty amazing.\"\\nJustin Hurwitz, who won the Bafta for his original music in La La Land, said that he\\'d written a title song that didn\\'t end up in the movie.\\n\"It was going to be in the middle of the movie but we nixed that, and then we toyed with using it in the end credits, and we nixed that at the last minute.\"\\nAnd how about this? Another Day of Sun, from the famous traffic jam scene, was cut \"for many months\" before being put back in as the big opening number.\\nMel Brooks, who was awarded the prestigious Bafta Fellowship, was asked about whether he might write a comedy about Donald Trump.\\n\"I\\'m not afraid of him, I don\\'t think he\\'s dangerous,\" said the 90-year-old writer, actor and producer.\\n\"I think he\\'s mostly an entertainer, a guy who wants audiences to love him.\\n\"What I\\'m afraid of are all the guys around him, the people who whisper in his ears, like the people who whispered in George W Bush\\'s ears and we got the Iraq War...\\n\"I just hope that Trump stays the egomaniac he is, listens to no-one and then we\\'ll all be safe. But if he believes these guys we\\'re all in trouble.\"\\nMel was in a lighter mood as he plugged his new musical Young Frankenstein, which will open in London\\'s West End this year after a run in Newcastle.\\n\"I think, modestly speaking, it will be sensational,\" he chuckled.\\nFollow us on Facebook, on Twitter @BBCNewsEnts, or on Instagram at bbcnewsents. If you have a story suggestion email entertainment.news@bbc.co.uk.',\n",
              " \"Media playback is not supported on this device\\nOf his first 30 matches in 2017, the world number one has won 21 and lost nine.\\nWinning his last five tournaments of 2016 to pip Novak Djokovic to the year-end number one position in the final match of the season at London's O2 Arena was astonishing, dramatic and unforgettable.\\nAnd yet it appears that relentless run of success, and the 87 matches he played over a season, has come at a price.\\nMurray's straight-set defeat by world number 90 Jordan Thompson in the first round at Queen's Club was the sixth time he has lost to a player outside the top 20 this year. He has had shingles and an elbow problem, and now his left hip is proving cause for concern.\\nOpting out of two scheduled exhibition matches at the Hurlingham Club in London may not be too much of a blow, as Murray's aptitude for grass is likely to allow him some margin for error during the opening week at Wimbledon. But will he be in pain, and will his movement suffer?\\nAlthough it was reassuring to see him return to the practice courts on Friday, Murray was walking with a limp and neither moving, nor hitting his backhand, anywhere near as well as he will need to. Only time will tell.\\nMedia playback is not supported on this device\\nMurray has looked especially vulnerable this season over three sets.\\nAs well as the defeat by Thompson at Queen's, he has also lost in straight sets to Fabio Fognini in Rome (no disgrace), to Borna Coric in Madrid, and to world number 129 Vasek Pospisil at Indian Wells.\\nThough he was bamboozled by Mischa Zverev in the fourth round of the Australian Open, his Grand Slam record remains formidable. He is aiming this fortnight for a 10th consecutive Wimbledon quarter-final, and the last time he failed to reach the second week of a Slam was when he fell to Stan Wawrinka in the third round of the 2010 US Open.\\nSo, assuming Murray's hip does not leave him underpowered, the French Open provides the best indication as to how he might fare at Wimbledon.\\nMurray often started slowly in matches at Roland Garros, but put in a dominant third-round performance against Juan Martin del Potro as he won in straight sets. He never looked a realistic champion, but ultimately was just a tie-break away from a second consecutive final. He then ran out of steam, a legacy of insufficient matches, in a Stan Wawrinka-dominated final set of their semi-final.\\nIt would be foolish to try to come to a firm conclusion about Murray's chances at the All England Club this year. Twice a champion, and a gold-medal winner on Centre Court at the 2012 Olympics, not even Novak Djokovic has outperformed him at Wimbledon over the past five years.\\nYet on 2017 results alone, Murray is only the seventh best player in the field.\\nHe has too frequently struggled to impose himself on his opponent, and hindered at times by injury, has not been able to trust his serve in the same way.\\nThis year he has won 72% of points on first serve, down from 76% last year; and while last year he saved 66% of the break points he faced, that number has fallen this year to 54%.\\nHe claims his indifferent form is nothing to do with the pressure associated with his status as world number one, and he does not cut the figure of a man weighed down by an unwelcome burden.\\nBut perhaps Murray has lost his cause: he is now the hunted, rather than the hunter.\\nThat may not be a concern much longer.\\nMurray is virtually 5,000 points behind Rafael Nadal in the season-long race and is therefore very likely to be replaced at the top of the rankings by the autumn at the latest.\\nIn fact, he could be overtaken after Wimbledon by Wawrinka or Djokovic if they win the title, but more probably by Nadal, who assuming both reach the second week would only have to go one round further.\\nNadal's knees, Djokovic's blues and Wawrinka's unexceptional Wimbledon record muddy the waters still further.\\nAnd then there's Roger Federer: the seven-time champion, who is free of injuries, and last Sunday in Halle won his fourth title of the year having skipped the clay-court season.\\nMedia playback is not supported on this device\",\n",
              " 'Mandla Hlatshwayo and his friend were shot after confronting a group of men who had robbed women of their mobile phones in a pub in Soweto.\\nThe suspects were found in possession of drugs and an unlicensed gun.\\nSouth Africa has one of the highest murder rates in the world with more than 50,000 cases reported every year.\\n\"Police are questioning the suspects to see if they can link them to the shooting,\" says the police\\'s Lungelo Dlamini.\\nTributes are still pouring in for the star who was also a DJ on local radio station Jozi FM.\\nThose who knew the 40-year-old have described him as a selfless man.',\n",
              " 'Witnesses told officers they heard a gun being fired near Anfield Road Primary School at about 09:00 GMT.\\nPupils and staff there and at the nearby All Saints Catholic Primary School have been ordered to stay indoors while police investigate.\\nCh Supt Mark Harrison said it \"beggars belief\" it would happen at a school.\\nMembers of the public told police the shot was fired at a dark coloured car by a white man in a grey hooded top who was on foot.\\nA Merseyside Police spokeswoman said local hospitals had been checked and \"no-one has sought medical attention for injuries caused by a firearm\".\\nShe said officers were making house-to-house inquiries and studying CCTV footage of the area.\\nCh Supt Harrison said the attack \"appears to be targeted\" and was particularly worrying as \"a child could have been seriously injured or worse\".\\nHe said police wanted to hear from those inside the car \"so we know they are safe\".\\nAnfield Road Primary School\\'s headteacher Clair Drew-Williams said her pupils were \"safe and unaware of the incident\".\\n\"The site was not evacuated, the school day is continuing as normal and a trip for some pupils took place as planned,\" she said.']"
            ]
          },
          "execution_count": 693,
          "metadata": {},
          "output_type": "execute_result"
        }
      ],
      "source": [
        "sample_for_summary = list(xsum_sample.head(30)[\"document\"])\n",
        "sample_for_summary"
      ]
    },
    {
      "cell_type": "code",
      "execution_count": null,
      "id": "0c93979b-2546-4ab6-8a8d-443c92b9fa37",
      "metadata": {
        "id": "0c93979b-2546-4ab6-8a8d-443c92b9fa37",
        "outputId": "ff615006-2072-443b-9b09-6104a7f64735"
      },
      "outputs": [
        {
          "name": "stdout",
          "output_type": "stream",
          "text": [
            "Tiempo tomado para inferenciar: 45.933 Segundos...\n"
          ]
        }
      ],
      "source": [
        "start_time = time.time()\n",
        "small_summa_inference = pd.DataFrame(small_summarizer(sample_for_summary))\n",
        "end_time = time.time()\n",
        "\n",
        "time_taken = round(end_time - start_time, 4)\n",
        "print(f\"Tiempo tomado para inferenciar: {time_taken} Segundos...\")"
      ]
    },
    {
      "cell_type": "code",
      "execution_count": null,
      "id": "58098932-6e6c-487c-b4da-da87c702a195",
      "metadata": {
        "id": "58098932-6e6c-487c-b4da-da87c702a195",
        "outputId": "ff996c1f-6374-423d-b76e-55c7000c0b09"
      },
      "outputs": [
        {
          "data": {
            "text/html": [
              "<div>\n",
              "<style scoped>\n",
              "    .dataframe tbody tr th:only-of-type {\n",
              "        vertical-align: middle;\n",
              "    }\n",
              "\n",
              "    .dataframe tbody tr th {\n",
              "        vertical-align: top;\n",
              "    }\n",
              "\n",
              "    .dataframe thead th {\n",
              "        text-align: right;\n",
              "    }\n",
              "</style>\n",
              "<table border=\"1\" class=\"dataframe\">\n",
              "  <thead>\n",
              "    <tr style=\"text-align: right;\">\n",
              "      <th></th>\n",
              "      <th>summary_text</th>\n",
              "    </tr>\n",
              "  </thead>\n",
              "  <tbody>\n",
              "    <tr>\n",
              "      <th>0</th>\n",
              "      <td>prison link Cymru says some ex-offenders were ...</td>\n",
              "    </tr>\n",
              "    <tr>\n",
              "      <th>1</th>\n",
              "      <td>three firearms, ammunition and a five-figure s...</td>\n",
              "    </tr>\n",
              "    <tr>\n",
              "      <th>2</th>\n",
              "      <td>the four suspects have been charged with hate ...</td>\n",
              "    </tr>\n",
              "    <tr>\n",
              "      <th>3</th>\n",
              "      <td>the former arsenal goalkeeper played for the R...</td>\n",
              "    </tr>\n",
              "    <tr>\n",
              "      <th>4</th>\n",
              "      <td>experts say the findings are \"potentially very...</td>\n",
              "    </tr>\n",
              "    <tr>\n",
              "      <th>5</th>\n",
              "      <td>it is not obvious that the merger is in the pu...</td>\n",
              "    </tr>\n",
              "    <tr>\n",
              "      <th>6</th>\n",
              "      <td>jess Varnish, Nicole Cooke and Emma Pooley cri...</td>\n",
              "    </tr>\n",
              "    <tr>\n",
              "      <th>7</th>\n",
              "      <td>dozens of comedy clubs were forced to close in...</td>\n",
              "    </tr>\n",
              "    <tr>\n",
              "      <th>8</th>\n",
              "      <td>80% of BT's pension scheme relates to openreac...</td>\n",
              "    </tr>\n",
              "    <tr>\n",
              "      <th>9</th>\n",
              "      <td>rodgers says he's looking forward to the home ...</td>\n",
              "    </tr>\n",
              "    <tr>\n",
              "      <th>10</th>\n",
              "      <td>the cut in undergraduate places will come into...</td>\n",
              "    </tr>\n",
              "    <tr>\n",
              "      <th>11</th>\n",
              "      <td>the wrong leaflets were added to hospital appo...</td>\n",
              "    </tr>\n",
              "    <tr>\n",
              "      <th>12</th>\n",
              "      <td>shadow chancellor says frontbenchers would hav...</td>\n",
              "    </tr>\n",
              "    <tr>\n",
              "      <th>13</th>\n",
              "      <td>the national league sold the Republic of Irela...</td>\n",
              "    </tr>\n",
              "    <tr>\n",
              "      <th>14</th>\n",
              "      <td>Iwan Wyn Lewis was sectioned at Ysbyty Gwynedd...</td>\n",
              "    </tr>\n",
              "    <tr>\n",
              "      <th>15</th>\n",
              "      <td>the 33-year-old has only featured twice for th...</td>\n",
              "    </tr>\n",
              "    <tr>\n",
              "      <th>16</th>\n",
              "      <td>the president-elect has blown hot and cold on ...</td>\n",
              "    </tr>\n",
              "    <tr>\n",
              "      <th>17</th>\n",
              "      <td>the ska group tweeted the news: \"it is with de...</td>\n",
              "    </tr>\n",
              "    <tr>\n",
              "      <th>18</th>\n",
              "      <td>the 14-time major champion missed the cut by f...</td>\n",
              "    </tr>\n",
              "    <tr>\n",
              "      <th>19</th>\n",
              "      <td>the former manchester united, blackburn forwar...</td>\n",
              "    </tr>\n",
              "    <tr>\n",
              "      <th>20</th>\n",
              "      <td>the ban was imposed by the Supreme Court in 20...</td>\n",
              "    </tr>\n",
              "    <tr>\n",
              "      <th>21</th>\n",
              "      <td>the 26-year-old was injured in last week's win...</td>\n",
              "    </tr>\n",
              "    <tr>\n",
              "      <th>22</th>\n",
              "      <td>the 23-year-old joins record-breaking sir Brad...</td>\n",
              "    </tr>\n",
              "    <tr>\n",
              "      <th>23</th>\n",
              "      <td>the death toll doubles over the last two days ...</td>\n",
              "    </tr>\n",
              "    <tr>\n",
              "      <th>24</th>\n",
              "      <td>bridget and Jonathan Reid tied the knot at a s...</td>\n",
              "    </tr>\n",
              "    <tr>\n",
              "      <th>25</th>\n",
              "      <td>the fine follows the conviction of former RBS ...</td>\n",
              "    </tr>\n",
              "    <tr>\n",
              "      <th>26</th>\n",
              "      <td>the 20-year-old actress isn't wrong there . he...</td>\n",
              "    </tr>\n",
              "    <tr>\n",
              "      <th>27</th>\n",
              "      <td>87 matches he played over a season have come a...</td>\n",
              "    </tr>\n",
              "    <tr>\n",
              "      <th>28</th>\n",
              "      <td>mandla Hlatshwayo and his friend were shot aft...</td>\n",
              "    </tr>\n",
              "    <tr>\n",
              "      <th>29</th>\n",
              "      <td>witnesses tell police they heard a gun being f...</td>\n",
              "    </tr>\n",
              "  </tbody>\n",
              "</table>\n",
              "</div>"
            ],
            "text/plain": [
              "                                         summary_text\n",
              "0   prison link Cymru says some ex-offenders were ...\n",
              "1   three firearms, ammunition and a five-figure s...\n",
              "2   the four suspects have been charged with hate ...\n",
              "3   the former arsenal goalkeeper played for the R...\n",
              "4   experts say the findings are \"potentially very...\n",
              "5   it is not obvious that the merger is in the pu...\n",
              "6   jess Varnish, Nicole Cooke and Emma Pooley cri...\n",
              "7   dozens of comedy clubs were forced to close in...\n",
              "8   80% of BT's pension scheme relates to openreac...\n",
              "9   rodgers says he's looking forward to the home ...\n",
              "10  the cut in undergraduate places will come into...\n",
              "11  the wrong leaflets were added to hospital appo...\n",
              "12  shadow chancellor says frontbenchers would hav...\n",
              "13  the national league sold the Republic of Irela...\n",
              "14  Iwan Wyn Lewis was sectioned at Ysbyty Gwynedd...\n",
              "15  the 33-year-old has only featured twice for th...\n",
              "16  the president-elect has blown hot and cold on ...\n",
              "17  the ska group tweeted the news: \"it is with de...\n",
              "18  the 14-time major champion missed the cut by f...\n",
              "19  the former manchester united, blackburn forwar...\n",
              "20  the ban was imposed by the Supreme Court in 20...\n",
              "21  the 26-year-old was injured in last week's win...\n",
              "22  the 23-year-old joins record-breaking sir Brad...\n",
              "23  the death toll doubles over the last two days ...\n",
              "24  bridget and Jonathan Reid tied the knot at a s...\n",
              "25  the fine follows the conviction of former RBS ...\n",
              "26  the 20-year-old actress isn't wrong there . he...\n",
              "27  87 matches he played over a season have come a...\n",
              "28  mandla Hlatshwayo and his friend were shot aft...\n",
              "29  witnesses tell police they heard a gun being f..."
            ]
          },
          "execution_count": 695,
          "metadata": {},
          "output_type": "execute_result"
        }
      ],
      "source": [
        "small_summa_inference"
      ]
    },
    {
      "cell_type": "markdown",
      "id": "13b65f09-39f6-4139-8c68-009d04a36e4f",
      "metadata": {
        "id": "13b65f09-39f6-4139-8c68-009d04a36e4f"
      },
      "source": [
        "##### Evaluacion (Rouge)"
      ]
    },
    {
      "cell_type": "code",
      "execution_count": null,
      "id": "abbd437e-7523-4ea5-86a6-84028f4ab35a",
      "metadata": {
        "id": "abbd437e-7523-4ea5-86a6-84028f4ab35a",
        "outputId": "87e4519c-19c3-49b1-fea6-a122e8a5eb6d"
      },
      "outputs": [
        {
          "name": "stdout",
          "output_type": "stream",
          "text": [
            "Promedio ROUGE en el test split: 0.1209\n"
          ]
        }
      ],
      "source": [
        "def get_rouge_average(predictions, references):\n",
        "    # Cargar la evaluación ROUGE\n",
        "    rouge = load(\"rouge\")\n",
        "\n",
        "    # Calcular la puntuación ROUGE\n",
        "    rouge_score = rouge.compute(predictions=predictions, references=references)\n",
        "\n",
        "    # Calcular el promedio de las métricas ROUGE\n",
        "    rouge_mean_on_test = np.mean(list(rouge_score.values()))\n",
        "\n",
        "    return round(rouge_mean_on_test, 4)\n",
        "# Definir las predicciones y referencias (en este caso, las primeras 15)\n",
        "prediction = small_summa_inference[\"summary_text\"].head(30)\n",
        "reference = xsum_sample[\"summary\"].head(30)\n",
        "\n",
        "# Imprimir el promedio\n",
        "rouge_mean_on_test = get_rouge_average(prediction, reference)\n",
        "print(f\"Promedio ROUGE en el test split: {rouge_mean_on_test:.4f}\")"
      ]
    },
    {
      "cell_type": "code",
      "execution_count": null,
      "id": "a0998230-15d8-464c-ac30-3fc4ff1333f4",
      "metadata": {
        "id": "a0998230-15d8-464c-ac30-3fc4ff1333f4"
      },
      "outputs": [],
      "source": [
        "benchmark.loc[('Model1', \"Size1\"), (\"Summarization\", \"Name\")] =  model.name_or_path\n",
        "benchmark.loc[('Model1', \"Size1\"), (\"Summarization\", \"Size (GB)\")] =  model_memory_size_gb\n",
        "benchmark.loc[('Model1', \"Size1\"), (\"Summarization\", \"Qty of Parameters\")] =  total_params\n",
        "benchmark.loc[('Model1', \"Size1\"), (\"Summarization\", \"Inference Time\")] =  time_taken\n",
        "benchmark.loc[('Model1', \"Size1\"), (\"Summarization\", \"Metric\")] =  f\"Rouge_average {rouge_mean_on_test}\""
      ]
    },
    {
      "cell_type": "markdown",
      "id": "fb373c93-d083-4a0a-9f6d-c4dde1368be2",
      "metadata": {
        "id": "fb373c93-d083-4a0a-9f6d-c4dde1368be2"
      },
      "source": [
        "#### Large size"
      ]
    },
    {
      "cell_type": "code",
      "execution_count": null,
      "id": "4896e468-7394-4ae5-a6cb-505c501d6dd7",
      "metadata": {
        "id": "4896e468-7394-4ae5-a6cb-505c501d6dd7",
        "outputId": "a2119089-8144-49a4-d40c-3ff5403efe1b"
      },
      "outputs": [
        {
          "name": "stdout",
          "output_type": "stream",
          "text": [
            "El modelo tiene aproximadamente 737,668,096 parámetros.\n",
            "El modelo tiene aproximadamente 2.75 GB en memoria.\n"
          ]
        }
      ],
      "source": [
        "large_summarizer = pipeline(\n",
        "    task=\"summarization\",\n",
        "    model=\"t5-large\",\n",
        "    max_length=40,\n",
        "    min_length=20,\n",
        "    truncation=False, # Si seteara Truncate a true, apareciera un error que dice: Asking to truncate to max_length\n",
        "                    #but no maximum length is provided and the model has no predefined maximum length. Default to no truncation.\n",
        "    model_kwargs={\"cache_dir\": cache_dir}\n",
        ")\n",
        "\n",
        "model = large_summarizer.model\n",
        "total_params = sum(p.numel() for p in model.parameters())\n",
        "print(f\"El modelo tiene aproximadamente {total_params:,} parámetros.\")\n",
        "\n",
        "\n",
        "# Calcular el tamaño en memoria del modelo en base al dtype de los parámetros\n",
        "model_memory_size = sum(p.numel() * p.element_size() for p in model.parameters())\n",
        "model_memory_size_gb = model_memory_size / (1024 ** 3)  # Convertir a GB\n",
        "\n",
        "# Mostrar el tamaño en memoria\n",
        "print(f\"El modelo tiene aproximadamente {model_memory_size_gb:.2f} GB en memoria.\")"
      ]
    },
    {
      "cell_type": "code",
      "execution_count": null,
      "id": "0e4f0e67-b07f-4172-aa97-f52442657ffa",
      "metadata": {
        "id": "0e4f0e67-b07f-4172-aa97-f52442657ffa",
        "outputId": "929873f3-234e-4079-9894-1fe9ea8129dc"
      },
      "outputs": [
        {
          "name": "stdout",
          "output_type": "stream",
          "text": [
            "Tiempo tomado para inferenciar: 641.1396 Segundos...\n"
          ]
        }
      ],
      "source": [
        "start_time = time.time()\n",
        "large_summa_inference = pd.DataFrame(large_summarizer(sample_for_summary))\n",
        "end_time = time.time()\n",
        "\n",
        "time_taken = round(end_time - start_time, 4)\n",
        "print(f\"Tiempo tomado para inferenciar: {time_taken} Segundos...\")"
      ]
    },
    {
      "cell_type": "code",
      "execution_count": null,
      "id": "2547544d-8364-4a9f-b928-a08a9f3df854",
      "metadata": {
        "id": "2547544d-8364-4a9f-b928-a08a9f3df854",
        "outputId": "564990a1-4bcf-4c91-ff51-7c6c551c0b58"
      },
      "outputs": [
        {
          "data": {
            "text/html": [
              "<div>\n",
              "<style scoped>\n",
              "    .dataframe tbody tr th:only-of-type {\n",
              "        vertical-align: middle;\n",
              "    }\n",
              "\n",
              "    .dataframe tbody tr th {\n",
              "        vertical-align: top;\n",
              "    }\n",
              "\n",
              "    .dataframe thead th {\n",
              "        text-align: right;\n",
              "    }\n",
              "</style>\n",
              "<table border=\"1\" class=\"dataframe\">\n",
              "  <thead>\n",
              "    <tr style=\"text-align: right;\">\n",
              "      <th></th>\n",
              "      <th>summary_text</th>\n",
              "    </tr>\n",
              "  </thead>\n",
              "  <tbody>\n",
              "    <tr>\n",
              "      <th>0</th>\n",
              "      <td>prison link cymru said some ex-offenders were ...</td>\n",
              "    </tr>\n",
              "    <tr>\n",
              "      <th>1</th>\n",
              "      <td>officers searched properties in the waterfront...</td>\n",
              "    </tr>\n",
              "    <tr>\n",
              "      <th>2</th>\n",
              "      <td>the suspects are charged with hate crimes and ...</td>\n",
              "    </tr>\n",
              "    <tr>\n",
              "      <th>3</th>\n",
              "      <td>former arsenal goalkeeper played for the royal...</td>\n",
              "    </tr>\n",
              "    <tr>\n",
              "      <th>4</th>\n",
              "      <td>mice put on a modified form of the \"fasting-mi...</td>\n",
              "    </tr>\n",
              "    <tr>\n",
              "      <th>5</th>\n",
              "      <td>Essilor and Luxottica are two of the biggest f...</td>\n",
              "    </tr>\n",
              "    <tr>\n",
              "      <th>6</th>\n",
              "      <td>houvenaghel accuses British Cycling of having ...</td>\n",
              "    </tr>\n",
              "    <tr>\n",
              "      <th>7</th>\n",
              "      <td>total us annual comedy club revenue to grow by...</td>\n",
              "    </tr>\n",
              "    <tr>\n",
              "      <th>8</th>\n",
              "      <td>telecoms giant BT dodged a bullet - and ofcom ...</td>\n",
              "    </tr>\n",
              "    <tr>\n",
              "      <th>9</th>\n",
              "      <td>Liverpool manager steve rodgers is looking for...</td>\n",
              "    </tr>\n",
              "    <tr>\n",
              "      <th>10</th>\n",
              "      <td>the cut in undergraduate places will come into...</td>\n",
              "    </tr>\n",
              "    <tr>\n",
              "      <th>11</th>\n",
              "      <td>east Sussex NHS trust put mix-up down to an ex...</td>\n",
              "    </tr>\n",
              "    <tr>\n",
              "      <th>12</th>\n",
              "      <td>ten shadow ministers among 47 who rejected par...</td>\n",
              "    </tr>\n",
              "    <tr>\n",
              "      <th>13</th>\n",
              "      <td>the national league sold the republic of irela...</td>\n",
              "    </tr>\n",
              "    <tr>\n",
              "      <th>14</th>\n",
              "      <td>Iwan Wyn Lewis, 36, was sectioned at Ysbyty Gw...</td>\n",
              "    </tr>\n",
              "    <tr>\n",
              "      <th>15</th>\n",
              "      <td>the 33-year-old has featured only twice for th...</td>\n",
              "    </tr>\n",
              "    <tr>\n",
              "      <th>16</th>\n",
              "      <td>many scientists are rushing to copy informatio...</td>\n",
              "    </tr>\n",
              "    <tr>\n",
              "      <th>17</th>\n",
              "      <td>ska group the specials tweeted the news of the...</td>\n",
              "    </tr>\n",
              "    <tr>\n",
              "      <th>18</th>\n",
              "      <td>the 14-time major champion misses the cut afte...</td>\n",
              "    </tr>\n",
              "    <tr>\n",
              "      <th>19</th>\n",
              "      <td>former striker suffered kidney failure in 2015...</td>\n",
              "    </tr>\n",
              "    <tr>\n",
              "      <th>20</th>\n",
              "      <td>Pakistan's telecoms regulator said the ban was...</td>\n",
              "    </tr>\n",
              "    <tr>\n",
              "      <th>21</th>\n",
              "      <td>the 26-year-old was injured in last week's win...</td>\n",
              "    </tr>\n",
              "    <tr>\n",
              "      <th>22</th>\n",
              "      <td>team gb win team pursuit gold in world record ...</td>\n",
              "    </tr>\n",
              "    <tr>\n",
              "      <th>23</th>\n",
              "      <td>death toll doubles over the last two days as o...</td>\n",
              "    </tr>\n",
              "    <tr>\n",
              "      <th>24</th>\n",
              "      <td>bridget and Jonathan Reid, from the Highlands,...</td>\n",
              "    </tr>\n",
              "    <tr>\n",
              "      <th>25</th>\n",
              "      <td>the fine follows the conviction of former trad...</td>\n",
              "    </tr>\n",
              "    <tr>\n",
              "      <th>26</th>\n",
              "      <td>\"it's been like a whirlwind,\" says Spider-Man ...</td>\n",
              "    </tr>\n",
              "    <tr>\n",
              "      <th>27</th>\n",
              "      <td>world number one has lost six straight sets to...</td>\n",
              "    </tr>\n",
              "    <tr>\n",
              "      <th>28</th>\n",
              "      <td>mandla hlatshwayo and his friend were shot aft...</td>\n",
              "    </tr>\n",
              "    <tr>\n",
              "      <th>29</th>\n",
              "      <td>witnesses tell police a gun was fired near anf...</td>\n",
              "    </tr>\n",
              "  </tbody>\n",
              "</table>\n",
              "</div>"
            ],
            "text/plain": [
              "                                         summary_text\n",
              "0   prison link cymru said some ex-offenders were ...\n",
              "1   officers searched properties in the waterfront...\n",
              "2   the suspects are charged with hate crimes and ...\n",
              "3   former arsenal goalkeeper played for the royal...\n",
              "4   mice put on a modified form of the \"fasting-mi...\n",
              "5   Essilor and Luxottica are two of the biggest f...\n",
              "6   houvenaghel accuses British Cycling of having ...\n",
              "7   total us annual comedy club revenue to grow by...\n",
              "8   telecoms giant BT dodged a bullet - and ofcom ...\n",
              "9   Liverpool manager steve rodgers is looking for...\n",
              "10  the cut in undergraduate places will come into...\n",
              "11  east Sussex NHS trust put mix-up down to an ex...\n",
              "12  ten shadow ministers among 47 who rejected par...\n",
              "13  the national league sold the republic of irela...\n",
              "14  Iwan Wyn Lewis, 36, was sectioned at Ysbyty Gw...\n",
              "15  the 33-year-old has featured only twice for th...\n",
              "16  many scientists are rushing to copy informatio...\n",
              "17  ska group the specials tweeted the news of the...\n",
              "18  the 14-time major champion misses the cut afte...\n",
              "19  former striker suffered kidney failure in 2015...\n",
              "20  Pakistan's telecoms regulator said the ban was...\n",
              "21  the 26-year-old was injured in last week's win...\n",
              "22  team gb win team pursuit gold in world record ...\n",
              "23  death toll doubles over the last two days as o...\n",
              "24  bridget and Jonathan Reid, from the Highlands,...\n",
              "25  the fine follows the conviction of former trad...\n",
              "26  \"it's been like a whirlwind,\" says Spider-Man ...\n",
              "27  world number one has lost six straight sets to...\n",
              "28  mandla hlatshwayo and his friend were shot aft...\n",
              "29  witnesses tell police a gun was fired near anf..."
            ]
          },
          "execution_count": 702,
          "metadata": {},
          "output_type": "execute_result"
        }
      ],
      "source": [
        "large_summa_inference"
      ]
    },
    {
      "cell_type": "markdown",
      "id": "6c04ebd8-ceab-4eb3-ac78-df25894bb16f",
      "metadata": {
        "id": "6c04ebd8-ceab-4eb3-ac78-df25894bb16f"
      },
      "source": [
        "##### Evaluación (Rouge Score)"
      ]
    },
    {
      "cell_type": "code",
      "execution_count": null,
      "id": "5f7f2ad1-5ae8-464e-9cac-7b23e840cfa6",
      "metadata": {
        "id": "5f7f2ad1-5ae8-464e-9cac-7b23e840cfa6",
        "outputId": "d440bdaa-2c28-47c4-a97e-18abd3d57b78"
      },
      "outputs": [
        {
          "data": {
            "text/plain": [
              "0.119"
            ]
          },
          "execution_count": 704,
          "metadata": {},
          "output_type": "execute_result"
        }
      ],
      "source": [
        "prediction = large_summa_inference[\"summary_text\"]\n",
        "reference = xsum_sample[\"summary\"].head(30)\n",
        "rouge_mean_on_test = get_rouge_average(prediction, reference)\n",
        "rouge_mean_on_test"
      ]
    },
    {
      "cell_type": "code",
      "execution_count": null,
      "id": "aaff6015-d160-4a7f-8866-432877db6c3a",
      "metadata": {
        "id": "aaff6015-d160-4a7f-8866-432877db6c3a"
      },
      "outputs": [],
      "source": [
        "benchmark.loc[('Model1', \"Size2\"), (\"Summarization\", \"Name\")] =  model.name_or_path\n",
        "benchmark.loc[('Model1', \"Size2\"), (\"Summarization\", \"Size (GB)\")] =  model_memory_size_gb\n",
        "benchmark.loc[('Model1', \"Size2\"), (\"Summarization\", \"Qty of Parameters\")] =  total_params\n",
        "benchmark.loc[('Model1', \"Size2\"), (\"Summarization\", \"Inference Time\")] =  time_taken\n",
        "benchmark.loc[('Model1', \"Size2\"), (\"Summarization\", \"Metric\")] =  f\"Rouge_average {rouge_mean_on_test}\""
      ]
    },
    {
      "cell_type": "markdown",
      "id": "d8197963-4139-4dd6-89a3-ecf955126459",
      "metadata": {
        "id": "d8197963-4139-4dd6-89a3-ecf955126459"
      },
      "source": [
        "### Set 1, modelo 2"
      ]
    },
    {
      "cell_type": "markdown",
      "id": "e40265e0-9577-4552-9d18-493d82d3fe6c",
      "metadata": {
        "id": "e40265e0-9577-4552-9d18-493d82d3fe6c"
      },
      "source": [
        "#### Medium Size"
      ]
    },
    {
      "cell_type": "code",
      "execution_count": null,
      "id": "cfa3e9f1-2032-45c9-89e6-7f99f90f4cfc",
      "metadata": {
        "id": "cfa3e9f1-2032-45c9-89e6-7f99f90f4cfc",
        "outputId": "f788268f-6ee3-4ffe-f47c-ee0d1e5390a9"
      },
      "outputs": [
        {
          "name": "stdout",
          "output_type": "stream",
          "text": [
            "El modelo tiene aproximadamente 139,420,416 parámetros.\n",
            "El modelo tiene aproximadamente 0.52 GB en memoria.\n"
          ]
        }
      ],
      "source": [
        "medium_summarizer_1 = pipeline(\n",
        "    task=\"summarization\",\n",
        "    model=\"ainize/bart-base-cnn\",\n",
        "    min_length=20,\n",
        "    max_length=40,\n",
        "    truncation=True,\n",
        "    model_kwargs={\"cache_dir\": cache_dir}\n",
        ")\n",
        "\n",
        "model = medium_summarizer_1.model\n",
        "total_params = sum(p.numel() for p in model.parameters())\n",
        "print(f\"El modelo tiene aproximadamente {total_params:,} parámetros.\")\n",
        "\n",
        "# Calcular el tamaño en memoria del modelo en base al dtype de los parámetros\n",
        "model_memory_size = sum(p.numel() * p.element_size() for p in model.parameters())\n",
        "model_memory_size_gb = model_memory_size / (1024 ** 3)  # Convertir a GB\n",
        "\n",
        "# Mostrar el tamaño en memoria\n",
        "print(f\"El modelo tiene aproximadamente {model_memory_size_gb:.2f} GB en memoria.\")"
      ]
    },
    {
      "cell_type": "code",
      "execution_count": null,
      "id": "fc884843-1385-4a10-a211-899650a20a04",
      "metadata": {
        "scrolled": true,
        "id": "fc884843-1385-4a10-a211-899650a20a04",
        "outputId": "c0b4646a-8a29-47f1-feaa-a61ab0be1d9f"
      },
      "outputs": [
        {
          "data": {
            "text/plain": [
              "\u001b[0;31mSignature:\u001b[0m      \u001b[0mmedium_summarizer_1\u001b[0m\u001b[0;34m(\u001b[0m\u001b[0;34m*\u001b[0m\u001b[0margs\u001b[0m\u001b[0;34m,\u001b[0m \u001b[0;34m**\u001b[0m\u001b[0mkwargs\u001b[0m\u001b[0;34m)\u001b[0m\u001b[0;34m\u001b[0m\u001b[0;34m\u001b[0m\u001b[0m\n",
              "\u001b[0;31mType:\u001b[0m           SummarizationPipeline\n",
              "\u001b[0;31mString form:\u001b[0m    <transformers.pipelines.text2text_generation.SummarizationPipeline object at 0x1ce94e5d0>\n",
              "\u001b[0;31mFile:\u001b[0m           ~/Documents/ITLA/2024 C3/NLP/segundo periodo/LLMs Aplications/env/lib/python3.12/site-packages/transformers/pipelines/text2text_generation.py\n",
              "\u001b[0;31mDocstring:\u001b[0m     \n",
              "Summarize news articles and other documents.\n",
              "\n",
              "This summarizing pipeline can currently be loaded from [`pipeline`] using the following task identifier:\n",
              "`\"summarization\"`.\n",
              "\n",
              "The models that this pipeline can use are models that have been fine-tuned on a summarization task, which is\n",
              "currently, '*bart-large-cnn*', '*google-t5/t5-small*', '*google-t5/t5-base*', '*google-t5/t5-large*', '*google-t5/t5-3b*', '*google-t5/t5-11b*'. See the up-to-date\n",
              "list of available models on [huggingface.co/models](https://huggingface.co/models?filter=summarization). For a list\n",
              "of available parameters, see the [following\n",
              "documentation](https://huggingface.co/docs/transformers/en/main_classes/text_generation#transformers.generation.GenerationMixin.generate)\n",
              "\n",
              "Usage:\n",
              "\n",
              "```python\n",
              "# use bart in pytorch\n",
              "summarizer = pipeline(\"summarization\")\n",
              "summarizer(\"An apple a day, keeps the doctor away\", min_length=5, max_length=20)\n",
              "\n",
              "# use t5 in tf\n",
              "summarizer = pipeline(\"summarization\", model=\"google-t5/t5-base\", tokenizer=\"google-t5/t5-base\", framework=\"tf\")\n",
              "summarizer(\"An apple a day, keeps the doctor away\", min_length=5, max_length=20)\n",
              "```\n",
              "Arguments:\n",
              "    model ([`PreTrainedModel`] or [`TFPreTrainedModel`]):\n",
              "        The model that will be used by the pipeline to make predictions. This needs to be a model inheriting from\n",
              "        [`PreTrainedModel`] for PyTorch and [`TFPreTrainedModel`] for TensorFlow.\n",
              "    tokenizer ([`PreTrainedTokenizer`]):\n",
              "        The tokenizer that will be used by the pipeline to encode data for the model. This object inherits from\n",
              "        [`PreTrainedTokenizer`].\n",
              "    modelcard (`str` or [`ModelCard`], *optional*):\n",
              "        Model card attributed to the model for this pipeline.\n",
              "    framework (`str`, *optional*):\n",
              "        The framework to use, either `\"pt\"` for PyTorch or `\"tf\"` for TensorFlow. The specified framework must be\n",
              "        installed.\n",
              "\n",
              "        If no framework is specified, will default to the one currently installed. If no framework is specified and\n",
              "        both frameworks are installed, will default to the framework of the `model`, or to PyTorch if no model is\n",
              "        provided.\n",
              "    task (`str`, defaults to `\"\"`):\n",
              "        A task-identifier for the pipeline.\n",
              "    num_workers (`int`, *optional*, defaults to 8):\n",
              "        When the pipeline will use *DataLoader* (when passing a dataset, on GPU for a Pytorch model), the number of\n",
              "        workers to be used.\n",
              "    batch_size (`int`, *optional*, defaults to 1):\n",
              "        When the pipeline will use *DataLoader* (when passing a dataset, on GPU for a Pytorch model), the size of\n",
              "        the batch to use, for inference this is not always beneficial, please read [Batching with\n",
              "        pipelines](https://huggingface.co/transformers/main_classes/pipelines.html#pipeline-batching) .\n",
              "    args_parser ([`~pipelines.ArgumentHandler`], *optional*):\n",
              "        Reference to the object in charge of parsing supplied pipeline parameters.\n",
              "    device (`int`, *optional*, defaults to -1):\n",
              "        Device ordinal for CPU/GPU supports. Setting this to -1 will leverage CPU, a positive will run the model on\n",
              "        the associated CUDA device id. You can pass native `torch.device` or a `str` too\n",
              "    torch_dtype (`str` or `torch.dtype`, *optional*):\n",
              "        Sent directly as `model_kwargs` (just a simpler shortcut) to use the available precision for this model\n",
              "        (`torch.float16`, `torch.bfloat16`, ... or `\"auto\"`)\n",
              "    binary_output (`bool`, *optional*, defaults to `False`):\n",
              "        Flag indicating if the output the pipeline should happen in a serialized format (i.e., pickle) or as\n",
              "        the raw output data e.g. text.\n",
              "\u001b[0;31mCall docstring:\u001b[0m\n",
              "Summarize the text(s) given as inputs.\n",
              "\n",
              "Args:\n",
              "    documents (*str* or `List[str]`):\n",
              "        One or several articles (or one list of articles) to summarize.\n",
              "    return_text (`bool`, *optional*, defaults to `True`):\n",
              "        Whether or not to include the decoded texts in the outputs\n",
              "    return_tensors (`bool`, *optional*, defaults to `False`):\n",
              "        Whether or not to include the tensors of predictions (as token indices) in the outputs.\n",
              "    clean_up_tokenization_spaces (`bool`, *optional*, defaults to `False`):\n",
              "        Whether or not to clean up the potential extra spaces in the text output.\n",
              "    generate_kwargs:\n",
              "        Additional keyword arguments to pass along to the generate method of the model (see the generate method\n",
              "        corresponding to your framework [here](./text_generation)).\n",
              "\n",
              "Return:\n",
              "    A list or a list of list of `dict`: Each result comes as a dictionary with the following keys:\n",
              "\n",
              "    - **summary_text** (`str`, present when `return_text=True`) -- The summary of the corresponding input.\n",
              "    - **summary_token_ids** (`torch.Tensor` or `tf.Tensor`, present when `return_tensors=True`) -- The token\n",
              "      ids of the summary."
            ]
          },
          "metadata": {},
          "output_type": "display_data"
        }
      ],
      "source": [
        "medium_summarizer_1?"
      ]
    },
    {
      "cell_type": "markdown",
      "id": "fa755246-79ca-49ba-ae8c-f925fdb2382b",
      "metadata": {
        "id": "fa755246-79ca-49ba-ae8c-f925fdb2382b"
      },
      "source": [
        "##### Toma de tiempo"
      ]
    },
    {
      "cell_type": "code",
      "execution_count": null,
      "id": "0184447d-e5aa-4de9-97fc-e64f19d8e039",
      "metadata": {
        "id": "0184447d-e5aa-4de9-97fc-e64f19d8e039",
        "outputId": "2b9d994d-1940-4fd5-8af8-d4ff798b59c9"
      },
      "outputs": [
        {
          "name": "stderr",
          "output_type": "stream",
          "text": [
            "Asking to truncate to max_length but no maximum length is provided and the model has no predefined maximum length. Default to no truncation.\n"
          ]
        },
        {
          "name": "stdout",
          "output_type": "stream",
          "text": [
            "Tiempo tomado para inferenciar: 59.1367 Segundos...\n"
          ]
        }
      ],
      "source": [
        "start_time = time.time()\n",
        "\n",
        "\n",
        "sample_for_summary_bart = [text[:1024] for text in sample_for_summary]\n",
        "#resumenes = [medium_summarizer_1(text, max_length=40, truncation=True) for text in sample_for_summary_bart]\n",
        "medium_summa1_inference = pd.DataFrame(medium_summarizer_1(sample_for_summary_bart)) # Inferencia\n",
        "end_time = time.time()\n",
        "time_taken = round(end_time - start_time, 4)\n",
        "\n",
        "print(f\"Tiempo tomado para inferenciar: {time_taken} Segundos...\")"
      ]
    },
    {
      "cell_type": "code",
      "execution_count": null,
      "id": "d3eb2d98-a3d2-4708-9e17-3f24a2f9cdf4",
      "metadata": {
        "scrolled": true,
        "id": "d3eb2d98-a3d2-4708-9e17-3f24a2f9cdf4",
        "outputId": "660388f3-e948-4c63-e352-bf0fe38a882b"
      },
      "outputs": [
        {
          "data": {
            "text/html": [
              "<div>\n",
              "<style scoped>\n",
              "    .dataframe tbody tr th:only-of-type {\n",
              "        vertical-align: middle;\n",
              "    }\n",
              "\n",
              "    .dataframe tbody tr th {\n",
              "        vertical-align: top;\n",
              "    }\n",
              "\n",
              "    .dataframe thead th {\n",
              "        text-align: right;\n",
              "    }\n",
              "</style>\n",
              "<table border=\"1\" class=\"dataframe\">\n",
              "  <thead>\n",
              "    <tr style=\"text-align: right;\">\n",
              "      <th></th>\n",
              "      <th>summary_text</th>\n",
              "    </tr>\n",
              "  </thead>\n",
              "  <tbody>\n",
              "    <tr>\n",
              "      <th>0</th>\n",
              "      <td>Welsh Government said more people than ever we...</td>\n",
              "    </tr>\n",
              "    <tr>\n",
              "      <th>1</th>\n",
              "      <td>Officers searched properties in the Waterfront...</td>\n",
              "    </tr>\n",
              "    <tr>\n",
              "      <th>2</th>\n",
              "      <td>Jordan Hill, Brittany Covington and Tesfaye Co...</td>\n",
              "    </tr>\n",
              "    <tr>\n",
              "      <th>3</th>\n",
              "      <td>The 48-year-old former Arsenal goalkeeper play...</td>\n",
              "    </tr>\n",
              "    <tr>\n",
              "      <th>4</th>\n",
              "      <td>The study, published in the journal Cell, says...</td>\n",
              "    </tr>\n",
              "    <tr>\n",
              "      <th>5</th>\n",
              "      <td>France's Essilor is the world's number one man...</td>\n",
              "    </tr>\n",
              "    <tr>\n",
              "      <th>6</th>\n",
              "      <td>Olympic silver medallist accuses British Cycli...</td>\n",
              "    </tr>\n",
              "    <tr>\n",
              "      <th>7</th>\n",
              "      <td>Kareem Badr and two friends paid $20,000 (Â£13...</td>\n",
              "    </tr>\n",
              "    <tr>\n",
              "      <th>8</th>\n",
              "      <td>Ofcom chief executive Sharon White admitted it...</td>\n",
              "    </tr>\n",
              "    <tr>\n",
              "      <th>9</th>\n",
              "      <td>This will be Rodgers' second taste of the Old ...</td>\n",
              "    </tr>\n",
              "    <tr>\n",
              "      <th>10</th>\n",
              "      <td>Queen's has a current intake of around 4,500 u...</td>\n",
              "    </tr>\n",
              "    <tr>\n",
              "      <th>11</th>\n",
              "      <td>East Sussex NHS Trust put the mix-up down to a...</td>\n",
              "    </tr>\n",
              "    <tr>\n",
              "      <th>12</th>\n",
              "      <td>Ten shadow ministers were among 47 Labour MPs ...</td>\n",
              "    </tr>\n",
              "    <tr>\n",
              "      <th>13</th>\n",
              "      <td>The National League sold the Republic of Irela...</td>\n",
              "    </tr>\n",
              "    <tr>\n",
              "      <th>14</th>\n",
              "      <td>Iwan Wyn Lewis was sectioned at Ysbyty Gwynedd...</td>\n",
              "    </tr>\n",
              "    <tr>\n",
              "      <th>15</th>\n",
              "      <td>Taylor-Fletcher signed a new one-year deal wit...</td>\n",
              "    </tr>\n",
              "    <tr>\n",
              "      <th>16</th>\n",
              "      <td>Dr Waleed Abdalati told the BBC that continued...</td>\n",
              "    </tr>\n",
              "    <tr>\n",
              "      <th>17</th>\n",
              "      <td>Bradbury joined The Specials in 1979, and cont...</td>\n",
              "    </tr>\n",
              "    <tr>\n",
              "      <th>18</th>\n",
              "      <td>Overnight leader Rose carded a one-under 71 to...</td>\n",
              "    </tr>\n",
              "    <tr>\n",
              "      <th>19</th>\n",
              "      <td>Cole suffered kidney failure in 2015 after con...</td>\n",
              "    </tr>\n",
              "    <tr>\n",
              "      <th>20</th>\n",
              "      <td>Pakistan's telecoms regulator said the ban was...</td>\n",
              "    </tr>\n",
              "    <tr>\n",
              "      <th>21</th>\n",
              "      <td>Richard Cockerill told BBC Radio Leicester: \"W...</td>\n",
              "    </tr>\n",
              "    <tr>\n",
              "      <th>22</th>\n",
              "      <td>Doull helped Great Britain win team pursuit go...</td>\n",
              "    </tr>\n",
              "    <tr>\n",
              "      <th>23</th>\n",
              "      <td>Officials estimate that the floods have affect...</td>\n",
              "    </tr>\n",
              "    <tr>\n",
              "      <th>24</th>\n",
              "      <td>Bridget and Jonathan Reid, from Moy, near Toma...</td>\n",
              "    </tr>\n",
              "    <tr>\n",
              "      <th>25</th>\n",
              "      <td>The fine follows the conviction of former RBS ...</td>\n",
              "    </tr>\n",
              "    <tr>\n",
              "      <th>26</th>\n",
              "      <td>In La La Land, Emma Stone plays aspiring actre...</td>\n",
              "    </tr>\n",
              "    <tr>\n",
              "      <th>27</th>\n",
              "      <td>Of his first 30 matches in 2017, the world num...</td>\n",
              "    </tr>\n",
              "    <tr>\n",
              "      <th>28</th>\n",
              "      <td>Mandla Hlatshwayo and his friend were shot aft...</td>\n",
              "    </tr>\n",
              "    <tr>\n",
              "      <th>29</th>\n",
              "      <td>Witnesses told police they heard a gun being f...</td>\n",
              "    </tr>\n",
              "  </tbody>\n",
              "</table>\n",
              "</div>"
            ],
            "text/plain": [
              "                                         summary_text\n",
              "0   Welsh Government said more people than ever we...\n",
              "1   Officers searched properties in the Waterfront...\n",
              "2   Jordan Hill, Brittany Covington and Tesfaye Co...\n",
              "3   The 48-year-old former Arsenal goalkeeper play...\n",
              "4   The study, published in the journal Cell, says...\n",
              "5   France's Essilor is the world's number one man...\n",
              "6   Olympic silver medallist accuses British Cycli...\n",
              "7   Kareem Badr and two friends paid $20,000 (Â£13...\n",
              "8   Ofcom chief executive Sharon White admitted it...\n",
              "9   This will be Rodgers' second taste of the Old ...\n",
              "10  Queen's has a current intake of around 4,500 u...\n",
              "11  East Sussex NHS Trust put the mix-up down to a...\n",
              "12  Ten shadow ministers were among 47 Labour MPs ...\n",
              "13  The National League sold the Republic of Irela...\n",
              "14  Iwan Wyn Lewis was sectioned at Ysbyty Gwynedd...\n",
              "15  Taylor-Fletcher signed a new one-year deal wit...\n",
              "16  Dr Waleed Abdalati told the BBC that continued...\n",
              "17  Bradbury joined The Specials in 1979, and cont...\n",
              "18  Overnight leader Rose carded a one-under 71 to...\n",
              "19  Cole suffered kidney failure in 2015 after con...\n",
              "20  Pakistan's telecoms regulator said the ban was...\n",
              "21  Richard Cockerill told BBC Radio Leicester: \"W...\n",
              "22  Doull helped Great Britain win team pursuit go...\n",
              "23  Officials estimate that the floods have affect...\n",
              "24  Bridget and Jonathan Reid, from Moy, near Toma...\n",
              "25  The fine follows the conviction of former RBS ...\n",
              "26  In La La Land, Emma Stone plays aspiring actre...\n",
              "27  Of his first 30 matches in 2017, the world num...\n",
              "28  Mandla Hlatshwayo and his friend were shot aft...\n",
              "29  Witnesses told police they heard a gun being f..."
            ]
          },
          "execution_count": 712,
          "metadata": {},
          "output_type": "execute_result"
        }
      ],
      "source": [
        "medium_summa1_inference"
      ]
    },
    {
      "cell_type": "markdown",
      "id": "051f966d-0d33-47b0-a0ce-8eff29d6d03a",
      "metadata": {
        "id": "051f966d-0d33-47b0-a0ce-8eff29d6d03a"
      },
      "source": [
        "###### Evaluación (Rouge Score)"
      ]
    },
    {
      "cell_type": "code",
      "execution_count": null,
      "id": "48c93b6e-6507-4bf7-b99a-d65cde3659be",
      "metadata": {
        "id": "48c93b6e-6507-4bf7-b99a-d65cde3659be",
        "outputId": "3a94e5ee-7f41-4921-a498-a0cb2e221bef"
      },
      "outputs": [
        {
          "data": {
            "text/plain": [
              "0.1469"
            ]
          },
          "execution_count": 714,
          "metadata": {},
          "output_type": "execute_result"
        }
      ],
      "source": [
        "prediction = medium_summa1_inference[\"summary_text\"]\n",
        "reference = xsum_sample[\"summary\"].head(30)\n",
        "rouge_mean_on_test = get_rouge_average(prediction, reference)\n",
        "rouge_mean_on_test"
      ]
    },
    {
      "cell_type": "code",
      "execution_count": null,
      "id": "acd89cbd-b838-401f-b480-cbeb80931c10",
      "metadata": {
        "id": "acd89cbd-b838-401f-b480-cbeb80931c10"
      },
      "outputs": [],
      "source": [
        "benchmark.loc[('Model2', \"Size1\"), (\"Summarization\", \"Name\")] =  model.name_or_path\n",
        "benchmark.loc[('Model2', \"Size1\"), (\"Summarization\", \"Size (GB)\")] =  model_memory_size_gb\n",
        "benchmark.loc[('Model2', \"Size1\"), (\"Summarization\", \"Qty of Parameters\")] =  total_params\n",
        "benchmark.loc[('Model2', \"Size1\"), (\"Summarization\", \"Inference Time\")] =  time_taken\n",
        "benchmark.loc[('Model2', \"Size1\"), (\"Summarization\", \"Metric\")] =  f\"Rouge_average: {rouge_mean_on_test}\""
      ]
    },
    {
      "cell_type": "markdown",
      "id": "cd3dfcda-e69f-4513-ae06-73cd800ee667",
      "metadata": {
        "id": "cd3dfcda-e69f-4513-ae06-73cd800ee667"
      },
      "source": [
        "#### Large Size"
      ]
    },
    {
      "cell_type": "code",
      "execution_count": null,
      "id": "5ec86ab2-1809-481f-b7f9-0940df9aee1b",
      "metadata": {
        "id": "5ec86ab2-1809-481f-b7f9-0940df9aee1b",
        "outputId": "f33dd0c3-2fef-48b5-cd17-992094646171"
      },
      "outputs": [
        {
          "name": "stdout",
          "output_type": "stream",
          "text": [
            "El modelo tiene aproximadamente 406,290,432 parámetros.\n",
            "El modelo tiene aproximadamente 1.51 GB en memoria.\n"
          ]
        }
      ],
      "source": [
        "large_summarizer_1 = pipeline(\n",
        "    task=\"summarization\",\n",
        "    model=\"facebook/bart-large-cnn\",\n",
        "    min_length=20,\n",
        "    max_length=40,\n",
        "    truncation=False,\n",
        "    model_kwargs={\"cache_dir\": cache_dir}\n",
        ")\n",
        "\n",
        "model = large_summarizer_1.model\n",
        "total_params = sum(p.numel() for p in model.parameters())\n",
        "print(f\"El modelo tiene aproximadamente {total_params:,} parámetros.\")\n",
        "\n",
        "# Calcular el tamaño en memoria del modelo en base al dtype de los parámetros\n",
        "model_memory_size = sum(p.numel() * p.element_size() for p in model.parameters())\n",
        "model_memory_size_gb = model_memory_size / (1024 ** 3)  # Convertir a GB\n",
        "\n",
        "# Mostrar el tamaño en memoria\n",
        "print(f\"El modelo tiene aproximadamente {model_memory_size_gb:.2f} GB en memoria.\")"
      ]
    },
    {
      "cell_type": "code",
      "execution_count": null,
      "id": "8f7352c5-7843-49b1-9e15-ef3dabe8183c",
      "metadata": {
        "id": "8f7352c5-7843-49b1-9e15-ef3dabe8183c"
      },
      "outputs": [],
      "source": []
    },
    {
      "cell_type": "code",
      "execution_count": null,
      "id": "1ea2e5af-ec70-4226-82f2-9d912c166e41",
      "metadata": {
        "id": "1ea2e5af-ec70-4226-82f2-9d912c166e41",
        "outputId": "6a069eb8-94ef-4ff3-c899-41063d8284fc"
      },
      "outputs": [
        {
          "name": "stdout",
          "output_type": "stream",
          "text": [
            "Tiempo tomado para inferenciar: 129.8954 Segundos...\n"
          ]
        }
      ],
      "source": [
        "start_time = time.time()\n",
        "\n",
        "large_summa1_inference = pd.DataFrame(large_summarizer_1(sample_for_summary_bart, max_length=40))# Inferencia\n",
        "\n",
        "end_time = time.time()\n",
        "time_taken = round(end_time - start_time, 4)\n",
        "\n",
        "print(f\"Tiempo tomado para inferenciar: {time_taken} Segundos...\")\n",
        "\n",
        "\n"
      ]
    },
    {
      "cell_type": "code",
      "execution_count": null,
      "id": "b9777a24-934d-49ff-8fe1-d50d220d3386",
      "metadata": {
        "id": "b9777a24-934d-49ff-8fe1-d50d220d3386",
        "outputId": "eb021ef3-df95-46b0-f9c1-d8f9ae36385c"
      },
      "outputs": [
        {
          "data": {
            "text/html": [
              "<div>\n",
              "<style scoped>\n",
              "    .dataframe tbody tr th:only-of-type {\n",
              "        vertical-align: middle;\n",
              "    }\n",
              "\n",
              "    .dataframe tbody tr th {\n",
              "        vertical-align: top;\n",
              "    }\n",
              "\n",
              "    .dataframe thead th {\n",
              "        text-align: right;\n",
              "    }\n",
              "</style>\n",
              "<table border=\"1\" class=\"dataframe\">\n",
              "  <thead>\n",
              "    <tr style=\"text-align: right;\">\n",
              "      <th></th>\n",
              "      <th>summary_text</th>\n",
              "    </tr>\n",
              "  </thead>\n",
              "  <tbody>\n",
              "    <tr>\n",
              "      <th>0</th>\n",
              "      <td>Prison Link Cymru had 1,099 referrals in 2015-...</td>\n",
              "    </tr>\n",
              "    <tr>\n",
              "      <th>1</th>\n",
              "      <td>Officers searched properties in the Waterfront...</td>\n",
              "    </tr>\n",
              "    <tr>\n",
              "      <th>2</th>\n",
              "      <td>Jordan Hill, Brittany Covington and Tesfaye Co...</td>\n",
              "    </tr>\n",
              "    <tr>\n",
              "      <th>3</th>\n",
              "      <td>The 48-year-old former Arsenal goalkeeper play...</td>\n",
              "    </tr>\n",
              "    <tr>\n",
              "      <th>4</th>\n",
              "      <td>The study, published in the journal Cell, says...</td>\n",
              "    </tr>\n",
              "    <tr>\n",
              "      <th>5</th>\n",
              "      <td>France's Essilor is the world's number one man...</td>\n",
              "    </tr>\n",
              "    <tr>\n",
              "      <th>6</th>\n",
              "      <td>Houvenaghel is the latest high-profile cyclist...</td>\n",
              "    </tr>\n",
              "    <tr>\n",
              "      <th>7</th>\n",
              "      <td>Kareem Badr and two friends bought the Hideout...</td>\n",
              "    </tr>\n",
              "    <tr>\n",
              "      <th>8</th>\n",
              "      <td>Ofcom chief Sharon White said there were 'prac...</td>\n",
              "    </tr>\n",
              "    <tr>\n",
              "      <th>9</th>\n",
              "      <td>Celtic take on Rangers in the Old Firm derby a...</td>\n",
              "    </tr>\n",
              "    <tr>\n",
              "      <th>10</th>\n",
              "      <td>There are currently around 17,000 full-time un...</td>\n",
              "    </tr>\n",
              "    <tr>\n",
              "      <th>11</th>\n",
              "      <td>The wrong patient information leaflets were ad...</td>\n",
              "    </tr>\n",
              "    <tr>\n",
              "      <th>12</th>\n",
              "      <td>Shadow chancellor John McDonnell said frontben...</td>\n",
              "    </tr>\n",
              "    <tr>\n",
              "      <th>13</th>\n",
              "      <td>O'Kane moved for an undisclosed fee, but Nicho...</td>\n",
              "    </tr>\n",
              "    <tr>\n",
              "      <th>14</th>\n",
              "      <td>Iwan Wyn Lewis was sectioned at Ysbyty Gwynedd...</td>\n",
              "    </tr>\n",
              "    <tr>\n",
              "      <th>15</th>\n",
              "      <td>Former Blackpool forward Taylor-Fletcher score...</td>\n",
              "    </tr>\n",
              "    <tr>\n",
              "      <th>16</th>\n",
              "      <td>Many US scientists are rushing to copy informa...</td>\n",
              "    </tr>\n",
              "    <tr>\n",
              "      <th>17</th>\n",
              "      <td>Bradbury joined The Specials in 1979, and cont...</td>\n",
              "    </tr>\n",
              "    <tr>\n",
              "      <th>18</th>\n",
              "      <td>World number one Jason Day and US Open champio...</td>\n",
              "    </tr>\n",
              "    <tr>\n",
              "      <th>19</th>\n",
              "      <td>Cole suffered kidney failure in 2015 after con...</td>\n",
              "    </tr>\n",
              "    <tr>\n",
              "      <th>20</th>\n",
              "      <td>Pakistan's telecoms regulator said the ban was...</td>\n",
              "    </tr>\n",
              "    <tr>\n",
              "      <th>21</th>\n",
              "      <td>Benjamin was injured in last week's win over E...</td>\n",
              "    </tr>\n",
              "    <tr>\n",
              "      <th>22</th>\n",
              "      <td>Doull helped Great Britain win team pursuit go...</td>\n",
              "    </tr>\n",
              "    <tr>\n",
              "      <th>23</th>\n",
              "      <td>Officials estimate that the floods have affect...</td>\n",
              "    </tr>\n",
              "    <tr>\n",
              "      <th>24</th>\n",
              "      <td>Bridget and Jonathan Reid, from Moy, tied the ...</td>\n",
              "    </tr>\n",
              "    <tr>\n",
              "      <th>25</th>\n",
              "      <td>Hong Kong regulators said RBS's controls were ...</td>\n",
              "    </tr>\n",
              "    <tr>\n",
              "      <th>26</th>\n",
              "      <td>\"It's been like a whirlwind,\" said Spider-Man ...</td>\n",
              "    </tr>\n",
              "    <tr>\n",
              "      <th>27</th>\n",
              "      <td>World number one has won 21 and lost nine of h...</td>\n",
              "    </tr>\n",
              "    <tr>\n",
              "      <th>28</th>\n",
              "      <td>Mandla Hlatshwayo and his friend were shot aft...</td>\n",
              "    </tr>\n",
              "    <tr>\n",
              "      <th>29</th>\n",
              "      <td>Witnesses heard a gun being fired near Anfield...</td>\n",
              "    </tr>\n",
              "  </tbody>\n",
              "</table>\n",
              "</div>"
            ],
            "text/plain": [
              "                                         summary_text\n",
              "0   Prison Link Cymru had 1,099 referrals in 2015-...\n",
              "1   Officers searched properties in the Waterfront...\n",
              "2   Jordan Hill, Brittany Covington and Tesfaye Co...\n",
              "3   The 48-year-old former Arsenal goalkeeper play...\n",
              "4   The study, published in the journal Cell, says...\n",
              "5   France's Essilor is the world's number one man...\n",
              "6   Houvenaghel is the latest high-profile cyclist...\n",
              "7   Kareem Badr and two friends bought the Hideout...\n",
              "8   Ofcom chief Sharon White said there were 'prac...\n",
              "9   Celtic take on Rangers in the Old Firm derby a...\n",
              "10  There are currently around 17,000 full-time un...\n",
              "11  The wrong patient information leaflets were ad...\n",
              "12  Shadow chancellor John McDonnell said frontben...\n",
              "13  O'Kane moved for an undisclosed fee, but Nicho...\n",
              "14  Iwan Wyn Lewis was sectioned at Ysbyty Gwynedd...\n",
              "15  Former Blackpool forward Taylor-Fletcher score...\n",
              "16  Many US scientists are rushing to copy informa...\n",
              "17  Bradbury joined The Specials in 1979, and cont...\n",
              "18  World number one Jason Day and US Open champio...\n",
              "19  Cole suffered kidney failure in 2015 after con...\n",
              "20  Pakistan's telecoms regulator said the ban was...\n",
              "21  Benjamin was injured in last week's win over E...\n",
              "22  Doull helped Great Britain win team pursuit go...\n",
              "23  Officials estimate that the floods have affect...\n",
              "24  Bridget and Jonathan Reid, from Moy, tied the ...\n",
              "25  Hong Kong regulators said RBS's controls were ...\n",
              "26  \"It's been like a whirlwind,\" said Spider-Man ...\n",
              "27  World number one has won 21 and lost nine of h...\n",
              "28  Mandla Hlatshwayo and his friend were shot aft...\n",
              "29  Witnesses heard a gun being fired near Anfield..."
            ]
          },
          "execution_count": 720,
          "metadata": {},
          "output_type": "execute_result"
        }
      ],
      "source": [
        "large_summa1_inference"
      ]
    },
    {
      "cell_type": "code",
      "execution_count": null,
      "id": "7b977f67-4df4-4b57-bc84-2944f8c7c311",
      "metadata": {
        "id": "7b977f67-4df4-4b57-bc84-2944f8c7c311",
        "outputId": "e3ec718d-0d2c-4849-a4a4-d5f9f0ffa303"
      },
      "outputs": [
        {
          "data": {
            "text/plain": [
              "0.1403"
            ]
          },
          "execution_count": 721,
          "metadata": {},
          "output_type": "execute_result"
        }
      ],
      "source": [
        "prediction = large_summa1_inference[\"summary_text\"]\n",
        "reference = xsum_sample[\"summary\"].head(30)\n",
        "rouge_mean_on_test = get_rouge_average(prediction, reference)\n",
        "rouge_mean_on_test"
      ]
    },
    {
      "cell_type": "code",
      "execution_count": null,
      "id": "a44e8d50-72bf-4ede-9ace-f10fe4b6ec0a",
      "metadata": {
        "id": "a44e8d50-72bf-4ede-9ace-f10fe4b6ec0a"
      },
      "outputs": [],
      "source": [
        "benchmark.loc[('Model2', \"Size2\"), (\"Summarization\", \"Name\")] =  model.name_or_path\n",
        "benchmark.loc[('Model2', \"Size2\"), (\"Summarization\", \"Size (GB)\")] =  model_memory_size_gb\n",
        "benchmark.loc[('Model2', \"Size2\"), (\"Summarization\", \"Qty of Parameters\")] =  total_params\n",
        "benchmark.loc[('Model2', \"Size2\"), (\"Summarization\", \"Inference Time\")] =  time_taken\n",
        "benchmark.loc[('Model2', \"Size2\"), (\"Summarization\", \"Metric\")] =  f\"Rouge_average: {rouge_mean_on_test}\""
      ]
    },
    {
      "cell_type": "code",
      "execution_count": null,
      "id": "583766bd-c3b5-4c13-90c8-63e54744d9a7",
      "metadata": {
        "id": "583766bd-c3b5-4c13-90c8-63e54744d9a7",
        "outputId": "81f20c86-61ee-43b0-fba9-8fdf0199cc2b"
      },
      "outputs": [
        {
          "data": {
            "text/html": [
              "<div>\n",
              "<style scoped>\n",
              "    .dataframe tbody tr th:only-of-type {\n",
              "        vertical-align: middle;\n",
              "    }\n",
              "\n",
              "    .dataframe tbody tr th {\n",
              "        vertical-align: top;\n",
              "    }\n",
              "\n",
              "    .dataframe thead th {\n",
              "        text-align: right;\n",
              "    }\n",
              "</style>\n",
              "<table border=\"1\" class=\"dataframe\">\n",
              "  <thead>\n",
              "    <tr style=\"text-align: right;\">\n",
              "      <th></th>\n",
              "      <th>Info</th>\n",
              "      <th>Name</th>\n",
              "      <th>Inference Time</th>\n",
              "      <th>Size (GB)</th>\n",
              "      <th>Qty of Parameters</th>\n",
              "      <th>Metric</th>\n",
              "    </tr>\n",
              "    <tr>\n",
              "      <th>Model</th>\n",
              "      <th>Size</th>\n",
              "      <th></th>\n",
              "      <th></th>\n",
              "      <th></th>\n",
              "      <th></th>\n",
              "      <th></th>\n",
              "    </tr>\n",
              "  </thead>\n",
              "  <tbody>\n",
              "    <tr>\n",
              "      <th rowspan=\"2\" valign=\"top\">Model1</th>\n",
              "      <th>Size1</th>\n",
              "      <td>t5-small</td>\n",
              "      <td>45.933</td>\n",
              "      <td>0.225405</td>\n",
              "      <td>60506624</td>\n",
              "      <td>Rouge_average 0.1209</td>\n",
              "    </tr>\n",
              "    <tr>\n",
              "      <th>Size2</th>\n",
              "      <td>t5-large</td>\n",
              "      <td>641.1396</td>\n",
              "      <td>2.748028</td>\n",
              "      <td>737668096</td>\n",
              "      <td>Rouge_average 0.119</td>\n",
              "    </tr>\n",
              "    <tr>\n",
              "      <th rowspan=\"2\" valign=\"top\">Model2</th>\n",
              "      <th>Size1</th>\n",
              "      <td>ainize/bart-base-cnn</td>\n",
              "      <td>59.1367</td>\n",
              "      <td>0.519382</td>\n",
              "      <td>139420416</td>\n",
              "      <td>Rouge_average: 0.1469</td>\n",
              "    </tr>\n",
              "    <tr>\n",
              "      <th>Size2</th>\n",
              "      <td>facebook/bart-large-cnn</td>\n",
              "      <td>129.8954</td>\n",
              "      <td>1.51355</td>\n",
              "      <td>406290432</td>\n",
              "      <td>Rouge_average: 0.1403</td>\n",
              "    </tr>\n",
              "  </tbody>\n",
              "</table>\n",
              "</div>"
            ],
            "text/plain": [
              "Info                             Name Inference Time Size (GB)  \\\n",
              "Model  Size                                                      \n",
              "Model1 Size1                 t5-small         45.933  0.225405   \n",
              "       Size2                 t5-large       641.1396  2.748028   \n",
              "Model2 Size1     ainize/bart-base-cnn        59.1367  0.519382   \n",
              "       Size2  facebook/bart-large-cnn       129.8954   1.51355   \n",
              "\n",
              "Info         Qty of Parameters                 Metric  \n",
              "Model  Size                                            \n",
              "Model1 Size1          60506624   Rouge_average 0.1209  \n",
              "       Size2         737668096    Rouge_average 0.119  \n",
              "Model2 Size1         139420416  Rouge_average: 0.1469  \n",
              "       Size2         406290432  Rouge_average: 0.1403  "
            ]
          },
          "execution_count": 723,
          "metadata": {},
          "output_type": "execute_result"
        }
      ],
      "source": [
        "benchmark[\"Summarization\"]"
      ]
    },
    {
      "cell_type": "markdown",
      "id": "b42a8c2d-4cd3-4533-a44f-04d535890457",
      "metadata": {
        "id": "b42a8c2d-4cd3-4533-a44f-04d535890457"
      },
      "source": [
        "## Clasificación de texto [para análisis de sentimiento]"
      ]
    },
    {
      "cell_type": "code",
      "execution_count": null,
      "id": "cd9bf87f-3b86-438c-a04f-6b74cbb9d395",
      "metadata": {
        "id": "cd9bf87f-3b86-438c-a04f-6b74cbb9d395",
        "outputId": "75120c79-7b3e-4d5d-edd0-099a871d1f85"
      },
      "outputs": [
        {
          "data": {
            "text/plain": [
              "DatasetDict({\n",
              "    train: Dataset({\n",
              "        features: ['id', 'verse_text', 'label'],\n",
              "        num_rows: 892\n",
              "    })\n",
              "    validation: Dataset({\n",
              "        features: ['id', 'verse_text', 'label'],\n",
              "        num_rows: 105\n",
              "    })\n",
              "    test: Dataset({\n",
              "        features: ['id', 'verse_text', 'label'],\n",
              "        num_rows: 104\n",
              "    })\n",
              "})"
            ]
          },
          "execution_count": 725,
          "metadata": {},
          "output_type": "execute_result"
        }
      ],
      "source": [
        "poem_dataset = load_dataset(\n",
        "    \"poem_sentiment\", cache_dir=cache_dir\n",
        ")\n",
        "poem_dataset"
      ]
    },
    {
      "cell_type": "markdown",
      "id": "d7a7b715-cfcf-4bbb-8c32-3277909b054b",
      "metadata": {
        "id": "d7a7b715-cfcf-4bbb-8c32-3277909b054b"
      },
      "source": [
        "###### Lo que significa cada etiqueta\n",
        "0 = negative\n",
        "\n",
        "1 = positive\n",
        "\n",
        "2 = no impact\n",
        "\n",
        "3 = mixed (both negative and positive)"
      ]
    },
    {
      "cell_type": "markdown",
      "id": "b604dfd5-84a5-4af8-8ffa-84405fbbb2ef",
      "metadata": {
        "id": "b604dfd5-84a5-4af8-8ffa-84405fbbb2ef"
      },
      "source": [
        "### Set 2, modelo 1"
      ]
    },
    {
      "cell_type": "markdown",
      "id": "249bbccc-9a98-4a43-ab27-6041058ec3d9",
      "metadata": {
        "id": "249bbccc-9a98-4a43-ab27-6041058ec3d9"
      },
      "source": [
        "#### Medium Size (109 Millones de Parametros)"
      ]
    },
    {
      "cell_type": "code",
      "execution_count": null,
      "id": "2da3d4e6-663a-4a36-8da2-db453de49024",
      "metadata": {
        "id": "2da3d4e6-663a-4a36-8da2-db453de49024",
        "outputId": "6a5786e6-54c0-43b4-92cb-fc9993ada197"
      },
      "outputs": [
        {
          "data": {
            "text/html": [
              "<div>\n",
              "<style scoped>\n",
              "    .dataframe tbody tr th:only-of-type {\n",
              "        vertical-align: middle;\n",
              "    }\n",
              "\n",
              "    .dataframe tbody tr th {\n",
              "        vertical-align: top;\n",
              "    }\n",
              "\n",
              "    .dataframe thead th {\n",
              "        text-align: right;\n",
              "    }\n",
              "</style>\n",
              "<table border=\"1\" class=\"dataframe\">\n",
              "  <thead>\n",
              "    <tr style=\"text-align: right;\">\n",
              "      <th></th>\n",
              "      <th>id</th>\n",
              "      <th>verse_text</th>\n",
              "      <th>label</th>\n",
              "    </tr>\n",
              "  </thead>\n",
              "  <tbody>\n",
              "    <tr>\n",
              "      <th>0</th>\n",
              "      <td>0</td>\n",
              "      <td>my canoe to make more steady,</td>\n",
              "      <td>no_impact</td>\n",
              "    </tr>\n",
              "    <tr>\n",
              "      <th>1</th>\n",
              "      <td>1</td>\n",
              "      <td>and be glad in the summer morning when the kin...</td>\n",
              "      <td>positive</td>\n",
              "    </tr>\n",
              "    <tr>\n",
              "      <th>2</th>\n",
              "      <td>2</td>\n",
              "      <td>and when they reached the strait symplegades</td>\n",
              "      <td>no_impact</td>\n",
              "    </tr>\n",
              "    <tr>\n",
              "      <th>3</th>\n",
              "      <td>3</td>\n",
              "      <td>she sought for flowers</td>\n",
              "      <td>no_impact</td>\n",
              "    </tr>\n",
              "    <tr>\n",
              "      <th>4</th>\n",
              "      <td>4</td>\n",
              "      <td>if they are hungry, paradise</td>\n",
              "      <td>no_impact</td>\n",
              "    </tr>\n",
              "    <tr>\n",
              "      <th>...</th>\n",
              "      <td>...</td>\n",
              "      <td>...</td>\n",
              "      <td>...</td>\n",
              "    </tr>\n",
              "    <tr>\n",
              "      <th>99</th>\n",
              "      <td>99</td>\n",
              "      <td>shall live my highland mary.</td>\n",
              "      <td>no_impact</td>\n",
              "    </tr>\n",
              "    <tr>\n",
              "      <th>100</th>\n",
              "      <td>100</td>\n",
              "      <td>now is past since last we met</td>\n",
              "      <td>no_impact</td>\n",
              "    </tr>\n",
              "    <tr>\n",
              "      <th>101</th>\n",
              "      <td>101</td>\n",
              "      <td>begins to live</td>\n",
              "      <td>no_impact</td>\n",
              "    </tr>\n",
              "    <tr>\n",
              "      <th>102</th>\n",
              "      <td>102</td>\n",
              "      <td>beneath the hazel bough;</td>\n",
              "      <td>no_impact</td>\n",
              "    </tr>\n",
              "    <tr>\n",
              "      <th>103</th>\n",
              "      <td>103</td>\n",
              "      <td>daring to ask for naught, and having naught re...</td>\n",
              "      <td>no_impact</td>\n",
              "    </tr>\n",
              "  </tbody>\n",
              "</table>\n",
              "<p>104 rows × 3 columns</p>\n",
              "</div>"
            ],
            "text/plain": [
              "      id                                         verse_text      label\n",
              "0      0                      my canoe to make more steady,  no_impact\n",
              "1      1  and be glad in the summer morning when the kin...   positive\n",
              "2      2       and when they reached the strait symplegades  no_impact\n",
              "3      3                             she sought for flowers  no_impact\n",
              "4      4                       if they are hungry, paradise  no_impact\n",
              "..   ...                                                ...        ...\n",
              "99    99                       shall live my highland mary.  no_impact\n",
              "100  100                      now is past since last we met  no_impact\n",
              "101  101                                     begins to live  no_impact\n",
              "102  102                           beneath the hazel bough;  no_impact\n",
              "103  103  daring to ask for naught, and having naught re...  no_impact\n",
              "\n",
              "[104 rows x 3 columns]"
            ]
          },
          "execution_count": 729,
          "metadata": {},
          "output_type": "execute_result"
        }
      ],
      "source": [
        "sentiment_labels = {0: \"negative\", 1: \"positive\", 2: \"no_impact\",3: \"mixed\"} # etiquetas\n",
        "\n",
        "poem_sample = poem_dataset[\"test\"]\n",
        "poem_sample = poem_sample.to_pandas().replace({\"label\": sentiment_labels})\n",
        "poem_sample = poem_sample.reset_index(drop=True)\n",
        "poem_sample"
      ]
    },
    {
      "cell_type": "code",
      "execution_count": null,
      "id": "dd23f5e3-a83b-47d8-8c9f-ff2d7a0afaca",
      "metadata": {
        "id": "dd23f5e3-a83b-47d8-8c9f-ff2d7a0afaca",
        "outputId": "cf81ee84-9312-42fb-c0a7-45205a0bab28"
      },
      "outputs": [
        {
          "name": "stdout",
          "output_type": "stream",
          "text": [
            "El modelo tiene aproximadamente 109,485,316 parámetros.\n",
            "El modelo tiene aproximadamente 0.41 GB en memoria.\n"
          ]
        }
      ],
      "source": [
        "medium_sentiment_classifier = pipeline(\n",
        "    task=\"text-classification\",\n",
        "    model=\"nickwong64/bert-base-uncased-poems-sentiment\",\n",
        "    model_kwargs={\"cache_dir\": cache_dir},\n",
        ")\n",
        "\n",
        "model = medium_sentiment_classifier.model\n",
        "total_params = sum(p.numel() for p in model.parameters())\n",
        "print(f\"El modelo tiene aproximadamente {total_params:,} parámetros.\")\n",
        "\n",
        "# Calcular el tamaño en memoria del modelo en base al dtype de los parámetros\n",
        "model_memory_size = sum(p.numel() * p.element_size() for p in model.parameters())\n",
        "model_memory_size_gb = model_memory_size / (1024 ** 3)  # Convertir a GB\n",
        "\n",
        "# Mostrar el tamaño en memoria\n",
        "print(f\"El modelo tiene aproximadamente {model_memory_size_gb:.2f} GB en memoria.\")"
      ]
    },
    {
      "cell_type": "code",
      "execution_count": null,
      "id": "906b7e35-3357-41cc-a331-4a466c87453f",
      "metadata": {
        "id": "906b7e35-3357-41cc-a331-4a466c87453f",
        "outputId": "9a2ab738-1f79-4cf5-9611-e677294d65ff"
      },
      "outputs": [
        {
          "data": {
            "text/plain": [
              "0                          my canoe to make more steady,\n",
              "1      and be glad in the summer morning when the kin...\n",
              "2           and when they reached the strait symplegades\n",
              "3                                 she sought for flowers\n",
              "4                           if they are hungry, paradise\n",
              "                             ...                        \n",
              "99                          shall live my highland mary.\n",
              "100                        now is past since last we met\n",
              "101                                       begins to live\n",
              "102                             beneath the hazel bough;\n",
              "103    daring to ask for naught, and having naught re...\n",
              "Name: verse_text, Length: 104, dtype: object"
            ]
          },
          "execution_count": 731,
          "metadata": {},
          "output_type": "execute_result"
        }
      ],
      "source": [
        "poem_sample[\"verse_text\"]"
      ]
    },
    {
      "cell_type": "code",
      "execution_count": null,
      "id": "84e712f9-4e1b-49c2-be32-4f327c4b08ac",
      "metadata": {
        "id": "84e712f9-4e1b-49c2-be32-4f327c4b08ac",
        "outputId": "7e3c34d1-8842-4c1f-cd32-21ad2d65b5ab"
      },
      "outputs": [
        {
          "name": "stdout",
          "output_type": "stream",
          "text": [
            "Tiempo tomado para inferenciar: 8.256 Segundos...\n"
          ]
        },
        {
          "data": {
            "text/html": [
              "<div>\n",
              "<style scoped>\n",
              "    .dataframe tbody tr th:only-of-type {\n",
              "        vertical-align: middle;\n",
              "    }\n",
              "\n",
              "    .dataframe tbody tr th {\n",
              "        vertical-align: top;\n",
              "    }\n",
              "\n",
              "    .dataframe thead th {\n",
              "        text-align: right;\n",
              "    }\n",
              "</style>\n",
              "<table border=\"1\" class=\"dataframe\">\n",
              "  <thead>\n",
              "    <tr style=\"text-align: right;\">\n",
              "      <th></th>\n",
              "      <th>label</th>\n",
              "      <th>score</th>\n",
              "    </tr>\n",
              "  </thead>\n",
              "  <tbody>\n",
              "    <tr>\n",
              "      <th>0</th>\n",
              "      <td>no_impact</td>\n",
              "      <td>0.998595</td>\n",
              "    </tr>\n",
              "    <tr>\n",
              "      <th>1</th>\n",
              "      <td>no_impact</td>\n",
              "      <td>0.643309</td>\n",
              "    </tr>\n",
              "    <tr>\n",
              "      <th>2</th>\n",
              "      <td>no_impact</td>\n",
              "      <td>0.998597</td>\n",
              "    </tr>\n",
              "    <tr>\n",
              "      <th>3</th>\n",
              "      <td>no_impact</td>\n",
              "      <td>0.998285</td>\n",
              "    </tr>\n",
              "    <tr>\n",
              "      <th>4</th>\n",
              "      <td>no_impact</td>\n",
              "      <td>0.677265</td>\n",
              "    </tr>\n",
              "    <tr>\n",
              "      <th>...</th>\n",
              "      <td>...</td>\n",
              "      <td>...</td>\n",
              "    </tr>\n",
              "    <tr>\n",
              "      <th>99</th>\n",
              "      <td>no_impact</td>\n",
              "      <td>0.987969</td>\n",
              "    </tr>\n",
              "    <tr>\n",
              "      <th>100</th>\n",
              "      <td>no_impact</td>\n",
              "      <td>0.998413</td>\n",
              "    </tr>\n",
              "    <tr>\n",
              "      <th>101</th>\n",
              "      <td>no_impact</td>\n",
              "      <td>0.998535</td>\n",
              "    </tr>\n",
              "    <tr>\n",
              "      <th>102</th>\n",
              "      <td>no_impact</td>\n",
              "      <td>0.998222</td>\n",
              "    </tr>\n",
              "    <tr>\n",
              "      <th>103</th>\n",
              "      <td>negative</td>\n",
              "      <td>0.978481</td>\n",
              "    </tr>\n",
              "  </tbody>\n",
              "</table>\n",
              "<p>104 rows × 2 columns</p>\n",
              "</div>"
            ],
            "text/plain": [
              "         label     score\n",
              "0    no_impact  0.998595\n",
              "1    no_impact  0.643309\n",
              "2    no_impact  0.998597\n",
              "3    no_impact  0.998285\n",
              "4    no_impact  0.677265\n",
              "..         ...       ...\n",
              "99   no_impact  0.987969\n",
              "100  no_impact  0.998413\n",
              "101  no_impact  0.998535\n",
              "102  no_impact  0.998222\n",
              "103   negative  0.978481\n",
              "\n",
              "[104 rows x 2 columns]"
            ]
          },
          "execution_count": 732,
          "metadata": {},
          "output_type": "execute_result"
        }
      ],
      "source": [
        "start_time = time.time()\n",
        "\n",
        "medium_sentiment_classifier_inferences = pd.DataFrame(medium_sentiment_classifier(list(poem_sample[\"verse_text\"])))\n",
        "end_time = time.time()\n",
        "\n",
        "time_taken = round(end_time - start_time, 4)\n",
        "\n",
        "print(f\"Tiempo tomado para inferenciar: {time_taken} Segundos...\")\n",
        "medium_sentiment_classifier_inferences"
      ]
    },
    {
      "cell_type": "code",
      "execution_count": null,
      "id": "61265068-f7db-4a21-96df-6f752743fdde",
      "metadata": {
        "id": "61265068-f7db-4a21-96df-6f752743fdde",
        "outputId": "68f16386-a4af-4fce-c4d6-c18f241a7ad4"
      },
      "outputs": [
        {
          "data": {
            "text/plain": [
              "0      no_impact\n",
              "1      no_impact\n",
              "2      no_impact\n",
              "3      no_impact\n",
              "4      no_impact\n",
              "         ...    \n",
              "99     no_impact\n",
              "100    no_impact\n",
              "101    no_impact\n",
              "102    no_impact\n",
              "103     negative\n",
              "Name: label, Length: 104, dtype: object"
            ]
          },
          "execution_count": 733,
          "metadata": {},
          "output_type": "execute_result"
        }
      ],
      "source": [
        "medium_sentiment_classifier_inferences[\"label\"]"
      ]
    },
    {
      "cell_type": "code",
      "execution_count": null,
      "id": "164afd1f-9848-4d21-8d46-197804e70c36",
      "metadata": {
        "id": "164afd1f-9848-4d21-8d46-197804e70c36",
        "outputId": "5e0fd3eb-f15e-4579-d08d-5d01e218ef0e"
      },
      "outputs": [
        {
          "name": "stdout",
          "output_type": "stream",
          "text": [
            "accuracy: 0.8461538461538461\n"
          ]
        },
        {
          "data": {
            "image/png": "[encoded data removed]",
            "text/plain": [
              "<Figure size 700x500 with 2 Axes>"
            ]
          },
          "metadata": {},
          "output_type": "display_data"
        }
      ],
      "source": [
        "accuracy = accuracy_score(list(poem_sample[\"label\"]), list(medium_sentiment_classifier_inferences[\"label\"]))\n",
        "\n",
        "classification_labels = poem_sample[\"label\"].unique()\n",
        "print(f\"accuracy: {accuracy}\")\n",
        "\n",
        "fig, ax =  plt.subplots(figsize=(7, 5))\n",
        "conf_mat = confusion_matrix(poem_sample[\"label\"], medium_sentiment_classifier_inferences[\"label\"], labels=classification_labels)\n",
        "\n",
        "ax = sns.heatmap(conf_mat, annot=True, xticklabels=classification_labels, yticklabels=classification_labels, cmap=\"Blues\")\n",
        "\n",
        "ax.set(\n",
        "    title=\"Matriz de confusión Para Clasificación de sentimientos (LLMs)\",\n",
        "    xlabel=\"Valor Predicho\",\n",
        "    ylabel=\"Valor Verdadero\"\n",
        ")\n",
        "plt.tight_layout()\n",
        "plt.show()"
      ]
    },
    {
      "cell_type": "code",
      "execution_count": null,
      "id": "4b70cb6c-6a47-4307-870d-df035edd405f",
      "metadata": {
        "id": "4b70cb6c-6a47-4307-870d-df035edd405f"
      },
      "outputs": [],
      "source": []
    },
    {
      "cell_type": "code",
      "execution_count": null,
      "id": "669de714-7896-43ef-9906-9a2dcf0a9af5",
      "metadata": {
        "id": "669de714-7896-43ef-9906-9a2dcf0a9af5",
        "outputId": "c421a1e5-3a8e-4d14-b2ca-14f21c057858"
      },
      "outputs": [
        {
          "data": {
            "text/plain": [
              "0      no_impact\n",
              "1      no_impact\n",
              "2      no_impact\n",
              "3      no_impact\n",
              "4      no_impact\n",
              "         ...    \n",
              "99     no_impact\n",
              "100    no_impact\n",
              "101    no_impact\n",
              "102    no_impact\n",
              "103     negative\n",
              "Name: label, Length: 104, dtype: object"
            ]
          },
          "execution_count": 736,
          "metadata": {},
          "output_type": "execute_result"
        }
      ],
      "source": [
        "poem_sample[\"label\"]\n",
        "medium_sentiment_classifier_inferences[\"label\"]"
      ]
    },
    {
      "cell_type": "code",
      "execution_count": null,
      "id": "9a0e7dc9-d37e-4bf5-bc4c-7a2db3327eee",
      "metadata": {
        "id": "9a0e7dc9-d37e-4bf5-bc4c-7a2db3327eee"
      },
      "outputs": [],
      "source": [
        "benchmark.loc[('Model1', \"Size1\"), (\"Text Classification\", \"Name\")] =  model.name_or_path\n",
        "benchmark.loc[('Model1', \"Size1\"), (\"Text Classification\", \"Size (GB)\")] =  model_memory_size_gb\n",
        "benchmark.loc[('Model1', \"Size1\"), (\"Text Classification\", \"Qty of Parameters\")] =  total_params\n",
        "benchmark.loc[('Model1', \"Size1\"), (\"Text Classification\", \"Inference Time\")] =  time_taken\n",
        "benchmark.loc[('Model1', \"Size1\"), (\"Text Classification\", \"Metric\")] =  f\"Accuracy: {accuracy}\""
      ]
    },
    {
      "cell_type": "code",
      "execution_count": null,
      "id": "dc7876e7-557c-42b5-8a21-76db1c1d77af",
      "metadata": {
        "id": "dc7876e7-557c-42b5-8a21-76db1c1d77af"
      },
      "outputs": [],
      "source": []
    },
    {
      "cell_type": "markdown",
      "id": "292152dd-e711-447b-81db-e8c6af360e71",
      "metadata": {
        "id": "292152dd-e711-447b-81db-e8c6af360e71"
      },
      "source": [
        "#### Medium Size (355,361,794 Parametros)  "
      ]
    },
    {
      "cell_type": "code",
      "execution_count": null,
      "id": "901df81b-ebe9-47a6-97c8-c9b9469f1121",
      "metadata": {
        "id": "901df81b-ebe9-47a6-97c8-c9b9469f1121",
        "outputId": "a2c7811c-f7fc-402a-bf48-0a8ffd6e70c0"
      },
      "outputs": [
        {
          "name": "stdout",
          "output_type": "stream",
          "text": [
            "El modelo tiene aproximadamente 355,361,794 parámetros.\n",
            "El modelo tiene aproximadamente 1.32 GB en memoria.\n"
          ]
        }
      ],
      "source": [
        "large_sentiment_classifier = pipeline(\n",
        "    task=\"text-classification\",\n",
        "    model=\"siebert/sentiment-roberta-large-english\",\n",
        "    model_kwargs={\"cache_dir\": cache_dir},\n",
        ")\n",
        "\n",
        "model = large_sentiment_classifier.model\n",
        "total_params = sum(p.numel() for p in model.parameters())\n",
        "print(f\"El modelo tiene aproximadamente {total_params:,} parámetros.\")\n",
        "\n",
        "# Calcular el tamaño en memoria del modelo en base al dtype de los parámetros\n",
        "model_memory_size = sum(p.numel() * p.element_size() for p in model.parameters())\n",
        "model_memory_size_gb = model_memory_size / (1024 ** 3)  # Convertir a GB\n",
        "\n",
        "# Mostrar el tamaño en memoria\n",
        "print(f\"El modelo tiene aproximadamente {model_memory_size_gb:.2f} GB en memoria.\")"
      ]
    },
    {
      "cell_type": "code",
      "execution_count": null,
      "id": "adff4160-052c-49c6-986a-e548b5302dd8",
      "metadata": {
        "id": "adff4160-052c-49c6-986a-e548b5302dd8"
      },
      "outputs": [],
      "source": [
        "poem_sample_large = poem_sample.loc[(poem_sample[\"label\"] == \"positive\") | (poem_sample[\"label\"] == \"negative\")]\n",
        "poem_sample_large.reset_index(drop=True, inplace=True)"
      ]
    },
    {
      "cell_type": "code",
      "execution_count": null,
      "id": "d5e74e7c-12bc-4c40-aed8-ec52727324f0",
      "metadata": {
        "scrolled": true,
        "id": "d5e74e7c-12bc-4c40-aed8-ec52727324f0",
        "outputId": "9310fd85-1171-478f-83b2-0208099a91db"
      },
      "outputs": [
        {
          "name": "stdout",
          "output_type": "stream",
          "text": [
            "Tiempo tomado para inferenciar: 9.6166 Segundos...\n"
          ]
        },
        {
          "data": {
            "text/html": [
              "<div>\n",
              "<style scoped>\n",
              "    .dataframe tbody tr th:only-of-type {\n",
              "        vertical-align: middle;\n",
              "    }\n",
              "\n",
              "    .dataframe tbody tr th {\n",
              "        vertical-align: top;\n",
              "    }\n",
              "\n",
              "    .dataframe thead th {\n",
              "        text-align: right;\n",
              "    }\n",
              "</style>\n",
              "<table border=\"1\" class=\"dataframe\">\n",
              "  <thead>\n",
              "    <tr style=\"text-align: right;\">\n",
              "      <th></th>\n",
              "      <th>label</th>\n",
              "      <th>score</th>\n",
              "    </tr>\n",
              "  </thead>\n",
              "  <tbody>\n",
              "    <tr>\n",
              "      <th>0</th>\n",
              "      <td>POSITIVE</td>\n",
              "      <td>0.998553</td>\n",
              "    </tr>\n",
              "    <tr>\n",
              "      <th>1</th>\n",
              "      <td>NEGATIVE</td>\n",
              "      <td>0.994796</td>\n",
              "    </tr>\n",
              "    <tr>\n",
              "      <th>2</th>\n",
              "      <td>NEGATIVE</td>\n",
              "      <td>0.982027</td>\n",
              "    </tr>\n",
              "    <tr>\n",
              "      <th>3</th>\n",
              "      <td>POSITIVE</td>\n",
              "      <td>0.997597</td>\n",
              "    </tr>\n",
              "    <tr>\n",
              "      <th>4</th>\n",
              "      <td>NEGATIVE</td>\n",
              "      <td>0.992231</td>\n",
              "    </tr>\n",
              "    <tr>\n",
              "      <th>5</th>\n",
              "      <td>POSITIVE</td>\n",
              "      <td>0.994944</td>\n",
              "    </tr>\n",
              "    <tr>\n",
              "      <th>6</th>\n",
              "      <td>POSITIVE</td>\n",
              "      <td>0.997572</td>\n",
              "    </tr>\n",
              "    <tr>\n",
              "      <th>7</th>\n",
              "      <td>POSITIVE</td>\n",
              "      <td>0.988509</td>\n",
              "    </tr>\n",
              "    <tr>\n",
              "      <th>8</th>\n",
              "      <td>NEGATIVE</td>\n",
              "      <td>0.997216</td>\n",
              "    </tr>\n",
              "    <tr>\n",
              "      <th>9</th>\n",
              "      <td>NEGATIVE</td>\n",
              "      <td>0.999376</td>\n",
              "    </tr>\n",
              "    <tr>\n",
              "      <th>10</th>\n",
              "      <td>NEGATIVE</td>\n",
              "      <td>0.996932</td>\n",
              "    </tr>\n",
              "    <tr>\n",
              "      <th>11</th>\n",
              "      <td>POSITIVE</td>\n",
              "      <td>0.997995</td>\n",
              "    </tr>\n",
              "    <tr>\n",
              "      <th>12</th>\n",
              "      <td>POSITIVE</td>\n",
              "      <td>0.998313</td>\n",
              "    </tr>\n",
              "    <tr>\n",
              "      <th>13</th>\n",
              "      <td>NEGATIVE</td>\n",
              "      <td>0.999395</td>\n",
              "    </tr>\n",
              "    <tr>\n",
              "      <th>14</th>\n",
              "      <td>POSITIVE</td>\n",
              "      <td>0.996117</td>\n",
              "    </tr>\n",
              "    <tr>\n",
              "      <th>15</th>\n",
              "      <td>POSITIVE</td>\n",
              "      <td>0.998666</td>\n",
              "    </tr>\n",
              "    <tr>\n",
              "      <th>16</th>\n",
              "      <td>NEGATIVE</td>\n",
              "      <td>0.999406</td>\n",
              "    </tr>\n",
              "    <tr>\n",
              "      <th>17</th>\n",
              "      <td>NEGATIVE</td>\n",
              "      <td>0.995005</td>\n",
              "    </tr>\n",
              "    <tr>\n",
              "      <th>18</th>\n",
              "      <td>POSITIVE</td>\n",
              "      <td>0.976362</td>\n",
              "    </tr>\n",
              "    <tr>\n",
              "      <th>19</th>\n",
              "      <td>POSITIVE</td>\n",
              "      <td>0.998613</td>\n",
              "    </tr>\n",
              "    <tr>\n",
              "      <th>20</th>\n",
              "      <td>NEGATIVE</td>\n",
              "      <td>0.988328</td>\n",
              "    </tr>\n",
              "    <tr>\n",
              "      <th>21</th>\n",
              "      <td>NEGATIVE</td>\n",
              "      <td>0.995717</td>\n",
              "    </tr>\n",
              "    <tr>\n",
              "      <th>22</th>\n",
              "      <td>POSITIVE</td>\n",
              "      <td>0.992455</td>\n",
              "    </tr>\n",
              "    <tr>\n",
              "      <th>23</th>\n",
              "      <td>POSITIVE</td>\n",
              "      <td>0.998276</td>\n",
              "    </tr>\n",
              "    <tr>\n",
              "      <th>24</th>\n",
              "      <td>POSITIVE</td>\n",
              "      <td>0.997738</td>\n",
              "    </tr>\n",
              "    <tr>\n",
              "      <th>25</th>\n",
              "      <td>NEGATIVE</td>\n",
              "      <td>0.993764</td>\n",
              "    </tr>\n",
              "    <tr>\n",
              "      <th>26</th>\n",
              "      <td>POSITIVE</td>\n",
              "      <td>0.998080</td>\n",
              "    </tr>\n",
              "    <tr>\n",
              "      <th>27</th>\n",
              "      <td>POSITIVE</td>\n",
              "      <td>0.998449</td>\n",
              "    </tr>\n",
              "    <tr>\n",
              "      <th>28</th>\n",
              "      <td>POSITIVE</td>\n",
              "      <td>0.997409</td>\n",
              "    </tr>\n",
              "    <tr>\n",
              "      <th>29</th>\n",
              "      <td>NEGATIVE</td>\n",
              "      <td>0.988322</td>\n",
              "    </tr>\n",
              "    <tr>\n",
              "      <th>30</th>\n",
              "      <td>NEGATIVE</td>\n",
              "      <td>0.990918</td>\n",
              "    </tr>\n",
              "    <tr>\n",
              "      <th>31</th>\n",
              "      <td>NEGATIVE</td>\n",
              "      <td>0.994245</td>\n",
              "    </tr>\n",
              "    <tr>\n",
              "      <th>32</th>\n",
              "      <td>NEGATIVE</td>\n",
              "      <td>0.999116</td>\n",
              "    </tr>\n",
              "    <tr>\n",
              "      <th>33</th>\n",
              "      <td>POSITIVE</td>\n",
              "      <td>0.998027</td>\n",
              "    </tr>\n",
              "    <tr>\n",
              "      <th>34</th>\n",
              "      <td>NEGATIVE</td>\n",
              "      <td>0.638162</td>\n",
              "    </tr>\n",
              "  </tbody>\n",
              "</table>\n",
              "</div>"
            ],
            "text/plain": [
              "       label     score\n",
              "0   POSITIVE  0.998553\n",
              "1   NEGATIVE  0.994796\n",
              "2   NEGATIVE  0.982027\n",
              "3   POSITIVE  0.997597\n",
              "4   NEGATIVE  0.992231\n",
              "5   POSITIVE  0.994944\n",
              "6   POSITIVE  0.997572\n",
              "7   POSITIVE  0.988509\n",
              "8   NEGATIVE  0.997216\n",
              "9   NEGATIVE  0.999376\n",
              "10  NEGATIVE  0.996932\n",
              "11  POSITIVE  0.997995\n",
              "12  POSITIVE  0.998313\n",
              "13  NEGATIVE  0.999395\n",
              "14  POSITIVE  0.996117\n",
              "15  POSITIVE  0.998666\n",
              "16  NEGATIVE  0.999406\n",
              "17  NEGATIVE  0.995005\n",
              "18  POSITIVE  0.976362\n",
              "19  POSITIVE  0.998613\n",
              "20  NEGATIVE  0.988328\n",
              "21  NEGATIVE  0.995717\n",
              "22  POSITIVE  0.992455\n",
              "23  POSITIVE  0.998276\n",
              "24  POSITIVE  0.997738\n",
              "25  NEGATIVE  0.993764\n",
              "26  POSITIVE  0.998080\n",
              "27  POSITIVE  0.998449\n",
              "28  POSITIVE  0.997409\n",
              "29  NEGATIVE  0.988322\n",
              "30  NEGATIVE  0.990918\n",
              "31  NEGATIVE  0.994245\n",
              "32  NEGATIVE  0.999116\n",
              "33  POSITIVE  0.998027\n",
              "34  NEGATIVE  0.638162"
            ]
          },
          "execution_count": 742,
          "metadata": {},
          "output_type": "execute_result"
        }
      ],
      "source": [
        "start_time = time.time()\n",
        "\n",
        "large_sentiment_classifier_inference = pd.DataFrame(large_sentiment_classifier(list(poem_sample_large[\"verse_text\"])))\n",
        "end_time = time.time()\n",
        "\n",
        "time_taken = round(end_time - start_time, 4)\n",
        "\n",
        "print(f\"Tiempo tomado para inferenciar: {time_taken} Segundos...\")\n",
        "large_sentiment_classifier_inference"
      ]
    },
    {
      "cell_type": "code",
      "execution_count": null,
      "id": "73ae8671-9604-4404-b3bf-19651c3cd4ec",
      "metadata": {
        "id": "73ae8671-9604-4404-b3bf-19651c3cd4ec"
      },
      "outputs": [],
      "source": []
    },
    {
      "cell_type": "code",
      "execution_count": null,
      "id": "d33988ef-23ca-4803-b88c-aed032596de1",
      "metadata": {
        "id": "d33988ef-23ca-4803-b88c-aed032596de1",
        "outputId": "15a20b92-cbf6-4344-de2d-6ea6b7a74479"
      },
      "outputs": [
        {
          "name": "stdout",
          "output_type": "stream",
          "text": [
            "accuracy: 0.8857142857142857\n"
          ]
        },
        {
          "data": {
            "image/png": "[encoded data removed]",
            "text/plain": [
              "<Figure size 700x500 with 2 Axes>"
            ]
          },
          "metadata": {},
          "output_type": "display_data"
        }
      ],
      "source": [
        "accuracy = accuracy_score(list(poem_sample_large[\"label\"]), list(large_sentiment_classifier_inference[\"label\"].apply(lambda x: x.lower())))\n",
        "\n",
        "classification_labels = poem_sample_large[\"label\"].unique()\n",
        "print(f\"accuracy: {accuracy}\")\n",
        "\n",
        "fig, ax =  plt.subplots(figsize=(7, 5))\n",
        "conf_mat = confusion_matrix(poem_sample_large[\"label\"], large_sentiment_classifier_inference[\"label\"].apply(lambda x: x.lower()), labels=classification_labels)\n",
        "\n",
        "ax = sns.heatmap(conf_mat, annot=True, xticklabels=classification_labels, yticklabels=classification_labels, cmap=\"Blues\")\n",
        "\n",
        "ax.set(\n",
        "    title=\"Matriz de confusión Para Clasificación de sentimientos (LLMs)\",\n",
        "    xlabel=\"Valor Predicho\",\n",
        "    ylabel=\"Valor Verdadero\"\n",
        ")\n",
        "plt.tight_layout()\n",
        "plt.show()"
      ]
    },
    {
      "cell_type": "code",
      "execution_count": null,
      "id": "36d9f859-2ee8-489a-9f88-d8df57a1bb70",
      "metadata": {
        "id": "36d9f859-2ee8-489a-9f88-d8df57a1bb70"
      },
      "outputs": [],
      "source": [
        "benchmark.loc[('Model1', \"Size2\"), (\"Text Classification\", \"Name\")] =  model.name_or_path\n",
        "benchmark.loc[('Model1', \"Size2\"), (\"Text Classification\", \"Size (GB)\")] =  model_memory_size_gb\n",
        "benchmark.loc[('Model1', \"Size2\"), (\"Text Classification\", \"Qty of Parameters\")] =  total_params\n",
        "benchmark.loc[('Model1', \"Size2\"), (\"Text Classification\", \"Inference Time\")] =  time_taken\n",
        "benchmark.loc[('Model1', \"Size2\"), (\"Text Classification\", \"Metric\")] =  f\"Accuracy: {accuracy}\""
      ]
    },
    {
      "cell_type": "code",
      "execution_count": null,
      "id": "ab2ca7f1-e5c9-4d02-87f1-228c2ae20d28",
      "metadata": {
        "id": "ab2ca7f1-e5c9-4d02-87f1-228c2ae20d28",
        "outputId": "122507f5-8207-4807-934e-b496aeb2a641"
      },
      "outputs": [
        {
          "data": {
            "text/html": [
              "<div>\n",
              "<style scoped>\n",
              "    .dataframe tbody tr th:only-of-type {\n",
              "        vertical-align: middle;\n",
              "    }\n",
              "\n",
              "    .dataframe tbody tr th {\n",
              "        vertical-align: top;\n",
              "    }\n",
              "\n",
              "    .dataframe thead th {\n",
              "        text-align: right;\n",
              "    }\n",
              "</style>\n",
              "<table border=\"1\" class=\"dataframe\">\n",
              "  <thead>\n",
              "    <tr style=\"text-align: right;\">\n",
              "      <th></th>\n",
              "      <th>Info</th>\n",
              "      <th>Name</th>\n",
              "      <th>Inference Time</th>\n",
              "      <th>Size (GB)</th>\n",
              "      <th>Qty of Parameters</th>\n",
              "      <th>Metric</th>\n",
              "    </tr>\n",
              "    <tr>\n",
              "      <th>Model</th>\n",
              "      <th>Size</th>\n",
              "      <th></th>\n",
              "      <th></th>\n",
              "      <th></th>\n",
              "      <th></th>\n",
              "      <th></th>\n",
              "    </tr>\n",
              "  </thead>\n",
              "  <tbody>\n",
              "    <tr>\n",
              "      <th rowspan=\"2\" valign=\"top\">Model1</th>\n",
              "      <th>Size1</th>\n",
              "      <td>nickwong64/bert-base-uncased-poems-sentiment</td>\n",
              "      <td>8.256</td>\n",
              "      <td>0.407865</td>\n",
              "      <td>109485316</td>\n",
              "      <td>Accuracy: 0.8461538461538461</td>\n",
              "    </tr>\n",
              "    <tr>\n",
              "      <th>Size2</th>\n",
              "      <td>siebert/sentiment-roberta-large-english</td>\n",
              "      <td>9.6166</td>\n",
              "      <td>1.323826</td>\n",
              "      <td>355361794</td>\n",
              "      <td>Accuracy: 0.8857142857142857</td>\n",
              "    </tr>\n",
              "    <tr>\n",
              "      <th rowspan=\"2\" valign=\"top\">Model2</th>\n",
              "      <th>Size1</th>\n",
              "      <td>NaN</td>\n",
              "      <td>NaN</td>\n",
              "      <td>NaN</td>\n",
              "      <td>NaN</td>\n",
              "      <td>NaN</td>\n",
              "    </tr>\n",
              "    <tr>\n",
              "      <th>Size2</th>\n",
              "      <td>NaN</td>\n",
              "      <td>NaN</td>\n",
              "      <td>NaN</td>\n",
              "      <td>NaN</td>\n",
              "      <td>NaN</td>\n",
              "    </tr>\n",
              "  </tbody>\n",
              "</table>\n",
              "</div>"
            ],
            "text/plain": [
              "Info                                                  Name Inference Time  \\\n",
              "Model  Size                                                                 \n",
              "Model1 Size1  nickwong64/bert-base-uncased-poems-sentiment          8.256   \n",
              "       Size2       siebert/sentiment-roberta-large-english         9.6166   \n",
              "Model2 Size1                                           NaN            NaN   \n",
              "       Size2                                           NaN            NaN   \n",
              "\n",
              "Info         Size (GB) Qty of Parameters                        Metric  \n",
              "Model  Size                                                             \n",
              "Model1 Size1  0.407865         109485316  Accuracy: 0.8461538461538461  \n",
              "       Size2  1.323826         355361794  Accuracy: 0.8857142857142857  \n",
              "Model2 Size1       NaN               NaN                           NaN  \n",
              "       Size2       NaN               NaN                           NaN  "
            ]
          },
          "execution_count": 746,
          "metadata": {},
          "output_type": "execute_result"
        }
      ],
      "source": [
        "benchmark[\"Text Classification\"]"
      ]
    },
    {
      "cell_type": "markdown",
      "id": "328c1aa0-2412-4b65-b65a-c6551c4312ad",
      "metadata": {
        "id": "328c1aa0-2412-4b65-b65a-c6551c4312ad"
      },
      "source": [
        "### Set 2, modelo 2"
      ]
    },
    {
      "cell_type": "code",
      "execution_count": null,
      "id": "3b281f8e-1f0f-4c1f-bd72-5a7d09e9f110",
      "metadata": {
        "id": "3b281f8e-1f0f-4c1f-bd72-5a7d09e9f110",
        "outputId": "2d0f5495-ac92-424a-90c6-a3c715f3a4dd"
      },
      "outputs": [
        {
          "data": {
            "text/plain": [
              "DatasetDict({\n",
              "    validation: Dataset({\n",
              "        features: ['premise', 'hypothesis', 'label', 'idx'],\n",
              "        num_rows: 9815\n",
              "    })\n",
              "    test: Dataset({\n",
              "        features: ['premise', 'hypothesis', 'label', 'idx'],\n",
              "        num_rows: 9796\n",
              "    })\n",
              "})"
            ]
          },
          "execution_count": 748,
          "metadata": {},
          "output_type": "execute_result"
        }
      ],
      "source": [
        "glue_dataset = load_dataset(\n",
        "    \"nyu-mll/glue\", cache_dir=cache_dir, name=\"mnli_matched\"\n",
        ")\n",
        "glue_dataset"
      ]
    },
    {
      "cell_type": "code",
      "execution_count": null,
      "id": "086577fb-41c2-46ec-9115-d1c4ac29f81d",
      "metadata": {
        "id": "086577fb-41c2-46ec-9115-d1c4ac29f81d"
      },
      "outputs": [],
      "source": [
        "glue_sample = glue_dataset[\"validation\"]\n",
        "glue_sample = glue_sample.to_pandas().replace({\"label\":{0:\"entailment\", 1:\"neutral\",  2:\"contradiction\"}})\n",
        "glue_sample = glue_sample.head(100)"
      ]
    },
    {
      "cell_type": "code",
      "execution_count": null,
      "id": "0ad19e8e-9641-47f6-9a7b-045073fa9d9a",
      "metadata": {
        "id": "0ad19e8e-9641-47f6-9a7b-045073fa9d9a",
        "outputId": "a84601e7-0162-4b0b-8b36-926a442fcd2f"
      },
      "outputs": [
        {
          "data": {
            "text/plain": [
              "0                        The new rights are nice enough\n",
              "1     This site includes a list of all award winners...\n",
              "2     uh i don't know i i have mixed emotions about ...\n",
              "3     yeah i i think my favorite restaurant is alway...\n",
              "4            i don't know um do you do a lot of camping\n",
              "                            ...                        \n",
              "95    In a further role reversal, Gingrich may have ...\n",
              "96    All of the islands are now officially and prou...\n",
              "97    (For more information on BLM's senior executiv...\n",
              "98    While parents may pick up this gay semaphore, ...\n",
              "99    Taking an ecumenical tack, nation officials in...\n",
              "Name: premise, Length: 100, dtype: object"
            ]
          },
          "execution_count": 750,
          "metadata": {},
          "output_type": "execute_result"
        }
      ],
      "source": [
        "glue_sample[\"premise\"]"
      ]
    },
    {
      "cell_type": "markdown",
      "id": "a5a7ec9b-3c48-4a79-ae4f-1f5f13d83844",
      "metadata": {
        "id": "a5a7ec9b-3c48-4a79-ae4f-1f5f13d83844"
      },
      "source": [
        "#### Small Size"
      ]
    },
    {
      "cell_type": "code",
      "execution_count": null,
      "id": "d7432b1b-afd6-4003-9576-20e268c072c8",
      "metadata": {
        "id": "d7432b1b-afd6-4003-9576-20e268c072c8",
        "outputId": "446edff4-35da-48a5-a041-f641fe94ee9b"
      },
      "outputs": [
        {
          "name": "stdout",
          "output_type": "stream",
          "text": [
            "El modelo tiene aproximadamente 17,687,043 parámetros.\n",
            "El modelo tiene aproximadamente 0.07 GB en memoria.\n"
          ]
        }
      ],
      "source": [
        "small_sentiment_classifier_1 = pipeline(\n",
        "    task=\"text-classification\",\n",
        "    model=\"WeightWatcher/albert-large-v2-mnli\",\n",
        "    padding=True,\n",
        "    model_kwargs={\"cache_dir\": cache_dir},\n",
        ")\n",
        "\n",
        "model = small_sentiment_classifier_1.model\n",
        "total_params = sum(p.numel() for p in model.parameters())\n",
        "print(f\"El modelo tiene aproximadamente {total_params:,} parámetros.\")\n",
        "\n",
        "# Calcular el tamaño en memoria del modelo en base al dtype de los parámetros\n",
        "model_memory_size = sum(p.numel() * p.element_size() for p in model.parameters())\n",
        "model_memory_size_gb = model_memory_size / (1024 ** 3)  # Convertir a GB\n",
        "\n",
        "# Mostrar el tamaño en memoria\n",
        "print(f\"El modelo tiene aproximadamente {model_memory_size_gb:.2f} GB en memoria.\")"
      ]
    },
    {
      "cell_type": "code",
      "execution_count": null,
      "id": "6db08fd9-40e3-44ac-a22c-61fdfbca6727",
      "metadata": {
        "id": "6db08fd9-40e3-44ac-a22c-61fdfbca6727"
      },
      "outputs": [],
      "source": [
        "small_sentiment_classifier_1_inference =  small_sentiment_classifier_1(list(glue_sample.head(5)['premise']))"
      ]
    },
    {
      "cell_type": "code",
      "execution_count": null,
      "id": "b53aa895-2952-4318-84bb-e03c0a6f359f",
      "metadata": {
        "id": "b53aa895-2952-4318-84bb-e03c0a6f359f",
        "outputId": "ba59ccff-a68c-4551-e97c-0f46ab082d55"
      },
      "outputs": [
        {
          "data": {
            "text/plain": [
              "[{'label': 'entailment', 'score': 0.46345409750938416},\n",
              " {'label': 'entailment', 'score': 0.5282965302467346},\n",
              " {'label': 'entailment', 'score': 0.5364283919334412},\n",
              " {'label': 'entailment', 'score': 0.4588928818702698},\n",
              " {'label': 'contradiction', 'score': 0.4734502136707306}]"
            ]
          },
          "execution_count": 754,
          "metadata": {},
          "output_type": "execute_result"
        }
      ],
      "source": [
        "small_sentiment_classifier_1_inference"
      ]
    },
    {
      "cell_type": "code",
      "execution_count": null,
      "id": "5d584ee4-e1d9-43a0-890b-fea48b832e59",
      "metadata": {
        "scrolled": true,
        "id": "5d584ee4-e1d9-43a0-890b-fea48b832e59",
        "outputId": "986006cb-95b3-4b62-d3b5-176659cc87bd"
      },
      "outputs": [
        {
          "name": "stdout",
          "output_type": "stream",
          "text": [
            "Tiempo tomado para inferenciar: 15.8204 Segundos...\n"
          ]
        },
        {
          "data": {
            "text/html": [
              "<div>\n",
              "<style scoped>\n",
              "    .dataframe tbody tr th:only-of-type {\n",
              "        vertical-align: middle;\n",
              "    }\n",
              "\n",
              "    .dataframe tbody tr th {\n",
              "        vertical-align: top;\n",
              "    }\n",
              "\n",
              "    .dataframe thead th {\n",
              "        text-align: right;\n",
              "    }\n",
              "</style>\n",
              "<table border=\"1\" class=\"dataframe\">\n",
              "  <thead>\n",
              "    <tr style=\"text-align: right;\">\n",
              "      <th></th>\n",
              "      <th>label</th>\n",
              "      <th>score</th>\n",
              "    </tr>\n",
              "  </thead>\n",
              "  <tbody>\n",
              "    <tr>\n",
              "      <th>0</th>\n",
              "      <td>entailment</td>\n",
              "      <td>0.416266</td>\n",
              "    </tr>\n",
              "    <tr>\n",
              "      <th>1</th>\n",
              "      <td>entailment</td>\n",
              "      <td>0.593076</td>\n",
              "    </tr>\n",
              "    <tr>\n",
              "      <th>2</th>\n",
              "      <td>neutral</td>\n",
              "      <td>0.499871</td>\n",
              "    </tr>\n",
              "    <tr>\n",
              "      <th>3</th>\n",
              "      <td>neutral</td>\n",
              "      <td>0.512331</td>\n",
              "    </tr>\n",
              "    <tr>\n",
              "      <th>4</th>\n",
              "      <td>neutral</td>\n",
              "      <td>0.725124</td>\n",
              "    </tr>\n",
              "    <tr>\n",
              "      <th>...</th>\n",
              "      <td>...</td>\n",
              "      <td>...</td>\n",
              "    </tr>\n",
              "    <tr>\n",
              "      <th>95</th>\n",
              "      <td>neutral</td>\n",
              "      <td>0.705773</td>\n",
              "    </tr>\n",
              "    <tr>\n",
              "      <th>96</th>\n",
              "      <td>entailment</td>\n",
              "      <td>0.613642</td>\n",
              "    </tr>\n",
              "    <tr>\n",
              "      <th>97</th>\n",
              "      <td>entailment</td>\n",
              "      <td>0.452985</td>\n",
              "    </tr>\n",
              "    <tr>\n",
              "      <th>98</th>\n",
              "      <td>entailment</td>\n",
              "      <td>0.514445</td>\n",
              "    </tr>\n",
              "    <tr>\n",
              "      <th>99</th>\n",
              "      <td>entailment</td>\n",
              "      <td>0.472225</td>\n",
              "    </tr>\n",
              "  </tbody>\n",
              "</table>\n",
              "<p>100 rows × 2 columns</p>\n",
              "</div>"
            ],
            "text/plain": [
              "         label     score\n",
              "0   entailment  0.416266\n",
              "1   entailment  0.593076\n",
              "2      neutral  0.499871\n",
              "3      neutral  0.512331\n",
              "4      neutral  0.725124\n",
              "..         ...       ...\n",
              "95     neutral  0.705773\n",
              "96  entailment  0.613642\n",
              "97  entailment  0.452985\n",
              "98  entailment  0.514445\n",
              "99  entailment  0.472225\n",
              "\n",
              "[100 rows x 2 columns]"
            ]
          },
          "execution_count": 755,
          "metadata": {},
          "output_type": "execute_result"
        }
      ],
      "source": [
        "start_time = time.time()\n",
        "\n",
        "small_sentiment_classifier_1_inference =  small_sentiment_classifier_1(list(glue_sample['hypothesis']))\n",
        "end_time = time.time()\n",
        "\n",
        "time_taken = round(end_time - start_time, 4)\n",
        "\n",
        "print(f\"Tiempo tomado para inferenciar: {time_taken} Segundos...\")\n",
        "small_sentiment_classifier_1_inference = pd.DataFrame(small_sentiment_classifier_1_inference)\n",
        "small_sentiment_classifier_1_inference"
      ]
    },
    {
      "cell_type": "code",
      "execution_count": null,
      "id": "b83fcd43-4fc8-43f2-98eb-6e3eca973dfe",
      "metadata": {
        "id": "b83fcd43-4fc8-43f2-98eb-6e3eca973dfe",
        "outputId": "79df9234-8754-4ac5-82aa-7384cfca213a"
      },
      "outputs": [
        {
          "name": "stdout",
          "output_type": "stream",
          "text": [
            "accuracy: 0.38\n"
          ]
        },
        {
          "data": {
            "image/png": "[encoded data removed]",
            "text/plain": [
              "<Figure size 700x500 with 2 Axes>"
            ]
          },
          "metadata": {},
          "output_type": "display_data"
        }
      ],
      "source": [
        "accuracy = accuracy_score(list(glue_sample[\"label\"]), list(small_sentiment_classifier_1_inference[\"label\"]))\n",
        "\n",
        "classification_labels = glue_sample[\"label\"].unique()\n",
        "print(f\"accuracy: {accuracy}\")\n",
        "\n",
        "fig, ax =  plt.subplots(figsize=(7, 5))\n",
        "conf_mat = confusion_matrix(glue_sample[\"label\"], list(small_sentiment_classifier_1_inference[\"label\"]), labels=classification_labels)\n",
        "\n",
        "ax = sns.heatmap(conf_mat, annot=True, xticklabels=classification_labels, yticklabels=classification_labels, cmap=\"Blues\")\n",
        "\n",
        "ax.set(\n",
        "    title=\"Matriz de confusión Para Clasificación de sentimientos (LLMs)\",\n",
        "    xlabel=\"Valor Predicho\",\n",
        "    ylabel=\"Valor Verdadero\"\n",
        ")\n",
        "plt.tight_layout()\n",
        "plt.show()"
      ]
    },
    {
      "cell_type": "code",
      "execution_count": null,
      "id": "0b274826-bd55-4274-b952-0637e928474a",
      "metadata": {
        "id": "0b274826-bd55-4274-b952-0637e928474a"
      },
      "outputs": [],
      "source": [
        "benchmark.loc[('Model2', \"Size1\"), (\"Text Classification\", \"Name\")] =  model.name_or_path\n",
        "benchmark.loc[('Model2', \"Size1\"), (\"Text Classification\", \"Size (GB)\")] =  model_memory_size_gb\n",
        "benchmark.loc[('Model2', \"Size1\"), (\"Text Classification\", \"Qty of Parameters\")] =  total_params\n",
        "benchmark.loc[('Model2', \"Size1\"), (\"Text Classification\", \"Inference Time\")] =  time_taken\n",
        "benchmark.loc[('Model2', \"Size1\"), (\"Text Classification\", \"Metric\")] =  f\"Accuracy: {accuracy}\""
      ]
    },
    {
      "cell_type": "markdown",
      "id": "72a0cbad-f09c-49dd-86d3-6133e74b40ce",
      "metadata": {
        "id": "72a0cbad-f09c-49dd-86d3-6133e74b40ce"
      },
      "source": [
        "#### Medium Size"
      ]
    },
    {
      "cell_type": "code",
      "execution_count": null,
      "id": "f6f30a05-9c20-4f9c-8814-11c599652573",
      "metadata": {
        "id": "f6f30a05-9c20-4f9c-8814-11c599652573",
        "outputId": "13fdc07d-8600-4f2a-99b1-d1d4b4ce44ae"
      },
      "outputs": [
        {
          "name": "stdout",
          "output_type": "stream",
          "text": [
            "El modelo tiene aproximadamente 124,648,708 parámetros.\n",
            "El modelo tiene aproximadamente 0.46 GB en memoria.\n"
          ]
        }
      ],
      "source": [
        "medium_sentiment_classifier_1 = pipeline(\n",
        "    task=\"text-classification\",\n",
        "    model=\"AiManatee/RoBERTa_poem_sentiment\",\n",
        "    model_kwargs={\"cache_dir\": cache_dir},\n",
        ")\n",
        "\n",
        "model = medium_sentiment_classifier_1.model\n",
        "total_params = sum(p.numel() for p in model.parameters())\n",
        "print(f\"El modelo tiene aproximadamente {total_params:,} parámetros.\")\n",
        "\n",
        "# Calcular el tamaño en memoria del modelo en base al dtype de los parámetros\n",
        "model_memory_size = sum(p.numel() * p.element_size() for p in model.parameters())\n",
        "model_memory_size_gb = model_memory_size / (1024 ** 3)  # Convertir a GB\n",
        "\n",
        "# Mostrar el tamaño en memoria\n",
        "print(f\"El modelo tiene aproximadamente {model_memory_size_gb:.2f} GB en memoria.\")"
      ]
    },
    {
      "cell_type": "code",
      "execution_count": null,
      "id": "75a026c8-8738-4121-8497-0c915f607713",
      "metadata": {
        "id": "75a026c8-8738-4121-8497-0c915f607713",
        "outputId": "be3da5ed-ac72-4603-c9b0-7a2217b5b329"
      },
      "outputs": [
        {
          "name": "stdout",
          "output_type": "stream",
          "text": [
            "Tiempo tomado para inferenciar: 7.1454 Segundos...\n"
          ]
        },
        {
          "data": {
            "text/html": [
              "<div>\n",
              "<style scoped>\n",
              "    .dataframe tbody tr th:only-of-type {\n",
              "        vertical-align: middle;\n",
              "    }\n",
              "\n",
              "    .dataframe tbody tr th {\n",
              "        vertical-align: top;\n",
              "    }\n",
              "\n",
              "    .dataframe thead th {\n",
              "        text-align: right;\n",
              "    }\n",
              "</style>\n",
              "<table border=\"1\" class=\"dataframe\">\n",
              "  <thead>\n",
              "    <tr style=\"text-align: right;\">\n",
              "      <th></th>\n",
              "      <th>label</th>\n",
              "      <th>score</th>\n",
              "    </tr>\n",
              "  </thead>\n",
              "  <tbody>\n",
              "    <tr>\n",
              "      <th>0</th>\n",
              "      <td>no_impact</td>\n",
              "      <td>0.747899</td>\n",
              "    </tr>\n",
              "    <tr>\n",
              "      <th>1</th>\n",
              "      <td>no_impact</td>\n",
              "      <td>0.916301</td>\n",
              "    </tr>\n",
              "    <tr>\n",
              "      <th>2</th>\n",
              "      <td>no_impact</td>\n",
              "      <td>0.747899</td>\n",
              "    </tr>\n",
              "    <tr>\n",
              "      <th>3</th>\n",
              "      <td>no_impact</td>\n",
              "      <td>0.747899</td>\n",
              "    </tr>\n",
              "    <tr>\n",
              "      <th>4</th>\n",
              "      <td>no_impact</td>\n",
              "      <td>0.747899</td>\n",
              "    </tr>\n",
              "    <tr>\n",
              "      <th>...</th>\n",
              "      <td>...</td>\n",
              "      <td>...</td>\n",
              "    </tr>\n",
              "    <tr>\n",
              "      <th>99</th>\n",
              "      <td>no_impact</td>\n",
              "      <td>0.747899</td>\n",
              "    </tr>\n",
              "    <tr>\n",
              "      <th>100</th>\n",
              "      <td>no_impact</td>\n",
              "      <td>0.747899</td>\n",
              "    </tr>\n",
              "    <tr>\n",
              "      <th>101</th>\n",
              "      <td>no_impact</td>\n",
              "      <td>0.747899</td>\n",
              "    </tr>\n",
              "    <tr>\n",
              "      <th>102</th>\n",
              "      <td>no_impact</td>\n",
              "      <td>0.747899</td>\n",
              "    </tr>\n",
              "    <tr>\n",
              "      <th>103</th>\n",
              "      <td>no_impact</td>\n",
              "      <td>0.747899</td>\n",
              "    </tr>\n",
              "  </tbody>\n",
              "</table>\n",
              "<p>104 rows × 2 columns</p>\n",
              "</div>"
            ],
            "text/plain": [
              "         label     score\n",
              "0    no_impact  0.747899\n",
              "1    no_impact  0.916301\n",
              "2    no_impact  0.747899\n",
              "3    no_impact  0.747899\n",
              "4    no_impact  0.747899\n",
              "..         ...       ...\n",
              "99   no_impact  0.747899\n",
              "100  no_impact  0.747899\n",
              "101  no_impact  0.747899\n",
              "102  no_impact  0.747899\n",
              "103  no_impact  0.747899\n",
              "\n",
              "[104 rows x 2 columns]"
            ]
          },
          "execution_count": 760,
          "metadata": {},
          "output_type": "execute_result"
        }
      ],
      "source": [
        "start_time = time.time()\n",
        "\n",
        "medium_sentiment_classifier_1_inference =  medium_sentiment_classifier_1(list(poem_sample[\"label\"]))\n",
        "end_time = time.time()\n",
        "\n",
        "time_taken = round(end_time - start_time, 4)\n",
        "\n",
        "print(f\"Tiempo tomado para inferenciar: {time_taken} Segundos...\")\n",
        "medium_sentiment_classifier_1_inference = pd.DataFrame(medium_sentiment_classifier_1_inference)\n",
        "medium_sentiment_classifier_1_inference"
      ]
    },
    {
      "cell_type": "code",
      "execution_count": null,
      "id": "01e55989-2b3f-48cf-9729-49b3e8b9d896",
      "metadata": {
        "id": "01e55989-2b3f-48cf-9729-49b3e8b9d896",
        "outputId": "a0734164-7981-4869-b21c-bacea8eed974"
      },
      "outputs": [
        {
          "data": {
            "text/plain": [
              "array(['no_impact'], dtype=object)"
            ]
          },
          "execution_count": 761,
          "metadata": {},
          "output_type": "execute_result"
        }
      ],
      "source": [
        "medium_sentiment_classifier_1_inference[\"label\"].unique()"
      ]
    },
    {
      "cell_type": "code",
      "execution_count": null,
      "id": "637f902c-86bf-4734-b072-bfcc74acf4c0",
      "metadata": {
        "id": "637f902c-86bf-4734-b072-bfcc74acf4c0",
        "outputId": "85f780cd-03fb-4e5c-bca2-f7c71a0a8537"
      },
      "outputs": [
        {
          "name": "stdout",
          "output_type": "stream",
          "text": [
            "accuracy: 0.6634615384615384\n"
          ]
        },
        {
          "data": {
            "image/png": "[encoded data removed]",
            "text/plain": [
              "<Figure size 700x500 with 2 Axes>"
            ]
          },
          "metadata": {},
          "output_type": "display_data"
        }
      ],
      "source": [
        "accuracy = accuracy_score(list(poem_sample[\"label\"]), list(medium_sentiment_classifier_1_inference[\"label\"].apply(lambda x: x.lower())))\n",
        "\n",
        "classification_labels = poem_sample[\"label\"].unique()\n",
        "print(f\"accuracy: {accuracy}\")\n",
        "\n",
        "fig, ax =  plt.subplots(figsize=(7, 5))\n",
        "conf_mat = confusion_matrix(poem_sample[\"label\"], medium_sentiment_classifier_1_inference[\"label\"].apply(lambda x: x.lower()), labels=classification_labels)\n",
        "\n",
        "ax = sns.heatmap(conf_mat, annot=True, xticklabels=classification_labels, yticklabels=classification_labels, cmap=\"Blues\")\n",
        "\n",
        "ax.set(\n",
        "    title=\"Matriz de confusión Para Clasificación de sentimientos (LLMs)\",\n",
        "    xlabel=\"Valor Predicho\",\n",
        "    ylabel=\"Valor Verdadero\"\n",
        ")\n",
        "plt.tight_layout()\n",
        "plt.show()"
      ]
    },
    {
      "cell_type": "code",
      "execution_count": null,
      "id": "47083b99-35a1-43d6-9a34-7c75e6e19c18",
      "metadata": {
        "id": "47083b99-35a1-43d6-9a34-7c75e6e19c18"
      },
      "outputs": [],
      "source": [
        "benchmark.loc[('Model2', \"Size2\"), (\"Text Classification\", \"Name\")] =  model.name_or_path\n",
        "benchmark.loc[('Model2', \"Size2\"), (\"Text Classification\", \"Size (GB)\")] =  model_memory_size_gb\n",
        "benchmark.loc[('Model2', \"Size2\"), (\"Text Classification\", \"Qty of Parameters\")] =  total_params\n",
        "benchmark.loc[('Model2', \"Size2\"), (\"Text Classification\", \"Inference Time\")] =  time_taken\n",
        "benchmark.loc[('Model2', \"Size2\"), (\"Text Classification\", \"Metric\")] =  f\"Accuracy: {accuracy}\""
      ]
    },
    {
      "cell_type": "code",
      "execution_count": null,
      "id": "5fd4f227-1657-42ac-b74e-5ef45e27d082",
      "metadata": {
        "id": "5fd4f227-1657-42ac-b74e-5ef45e27d082",
        "outputId": "1ca5b247-edf3-485c-ffb2-89cd4a1cf26a"
      },
      "outputs": [
        {
          "data": {
            "text/html": [
              "<div>\n",
              "<style scoped>\n",
              "    .dataframe tbody tr th:only-of-type {\n",
              "        vertical-align: middle;\n",
              "    }\n",
              "\n",
              "    .dataframe tbody tr th {\n",
              "        vertical-align: top;\n",
              "    }\n",
              "\n",
              "    .dataframe thead th {\n",
              "        text-align: right;\n",
              "    }\n",
              "</style>\n",
              "<table border=\"1\" class=\"dataframe\">\n",
              "  <thead>\n",
              "    <tr style=\"text-align: right;\">\n",
              "      <th></th>\n",
              "      <th>Info</th>\n",
              "      <th>Name</th>\n",
              "      <th>Inference Time</th>\n",
              "      <th>Size (GB)</th>\n",
              "      <th>Qty of Parameters</th>\n",
              "      <th>Metric</th>\n",
              "    </tr>\n",
              "    <tr>\n",
              "      <th>Model</th>\n",
              "      <th>Size</th>\n",
              "      <th></th>\n",
              "      <th></th>\n",
              "      <th></th>\n",
              "      <th></th>\n",
              "      <th></th>\n",
              "    </tr>\n",
              "  </thead>\n",
              "  <tbody>\n",
              "    <tr>\n",
              "      <th rowspan=\"2\" valign=\"top\">Model1</th>\n",
              "      <th>Size1</th>\n",
              "      <td>nickwong64/bert-base-uncased-poems-sentiment</td>\n",
              "      <td>5.9385</td>\n",
              "      <td>0.407865</td>\n",
              "      <td>109485316</td>\n",
              "      <td>Accuracy: 0.8461538461538461</td>\n",
              "    </tr>\n",
              "    <tr>\n",
              "      <th>Size2</th>\n",
              "      <td>siebert/sentiment-roberta-large-english</td>\n",
              "      <td>4.4536</td>\n",
              "      <td>1.323826</td>\n",
              "      <td>355361794</td>\n",
              "      <td>Accuracy: 0.8857142857142857</td>\n",
              "    </tr>\n",
              "    <tr>\n",
              "      <th rowspan=\"2\" valign=\"top\">Model2</th>\n",
              "      <th>Size1</th>\n",
              "      <td>WeightWatcher/albert-large-v2-mnli</td>\n",
              "      <td>10.8738</td>\n",
              "      <td>0.065889</td>\n",
              "      <td>17687043</td>\n",
              "      <td>Accuracy: 0.38</td>\n",
              "    </tr>\n",
              "    <tr>\n",
              "      <th>Size2</th>\n",
              "      <td>AiManatee/RoBERTa_poem_sentiment</td>\n",
              "      <td>5.1049</td>\n",
              "      <td>0.464353</td>\n",
              "      <td>124648708</td>\n",
              "      <td>Accuracy: 0.6634615384615384</td>\n",
              "    </tr>\n",
              "  </tbody>\n",
              "</table>\n",
              "</div>"
            ],
            "text/plain": [
              "Info                                                  Name Inference Time  \\\n",
              "Model  Size                                                                 \n",
              "Model1 Size1  nickwong64/bert-base-uncased-poems-sentiment         5.9385   \n",
              "       Size2       siebert/sentiment-roberta-large-english         4.4536   \n",
              "Model2 Size1            WeightWatcher/albert-large-v2-mnli        10.8738   \n",
              "       Size2              AiManatee/RoBERTa_poem_sentiment         5.1049   \n",
              "\n",
              "Info         Size (GB) Qty of Parameters                        Metric  \n",
              "Model  Size                                                             \n",
              "Model1 Size1  0.407865         109485316  Accuracy: 0.8461538461538461  \n",
              "       Size2  1.323826         355361794  Accuracy: 0.8857142857142857  \n",
              "Model2 Size1  0.065889          17687043                Accuracy: 0.38  \n",
              "       Size2  0.464353         124648708  Accuracy: 0.6634615384615384  "
            ]
          },
          "execution_count": 667,
          "metadata": {},
          "output_type": "execute_result"
        }
      ],
      "source": [
        "benchmark[\"Text Classification\"]"
      ]
    },
    {
      "cell_type": "markdown",
      "id": "6cbb7767-3f75-4106-a5a2-3fce7434cb31",
      "metadata": {
        "id": "6cbb7767-3f75-4106-a5a2-3fce7434cb31"
      },
      "source": [
        "## Traducción"
      ]
    },
    {
      "cell_type": "code",
      "execution_count": null,
      "id": "6326c806-9b18-4a70-8a75-33d4bd3481eb",
      "metadata": {
        "id": "6326c806-9b18-4a70-8a75-33d4bd3481eb"
      },
      "outputs": [],
      "source": [
        "translation_dataset = load_dataset(\n",
        "    \"okezieowen/english_to_spanish\", cache_dir=cache_dir,\n",
        ")"
      ]
    },
    {
      "cell_type": "code",
      "execution_count": null,
      "id": "974b6a9f-89ec-4a80-986b-c8ec656629b0",
      "metadata": {
        "id": "974b6a9f-89ec-4a80-986b-c8ec656629b0"
      },
      "outputs": [],
      "source": []
    },
    {
      "cell_type": "code",
      "execution_count": null,
      "id": "89168cbb-4f8c-4eb8-bb5f-da0bbb1862b1",
      "metadata": {
        "id": "89168cbb-4f8c-4eb8-bb5f-da0bbb1862b1",
        "outputId": "d52cafdd-81c6-490f-f1cb-d2d8e6b39bbb"
      },
      "outputs": [
        {
          "data": {
            "text/plain": [
              "DatasetDict({\n",
              "    train: Dataset({\n",
              "        features: ['English', 'Spanish'],\n",
              "        num_rows: 149988\n",
              "    })\n",
              "})"
            ]
          },
          "execution_count": 766,
          "metadata": {},
          "output_type": "execute_result"
        }
      ],
      "source": [
        "translation_dataset"
      ]
    },
    {
      "cell_type": "markdown",
      "id": "1a4918d4-365f-46ad-bea4-51a055ad59ed",
      "metadata": {
        "id": "1a4918d4-365f-46ad-bea4-51a055ad59ed"
      },
      "source": [
        "### Set 3, modelo 1"
      ]
    },
    {
      "cell_type": "code",
      "execution_count": null,
      "id": "4d330b4b-a923-4db7-94b9-586b4a3cff68",
      "metadata": {
        "id": "4d330b4b-a923-4db7-94b9-586b4a3cff68"
      },
      "outputs": [],
      "source": [
        "translation_dataset = translation_dataset[\"train\"].to_pandas()"
      ]
    },
    {
      "cell_type": "code",
      "execution_count": null,
      "id": "b906ab1c-4367-4bc2-ab23-e1a0e923b7a1",
      "metadata": {
        "id": "b906ab1c-4367-4bc2-ab23-e1a0e923b7a1",
        "outputId": "0a86d228-711c-4f4e-d68f-9297b4cb112c"
      },
      "outputs": [
        {
          "data": {
            "text/html": [
              "<div>\n",
              "<style scoped>\n",
              "    .dataframe tbody tr th:only-of-type {\n",
              "        vertical-align: middle;\n",
              "    }\n",
              "\n",
              "    .dataframe tbody tr th {\n",
              "        vertical-align: top;\n",
              "    }\n",
              "\n",
              "    .dataframe thead th {\n",
              "        text-align: right;\n",
              "    }\n",
              "</style>\n",
              "<table border=\"1\" class=\"dataframe\">\n",
              "  <thead>\n",
              "    <tr style=\"text-align: right;\">\n",
              "      <th></th>\n",
              "      <th>English</th>\n",
              "      <th>Spanish</th>\n",
              "    </tr>\n",
              "  </thead>\n",
              "  <tbody>\n",
              "    <tr>\n",
              "      <th>0</th>\n",
              "      <td>I declare resumed the session of the European ...</td>\n",
              "      <td>Declaro reanudado el período de sesiones del P...</td>\n",
              "    </tr>\n",
              "    <tr>\n",
              "      <th>1</th>\n",
              "      <td>Although, as you will have seen, the dreaded '...</td>\n",
              "      <td>Como todos han podido comprobar, el gran \"efec...</td>\n",
              "    </tr>\n",
              "    <tr>\n",
              "      <th>2</th>\n",
              "      <td>You have requested a debate on this subject in...</td>\n",
              "      <td>Sus Señorías han solicitado un debate sobre el...</td>\n",
              "    </tr>\n",
              "    <tr>\n",
              "      <th>3</th>\n",
              "      <td>In the meantime, I should like to observe a mi...</td>\n",
              "      <td>A la espera de que se produzca, de acuerdo con...</td>\n",
              "    </tr>\n",
              "    <tr>\n",
              "      <th>4</th>\n",
              "      <td>Please rise, then, for this minute' s silence.</td>\n",
              "      <td>Invito a todos a que nos pongamos de pie para ...</td>\n",
              "    </tr>\n",
              "    <tr>\n",
              "      <th>...</th>\n",
              "      <td>...</td>\n",
              "      <td>...</td>\n",
              "    </tr>\n",
              "    <tr>\n",
              "      <th>149983</th>\n",
              "      <td>Let them make do with the Internet!</td>\n",
              "      <td>¿Piden los pueblos democracia?</td>\n",
              "    </tr>\n",
              "    <tr>\n",
              "      <th>149984</th>\n",
              "      <td>Aparicio Sánchez report (A5-0122/2001)</td>\n",
              "      <td>Que se conformen pues con Internet.</td>\n",
              "    </tr>\n",
              "    <tr>\n",
              "      <th>149985</th>\n",
              "      <td>Mr President, I hope you and all the interpret...</td>\n",
              "      <td>Informe Aparicio Sánchez (A5-0122/2001)</td>\n",
              "    </tr>\n",
              "    <tr>\n",
              "      <th>149986</th>\n",
              "      <td>I have voted for this report and it was my sis...</td>\n",
              "      <td>Señor Presidente, deseo buen provecho tanto a ...</td>\n",
              "    </tr>\n",
              "    <tr>\n",
              "      <th>149987</th>\n",
              "      <td>None</td>\n",
              "      <td>He votado a favor de este informe y fue mi her...</td>\n",
              "    </tr>\n",
              "  </tbody>\n",
              "</table>\n",
              "<p>149988 rows × 2 columns</p>\n",
              "</div>"
            ],
            "text/plain": [
              "                                                  English  \\\n",
              "0       I declare resumed the session of the European ...   \n",
              "1       Although, as you will have seen, the dreaded '...   \n",
              "2       You have requested a debate on this subject in...   \n",
              "3       In the meantime, I should like to observe a mi...   \n",
              "4          Please rise, then, for this minute' s silence.   \n",
              "...                                                   ...   \n",
              "149983                Let them make do with the Internet!   \n",
              "149984             Aparicio Sánchez report (A5-0122/2001)   \n",
              "149985  Mr President, I hope you and all the interpret...   \n",
              "149986  I have voted for this report and it was my sis...   \n",
              "149987                                               None   \n",
              "\n",
              "                                                  Spanish  \n",
              "0       Declaro reanudado el período de sesiones del P...  \n",
              "1       Como todos han podido comprobar, el gran \"efec...  \n",
              "2       Sus Señorías han solicitado un debate sobre el...  \n",
              "3       A la espera de que se produzca, de acuerdo con...  \n",
              "4       Invito a todos a que nos pongamos de pie para ...  \n",
              "...                                                   ...  \n",
              "149983                     ¿Piden los pueblos democracia?  \n",
              "149984                Que se conformen pues con Internet.  \n",
              "149985            Informe Aparicio Sánchez (A5-0122/2001)  \n",
              "149986  Señor Presidente, deseo buen provecho tanto a ...  \n",
              "149987  He votado a favor de este informe y fue mi her...  \n",
              "\n",
              "[149988 rows x 2 columns]"
            ]
          },
          "execution_count": 770,
          "metadata": {},
          "output_type": "execute_result"
        }
      ],
      "source": [
        "translation_dataset"
      ]
    },
    {
      "cell_type": "code",
      "execution_count": null,
      "id": "2b5eae8a-1619-4b27-bce2-20b813f4237f",
      "metadata": {
        "id": "2b5eae8a-1619-4b27-bce2-20b813f4237f"
      },
      "outputs": [],
      "source": [
        "sample_for_translation = translation_dataset.head(5)"
      ]
    },
    {
      "cell_type": "code",
      "execution_count": null,
      "id": "9c2cd740-f33d-4708-aadc-1f80a295bbf6",
      "metadata": {
        "id": "9c2cd740-f33d-4708-aadc-1f80a295bbf6"
      },
      "outputs": [],
      "source": []
    },
    {
      "cell_type": "code",
      "execution_count": null,
      "id": "0a281b16-a948-400c-ac52-8814ca44473c",
      "metadata": {
        "id": "0a281b16-a948-400c-ac52-8814ca44473c"
      },
      "outputs": [],
      "source": []
    },
    {
      "cell_type": "markdown",
      "id": "23b2ac98-e048-4391-8baa-f243b63c39b1",
      "metadata": {
        "id": "23b2ac98-e048-4391-8baa-f243b63c39b1"
      },
      "source": [
        "#### Small Size"
      ]
    },
    {
      "cell_type": "code",
      "execution_count": null,
      "id": "0e0812fa-319d-45be-b81e-c1b01ad5419a",
      "metadata": {
        "id": "0e0812fa-319d-45be-b81e-c1b01ad5419a",
        "outputId": "8958ffa9-420e-4d63-aa5e-9225093fe5f6"
      },
      "outputs": [
        {
          "name": "stdout",
          "output_type": "stream",
          "text": [
            "El modelo tiene aproximadamente 60,506,624 parámetros.\n",
            "El modelo tiene aproximadamente 0.23 GB en memoria.\n"
          ]
        },
        {
          "name": "stderr",
          "output_type": "stream",
          "text": [
            "/Users/user/Documents/ITLA/2024 C3/NLP/segundo periodo/LLMs Aplications/env/lib/python3.12/site-packages/transformers/pipelines/__init__.py:1140: UserWarning: \"translation\" task was used, instead of \"translation_XX_to_YY\", defaulting to \"translation_es_to_en\"\n",
            "  warnings.warn(\n"
          ]
        }
      ],
      "source": [
        "small_translation = pipeline(\n",
        "    task=\"translation\",\n",
        "    #model=\"google-t5/t5-small\",\n",
        "    model=\"SEBIS/legal_t5_small_trans_es_en_small_finetuned\",\n",
        "    model_kwargs={\"cache_dir\": cache_dir},\n",
        ")\n",
        "\n",
        "model = small_translation.model\n",
        "total_params = sum(p.numel() for p in model.parameters())\n",
        "print(f\"El modelo tiene aproximadamente {total_params:,} parámetros.\")\n",
        "\n",
        "# Calcular el tamaño en memoria del modelo en base al dtype de los parámetros\n",
        "model_memory_size = sum(p.numel() * p.element_size() for p in model.parameters())\n",
        "model_memory_size_gb = model_memory_size / (1024 ** 3)  # Convertir a GB\n",
        "\n",
        "# Mostrar el tamaño en memoria\n",
        "print(f\"El modelo tiene aproximadamente {model_memory_size_gb:.2f} GB en memoria.\")"
      ]
    },
    {
      "cell_type": "code",
      "execution_count": null,
      "id": "7fd5e0ca-29ca-4520-84ca-7691c9dc48f4",
      "metadata": {
        "id": "7fd5e0ca-29ca-4520-84ca-7691c9dc48f4",
        "outputId": "c2a7fb71-29a1-48d6-ca47-5d812ef34724"
      },
      "outputs": [
        {
          "name": "stdout",
          "output_type": "stream",
          "text": [
            "Tiempo tomado para inferenciar: 6.1565 Segundos...\n"
          ]
        },
        {
          "data": {
            "text/html": [
              "<div>\n",
              "<style scoped>\n",
              "    .dataframe tbody tr th:only-of-type {\n",
              "        vertical-align: middle;\n",
              "    }\n",
              "\n",
              "    .dataframe tbody tr th {\n",
              "        vertical-align: top;\n",
              "    }\n",
              "\n",
              "    .dataframe thead th {\n",
              "        text-align: right;\n",
              "    }\n",
              "</style>\n",
              "<table border=\"1\" class=\"dataframe\">\n",
              "  <thead>\n",
              "    <tr style=\"text-align: right;\">\n",
              "      <th></th>\n",
              "      <th>translation_text</th>\n",
              "    </tr>\n",
              "  </thead>\n",
              "  <tbody>\n",
              "    <tr>\n",
              "      <th>0</th>\n",
              "      <td>I declare resumed the session of the European ...</td>\n",
              "    </tr>\n",
              "    <tr>\n",
              "      <th>1</th>\n",
              "      <td>As everyone has seen, the great 'effect of the...</td>\n",
              "    </tr>\n",
              "    <tr>\n",
              "      <th>2</th>\n",
              "      <td>The honourable Members have requested a debate...</td>\n",
              "    </tr>\n",
              "    <tr>\n",
              "      <th>3</th>\n",
              "      <td>Until this happens, in agreement with many of ...</td>\n",
              "    </tr>\n",
              "    <tr>\n",
              "      <th>4</th>\n",
              "      <td>I invite everyone to stand up and observe a mi...</td>\n",
              "    </tr>\n",
              "  </tbody>\n",
              "</table>\n",
              "</div>"
            ],
            "text/plain": [
              "                                    translation_text\n",
              "0  I declare resumed the session of the European ...\n",
              "1  As everyone has seen, the great 'effect of the...\n",
              "2  The honourable Members have requested a debate...\n",
              "3  Until this happens, in agreement with many of ...\n",
              "4  I invite everyone to stand up and observe a mi..."
            ]
          },
          "execution_count": 1038,
          "metadata": {},
          "output_type": "execute_result"
        }
      ],
      "source": [
        "start_time = time.time()\n",
        "\n",
        "small_translation_inference =  small_translation(list(sample_for_translation[\"Spanish\"]))\n",
        "end_time = time.time()\n",
        "\n",
        "time_taken = round(end_time - start_time, 4)\n",
        "\n",
        "print(f\"Tiempo tomado para inferenciar: {time_taken} Segundos...\")\n",
        "small_translation_inference = pd.DataFrame(small_translation_inference)\n",
        "small_translation_inference"
      ]
    },
    {
      "cell_type": "code",
      "execution_count": null,
      "id": "5a29c432-35f8-4c0d-afab-4495c22e918d",
      "metadata": {
        "id": "5a29c432-35f8-4c0d-afab-4495c22e918d",
        "outputId": "e1ea439f-a96f-4a63-ff96-7c9755203e52"
      },
      "outputs": [
        {
          "data": {
            "text/plain": [
              "'I declare resumed the session of the European Parliament adjourned on Friday, 17 December, and I would once again like to wish you a good holiday.'"
            ]
          },
          "execution_count": 1039,
          "metadata": {},
          "output_type": "execute_result"
        }
      ],
      "source": [
        "small_translation_inference.iloc[0][\"translation_text\"]"
      ]
    },
    {
      "cell_type": "code",
      "execution_count": null,
      "id": "b4a533cc-a382-4b1c-be01-f737de8110dd",
      "metadata": {
        "id": "b4a533cc-a382-4b1c-be01-f737de8110dd",
        "outputId": "b1451c2e-ee90-4be8-8661-14be788b3c92"
      },
      "outputs": [
        {
          "name": "stdout",
          "output_type": "stream",
          "text": [
            "Bleu metric: 0.2682\n"
          ]
        }
      ],
      "source": [
        "# Cargar la métrica Bleu\n",
        "bleu = load(\"bleu\")\n",
        "\n",
        "# Extraer las referencias de \"English\" desde sample_for_summary\n",
        "reference_translations = [item for item in list(sample_for_translation[\"English\"])]\n",
        "\n",
        "\n",
        "# Calcular ROUGE asegurándote de que ambos son listas de texto\n",
        "bleu = f\"{bleu.compute(predictions=small_translation_inference[\"translation_text\"], references=reference_translations)['bleu']:.4f}\"\n",
        "\n",
        "print(\"Bleu metric:\", bleu)"
      ]
    },
    {
      "cell_type": "code",
      "execution_count": null,
      "id": "2e3f1e4a-3ff1-47fc-93ef-db260eca4c79",
      "metadata": {
        "id": "2e3f1e4a-3ff1-47fc-93ef-db260eca4c79"
      },
      "outputs": [],
      "source": []
    },
    {
      "cell_type": "code",
      "execution_count": null,
      "id": "03672599-2332-4ac0-8528-85ac96f303e9",
      "metadata": {
        "id": "03672599-2332-4ac0-8528-85ac96f303e9"
      },
      "outputs": [],
      "source": [
        "benchmark.loc[('Model1', \"Size1\"), (\"Translation\", \"Name\")] =  model.name_or_path\n",
        "benchmark.loc[('Model1', \"Size1\"), (\"Translation\", \"Size (GB)\")] =  model_memory_size_gb\n",
        "benchmark.loc[('Model1', \"Size1\"), (\"Translation\", \"Qty of Parameters\")] =  total_params\n",
        "benchmark.loc[('Model1', \"Size1\"), (\"Translation\", \"Inference Time\")] =  time_taken\n",
        "benchmark.loc[('Model1', \"Size1\"), (\"Translation\", \"Metric\")] =  f\"Bleu: {bleu}\""
      ]
    },
    {
      "cell_type": "markdown",
      "id": "928a375f-098a-459c-8f83-6c1fa6c0e799",
      "metadata": {
        "id": "928a375f-098a-459c-8f83-6c1fa6c0e799"
      },
      "source": [
        "#### Medium Size"
      ]
    },
    {
      "cell_type": "code",
      "execution_count": null,
      "id": "b214765a-1840-4285-9219-332868146651",
      "metadata": {
        "id": "b214765a-1840-4285-9219-332868146651",
        "outputId": "80a07d31-b370-42c5-ded3-3595f3f38a82"
      },
      "outputs": [
        {
          "name": "stdout",
          "output_type": "stream",
          "text": [
            "El modelo tiene aproximadamente 77,943,296 parámetros.\n",
            "El modelo tiene aproximadamente 0.29 GB en memoria.\n"
          ]
        }
      ],
      "source": [
        "medium_translation = pipeline(\n",
        "    task=\"translation\",\n",
        "    #model=\"google-t5/t5-base\",\n",
        "    model=\"zainnaved/marian-finetuned-kde4-en-to-es\",\n",
        "    model_kwargs={\"cache_dir\": cache_dir},\n",
        ")\n",
        "\n",
        "model = medium_translation .model\n",
        "total_params = sum(p.numel() for p in model.parameters())\n",
        "print(f\"El modelo tiene aproximadamente {total_params:,} parámetros.\")\n",
        "\n",
        "# Calcular el tamaño en memoria del modelo en base al dtype de los parámetros\n",
        "model_memory_size = sum(p.numel() * p.element_size() for p in model.parameters())\n",
        "model_memory_size_gb = model_memory_size / (1024 ** 3)  # Convertir a GB\n",
        "\n",
        "# Mostrar el tamaño en memoria\n",
        "print(f\"El modelo tiene aproximadamente {model_memory_size_gb:.2f} GB en memoria.\")"
      ]
    },
    {
      "cell_type": "code",
      "execution_count": null,
      "id": "9f030f51-c49c-45b0-890a-009d56bf0c8e",
      "metadata": {
        "id": "9f030f51-c49c-45b0-890a-009d56bf0c8e",
        "outputId": "89979e2d-04c1-4c9f-ab5f-b93ce052d7a6"
      },
      "outputs": [
        {
          "name": "stdout",
          "output_type": "stream",
          "text": [
            "Tiempo tomado para inferenciar: 7.0012 Segundos...\n"
          ]
        },
        {
          "data": {
            "text/html": [
              "<div>\n",
              "<style scoped>\n",
              "    .dataframe tbody tr th:only-of-type {\n",
              "        vertical-align: middle;\n",
              "    }\n",
              "\n",
              "    .dataframe tbody tr th {\n",
              "        vertical-align: top;\n",
              "    }\n",
              "\n",
              "    .dataframe thead th {\n",
              "        text-align: right;\n",
              "    }\n",
              "</style>\n",
              "<table border=\"1\" class=\"dataframe\">\n",
              "  <thead>\n",
              "    <tr style=\"text-align: right;\">\n",
              "      <th></th>\n",
              "      <th>translation_text</th>\n",
              "    </tr>\n",
              "  </thead>\n",
              "  <tbody>\n",
              "    <tr>\n",
              "      <th>0</th>\n",
              "      <td>Declaro reanudado el período de sesiones del P...</td>\n",
              "    </tr>\n",
              "    <tr>\n",
              "      <th>1</th>\n",
              "      <td>Aunque, como habrá visto, el temido « error de...</td>\n",
              "    </tr>\n",
              "    <tr>\n",
              "      <th>2</th>\n",
              "      <td>Ha solicitado un diálogo sobre este tema en lo...</td>\n",
              "    </tr>\n",
              "    <tr>\n",
              "      <th>3</th>\n",
              "      <td>Mientras tanto, me gustaría guardar un minuto ...</td>\n",
              "    </tr>\n",
              "    <tr>\n",
              "      <th>4</th>\n",
              "      <td>Por favor, párese, entonces, para el silencio ...</td>\n",
              "    </tr>\n",
              "  </tbody>\n",
              "</table>\n",
              "</div>"
            ],
            "text/plain": [
              "                                    translation_text\n",
              "0  Declaro reanudado el período de sesiones del P...\n",
              "1  Aunque, como habrá visto, el temido « error de...\n",
              "2  Ha solicitado un diálogo sobre este tema en lo...\n",
              "3  Mientras tanto, me gustaría guardar un minuto ...\n",
              "4  Por favor, párese, entonces, para el silencio ..."
            ]
          },
          "execution_count": 1050,
          "metadata": {},
          "output_type": "execute_result"
        }
      ],
      "source": [
        "\n",
        "\n",
        "start_time = time.time()\n",
        "\n",
        "medium_translation_inference =  medium_translation(list(sample_for_translation[\"English\"]))\n",
        "end_time = time.time()\n",
        "\n",
        "time_taken = round(end_time - start_time, 4)\n",
        "\n",
        "print(f\"Tiempo tomado para inferenciar: {time_taken} Segundos...\")\n",
        "medium_translation_inference = pd.DataFrame(medium_translation_inference)\n",
        "medium_translation_inference"
      ]
    },
    {
      "cell_type": "code",
      "execution_count": null,
      "id": "5aac8ef5-df9d-47ce-bd61-234b2bdafb0a",
      "metadata": {
        "id": "5aac8ef5-df9d-47ce-bd61-234b2bdafb0a",
        "outputId": "89e3d396-61c0-4094-a73e-d9eb91573808"
      },
      "outputs": [
        {
          "data": {
            "text/plain": [
              "'Declaro reanudado el período de sesiones del Parlamento Europeo interrumpido el viernes 17 de diciembre de 1999 y deseo desearle una vez más un feliz año nuevo con la esperanza de que disfrute de un agradable período festivo.'"
            ]
          },
          "execution_count": 1051,
          "metadata": {},
          "output_type": "execute_result"
        }
      ],
      "source": [
        "medium_translation_inference[\"translation_text\"].iloc[0]"
      ]
    },
    {
      "cell_type": "code",
      "execution_count": null,
      "id": "78ef3462-325a-47cd-9010-59a67a1fa0cb",
      "metadata": {
        "id": "78ef3462-325a-47cd-9010-59a67a1fa0cb",
        "outputId": "48a2eb57-dba8-44cc-faba-45a6f16400e5"
      },
      "outputs": [
        {
          "name": "stdout",
          "output_type": "stream",
          "text": [
            "Bleu metric: 0.2116\n"
          ]
        }
      ],
      "source": [
        "# Cargar la métrica Bleu\n",
        "bleu = load(\"bleu\")\n",
        "\n",
        "# Extraer las referencias de \"English\" desde sample_for_summary\n",
        "reference_translations = [item for item in list(sample_for_translation[\"Spanish\"])]\n",
        "\n",
        "\n",
        "# Calcular ROUGE asegurándote de que ambos son listas de texto\n",
        "bleu = f\"{bleu.compute(predictions=medium_translation_inference[\"translation_text\"], references=reference_translations)['bleu']:.4f}\"\n",
        "\n",
        "print(\"Bleu metric:\", bleu)"
      ]
    },
    {
      "cell_type": "code",
      "execution_count": null,
      "id": "2e4ac739-0f11-438e-be0f-986da44aab6e",
      "metadata": {
        "id": "2e4ac739-0f11-438e-be0f-986da44aab6e"
      },
      "outputs": [],
      "source": [
        "benchmark.loc[('Model1', \"Size2\"), (\"Translation\", \"Name\")] =  model.name_or_path\n",
        "benchmark.loc[('Model1', \"Size2\"), (\"Translation\", \"Size (GB)\")] =  model_memory_size_gb\n",
        "benchmark.loc[('Model1', \"Size2\"), (\"Translation\", \"Qty of Parameters\")] =  total_params\n",
        "benchmark.loc[('Model1', \"Size2\"), (\"Translation\", \"Inference Time\")] =  time_taken\n",
        "benchmark.loc[('Model1', \"Size2\"), (\"Translation\", \"Metric\")] =  f\"Bleu: {bleu}\""
      ]
    },
    {
      "cell_type": "code",
      "execution_count": null,
      "id": "4032941f-76b3-4de5-a7ff-ea7e2546a44c",
      "metadata": {
        "id": "4032941f-76b3-4de5-a7ff-ea7e2546a44c",
        "outputId": "a6402f10-fb27-4bd1-dd2b-142ad6b5ae69"
      },
      "outputs": [
        {
          "data": {
            "text/html": [
              "<div>\n",
              "<style scoped>\n",
              "    .dataframe tbody tr th:only-of-type {\n",
              "        vertical-align: middle;\n",
              "    }\n",
              "\n",
              "    .dataframe tbody tr th {\n",
              "        vertical-align: top;\n",
              "    }\n",
              "\n",
              "    .dataframe thead th {\n",
              "        text-align: right;\n",
              "    }\n",
              "</style>\n",
              "<table border=\"1\" class=\"dataframe\">\n",
              "  <thead>\n",
              "    <tr style=\"text-align: right;\">\n",
              "      <th></th>\n",
              "      <th>Info</th>\n",
              "      <th>Name</th>\n",
              "      <th>Inference Time</th>\n",
              "      <th>Size (GB)</th>\n",
              "      <th>Qty of Parameters</th>\n",
              "      <th>Metric</th>\n",
              "    </tr>\n",
              "    <tr>\n",
              "      <th>Model</th>\n",
              "      <th>Size</th>\n",
              "      <th></th>\n",
              "      <th></th>\n",
              "      <th></th>\n",
              "      <th></th>\n",
              "      <th></th>\n",
              "    </tr>\n",
              "  </thead>\n",
              "  <tbody>\n",
              "    <tr>\n",
              "      <th rowspan=\"2\" valign=\"top\">Model1</th>\n",
              "      <th>Size1</th>\n",
              "      <td>SEBIS/legal_t5_small_trans_es_en_small_finetuned</td>\n",
              "      <td>6.1565</td>\n",
              "      <td>0.225405</td>\n",
              "      <td>60506624</td>\n",
              "      <td>Bleu: 0.2682</td>\n",
              "    </tr>\n",
              "    <tr>\n",
              "      <th>Size2</th>\n",
              "      <td>zainnaved/marian-finetuned-kde4-en-to-es</td>\n",
              "      <td>7.0012</td>\n",
              "      <td>0.290361</td>\n",
              "      <td>77943296</td>\n",
              "      <td>Bleu: 0.2116</td>\n",
              "    </tr>\n",
              "    <tr>\n",
              "      <th rowspan=\"2\" valign=\"top\">Model2</th>\n",
              "      <th>Size1</th>\n",
              "      <td>NaN</td>\n",
              "      <td>NaN</td>\n",
              "      <td>NaN</td>\n",
              "      <td>NaN</td>\n",
              "      <td>NaN</td>\n",
              "    </tr>\n",
              "    <tr>\n",
              "      <th>Size2</th>\n",
              "      <td>NaN</td>\n",
              "      <td>NaN</td>\n",
              "      <td>NaN</td>\n",
              "      <td>NaN</td>\n",
              "      <td>NaN</td>\n",
              "    </tr>\n",
              "  </tbody>\n",
              "</table>\n",
              "</div>"
            ],
            "text/plain": [
              "Info                                                      Name Inference Time  \\\n",
              "Model  Size                                                                     \n",
              "Model1 Size1  SEBIS/legal_t5_small_trans_es_en_small_finetuned         6.1565   \n",
              "       Size2          zainnaved/marian-finetuned-kde4-en-to-es         7.0012   \n",
              "Model2 Size1                                               NaN            NaN   \n",
              "       Size2                                               NaN            NaN   \n",
              "\n",
              "Info         Size (GB) Qty of Parameters        Metric  \n",
              "Model  Size                                             \n",
              "Model1 Size1  0.225405          60506624  Bleu: 0.2682  \n",
              "       Size2  0.290361          77943296  Bleu: 0.2116  \n",
              "Model2 Size1       NaN               NaN           NaN  \n",
              "       Size2       NaN               NaN           NaN  "
            ]
          },
          "execution_count": 1058,
          "metadata": {},
          "output_type": "execute_result"
        }
      ],
      "source": [
        "benchmark[\"Translation\"]"
      ]
    },
    {
      "cell_type": "markdown",
      "id": "ae24b449-7e56-459a-bea7-70cf58bdf0fe",
      "metadata": {
        "id": "ae24b449-7e56-459a-bea7-70cf58bdf0fe"
      },
      "source": [
        "### Set 3, modelo 2"
      ]
    },
    {
      "cell_type": "markdown",
      "id": "627ea9f2-a6ac-4d5c-9aab-966e7358e4ce",
      "metadata": {
        "id": "627ea9f2-a6ac-4d5c-9aab-966e7358e4ce"
      },
      "source": [
        "#### Small Size"
      ]
    },
    {
      "cell_type": "code",
      "execution_count": null,
      "id": "622b51a1-06fd-4247-85ef-a013956a3f90",
      "metadata": {
        "id": "622b51a1-06fd-4247-85ef-a013956a3f90",
        "outputId": "1cb02ba4-e3c1-46af-97e9-62fc952b1820"
      },
      "outputs": [
        {
          "name": "stdout",
          "output_type": "stream",
          "text": [
            "El modelo tiene aproximadamente 77,943,296 parámetros.\n",
            "El modelo tiene aproximadamente 0.29 GB en memoria.\n"
          ]
        }
      ],
      "source": [
        "small_translation_1 = pipeline(\n",
        "    task=\"translation\",\n",
        "    model=\"Helsinki-NLP/opus-mt-en-es\",\n",
        "    model_kwargs={\"cache_dir\": cache_dir},\n",
        ")\n",
        "\n",
        "\n",
        "model = small_translation_1.model\n",
        "total_params = sum(p.numel() for p in model.parameters())\n",
        "print(f\"El modelo tiene aproximadamente {total_params:,} parámetros.\")\n",
        "\n",
        "# Calcular el tamaño en memoria del modelo en base al dtype de los parámetros\n",
        "model_memory_size = sum(p.numel() * p.element_size() for p in model.parameters())\n",
        "model_memory_size_gb = model_memory_size / (1024 ** 3)  # Convertir a GB\n",
        "\n",
        "# Mostrar el tamaño en memoria\n",
        "print(f\"El modelo tiene aproximadamente {model_memory_size_gb:.2f} GB en memoria.\")"
      ]
    },
    {
      "cell_type": "code",
      "execution_count": null,
      "id": "e5b93bb3-94fa-4f04-840f-24527345af8a",
      "metadata": {
        "id": "e5b93bb3-94fa-4f04-840f-24527345af8a",
        "outputId": "a0b765e8-d7d2-4217-8504-199c5e743a8d"
      },
      "outputs": [
        {
          "name": "stdout",
          "output_type": "stream",
          "text": [
            "Tiempo tomado para inferenciar: 7.0055 Segundos...\n"
          ]
        },
        {
          "data": {
            "text/html": [
              "<div>\n",
              "<style scoped>\n",
              "    .dataframe tbody tr th:only-of-type {\n",
              "        vertical-align: middle;\n",
              "    }\n",
              "\n",
              "    .dataframe tbody tr th {\n",
              "        vertical-align: top;\n",
              "    }\n",
              "\n",
              "    .dataframe thead th {\n",
              "        text-align: right;\n",
              "    }\n",
              "</style>\n",
              "<table border=\"1\" class=\"dataframe\">\n",
              "  <thead>\n",
              "    <tr style=\"text-align: right;\">\n",
              "      <th></th>\n",
              "      <th>translation_text</th>\n",
              "    </tr>\n",
              "  </thead>\n",
              "  <tbody>\n",
              "    <tr>\n",
              "      <th>0</th>\n",
              "      <td>Declaro reanudado el período de sesiones del P...</td>\n",
              "    </tr>\n",
              "    <tr>\n",
              "      <th>1</th>\n",
              "      <td>Aunque, como habrán visto, el temido \"bug del ...</td>\n",
              "    </tr>\n",
              "    <tr>\n",
              "      <th>2</th>\n",
              "      <td>Usted ha solicitado un debate sobre este tema ...</td>\n",
              "    </tr>\n",
              "    <tr>\n",
              "      <th>3</th>\n",
              "      <td>Mientras tanto, me gustaría guardar un minuto ...</td>\n",
              "    </tr>\n",
              "    <tr>\n",
              "      <th>4</th>\n",
              "      <td>Por favor, levántate, entonces, por el silenci...</td>\n",
              "    </tr>\n",
              "  </tbody>\n",
              "</table>\n",
              "</div>"
            ],
            "text/plain": [
              "                                    translation_text\n",
              "0  Declaro reanudado el período de sesiones del P...\n",
              "1  Aunque, como habrán visto, el temido \"bug del ...\n",
              "2  Usted ha solicitado un debate sobre este tema ...\n",
              "3  Mientras tanto, me gustaría guardar un minuto ...\n",
              "4  Por favor, levántate, entonces, por el silenci..."
            ]
          },
          "execution_count": 1079,
          "metadata": {},
          "output_type": "execute_result"
        }
      ],
      "source": [
        "start_time = time.time()\n",
        "\n",
        "small_translation_1_inference = small_translation_1(list(sample_for_translation[\"English\"]))\n",
        "end_time = time.time()\n",
        "\n",
        "time_taken = round(end_time - start_time, 4)\n",
        "\n",
        "print(f\"Tiempo tomado para inferenciar: {time_taken} Segundos...\")\n",
        "small_translation_1_inference = pd.DataFrame(small_translation_1_inference)\n",
        "small_translation_1_inference"
      ]
    },
    {
      "cell_type": "code",
      "execution_count": null,
      "id": "999fb2f5-d657-4b5a-b957-f137c7660f85",
      "metadata": {
        "id": "999fb2f5-d657-4b5a-b957-f137c7660f85",
        "outputId": "e6e614db-08c8-43e7-fb5e-1538c42f7763"
      },
      "outputs": [
        {
          "data": {
            "text/plain": [
              "'Declaro reanudado el período de sesiones del Parlamento Europeo interrumpido el viernes 17 de diciembre de 1999 y quisiera desearle una vez más un feliz año nuevo con la esperanza de que haya disfrutado de un agradable período festivo.'"
            ]
          },
          "execution_count": 1081,
          "metadata": {},
          "output_type": "execute_result"
        }
      ],
      "source": [
        "small_translation_1_inference.iloc[0][\"translation_text\"]"
      ]
    },
    {
      "cell_type": "code",
      "execution_count": null,
      "id": "e275f9ed-8476-45d8-85f8-8f04af03015d",
      "metadata": {
        "id": "e275f9ed-8476-45d8-85f8-8f04af03015d",
        "outputId": "f7e8b923-47da-42d3-dc7c-bc453d8f6ed2"
      },
      "outputs": [
        {
          "name": "stdout",
          "output_type": "stream",
          "text": [
            "Bleu metric: 0.2305\n"
          ]
        }
      ],
      "source": [
        "# Cargar la métrica Bleu\n",
        "bleu = load(\"bleu\")\n",
        "\n",
        "# Extraer las referencias de \"English\" desde sample_for_summary\n",
        "reference_translations = [item for item in list(sample_for_translation[\"Spanish\"])]\n",
        "\n",
        "\n",
        "# Calcular ROUGE asegurándote de que ambos son listas de texto\n",
        "bleu = f\"{bleu.compute(predictions=small_translation_1_inference[\"translation_text\"], references=reference_translations)['bleu']:.4f}\"\n",
        "\n",
        "print(\"Bleu metric:\", bleu)"
      ]
    },
    {
      "cell_type": "code",
      "execution_count": null,
      "id": "3261c05e-c182-476b-8c1a-a5cedd02ad5f",
      "metadata": {
        "id": "3261c05e-c182-476b-8c1a-a5cedd02ad5f"
      },
      "outputs": [],
      "source": [
        "benchmark.loc[('Model2', \"Size1\"), (\"Translation\", \"Name\")] =  model.name_or_path\n",
        "benchmark.loc[('Model2', \"Size1\"), (\"Translation\", \"Size (GB)\")] =  model_memory_size_gb\n",
        "benchmark.loc[('Model2', \"Size1\"), (\"Translation\", \"Qty of Parameters\")] =  total_params\n",
        "benchmark.loc[('Model2', \"Size1\"), (\"Translation\", \"Inference Time\")] =  time_taken\n",
        "benchmark.loc[('Model2', \"Size1\"), (\"Translation\", \"Metric\")] =  f\"Bleu: {bleu}\""
      ]
    },
    {
      "cell_type": "code",
      "execution_count": null,
      "id": "7acf3962-4c64-41d8-b9e3-591f8185292a",
      "metadata": {
        "id": "7acf3962-4c64-41d8-b9e3-591f8185292a",
        "outputId": "80fffd3e-0ee6-417f-f203-8c4c1de55830"
      },
      "outputs": [
        {
          "data": {
            "text/html": [
              "<div>\n",
              "<style scoped>\n",
              "    .dataframe tbody tr th:only-of-type {\n",
              "        vertical-align: middle;\n",
              "    }\n",
              "\n",
              "    .dataframe tbody tr th {\n",
              "        vertical-align: top;\n",
              "    }\n",
              "\n",
              "    .dataframe thead th {\n",
              "        text-align: right;\n",
              "    }\n",
              "</style>\n",
              "<table border=\"1\" class=\"dataframe\">\n",
              "  <thead>\n",
              "    <tr style=\"text-align: right;\">\n",
              "      <th></th>\n",
              "      <th>Info</th>\n",
              "      <th>Name</th>\n",
              "      <th>Inference Time</th>\n",
              "      <th>Size (GB)</th>\n",
              "      <th>Qty of Parameters</th>\n",
              "      <th>Metric</th>\n",
              "    </tr>\n",
              "    <tr>\n",
              "      <th>Model</th>\n",
              "      <th>Size</th>\n",
              "      <th></th>\n",
              "      <th></th>\n",
              "      <th></th>\n",
              "      <th></th>\n",
              "      <th></th>\n",
              "    </tr>\n",
              "  </thead>\n",
              "  <tbody>\n",
              "    <tr>\n",
              "      <th rowspan=\"2\" valign=\"top\">Model1</th>\n",
              "      <th>Size1</th>\n",
              "      <td>SEBIS/legal_t5_small_trans_es_en_small_finetuned</td>\n",
              "      <td>6.1565</td>\n",
              "      <td>0.225405</td>\n",
              "      <td>60506624</td>\n",
              "      <td>Bleu: 0.2682</td>\n",
              "    </tr>\n",
              "    <tr>\n",
              "      <th>Size2</th>\n",
              "      <td>zainnaved/marian-finetuned-kde4-en-to-es</td>\n",
              "      <td>7.0012</td>\n",
              "      <td>0.290361</td>\n",
              "      <td>77943296</td>\n",
              "      <td>Bleu: 0.2116</td>\n",
              "    </tr>\n",
              "    <tr>\n",
              "      <th rowspan=\"2\" valign=\"top\">Model2</th>\n",
              "      <th>Size1</th>\n",
              "      <td>Helsinki-NLP/opus-mt-en-es</td>\n",
              "      <td>7.0055</td>\n",
              "      <td>0.290361</td>\n",
              "      <td>77943296</td>\n",
              "      <td>Bleu: 0.2305</td>\n",
              "    </tr>\n",
              "    <tr>\n",
              "      <th>Size2</th>\n",
              "      <td>NaN</td>\n",
              "      <td>NaN</td>\n",
              "      <td>NaN</td>\n",
              "      <td>NaN</td>\n",
              "      <td>NaN</td>\n",
              "    </tr>\n",
              "  </tbody>\n",
              "</table>\n",
              "</div>"
            ],
            "text/plain": [
              "Info                                                      Name Inference Time  \\\n",
              "Model  Size                                                                     \n",
              "Model1 Size1  SEBIS/legal_t5_small_trans_es_en_small_finetuned         6.1565   \n",
              "       Size2          zainnaved/marian-finetuned-kde4-en-to-es         7.0012   \n",
              "Model2 Size1                        Helsinki-NLP/opus-mt-en-es         7.0055   \n",
              "       Size2                                               NaN            NaN   \n",
              "\n",
              "Info         Size (GB) Qty of Parameters        Metric  \n",
              "Model  Size                                             \n",
              "Model1 Size1  0.225405          60506624  Bleu: 0.2682  \n",
              "       Size2  0.290361          77943296  Bleu: 0.2116  \n",
              "Model2 Size1  0.290361          77943296  Bleu: 0.2305  \n",
              "       Size2       NaN               NaN           NaN  "
            ]
          },
          "execution_count": 1088,
          "metadata": {},
          "output_type": "execute_result"
        }
      ],
      "source": [
        "benchmark[\"Translation\"]"
      ]
    },
    {
      "cell_type": "markdown",
      "id": "d40a3a10-0ecb-4c1b-a358-e8e87ec0298a",
      "metadata": {
        "id": "d40a3a10-0ecb-4c1b-a358-e8e87ec0298a"
      },
      "source": [
        "#### Large Size"
      ]
    },
    {
      "cell_type": "code",
      "execution_count": null,
      "id": "be58853c-4d52-41d1-84bd-71cb0b69ae33",
      "metadata": {
        "id": "be58853c-4d52-41d1-84bd-71cb0b69ae33"
      },
      "outputs": [],
      "source": [
        "translation_dataset_l1 = load_dataset(\n",
        "    \"seedboxai/german_to_english_translations_v1\", cache_dir=cache_dir,\n",
        ")\n",
        "\n",
        "sample_for_translation_l1 = translation_dataset_l1[\"test\"]\n",
        "sample_for_translation_l1 = sample_for_translation_l1.to_pandas()\n",
        "\n",
        "\n",
        "#### PENDING FOR RUNNING - THE ONE BELOW SHOULD BE THE REPLACEMENT"
      ]
    },
    {
      "cell_type": "code",
      "execution_count": null,
      "id": "54095987-7291-4985-81ae-befceeabd5d1",
      "metadata": {
        "colab": {
          "referenced_widgets": [
            "f889f42e35e54520bd25c46916663394",
            "caef9781bdd843028b79211935f3d629"
          ]
        },
        "id": "54095987-7291-4985-81ae-befceeabd5d1",
        "outputId": "b7f2c6c1-5571-4b94-f70e-4fc07372e963"
      },
      "outputs": [
        {
          "data": {
            "application/vnd.jupyter.widget-view+json": {
              "model_id": "f889f42e35e54520bd25c46916663394",
              "version_major": 2,
              "version_minor": 0
            },
            "text/plain": [
              "Resolving data files:   0%|          | 0/18 [00:00<?, ?it/s]"
            ]
          },
          "metadata": {},
          "output_type": "display_data"
        },
        {
          "data": {
            "application/vnd.jupyter.widget-view+json": {
              "model_id": "caef9781bdd843028b79211935f3d629",
              "version_major": 2,
              "version_minor": 0
            },
            "text/plain": [
              "Resolving data files:   0%|          | 0/18 [00:00<?, ?it/s]"
            ]
          },
          "metadata": {},
          "output_type": "display_data"
        }
      ],
      "source": [
        "# Descargar solo las columnas \"original\" y \"translation\" del conjunto de prueba\n",
        "translation_dataset_l1 = load_dataset(\n",
        "    \"seedboxai/german_to_english_translations_v1\",\n",
        "    split=\"test\",\n",
        "    cache_dir=cache_dir,\n",
        ").select_columns([\"original\", \"translation\"])\n",
        "\n",
        "# Convertir a DataFrame y renombrar las columnas\n",
        "sample_for_translation_l1 = translation_dataset_l1.to_pandas()\n",
        "sample_for_translation_l1.columns = [\"English\", \"German\"]"
      ]
    },
    {
      "cell_type": "code",
      "execution_count": null,
      "id": "e4fed5ad-5a85-41ee-8dc2-01aa4c739031",
      "metadata": {
        "id": "e4fed5ad-5a85-41ee-8dc2-01aa4c739031",
        "outputId": "e3741276-064d-47e1-90c7-ccafd6a59392"
      },
      "outputs": [
        {
          "data": {
            "text/html": [
              "<div>\n",
              "<style scoped>\n",
              "    .dataframe tbody tr th:only-of-type {\n",
              "        vertical-align: middle;\n",
              "    }\n",
              "\n",
              "    .dataframe tbody tr th {\n",
              "        vertical-align: top;\n",
              "    }\n",
              "\n",
              "    .dataframe thead th {\n",
              "        text-align: right;\n",
              "    }\n",
              "</style>\n",
              "<table border=\"1\" class=\"dataframe\">\n",
              "  <thead>\n",
              "    <tr style=\"text-align: right;\">\n",
              "      <th></th>\n",
              "      <th>English</th>\n",
              "      <th>German</th>\n",
              "    </tr>\n",
              "  </thead>\n",
              "  <tbody>\n",
              "    <tr>\n",
              "      <th>0</th>\n",
              "      <td>Absolutely! There were many ancient manuscript...</td>\n",
              "      <td>Natürlich! In Drago's Schatz waren viele alte ...</td>\n",
              "    </tr>\n",
              "    <tr>\n",
              "      <th>1</th>\n",
              "      <td>Certainly. The proposed system of public healt...</td>\n",
              "      <td>Selbstverständlich. Das vorgeschlagene System ...</td>\n",
              "    </tr>\n",
              "    <tr>\n",
              "      <th>2</th>\n",
              "      <td>Spicy Black Bean Soup Recipe:\\n\\nIngredients:\\...</td>\n",
              "      <td>Rezept für würzige schwarze Bohnensuppe:\\n\\nZu...</td>\n",
              "    </tr>\n",
              "    <tr>\n",
              "      <th>3</th>\n",
              "      <td>Chaucer explored various themes and motifs in ...</td>\n",
              "      <td>Chaucer erkundete in seinen literarischen Werk...</td>\n",
              "    </tr>\n",
              "    <tr>\n",
              "      <th>4</th>\n",
              "      <td>Massachusetts' nickname, the “Bay State,” refe...</td>\n",
              "      <td>Der Spitzname von Massachusetts, der \"Bay Stat...</td>\n",
              "    </tr>\n",
              "    <tr>\n",
              "      <th>5</th>\n",
              "      <td>Write a 1500-word article exploring the benefi...</td>\n",
              "      <td>Schreibe einen 1500-Wörter-Artikel, der die Vo...</td>\n",
              "    </tr>\n",
              "    <tr>\n",
              "      <th>6</th>\n",
              "      <td>Sure! Here are a few tips for using a foam rol...</td>\n",
              "      <td>Natürlich! Hier sind ein paar Tipps zur effekt...</td>\n",
              "    </tr>\n",
              "    <tr>\n",
              "      <th>7</th>\n",
              "      <td>Of course! One moment that particularly stands...</td>\n",
              "      <td>Natürlich! Ein Moment, der mir besonders in Er...</td>\n",
              "    </tr>\n",
              "    <tr>\n",
              "      <th>8</th>\n",
              "      <td>Write a dystopian story set in a world where b...</td>\n",
              "      <td>Schreibe eine dystopische Geschichte, die in e...</td>\n",
              "    </tr>\n",
              "    <tr>\n",
              "      <th>9</th>\n",
              "      <td>['Possible answer:\\nThe paper discusses severa...</td>\n",
              "      <td>Der Artikel diskutiert mehrere Limitationen de...</td>\n",
              "    </tr>\n",
              "  </tbody>\n",
              "</table>\n",
              "</div>"
            ],
            "text/plain": [
              "                                             English  \\\n",
              "0  Absolutely! There were many ancient manuscript...   \n",
              "1  Certainly. The proposed system of public healt...   \n",
              "2  Spicy Black Bean Soup Recipe:\\n\\nIngredients:\\...   \n",
              "3  Chaucer explored various themes and motifs in ...   \n",
              "4  Massachusetts' nickname, the “Bay State,” refe...   \n",
              "5  Write a 1500-word article exploring the benefi...   \n",
              "6  Sure! Here are a few tips for using a foam rol...   \n",
              "7  Of course! One moment that particularly stands...   \n",
              "8  Write a dystopian story set in a world where b...   \n",
              "9  ['Possible answer:\\nThe paper discusses severa...   \n",
              "\n",
              "                                              German  \n",
              "0  Natürlich! In Drago's Schatz waren viele alte ...  \n",
              "1  Selbstverständlich. Das vorgeschlagene System ...  \n",
              "2  Rezept für würzige schwarze Bohnensuppe:\\n\\nZu...  \n",
              "3  Chaucer erkundete in seinen literarischen Werk...  \n",
              "4  Der Spitzname von Massachusetts, der \"Bay Stat...  \n",
              "5  Schreibe einen 1500-Wörter-Artikel, der die Vo...  \n",
              "6  Natürlich! Hier sind ein paar Tipps zur effekt...  \n",
              "7  Natürlich! Ein Moment, der mir besonders in Er...  \n",
              "8  Schreibe eine dystopische Geschichte, die in e...  \n",
              "9  Der Artikel diskutiert mehrere Limitationen de...  "
            ]
          },
          "execution_count": 1248,
          "metadata": {},
          "output_type": "execute_result"
        }
      ],
      "source": [
        "sample_for_translation_l1_ = sample_for_translation_l1.head(10)\n",
        "sample_for_translation_l1_"
      ]
    },
    {
      "cell_type": "code",
      "execution_count": null,
      "id": "868f5e5a-c3c1-4027-b7d7-3def4dcb88c8",
      "metadata": {
        "id": "868f5e5a-c3c1-4027-b7d7-3def4dcb88c8",
        "outputId": "c85dea37-0ead-4a5b-c687-a55f4e876a0d"
      },
      "outputs": [
        {
          "name": "stdout",
          "output_type": "stream",
          "text": [
            "El modelo tiene aproximadamente 222,903,552 parámetros.\n",
            "El modelo tiene aproximadamente 0.83 GB en memoria.\n"
          ]
        }
      ],
      "source": [
        "large_translation_1 = pipeline(\n",
        "    task=\"translation_en_to_de\",\n",
        "    model=\"google-t5/t5-base\",\n",
        "    max_length=500,\n",
        "    model_kwargs={\"cache_dir\": cache_dir},\n",
        "\n",
        ")\n",
        "\n",
        "model = large_translation_1.model\n",
        "total_params = sum(p.numel() for p in model.parameters())\n",
        "print(f\"El modelo tiene aproximadamente {total_params:,} parámetros.\")\n",
        "\n",
        "# Calcular el tamaño en memoria del modelo en base al dtype de los parámetros\n",
        "model_memory_size = sum(p.numel() * p.element_size() for p in model.parameters())\n",
        "model_memory_size_gb = model_memory_size / (1024 ** 3)  # Convertir a GB\n",
        "\n",
        "# Mostrar el tamaño en memoria\n",
        "print(f\"El modelo tiene aproximadamente {model_memory_size_gb:.2f} GB en memoria.\")"
      ]
    },
    {
      "cell_type": "code",
      "execution_count": null,
      "id": "1b29a487-1d8f-4890-be53-05ac38d0ea99",
      "metadata": {
        "id": "1b29a487-1d8f-4890-be53-05ac38d0ea99",
        "outputId": "1c742e90-5b28-4e64-8893-5f0c9942e144"
      },
      "outputs": [
        {
          "name": "stdout",
          "output_type": "stream",
          "text": [
            "Tiempo tomado para inferenciar: 76.9662 Segundos...\n"
          ]
        },
        {
          "data": {
            "text/html": [
              "<div>\n",
              "<style scoped>\n",
              "    .dataframe tbody tr th:only-of-type {\n",
              "        vertical-align: middle;\n",
              "    }\n",
              "\n",
              "    .dataframe tbody tr th {\n",
              "        vertical-align: top;\n",
              "    }\n",
              "\n",
              "    .dataframe thead th {\n",
              "        text-align: right;\n",
              "    }\n",
              "</style>\n",
              "<table border=\"1\" class=\"dataframe\">\n",
              "  <thead>\n",
              "    <tr style=\"text-align: right;\">\n",
              "      <th></th>\n",
              "      <th>translation_text</th>\n",
              "    </tr>\n",
              "  </thead>\n",
              "  <tbody>\n",
              "    <tr>\n",
              "      <th>0</th>\n",
              "      <td>Einer der seltensten Manuskripte in Dragos Sch...</td>\n",
              "    </tr>\n",
              "    <tr>\n",
              "      <th>1</th>\n",
              "      <td>Gewiss. Das vorgeschlagene System der öffentli...</td>\n",
              "    </tr>\n",
              "    <tr>\n",
              "      <th>2</th>\n",
              "      <td>Spicy Black Bean Soup Recipe: Ingredients: - 1...</td>\n",
              "    </tr>\n",
              "    <tr>\n",
              "      <th>3</th>\n",
              "      <td>Chaucer studierte verschiedene Themen und Moti...</td>\n",
              "    </tr>\n",
              "    <tr>\n",
              "      <th>4</th>\n",
              "      <td>Massachusetts ist ein Bundesstaat in der Provi...</td>\n",
              "    </tr>\n",
              "    <tr>\n",
              "      <th>5</th>\n",
              "      <td>Schreiben Sie einen 1500-Wort-Artikel, der die...</td>\n",
              "    </tr>\n",
              "    <tr>\n",
              "      <th>6</th>\n",
              "      <td>Das Rollen kann manchmal unangenehm sein, aber...</td>\n",
              "    </tr>\n",
              "    <tr>\n",
              "      <th>7</th>\n",
              "      <td>Während dieser Zeit war Whiskers eine konstant...</td>\n",
              "    </tr>\n",
              "    <tr>\n",
              "      <th>8</th>\n",
              "      <td>In this course you will learn how to write a d...</td>\n",
              "    </tr>\n",
              "    <tr>\n",
              "      <th>9</th>\n",
              "      <td>['Possible answer:nThe paper discusses several...</td>\n",
              "    </tr>\n",
              "  </tbody>\n",
              "</table>\n",
              "</div>"
            ],
            "text/plain": [
              "                                    translation_text\n",
              "0  Einer der seltensten Manuskripte in Dragos Sch...\n",
              "1  Gewiss. Das vorgeschlagene System der öffentli...\n",
              "2  Spicy Black Bean Soup Recipe: Ingredients: - 1...\n",
              "3  Chaucer studierte verschiedene Themen und Moti...\n",
              "4  Massachusetts ist ein Bundesstaat in der Provi...\n",
              "5  Schreiben Sie einen 1500-Wort-Artikel, der die...\n",
              "6  Das Rollen kann manchmal unangenehm sein, aber...\n",
              "7  Während dieser Zeit war Whiskers eine konstant...\n",
              "8  In this course you will learn how to write a d...\n",
              "9  ['Possible answer:nThe paper discusses several..."
            ]
          },
          "execution_count": 1318,
          "metadata": {},
          "output_type": "execute_result"
        }
      ],
      "source": [
        "start_time = time.time()\n",
        "\n",
        "large_translation_1_inference = pd.DataFrame(large_translation_1(sample_for_translation_l1_[\"English\"].to_list()))\n",
        "end_time = time.time()\n",
        "\n",
        "time_taken = round(end_time - start_time, 4)\n",
        "\n",
        "print(f\"Tiempo tomado para inferenciar: {time_taken} Segundos...\")\n",
        "large_translation_1_inference"
      ]
    },
    {
      "cell_type": "code",
      "execution_count": null,
      "id": "39e076cc-de18-499f-8daa-67200d84f156",
      "metadata": {
        "id": "39e076cc-de18-499f-8daa-67200d84f156",
        "outputId": "86ce1089-4842-48e8-f58f-04209c64ab7d"
      },
      "outputs": [
        {
          "data": {
            "text/plain": [
              "'Einer der seltensten Manuskripte in Dragos Schatz war das Grimoire von Gaia, das von einer mächtigen Zaubererin geschrieben wurde, die die Magie in den Tiefen der Erde studierte. Das Buch enthielt Zauber zur Kontrolle von Erde, Luft, Feuer und Wasser und war für einige der mächtigsten Naturkatastrophen in der Geschichte verantwortlich.'"
            ]
          },
          "execution_count": 1371,
          "metadata": {},
          "output_type": "execute_result"
        }
      ],
      "source": [
        "large_translation_1_inference.iloc[0][\"translation_text\"]"
      ]
    },
    {
      "cell_type": "code",
      "execution_count": null,
      "id": "b4feef49-3778-4e0e-949d-19e0ca475d2c",
      "metadata": {
        "id": "b4feef49-3778-4e0e-949d-19e0ca475d2c",
        "outputId": "55bdbc60-2f33-44b5-f348-cda62467ac43"
      },
      "outputs": [
        {
          "name": "stdout",
          "output_type": "stream",
          "text": [
            "Bleu metric: 0.0175\n"
          ]
        }
      ],
      "source": [
        "# Cargar la métrica Bleu\n",
        "bleu = load(\"bleu\")\n",
        "\n",
        "# Extraer las referencias de \"English\" desde sample_for_summary\n",
        "reference_translations = [item for item in list(sample_for_translation_l1_[\"German\"])]\n",
        "\n",
        "\n",
        "# Calcular ROUGE asegurándote de que ambos son listas de texto\n",
        "bleu = f\"{bleu.compute(predictions=large_translation_1_inference[\"translation_text\"], references=reference_translations)['bleu']:.4f}\"\n",
        "\n",
        "print(\"Bleu metric:\", bleu)"
      ]
    },
    {
      "cell_type": "code",
      "execution_count": null,
      "id": "5b2802ca-902d-450c-8487-621f8ec13aaf",
      "metadata": {
        "id": "5b2802ca-902d-450c-8487-621f8ec13aaf"
      },
      "outputs": [],
      "source": [
        "benchmark.loc[('Model2', \"Size2\"), (\"Translation\", \"Name\")] =  model.name_or_path\n",
        "benchmark.loc[('Model2', \"Size2\"), (\"Translation\", \"Size (GB)\")] =  model_memory_size_gb\n",
        "benchmark.loc[('Model2', \"Size2\"), (\"Translation\", \"Qty of Parameters\")] =  total_params\n",
        "benchmark.loc[('Model2', \"Size2\"), (\"Translation\", \"Inference Time\")] =  time_taken\n",
        "benchmark.loc[('Model2', \"Size2\"), (\"Translation\", \"Metric\")] =  f\"Bleu: {bleu}\""
      ]
    },
    {
      "cell_type": "code",
      "execution_count": null,
      "id": "d616dba4-a6c5-4c73-a75a-2890f79e8a1f",
      "metadata": {
        "id": "d616dba4-a6c5-4c73-a75a-2890f79e8a1f",
        "outputId": "51e72188-c83e-4c9c-a572-0dd6695a2e21"
      },
      "outputs": [
        {
          "data": {
            "text/html": [
              "<div>\n",
              "<style scoped>\n",
              "    .dataframe tbody tr th:only-of-type {\n",
              "        vertical-align: middle;\n",
              "    }\n",
              "\n",
              "    .dataframe tbody tr th {\n",
              "        vertical-align: top;\n",
              "    }\n",
              "\n",
              "    .dataframe thead th {\n",
              "        text-align: right;\n",
              "    }\n",
              "</style>\n",
              "<table border=\"1\" class=\"dataframe\">\n",
              "  <thead>\n",
              "    <tr style=\"text-align: right;\">\n",
              "      <th></th>\n",
              "      <th>Info</th>\n",
              "      <th>Name</th>\n",
              "      <th>Inference Time</th>\n",
              "      <th>Size (GB)</th>\n",
              "      <th>Qty of Parameters</th>\n",
              "      <th>Metric</th>\n",
              "    </tr>\n",
              "    <tr>\n",
              "      <th>Model</th>\n",
              "      <th>Size</th>\n",
              "      <th></th>\n",
              "      <th></th>\n",
              "      <th></th>\n",
              "      <th></th>\n",
              "      <th></th>\n",
              "    </tr>\n",
              "  </thead>\n",
              "  <tbody>\n",
              "    <tr>\n",
              "      <th rowspan=\"2\" valign=\"top\">Model1</th>\n",
              "      <th>Size1</th>\n",
              "      <td>SEBIS/legal_t5_small_trans_es_en_small_finetuned</td>\n",
              "      <td>6.1565</td>\n",
              "      <td>0.225405</td>\n",
              "      <td>60506624</td>\n",
              "      <td>Bleu: 0.2682</td>\n",
              "    </tr>\n",
              "    <tr>\n",
              "      <th>Size2</th>\n",
              "      <td>zainnaved/marian-finetuned-kde4-en-to-es</td>\n",
              "      <td>7.0012</td>\n",
              "      <td>0.290361</td>\n",
              "      <td>77943296</td>\n",
              "      <td>Bleu: 0.2116</td>\n",
              "    </tr>\n",
              "    <tr>\n",
              "      <th rowspan=\"2\" valign=\"top\">Model2</th>\n",
              "      <th>Size1</th>\n",
              "      <td>Helsinki-NLP/opus-mt-en-es</td>\n",
              "      <td>7.0055</td>\n",
              "      <td>0.290361</td>\n",
              "      <td>77943296</td>\n",
              "      <td>Bleu: 0.2305</td>\n",
              "    </tr>\n",
              "    <tr>\n",
              "      <th>Size2</th>\n",
              "      <td>google-t5/t5-base</td>\n",
              "      <td>76.9662</td>\n",
              "      <td>0.83038</td>\n",
              "      <td>222903552</td>\n",
              "      <td>Bleu: 0.0175</td>\n",
              "    </tr>\n",
              "  </tbody>\n",
              "</table>\n",
              "</div>"
            ],
            "text/plain": [
              "Info                                                      Name Inference Time  \\\n",
              "Model  Size                                                                     \n",
              "Model1 Size1  SEBIS/legal_t5_small_trans_es_en_small_finetuned         6.1565   \n",
              "       Size2          zainnaved/marian-finetuned-kde4-en-to-es         7.0012   \n",
              "Model2 Size1                        Helsinki-NLP/opus-mt-en-es         7.0055   \n",
              "       Size2                                 google-t5/t5-base        76.9662   \n",
              "\n",
              "Info         Size (GB) Qty of Parameters        Metric  \n",
              "Model  Size                                             \n",
              "Model1 Size1  0.225405          60506624  Bleu: 0.2682  \n",
              "       Size2  0.290361          77943296  Bleu: 0.2116  \n",
              "Model2 Size1  0.290361          77943296  Bleu: 0.2305  \n",
              "       Size2   0.83038         222903552  Bleu: 0.0175  "
            ]
          },
          "execution_count": 1375,
          "metadata": {},
          "output_type": "execute_result"
        }
      ],
      "source": [
        "benchmark[\"Translation\"]"
      ]
    },
    {
      "cell_type": "markdown",
      "id": "37484d2e-b738-4ce6-bbb9-e77c564f470d",
      "metadata": {
        "id": "37484d2e-b738-4ce6-bbb9-e77c564f470d"
      },
      "source": [
        "## Generación de texto"
      ]
    },
    {
      "cell_type": "code",
      "execution_count": null,
      "id": "26233cc5-5f1f-4569-a012-c3bb63c03691",
      "metadata": {
        "id": "26233cc5-5f1f-4569-a012-c3bb63c03691"
      },
      "outputs": [],
      "source": [
        "incomplete_sentences = [ # 50 Oraciones Incompletas para dejar que el modelo genere texto.\n",
        "    \"The advancements in artificial intelligence are leading to\",\n",
        "    \"In a world where technology continues to evolve, one day we might\",\n",
        "    \"The future of humanity lies in the ability to merge\",\n",
        "    \"When scientists discovered the new form of energy, they realized\",\n",
        "    \"As I walked through the forest that day, I suddenly saw\",\n",
        "    \"The secret to achieving true happiness is to\",\n",
        "    \"With the discovery of life on another planet, scientists now\",\n",
        "    \"After years of research, they finally created a device that can\",\n",
        "    \"In the year 2050, the world has transformed into a place where\",\n",
        "    \"Despite all the challenges, she believed that one day she would\",\n",
        "    \"In the quiet of the evening, I heard a voice whisper\",\n",
        "    \"The invention that changed the world forever was\",\n",
        "    \"As they ventured into the unknown, the explorers discovered\",\n",
        "    \"The book he left behind contained secrets about\",\n",
        "    \"In the midst of chaos, she managed to find\",\n",
        "    \"With great determination, he decided to pursue\",\n",
        "    \"The ancient artifact was believed to hold the power to\",\n",
        "    \"After analyzing the data, the scientist concluded that\",\n",
        "    \"The unexpected letter he received revealed\",\n",
        "    \"At the edge of the universe, there exists\",\n",
        "    \"When I opened the mysterious box, I found\",\n",
        "    \"The truth about her past was finally uncovered by\",\n",
        "    \"As the rain poured down, I remembered\",\n",
        "    \"In the heart of the city lies a hidden\",\n",
        "    \"For generations, people have searched for\",\n",
        "    \"In the silence of the night, a faint sound of\",\n",
        "    \"The key to solving the mystery was hidden within\",\n",
        "    \"In a world dominated by technology, humans have forgotten\",\n",
        "    \"The hero stood before the crowd, ready to\",\n",
        "    \"The strange object they discovered in the desert was\",\n",
        "    \"During the experiment, the team noticed a strange\",\n",
        "    \"The prophecy foretold that only one person could\",\n",
        "    \"On the day of the celebration, everyone gathered to\",\n",
        "    \"With newfound courage, she set out to\",\n",
        "    \"In a remote village, people believe in the power of\",\n",
        "    \"As they reached the summit of the mountain, they saw\",\n",
        "    \"The purpose of the secret organization was to\",\n",
        "    \"At the break of dawn, the soldiers prepared to\",\n",
        "    \"Her dream was to create a world where everyone could\",\n",
        "    \"After years of conflict, the two sides finally agreed to\",\n",
        "    \"The sound of laughter filled the air as they began to\",\n",
        "    \"For the first time in history, humans have the ability to\",\n",
        "    \"The recipe handed down from her grandmother contained\",\n",
        "    \"With only a map and a compass, he set out to find\",\n",
        "    \"In the ancient library, she found a book that described\",\n",
        "    \"They say the waterfall in the forest has the power to\",\n",
        "    \"Her invention had the potential to change\",\n",
        "    \"At the end of the journey, they discovered\",\n",
        "    \"The artifact was a relic from a civilization that\",\n",
        "    \"With a deep breath, he stepped forward and declared\",\n",
        "]\n"
      ]
    },
    {
      "cell_type": "code",
      "execution_count": null,
      "id": "e51241a8-45ad-432f-9cf3-c25586a96e75",
      "metadata": {
        "id": "e51241a8-45ad-432f-9cf3-c25586a96e75",
        "outputId": "fefab0c7-cb1a-43b8-db5e-df3e3d52051c"
      },
      "outputs": [
        {
          "data": {
            "text/plain": [
              "50"
            ]
          },
          "execution_count": 1467,
          "metadata": {},
          "output_type": "execute_result"
        }
      ],
      "source": [
        "len(incomplete_sentences)"
      ]
    },
    {
      "cell_type": "markdown",
      "id": "b22ca2d8-4e09-427c-ab38-c39b9f5cea4b",
      "metadata": {
        "id": "b22ca2d8-4e09-427c-ab38-c39b9f5cea4b"
      },
      "source": [
        "### Set 4, modelo 1"
      ]
    },
    {
      "cell_type": "markdown",
      "id": "2d12dd3e-824a-45a9-82c3-d555bbc16e73",
      "metadata": {
        "id": "2d12dd3e-824a-45a9-82c3-d555bbc16e73"
      },
      "source": [
        "#### Small Size"
      ]
    },
    {
      "cell_type": "code",
      "execution_count": null,
      "id": "a5919f0c-81e0-4f35-9bd6-df903e3ca5ad",
      "metadata": {
        "id": "a5919f0c-81e0-4f35-9bd6-df903e3ca5ad",
        "outputId": "dd435c00-a379-4deb-df6c-7d67adfb70ac"
      },
      "outputs": [
        {
          "name": "stdout",
          "output_type": "stream",
          "text": [
            "El modelo tiene aproximadamente 124,439,808 parámetros.\n",
            "El modelo tiene aproximadamente 0.46 GB en memoria.\n"
          ]
        }
      ],
      "source": [
        "small_generator = pipeline(\n",
        "    \"text-generation\", model=\"gpt2\", # El mas pequeño de GPT2\n",
        "    model_kwargs={\"cache_dir\": cache_dir},\n",
        "\n",
        "    # Configuración de generación\n",
        "    max_length=50,        # Longitud máxima del texto generado\n",
        "    num_return_sequences=1, # Número de secuencias a generar\n",
        "    do_sample=True,       # Usar muestreo probabilístico\n",
        "    temperature=0.7,      # Control de creatividad\n",
        "    top_k=50,            # Filtro de top-k tokens\n",
        "    top_p=0.95,          # Nucleus sampling\n",
        "    pad_token_id=50256,   # EOS token ID para GPT-2\n",
        "    truncation=True\n",
        "\n",
        ")\n",
        "\n",
        "model = small_generator.model\n",
        "total_params = sum(p.numel() for p in model.parameters())\n",
        "print(f\"El modelo tiene aproximadamente {total_params:,} parámetros.\")\n",
        "\n",
        "# Calcular el tamaño en memoria del modelo en base al dtype de los parámetros\n",
        "model_memory_size = sum(p.numel() * p.element_size() for p in model.parameters())\n",
        "model_memory_size_gb = model_memory_size / (1024 ** 3)  # Convertir a GB\n",
        "\n",
        "# Mostrar el tamaño en memoria\n",
        "print(f\"El modelo tiene aproximadamente {model_memory_size_gb:.2f} GB en memoria.\")"
      ]
    },
    {
      "cell_type": "code",
      "execution_count": null,
      "id": "bebb0c01-f0e6-4b67-a6b5-83f8d81df9b0",
      "metadata": {
        "scrolled": true,
        "id": "bebb0c01-f0e6-4b67-a6b5-83f8d81df9b0",
        "outputId": "5aad03fc-54a8-4a89-fd04-146644af6ae5"
      },
      "outputs": [
        {
          "name": "stdout",
          "output_type": "stream",
          "text": [
            "Tiempo tomado para inferenciar: 235.7916 Segundos...\n"
          ]
        },
        {
          "data": {
            "text/plain": [
              "['The advancements in artificial intelligence are leading to a new generation of scientists who are able to make a machine that is much more like a person.\\n\\n\"We are going to find new ways of making people better.\"\\n\\nThe new robot, dubbed the LAMC-1, will be able to recognize humans without knowing they\\'re there.\\n\\n\"It\\'s amazing how much that could change how people perceive, interact with and interact with robots,\" said LAMC-1 co-founder',\n",
              " 'In a world where technology continues to evolve, one day we might see more and more people making apps that do that for us, and I think that\\'s great news for the future of social media.\"\\n\\nBut there is also a risk that this change is less about the future of apps, and more about the future of our smartphones and tablets. \"There are a lot of things that could be better done with a little bit more power and less fuss, but there are also things that are better',\n",
              " \"The future of humanity lies in the ability to merge with nature.\\n\\nA lot of what's happening with nature is happening with us. It's happening because we're all connected. It's happening because we're all connected. It's happening because we're all connected. We all have the potential to transform and change humanity. We all have the potential to transform humanity. We all have the potential to transform humanity.\\n\\nWe all have the potential to transform humanity. We all have the potential\",\n",
              " 'When scientists discovered the new form of energy, they realized that the sun is a mirror image of the stars.\\n\\n\"We thought that it was a strange idea,\" said Dr. David V. Fodor, an astrophysicist at the University of Massachusetts, Amherst. \"But it turns out that the sun is not the only part of the galaxy that is changing, it\\'s a completely new galaxy.\"\\n\\nThe new form of energy, called a solar wind, will help scientists',\n",
              " 'As I walked through the forest that day, I suddenly saw a man with a black robe and a golden crown. I was surprised that he was wearing a cape. It was really pretty.\\n\\n\"Are you looking for a girl?\"\\n\\nI saw the man. He was wearing a white robe and a white headband. I was shocked.\\n\\n\"I didn\\'t see you. I just saw that you came to the forest, and you have been hiding in the forest for a',\n",
              " \"The secret to achieving true happiness is to be mindful of your own strengths and weaknesses. The more you learn to appreciate yourself, the more you'll be able to find your true strengths and weaknesses. That's why we've put together the most up to date advice on how to find your true strengths and weaknesses.\\n\\nThe following list is for you to check out, because it's the one you're about to read.\\n\\n1. Know Your Purpose\\n\\nThe purpose of the purpose is\",\n",
              " 'With the discovery of life on another planet, scientists now believe that they have discovered the life form of a single-celled creature.\\n\\nThe discovery was made during the first stages of an investigation by the team of scientists at the University of Warwick, who have been studying a number of life forms on Earth.\\n\\nThe team of researchers at Warwick, led by Dr. Alan K. Anderson, led by Professor James A. Jones, and Dr. Daniel J. Fung, from the',\n",
              " \"After years of research, they finally created a device that can help make the most of your phone's battery life. The device uses a patented technology that is capable of charging and charging rapidly and without interruption.\\n\\nThe Samsung Galaxy S4 is the first phone to be equipped with this technology. The device comes with a battery that is only used when it is not in use. The device's charging feature is an excellent way to prevent the device from overheating.\\n\\nThe Samsung Galaxy S4\",\n",
              " 'In the year 2050, the world has transformed into a place where human beings can flourish and have a say in the future.\\n\\n\"The future is not something that can be seen from the outside. It is a world of change and opportunity,\" says Professor John Henningsen of the University of Cambridge.\\n\\n\"This is a world that people will be able to live in. It is a world where people can make choices that will benefit the world and that will not be seen as',\n",
              " \"Despite all the challenges, she believed that one day she would have a chance to be a part of the next generation of women in the business world.\\n\\nShe had worked in the tech industry for over 15 years and had been a senior manager at Facebook, where she was a Senior Director.\\n\\nShe was also a Managing Director at Yahoo and a member of the board of directors for Apple.\\n\\nShe said: 'I am incredibly proud of my work and the way I've chosen to\",\n",
              " 'In the quiet of the evening, I heard a voice whisper, and I was instantly caught in the middle of it, and I was instantly transported to the front of the room, where I found a large, black, very large box. It was a large one, and had a very large hole in it. It was not a very big box, but it contained a lot of information. The box was in the middle of the room. I had never heard anything like it before, and when',\n",
              " 'The invention that changed the world forever was the invention of the phonograph.\\n\\nThis is an invention in phonograph reproduction.\\n\\nThis is an invention in phonograph reproduction.\\n\\nThis is an invention in phonograph reproduction.\\n\\nThis is an invention in phonograph reproduction.\\n\\nThis is an invention in phonograph reproduction.\\n\\nThis is an invention in phonograph reproduction.\\n\\nThis is an invention in phonograph reproduction.\\n\\nThis is an invention in phon',\n",
              " 'As they ventured into the unknown, the explorers discovered a secret.\\n\\nA mysterious person had left a note in the room, saying he had lost his job. They took it and went to the safe house and found the note.\\n\\nThe adventurer began to question where the note was and how the note came to be.\\n\\nThe adventurer asked the note to tell them where the traveler was. They found the note in a large tree in the area where they were going.\\n\\nThe',\n",
              " 'The book he left behind contained secrets about the world and its history.\\n\\nIn the book he gave the reader a story that would be \"totally unique and totally compelling.\"\\n\\nSo why was he so worried about this book?\\n\\nIt was because he wanted to make sure that it would be a story that people who read it would read.\\n\\nI think that\\'s what he was hoping to do.\\n\\nWhat did you think?\\n\\nI think that he was hoping',\n",
              " 'In the midst of chaos, she managed to find her own way through the crowd.\\n\\nThe crowd gasped, and the girl turned to look at her.\\n\\n\"I… I\\'m sorry…\" she said in a voice that sounded quite unhinged.\\n\\n\"I\\'m sorry for having to go through this…\" she said.\\n\\n\"It\\'s just… it\\'s not my fault.\" The girl said with a slight smile.\\n\\n\"But, you\\'re also trying to',\n",
              " 'With great determination, he decided to pursue the opportunity.\\n\\n\"I just wanted to go out there, and play basketball. But then I started having a mental breakdown,\" he said. \"It just made it more difficult for me. I think it\\'s an unfortunate situation.\"\\n\\nThat mental breakdown led to the call to end his four-year NBA career, but the two parties never reached a deal.\\n\\nNow the 28-year-old has returned to the NBA, and he',\n",
              " 'The ancient artifact was believed to hold the power to control the souls of the fallen, and it was believed that the spirit of the fallen was responsible for the power of the demon. It is said that a spirit of a demon must be a descendant of the spirit of the fallen and that the spirit of the fallen was responsible for the power of the demons, and the spirits of the fallen were responsible for the power of the demons. This was the case with the demon of the day.\\n\\nThe',\n",
              " 'After analyzing the data, the scientist concluded that the data are consistent with the hypothesis that the presence of a new, common ancestor is responsible for the formation of the human species, despite its absence.\\n\\n\"We found that the presence of the new common ancestor is a factor in the evolution of modern humans,\" said Prof. Tumseh.\\n\\nThe study was published online in the journal Nature Communications.',\n",
              " 'The unexpected letter he received revealed he had had been living in the UK for five years and had been living in the UK for the past five years.\\n\\nThe letter reveals that he had been living in the UK for five years and had been living in the UK for the past five years.\\n\\nThe letter states that he has been living in the UK for five years and had been living in the UK for the past five years\\n\\nThe letter states that he has been living in the UK',\n",
              " \"At the edge of the universe, there exists a galaxy called the Big Bang. It is about 4.5 billion light-years away from Earth. That is just a tiny fraction of the whole universe.\\n\\nWe can't see the Big Bang because the Big Bang is so small. So we have to go into the universe and see what it is. The Big Bang has just created this giant black hole.\\n\\nSo what is the Big Bang? It's the first time in history that\",\n",
              " 'When I opened the mysterious box, I found a small, sealed box. I opened it and found a small, sealed box.\\n\\nThe box was a very small box. It was about six feet long and had a face. It had a very small face. It had a very small face. It had a very small face.\\n\\nI opened the box and found a small, sealed box. I opened it and found a small, sealed box. I opened it and found a small',\n",
              " 'The truth about her past was finally uncovered by an FBI informant.\\n\\nHer story was uncovered by a FBI informant who was working for the FBI.\\n\\nShe was an informant for the FBI.\\n\\nShe was an informant for the FBI.\\n\\nShe was an informant for the FBI.\\n\\nShe was an informant for the FBI.\\n\\nShe was an informant for the FBI.\\n\\nShe was an informant for the FBI.\\n\\nShe was an informant for the FBI.',\n",
              " 'As the rain poured down, I remembered how I was standing there, alone, in front of a house, when a man came to say he was going to kill me.\\n\\n\"Who is that?\" I asked, taking the opportunity to ask him something.\\n\\n\"It\\'s the murderer,\" he answered, his voice barely a whisper. \"He\\'s a doctor, he killed my daughter, he killed my sister, he murdered my brother, he killed my brother\\'s wife, he killed',\n",
              " \"In the heart of the city lies a hidden cemetery, where the remains of a city councilman, a small business owner, and a few other residents still stand. The mayor, the mayor's cousin, the mayor's brother, and the mayor's uncle, all of whom were born in the city, are all buried at the cemetery.\\n\\nIt is not known why they were buried, but there is a memorial to them here, a place where a young man from the city's black community\",\n",
              " 'For generations, people have searched for a way to find their own way out of a hopeless situation, but now it seems that a new way of living is on the horizon.\\n\\nThe New York Times reported today on the latest developments in the fight against homelessness, which it describes as a fight \"that\\'s been going on for a long time and that has been going on for a long time.\"\\n\\nIn its report, the New York Times cites two recent studies that suggest that the homeless are',\n",
              " 'In the silence of the night, a faint sound of a door opening in the darkness, as if some unseen force had been pulling the door open, and the door was opened. There it was, and the door was locked.\\n\\nThe lights were dimmed, and the door swung open.\\n\\n\"I see you\\'ve been awake, sir,\" he said, in a low voice.\\n\\nHe was right, he said, but he didn\\'t know why. He had heard this',\n",
              " 'The key to solving the mystery was hidden within the system\\'s memory.\\n\\n\"When you look at this system, the system is very large. It\\'s not big enough for a game to work. It\\'s not big enough to fit in your memory.\"\\n\\nThe game was released as part of the PlayStation 4\\'s online store, and was based on an arcade game from the same studio that helped launch the PlayStation 3.\\n\\nThe system also is based on a game that was developed by',\n",
              " \"In a world dominated by technology, humans have forgotten how to read. And they've also forgotten how to interact with the world around them, even if it's in a way that makes them feel like they're in the wrong place at the wrong time.\\n\\nThat's why we've seen a great deal of human ingenuity in the past few years. The world has come to realize that human creativity is inherently connected to other human creativity. This has made it possible for people to harness their creativity to\",\n",
              " 'The hero stood before the crowd, ready to kill them.\\n\\n\"You\\'re no coward,\" she said. \"You\\'ll kill me.\"\\n\\nHer words were sharp and resolute.\\n\\n\"I\\'m not going to do it,\" he said. \"I\\'m not going to do this. I\\'m not going to do that.\"\\n\\nHe didn\\'t say she had to be a coward, she just had to do it.\\n\\n\"I\\'m going to kill you,\"',\n",
              " 'The strange object they discovered in the desert was a large, rectangular, black-robed human, much like the one on the other side of the desert.\\n\\n\"That\\'s the thing,\" said the man. \"It\\'s a beast.\"\\n\\nThe man said the creature was about 10 feet long and had a long tail, and was very large.\\n\\n\"I don\\'t know why they\\'re here, but it\\'s a beast,\" said the man. \"It\\'s a lot',\n",
              " 'During the experiment, the team noticed a strange pattern in the neurons and the ability of the neurons to fire in response to different stimuli.\\n\\n\"We\\'ve shown that the neurons that fire when they see a signal are more likely to fire when the stimulus is different,\" says lead researcher Gabor Gurbach. \"If we know that the neurons that fire when they see a signal are more likely to fire when the stimulus is different, then we can predict whether a stimulus has a different effect on',\n",
              " 'The prophecy foretold that only one person could bring justice to the oppressed and that the only man who could bring justice to the oppressed could be the Messiah.\\n\\nThe Church has spoken.\\n\\nThe Church has spoken.\\n\\nThe Church has spoken.\\n\\nThe Church has spoken.\\n\\nThe Church has spoken.\\n\\nThe Church has spoken.\\n\\nThe Church has spoken.\\n\\nThe Church has spoken.\\n\\nThe Church has spoken.\\n\\nThe Church has spoken',\n",
              " 'On the day of the celebration, everyone gathered to celebrate the 100th anniversary of the original Mardi Gras, the first of its kind. This was not a celebration of the original Mardi Gras, but a celebration of the Mardi Gras itself. The Mardi Gras was the first of its kind, and the first time that the word was used in a mainstream way was to be associated with it.\\n\\nIt was the first time that the word was used in a mainstream',\n",
              " \"With newfound courage, she set out to find a way to keep herself safe.\\n\\nIn the final days of her quest, she discovered a secret to help her fellow members of her team. She took a different path than her teammates, and was able to defeat the Dark Lord once and for all.\\n\\nNow, she must face the Dark Lord once and for all.\\n\\nWith the help of the Dark Lord's army of warriors, the Lightbringer has arrived in the world of Az\",\n",
              " 'In a remote village, people believe in the power of prayer. The villagers are said to be very devout about the practice.\\n\\nThe BBC\\'s Tim Allen in Beijing says that many of the villagers have come to the belief that their belief in prayer is the result of a divine intervention.\\n\\nImage copyright Reuters Image caption The government says that the practice of prayer is \"in harmony\" with religion\\n\\nIn the rural village of Chigang, where most of the villagers are Muslims, the',\n",
              " 'As they reached the summit of the mountain, they saw a single red truck, which was also covered in a blanket.\\n\\n\"We saw a huge white truck, and we saw a white car that was moving toward us,\" said Paul. \"It was very large and very big. We were all very scared.\"\\n\\nHe said they tried to tell him that there was no one nearby, but that it was \"not a normal situation.\" He said he and other people were driving the truck',\n",
              " 'The purpose of the secret organization was to conceal the existence of the Nazis and to ensure that they were not to be trusted. The Nazis did not consider themselves patriots and so they were forced to obey the laws of the land. The secret organization was to protect the \"national interests\" of the government, especially the Jews.\\n\\nThe Nazis were to be a \"public service\" organisation, because the public service was to be a public service. The Nazis were to be a secret organisation for the',\n",
              " 'At the break of dawn, the soldiers prepared to leave, but one of them was standing by, and told them to stay.\\n\\nThe other soldier, who was still in the rear, told them to go back.\\n\\n\"You have to go back to your comrades at the top, because the army is only here to protect you,\" the soldier said. \"We don\\'t want to do this to you.\"\\n\\nThey left the barracks without any problem.\\n\\n\"I went',\n",
              " 'Her dream was to create a world where everyone could have a fair shot at success.\\n\\nAs a parent of a kid who was raised in a working-class family, I was fascinated with the idea of being able to live my dreams and not having to worry about being out of work.\\n\\nBut the more I thought about it, the more I realized that being an artist is a lifelong dream, and that the only way I could take on that job was to do something I knew would',\n",
              " 'After years of conflict, the two sides finally agreed to build a peace treaty and in July 2010 signed a peace treaty.\\n\\nIn a joint statement, the U.S., Egypt, Israel, Morocco and the United Arab Emirates called on the international community to support the cease-fire.\\n\\nEgypt has long accused Israel of conducting an illegal blockade, which it denies.\\n\\nIsrael said it is ready to pay $10 million in fines and imprisonment to the Palestinian Authority for its blockade.\\n',\n",
              " 'The sound of laughter filled the air as they began to rise.\\n\\n\"Hahaha, you\\'re right. The world\\'s a little bit more boring now. I don\\'t know why you\\'re laughing at me.\"\\n\\n\"It\\'s because I\\'m not a monster.\"\\n\\n\"That\\'s right. I\\'m not a monster, I\\'m just a human.\"\\n\\nAfter this, they had to stop to look around. The scenery was not as dark as it had been before',\n",
              " \"For the first time in history, humans have the ability to walk on water. As the sea water temperature rises, the ocean absorbs more nutrients and the water gets more acidic.\\n\\nThe researchers believe that the Earth's oceans are also being disrupted by a new type of carbon that is a greenhouse gas.\\n\\nThe new type of carbon is called nitrogen oxides (NOx).\\n\\nNOx is produced by the burning of fossil fuels such as coal and gas, while CO2 is converted\",\n",
              " 'The recipe handed down from her grandmother contained five basic ingredients: a carrot, a beetroot, a red pepper, a red pepper pepper, and black pepper.\\n\\n\"It was like an Easter egg, but it was really simple,\" she said.\\n\\nWhen she came to learn about the recipe, she was shocked at how little she knew about the recipes she and her grandmother made.\\n\\n\"I was like, \\'Oh my god, my grandma actually does this,\\'\" she said.',\n",
              " 'With only a map and a compass, he set out to find the lost tribe of Mists. He quickly found it and found out that it was a small tribe of people who believed in the One God. He also discovered that the tribe of Mists had a name, the Elam. This new name was given to them as \"The Elams,\" and they were called \"The Elams\" because of their tribal status. After a few years of searching, he discovered that the',\n",
              " 'In the ancient library, she found a book that described the first time she had seen a woman\\'s breasts.\\n\\n\"I was just very excited when I saw the picture,\" she says. \"I wanted to know more. I felt very lucky that I had seen something so beautiful, so beautiful.\"\\n\\nShe has been studying the anatomy of breasts for two years, and she is now a member of the International Breast Research Association.\\n\\n\"I have always wanted to be a breast researcher',\n",
              " \"They say the waterfall in the forest has the power to move people, but if they don't use it, the trees will die. So people need to use their own power.\\n\\nThere are two major types of trees. The first is the black-green one, which grows in the lower elevations and is called the blue-green one. The blue-green tree is the easiest to spot because it is so big and has a very strong wind. It is also the most beautiful tree\",\n",
              " \"Her invention had the potential to change the way we think about life and how we live.\\n\\nBut it wasn't until the 1960s, when the United States and other developed countries began to embrace new technological advances that we became aware of the potential of the new technologies we were creating.\\n\\nThe U.S. military developed its first modern fighter aircraft in the late 1960s. The first to incorporate advanced electronic warfare systems, the F-35, and a variety of other aircraft were developed\",\n",
              " 'At the end of the journey, they discovered the body of a woman. She was a woman with no face. She was a very poor woman. She was suffering from severe dehydration.\\n\\nThe police had not brought the body to the hospital, but they had been called in to check the body and the body was found, with blood all over the floor.\\n\\nThey had also taken the body from a house in the city, and the body was found in a nearby river.\\n\\n',\n",
              " \"The artifact was a relic from a civilization that would have been extinct if not for a few humanoids. They had brought it with them to their colony, but it wasn't the only artifact they had left behind.\\n\\nThere were many more artifacts in the city of the same name, but they had each been carefully prepared for their discovery.\\n\\nThe artifact was a large piece of metal that had been used in a ritual for several centuries. It was carved into the surface of the ground and\",\n",
              " 'With a deep breath, he stepped forward and declared to the two men. \"I am a human being. I am not a man of any kind, and I cannot be a human being.\"\\n\\nThe men looked at each other for a moment. Then one of them asked, \"Do you think that I should be a man?\" The other replied, \"No, but I am not a human being.\"\\n\\n\"You have no idea what a human is,\" the man said. \"']"
            ]
          },
          "execution_count": 1501,
          "metadata": {},
          "output_type": "execute_result"
        }
      ],
      "source": [
        "start_time = time.time()\n",
        "\n",
        "small_generator_inference = [small_generator(sentence, truncation=\"longest_first\", max_length=100)[0][\"generated_text\"] for sentence in incomplete_sentences]\n",
        "\n",
        "end_time = time.time()\n",
        "\n",
        "time_taken = round(end_time - start_time, 4)\n",
        "\n",
        "print(f\"Tiempo tomado para inferenciar: {time_taken} Segundos...\")\n",
        "small_generator_inference"
      ]
    },
    {
      "cell_type": "code",
      "execution_count": null,
      "id": "c518546a-79e0-4511-b221-6466479bea1c",
      "metadata": {
        "id": "c518546a-79e0-4511-b221-6466479bea1c",
        "outputId": "c099b1c5-7319-45d4-d9f9-6b8b75900bae"
      },
      "outputs": [
        {
          "name": "stdout",
          "output_type": "stream",
          "text": [
            "The advancements in artificial intelligence are leading to a new generation of scientists who are able to make a machine that is much more like a person.\n",
            "\n",
            "\"We are going to find new ways of making people better.\"\n",
            "\n",
            "The new robot, dubbed the LAMC-1, will be able to recognize humans without knowing they're there.\n",
            "\n",
            "\"It's amazing how much that could change how people perceive, interact with and interact with robots,\" said LAMC-1 co-founder\n"
          ]
        }
      ],
      "source": [
        "print(small_generator_inference[0]) # Viendo si tiene sentido."
      ]
    },
    {
      "cell_type": "code",
      "execution_count": null,
      "id": "6e6e3783-2ca1-4188-93db-62441aedd07b",
      "metadata": {
        "scrolled": true,
        "id": "6e6e3783-2ca1-4188-93db-62441aedd07b",
        "outputId": "fd2d2a9f-fc50-46a5-e415-5306cc95e7cb"
      },
      "outputs": [
        {
          "data": {
            "text/plain": [
              "[36.4392204284668,\n",
              " 19.059797286987305,\n",
              " 34.46731185913086,\n",
              " 44.14057922363281,\n",
              " 31.005970001220703,\n",
              " 40.8111572265625,\n",
              " 24.360328674316406,\n",
              " 24.99569320678711,\n",
              " 19.62407875061035,\n",
              " 26.386611938476562,\n",
              " 21.95577621459961,\n",
              " 161.3514404296875,\n",
              " 41.541786193847656,\n",
              " 162.34567260742188,\n",
              " 21.615110397338867,\n",
              " 51.64354705810547,\n",
              " 46.86966323852539,\n",
              " 25.8742618560791,\n",
              " 526.4220581054688,\n",
              " 26.16121482849121,\n",
              " 28.806222915649414,\n",
              " 130.45065307617188,\n",
              " 46.4008674621582,\n",
              " 21.772619247436523,\n",
              " 31.85970687866211,\n",
              " 25.788667678833008,\n",
              " 71.14441680908203,\n",
              " 34.58007049560547,\n",
              " 46.32122802734375,\n",
              " 81.7161865234375,\n",
              " 32.886451721191406,\n",
              " 82.15933227539062,\n",
              " 23.123207092285156,\n",
              " 50.107444763183594,\n",
              " 46.07823181152344,\n",
              " 17.45756721496582,\n",
              " 56.54601287841797,\n",
              " 41.83182144165039,\n",
              " 14.204627990722656,\n",
              " 19.31768035888672,\n",
              " 23.404773712158203,\n",
              " 8.344813346862793,\n",
              " 583.8583984375,\n",
              " 32.002784729003906,\n",
              " 46.38890838623047,\n",
              " 60.55354690551758,\n",
              " 42.391868591308594,\n",
              " 13.932894706726074,\n",
              " 55.70965576171875,\n",
              " 33.336021423339844]"
            ]
          },
          "execution_count": 1503,
          "metadata": {},
          "output_type": "execute_result"
        }
      ],
      "source": [
        "\n",
        "perplexities = [] # Arreglo vacío para calcular perplexities.\n",
        "\n",
        "for  sentence in incomplete_sentences:\n",
        "    # Tokenizar el texto utilizando  el tokenizer del pipeline\n",
        "    inputs = small_generator.tokenizer(sentence, return_tensors=\"pt\") # return tensor for pytorch\n",
        "\n",
        "    with torch.no_grad():\n",
        "        outputs = small_generator.model(**inputs, labels=inputs[\"input_ids\"])\n",
        "        loss = outputs.loss\n",
        "\n",
        "    # Calcular la perplejidad\n",
        "    perplexity = torch.exp(loss)\n",
        "    perplexities.append(perplexity)\n",
        "\n",
        "perplexities = [p.item() for p in perplexities]\n",
        "perplexities"
      ]
    },
    {
      "cell_type": "code",
      "execution_count": null,
      "id": "530362cd-6a10-49fb-ade1-98c35fe2338d",
      "metadata": {
        "scrolled": true,
        "id": "530362cd-6a10-49fb-ade1-98c35fe2338d",
        "outputId": "d8b2fdf2-4e23-4d79-a967-8503a523e2e9"
      },
      "outputs": [
        {
          "data": {
            "text/html": [
              "<div>\n",
              "<style scoped>\n",
              "    .dataframe tbody tr th:only-of-type {\n",
              "        vertical-align: middle;\n",
              "    }\n",
              "\n",
              "    .dataframe tbody tr th {\n",
              "        vertical-align: top;\n",
              "    }\n",
              "\n",
              "    .dataframe thead th {\n",
              "        text-align: right;\n",
              "    }\n",
              "</style>\n",
              "<table border=\"1\" class=\"dataframe\">\n",
              "  <thead>\n",
              "    <tr style=\"text-align: right;\">\n",
              "      <th></th>\n",
              "      <th>Generated Sentence</th>\n",
              "      <th>Perplexity</th>\n",
              "    </tr>\n",
              "  </thead>\n",
              "  <tbody>\n",
              "    <tr>\n",
              "      <th>0</th>\n",
              "      <td>The advancements in artificial intelligence ar...</td>\n",
              "      <td>47.441746</td>\n",
              "    </tr>\n",
              "    <tr>\n",
              "      <th>1</th>\n",
              "      <td>In a world where technology continues to evolv...</td>\n",
              "      <td>19.946609</td>\n",
              "    </tr>\n",
              "    <tr>\n",
              "      <th>2</th>\n",
              "      <td>The future of humanity lies in the ability to ...</td>\n",
              "      <td>29.846401</td>\n",
              "    </tr>\n",
              "    <tr>\n",
              "      <th>3</th>\n",
              "      <td>When scientists discovered the new form of ene...</td>\n",
              "      <td>41.350029</td>\n",
              "    </tr>\n",
              "    <tr>\n",
              "      <th>4</th>\n",
              "      <td>As I walked through the forest that day, I sud...</td>\n",
              "      <td>18.491995</td>\n",
              "    </tr>\n",
              "    <tr>\n",
              "      <th>5</th>\n",
              "      <td>The secret to achieving true happiness is to b...</td>\n",
              "      <td>37.926476</td>\n",
              "    </tr>\n",
              "    <tr>\n",
              "      <th>6</th>\n",
              "      <td>With the discovery of life on another planet, ...</td>\n",
              "      <td>13.808712</td>\n",
              "    </tr>\n",
              "    <tr>\n",
              "      <th>7</th>\n",
              "      <td>After years of research, they finally created ...</td>\n",
              "      <td>17.998035</td>\n",
              "    </tr>\n",
              "    <tr>\n",
              "      <th>8</th>\n",
              "      <td>In the year 2050, the world has transformed in...</td>\n",
              "      <td>20.325085</td>\n",
              "    </tr>\n",
              "    <tr>\n",
              "      <th>9</th>\n",
              "      <td>Despite all the challenges, she believed that ...</td>\n",
              "      <td>20.752316</td>\n",
              "    </tr>\n",
              "    <tr>\n",
              "      <th>10</th>\n",
              "      <td>In the quiet of the evening, I heard a voice w...</td>\n",
              "      <td>15.814443</td>\n",
              "    </tr>\n",
              "    <tr>\n",
              "      <th>11</th>\n",
              "      <td>The invention that changed the world forever w...</td>\n",
              "      <td>118.671661</td>\n",
              "    </tr>\n",
              "    <tr>\n",
              "      <th>12</th>\n",
              "      <td>As they ventured into the unknown, the explore...</td>\n",
              "      <td>30.987804</td>\n",
              "    </tr>\n",
              "    <tr>\n",
              "      <th>13</th>\n",
              "      <td>The book he left behind contained secrets abou...</td>\n",
              "      <td>146.375061</td>\n",
              "    </tr>\n",
              "    <tr>\n",
              "      <th>14</th>\n",
              "      <td>In the midst of chaos, she managed to find her...</td>\n",
              "      <td>16.962440</td>\n",
              "    </tr>\n",
              "    <tr>\n",
              "      <th>15</th>\n",
              "      <td>With great determination, he decided to pursue...</td>\n",
              "      <td>66.501823</td>\n",
              "    </tr>\n",
              "    <tr>\n",
              "      <th>16</th>\n",
              "      <td>The ancient artifact was believed to hold the ...</td>\n",
              "      <td>41.016308</td>\n",
              "    </tr>\n",
              "    <tr>\n",
              "      <th>17</th>\n",
              "      <td>After analyzing the data, the scientist conclu...</td>\n",
              "      <td>15.358923</td>\n",
              "    </tr>\n",
              "    <tr>\n",
              "      <th>18</th>\n",
              "      <td>The unexpected letter he received revealed he ...</td>\n",
              "      <td>553.356201</td>\n",
              "    </tr>\n",
              "    <tr>\n",
              "      <th>19</th>\n",
              "      <td>At the edge of the universe, there exists a ga...</td>\n",
              "      <td>14.458283</td>\n",
              "    </tr>\n",
              "    <tr>\n",
              "      <th>20</th>\n",
              "      <td>When I opened the mysterious box, I found a sm...</td>\n",
              "      <td>19.778685</td>\n",
              "    </tr>\n",
              "    <tr>\n",
              "      <th>21</th>\n",
              "      <td>The truth about her past was finally uncovered...</td>\n",
              "      <td>68.537216</td>\n",
              "    </tr>\n",
              "    <tr>\n",
              "      <th>22</th>\n",
              "      <td>As the rain poured down, I remembered how I wa...</td>\n",
              "      <td>23.949408</td>\n",
              "    </tr>\n",
              "    <tr>\n",
              "      <th>23</th>\n",
              "      <td>In the heart of the city lies a hidden cemeter...</td>\n",
              "      <td>16.513823</td>\n",
              "    </tr>\n",
              "    <tr>\n",
              "      <th>24</th>\n",
              "      <td>For generations, people have searched for a wa...</td>\n",
              "      <td>32.749939</td>\n",
              "    </tr>\n",
              "    <tr>\n",
              "      <th>25</th>\n",
              "      <td>In the silence of the night, a faint sound of ...</td>\n",
              "      <td>14.875834</td>\n",
              "    </tr>\n",
              "    <tr>\n",
              "      <th>26</th>\n",
              "      <td>The key to solving the mystery was hidden with...</td>\n",
              "      <td>47.039646</td>\n",
              "    </tr>\n",
              "    <tr>\n",
              "      <th>27</th>\n",
              "      <td>In a world dominated by technology, humans hav...</td>\n",
              "      <td>28.143938</td>\n",
              "    </tr>\n",
              "    <tr>\n",
              "      <th>28</th>\n",
              "      <td>The hero stood before the crowd, ready to kill...</td>\n",
              "      <td>40.907845</td>\n",
              "    </tr>\n",
              "    <tr>\n",
              "      <th>29</th>\n",
              "      <td>The strange object they discovered in the dese...</td>\n",
              "      <td>90.035721</td>\n",
              "    </tr>\n",
              "    <tr>\n",
              "      <th>30</th>\n",
              "      <td>During the experiment, the team noticed a stra...</td>\n",
              "      <td>21.717358</td>\n",
              "    </tr>\n",
              "    <tr>\n",
              "      <th>31</th>\n",
              "      <td>The prophecy foretold that only one person cou...</td>\n",
              "      <td>37.755627</td>\n",
              "    </tr>\n",
              "    <tr>\n",
              "      <th>32</th>\n",
              "      <td>On the day of the celebration, everyone gather...</td>\n",
              "      <td>21.461239</td>\n",
              "    </tr>\n",
              "    <tr>\n",
              "      <th>33</th>\n",
              "      <td>With newfound courage, she set out to find a w...</td>\n",
              "      <td>55.538925</td>\n",
              "    </tr>\n",
              "    <tr>\n",
              "      <th>34</th>\n",
              "      <td>In a remote village, people believe in the pow...</td>\n",
              "      <td>29.602333</td>\n",
              "    </tr>\n",
              "    <tr>\n",
              "      <th>35</th>\n",
              "      <td>As they reached the summit of the mountain, th...</td>\n",
              "      <td>9.218261</td>\n",
              "    </tr>\n",
              "    <tr>\n",
              "      <th>36</th>\n",
              "      <td>The purpose of the secret organization was to ...</td>\n",
              "      <td>40.606106</td>\n",
              "    </tr>\n",
              "    <tr>\n",
              "      <th>37</th>\n",
              "      <td>At the break of dawn, the soldiers prepared to...</td>\n",
              "      <td>18.442295</td>\n",
              "    </tr>\n",
              "    <tr>\n",
              "      <th>38</th>\n",
              "      <td>Her dream was to create a world where everyone...</td>\n",
              "      <td>11.845106</td>\n",
              "    </tr>\n",
              "    <tr>\n",
              "      <th>39</th>\n",
              "      <td>After years of conflict, the two sides finally...</td>\n",
              "      <td>11.569950</td>\n",
              "    </tr>\n",
              "    <tr>\n",
              "      <th>40</th>\n",
              "      <td>The sound of laughter filled the air as they b...</td>\n",
              "      <td>18.823454</td>\n",
              "    </tr>\n",
              "    <tr>\n",
              "      <th>41</th>\n",
              "      <td>For the first time in history, humans have the...</td>\n",
              "      <td>7.375147</td>\n",
              "    </tr>\n",
              "    <tr>\n",
              "      <th>42</th>\n",
              "      <td>The recipe handed down from her grandmother co...</td>\n",
              "      <td>203.167282</td>\n",
              "    </tr>\n",
              "    <tr>\n",
              "      <th>43</th>\n",
              "      <td>With only a map and a compass, he set out to f...</td>\n",
              "      <td>19.679169</td>\n",
              "    </tr>\n",
              "    <tr>\n",
              "      <th>44</th>\n",
              "      <td>In the ancient library, she found a book that ...</td>\n",
              "      <td>35.310684</td>\n",
              "    </tr>\n",
              "    <tr>\n",
              "      <th>45</th>\n",
              "      <td>They say the waterfall in the forest has the p...</td>\n",
              "      <td>36.778492</td>\n",
              "    </tr>\n",
              "    <tr>\n",
              "      <th>46</th>\n",
              "      <td>Her invention had the potential to change the ...</td>\n",
              "      <td>36.201138</td>\n",
              "    </tr>\n",
              "    <tr>\n",
              "      <th>47</th>\n",
              "      <td>At the end of the journey, they discovered the...</td>\n",
              "      <td>10.718668</td>\n",
              "    </tr>\n",
              "    <tr>\n",
              "      <th>48</th>\n",
              "      <td>The artifact was a relic from a civilization t...</td>\n",
              "      <td>60.465630</td>\n",
              "    </tr>\n",
              "    <tr>\n",
              "      <th>49</th>\n",
              "      <td>With a deep breath, he stepped forward and dec...</td>\n",
              "      <td>22.053694</td>\n",
              "    </tr>\n",
              "  </tbody>\n",
              "</table>\n",
              "</div>"
            ],
            "text/plain": [
              "                                   Generated Sentence  Perplexity\n",
              "0   The advancements in artificial intelligence ar...   47.441746\n",
              "1   In a world where technology continues to evolv...   19.946609\n",
              "2   The future of humanity lies in the ability to ...   29.846401\n",
              "3   When scientists discovered the new form of ene...   41.350029\n",
              "4   As I walked through the forest that day, I sud...   18.491995\n",
              "5   The secret to achieving true happiness is to b...   37.926476\n",
              "6   With the discovery of life on another planet, ...   13.808712\n",
              "7   After years of research, they finally created ...   17.998035\n",
              "8   In the year 2050, the world has transformed in...   20.325085\n",
              "9   Despite all the challenges, she believed that ...   20.752316\n",
              "10  In the quiet of the evening, I heard a voice w...   15.814443\n",
              "11  The invention that changed the world forever w...  118.671661\n",
              "12  As they ventured into the unknown, the explore...   30.987804\n",
              "13  The book he left behind contained secrets abou...  146.375061\n",
              "14  In the midst of chaos, she managed to find her...   16.962440\n",
              "15  With great determination, he decided to pursue...   66.501823\n",
              "16  The ancient artifact was believed to hold the ...   41.016308\n",
              "17  After analyzing the data, the scientist conclu...   15.358923\n",
              "18  The unexpected letter he received revealed he ...  553.356201\n",
              "19  At the edge of the universe, there exists a ga...   14.458283\n",
              "20  When I opened the mysterious box, I found a sm...   19.778685\n",
              "21  The truth about her past was finally uncovered...   68.537216\n",
              "22  As the rain poured down, I remembered how I wa...   23.949408\n",
              "23  In the heart of the city lies a hidden cemeter...   16.513823\n",
              "24  For generations, people have searched for a wa...   32.749939\n",
              "25  In the silence of the night, a faint sound of ...   14.875834\n",
              "26  The key to solving the mystery was hidden with...   47.039646\n",
              "27  In a world dominated by technology, humans hav...   28.143938\n",
              "28  The hero stood before the crowd, ready to kill...   40.907845\n",
              "29  The strange object they discovered in the dese...   90.035721\n",
              "30  During the experiment, the team noticed a stra...   21.717358\n",
              "31  The prophecy foretold that only one person cou...   37.755627\n",
              "32  On the day of the celebration, everyone gather...   21.461239\n",
              "33  With newfound courage, she set out to find a w...   55.538925\n",
              "34  In a remote village, people believe in the pow...   29.602333\n",
              "35  As they reached the summit of the mountain, th...    9.218261\n",
              "36  The purpose of the secret organization was to ...   40.606106\n",
              "37  At the break of dawn, the soldiers prepared to...   18.442295\n",
              "38  Her dream was to create a world where everyone...   11.845106\n",
              "39  After years of conflict, the two sides finally...   11.569950\n",
              "40  The sound of laughter filled the air as they b...   18.823454\n",
              "41  For the first time in history, humans have the...    7.375147\n",
              "42  The recipe handed down from her grandmother co...  203.167282\n",
              "43  With only a map and a compass, he set out to f...   19.679169\n",
              "44  In the ancient library, she found a book that ...   35.310684\n",
              "45  They say the waterfall in the forest has the p...   36.778492\n",
              "46  Her invention had the potential to change the ...   36.201138\n",
              "47  At the end of the journey, they discovered the...   10.718668\n",
              "48  The artifact was a relic from a civilization t...   60.465630\n",
              "49  With a deep breath, he stepped forward and dec...   22.053694"
            ]
          },
          "execution_count": 1537,
          "metadata": {},
          "output_type": "execute_result"
        }
      ],
      "source": [
        "df_small_gen_sentences_perpl = pd.DataFrame({\"Generated Sentence\": small_generator_inference, \"Perplexity\": perplexities})\n",
        "df_small_gen_sentences_perpl"
      ]
    },
    {
      "cell_type": "code",
      "execution_count": null,
      "id": "a461797c-06e5-48fe-b613-45ce8493b608",
      "metadata": {
        "id": "a461797c-06e5-48fe-b613-45ce8493b608"
      },
      "outputs": [],
      "source": [
        "benchmark.loc[('Model1', \"Size1\"), (\"Text Generation\", \"Name\")] =  model.name_or_path\n",
        "benchmark.loc[('Model1', \"Size1\"), (\"Text Generation\", \"Size (GB)\")] =  model_memory_size_gb\n",
        "benchmark.loc[('Model1', \"Size1\"), (\"Text Generation\", \"Qty of Parameters\")] =  total_params\n",
        "benchmark.loc[('Model1', \"Size1\"), (\"Text Generation\", \"Inference Time\")] =  time_taken\n",
        "benchmark.loc[('Model1', \"Size1\"), (\"Text Generation\", \"Metric\")] =  f\"Average perplexity: {np.mean(perplexities)}\""
      ]
    },
    {
      "cell_type": "code",
      "execution_count": null,
      "id": "487e3d1b-e9c9-4645-a2c1-5c5a5b733009",
      "metadata": {
        "id": "487e3d1b-e9c9-4645-a2c1-5c5a5b733009",
        "outputId": "d99e2576-af04-49f8-b178-2e34b394e3e6"
      },
      "outputs": [
        {
          "data": {
            "text/html": [
              "<div>\n",
              "<style scoped>\n",
              "    .dataframe tbody tr th:only-of-type {\n",
              "        vertical-align: middle;\n",
              "    }\n",
              "\n",
              "    .dataframe tbody tr th {\n",
              "        vertical-align: top;\n",
              "    }\n",
              "\n",
              "    .dataframe thead th {\n",
              "        text-align: right;\n",
              "    }\n",
              "</style>\n",
              "<table border=\"1\" class=\"dataframe\">\n",
              "  <thead>\n",
              "    <tr style=\"text-align: right;\">\n",
              "      <th></th>\n",
              "      <th>Info</th>\n",
              "      <th>Name</th>\n",
              "      <th>Inference Time</th>\n",
              "      <th>Size (GB)</th>\n",
              "      <th>Qty of Parameters</th>\n",
              "      <th>Metric</th>\n",
              "    </tr>\n",
              "    <tr>\n",
              "      <th>Model</th>\n",
              "      <th>Size</th>\n",
              "      <th></th>\n",
              "      <th></th>\n",
              "      <th></th>\n",
              "      <th></th>\n",
              "      <th></th>\n",
              "    </tr>\n",
              "  </thead>\n",
              "  <tbody>\n",
              "    <tr>\n",
              "      <th rowspan=\"2\" valign=\"top\">Model1</th>\n",
              "      <th>Size1</th>\n",
              "      <td>gpt2</td>\n",
              "      <td>235.7916</td>\n",
              "      <td>0.463574</td>\n",
              "      <td>124439808</td>\n",
              "      <td>Average perplexity: 63.79095924377442</td>\n",
              "    </tr>\n",
              "    <tr>\n",
              "      <th>Size2</th>\n",
              "      <td>NaN</td>\n",
              "      <td>NaN</td>\n",
              "      <td>NaN</td>\n",
              "      <td>NaN</td>\n",
              "      <td>NaN</td>\n",
              "    </tr>\n",
              "    <tr>\n",
              "      <th rowspan=\"2\" valign=\"top\">Model2</th>\n",
              "      <th>Size1</th>\n",
              "      <td>NaN</td>\n",
              "      <td>NaN</td>\n",
              "      <td>NaN</td>\n",
              "      <td>NaN</td>\n",
              "      <td>NaN</td>\n",
              "    </tr>\n",
              "    <tr>\n",
              "      <th>Size2</th>\n",
              "      <td>NaN</td>\n",
              "      <td>NaN</td>\n",
              "      <td>NaN</td>\n",
              "      <td>NaN</td>\n",
              "      <td>NaN</td>\n",
              "    </tr>\n",
              "  </tbody>\n",
              "</table>\n",
              "</div>"
            ],
            "text/plain": [
              "Info          Name Inference Time Size (GB) Qty of Parameters  \\\n",
              "Model  Size                                                     \n",
              "Model1 Size1  gpt2       235.7916  0.463574         124439808   \n",
              "       Size2   NaN            NaN       NaN               NaN   \n",
              "Model2 Size1   NaN            NaN       NaN               NaN   \n",
              "       Size2   NaN            NaN       NaN               NaN   \n",
              "\n",
              "Info                                         Metric  \n",
              "Model  Size                                          \n",
              "Model1 Size1  Average perplexity: 63.79095924377442  \n",
              "       Size2                                    NaN  \n",
              "Model2 Size1                                    NaN  \n",
              "       Size2                                    NaN  "
            ]
          },
          "execution_count": 1509,
          "metadata": {},
          "output_type": "execute_result"
        }
      ],
      "source": [
        "benchmark[\"Text Generation\"]"
      ]
    },
    {
      "cell_type": "markdown",
      "id": "0dff81fd-353d-4ef8-ace2-19267b29727a",
      "metadata": {
        "id": "0dff81fd-353d-4ef8-ace2-19267b29727a"
      },
      "source": [
        "#### Medium Size"
      ]
    },
    {
      "cell_type": "code",
      "execution_count": null,
      "id": "f275f6bc-a72d-41ba-947c-3eff4d68456c",
      "metadata": {
        "id": "f275f6bc-a72d-41ba-947c-3eff4d68456c",
        "outputId": "cf88d46b-b96d-445c-f58c-a7ecb6f2fafc"
      },
      "outputs": [
        {
          "name": "stdout",
          "output_type": "stream",
          "text": [
            "El modelo tiene aproximadamente 354,823,168 parámetros.\n",
            "El modelo tiene aproximadamente 1.32 GB en memoria.\n"
          ]
        }
      ],
      "source": [
        "medium_generator = pipeline(\n",
        "    \"text-generation\", model=\"gpt2-medium\", # El mediano de GPT2\n",
        "    model_kwargs={\"cache_dir\": cache_dir},\n",
        "\n",
        "    # Configuración de generación\n",
        "    max_length=50,        # Longitud máxima del texto generado\n",
        "    num_return_sequences=1, # Número de secuencias a generar\n",
        "    do_sample=True,       # Usar muestreo probabilístico\n",
        "    temperature=0.7,      # Control de creatividad\n",
        "    top_k=50,            # Filtro de top-k tokens\n",
        "    top_p=0.95,          # Nucleus sampling\n",
        "    pad_token_id=50256,   # EOS token ID para GPT-2\n",
        "    truncation=True\n",
        ")\n",
        "\n",
        "model = medium_generator.model\n",
        "total_params = sum(p.numel() for p in model.parameters())\n",
        "print(f\"El modelo tiene aproximadamente {total_params:,} parámetros.\")\n",
        "\n",
        "# Calcular el tamaño en memoria del modelo en base al dtype de los parámetros\n",
        "model_memory_size = sum(p.numel() * p.element_size() for p in model.parameters())\n",
        "model_memory_size_gb = model_memory_size / (1024 ** 3)  # Convertir a GB\n",
        "\n",
        "# Mostrar el tamaño en memoria\n",
        "print(f\"El modelo tiene aproximadamente {model_memory_size_gb:.2f} GB en memoria.\")"
      ]
    },
    {
      "cell_type": "code",
      "execution_count": null,
      "id": "232dd4f6-ed2c-4962-80ef-52564f048ee8",
      "metadata": {
        "scrolled": true,
        "id": "232dd4f6-ed2c-4962-80ef-52564f048ee8",
        "outputId": "3a75ffd1-1862-4d0b-bdde-6d3a2b4b9e8c"
      },
      "outputs": [
        {
          "name": "stdout",
          "output_type": "stream",
          "text": [
            "Tiempo tomado para inferenciar: 450.3852 Segundos...\n"
          ]
        },
        {
          "data": {
            "text/plain": [
              "['The advancements in artificial intelligence are leading to the creation of intelligent machines that could be used to assist with the maintenance of human society, but many of these machines may not be able to cope with our current challenges.\\n\\nThe most significant advancement in artificial intelligence is the development of \"machine learning\" – the ability to learn from experience. In artificial intelligence, computers are able to learn from past experiences and then apply that knowledge to create a new, smarter machine.\\n\\nOne way machine learning is used',\n",
              " 'In a world where technology continues to evolve, one day we might be able to use a simple piece of glass to tell the difference between a living organism and a lifeless one.\\n\\nScientists at the University of California at Irvine have developed a type of glass that can detect the presence of living cells inside a cell. The device, called the cell-based microfluidic system (CBMS), is a key part of a new technology being developed at UCI. This technology is being developed to',\n",
              " 'The future of humanity lies in the ability to merge with computers, creating \"super-humans,\" as he calls them. He plans to use their AI systems to create a super-computer that will create artificial intelligence for mankind, an idea that may have some resonance with the idea of merging with machines.\\n\\nThe \"super-human\" concept has long intrigued Musk, who has suggested that humanity could eventually find itself in the same situation as the dinosaurs, a point he made in a 2007 TED Talk',\n",
              " 'When scientists discovered the new form of energy, they realized that it could be used to power an electric car.\\n\\nBut while the first electric vehicle, the Tesla Roadster, was built using a lithium-ion battery pack, the new vehicle is much lighter and uses a carbon-fiber composite.\\n\\nIt is said to be a first in energy storage technology.\\n\\n\"The batteries are used to charge the lithium-ion battery that powers the electric car,\" said John Hargro',\n",
              " 'As I walked through the forest that day, I suddenly saw a silhouette. It was a woman in her mid-20s, with long blonde hair. She had a pale blue suit jacket, and she was wearing a pair of black-and-white sneakers with black heels. As I stared, I noticed she looked familiar. I asked her name, and she said that she was from another world. She said that she had been sent here by the goddesses who had given me the power to',\n",
              " 'The secret to achieving true happiness is to learn how to live in harmony with the universe. To live in harmony with all the other people in the universe. To live in harmony with the universe.\\n\\nI believe the reason we have to go through this journey is to see what it means to be free. To see what it means to be free. To see what it means to be free. To see what it means to be free. To see what it means to be free. To see',\n",
              " \"With the discovery of life on another planet, scientists now know that it likely began with a collision with a planet.\\n\\nThe discovery was made by a team of scientists led by Dr. James Webb of the University of California, Santa Cruz.\\n\\nThe discovery was made by a team of scientists led by Dr. James Webb of the University of California, Santa Cruz. (The Associated Press)\\n\\nThey took the image of the planet's surface using the Hubble Space Telescope's Very Large Telescope\",\n",
              " 'After years of research, they finally created a device that can turn a dime into a dollar.\\n\\nResearchers created a device called a \"dime-sized micromotive laser.\" The laser is placed on a coin, and when it detects a change in the coin, it turns it into a dime.\\n\\nThe team\\'s next step is to create a device that can also turn a dime into a dollar.\\n\\nSo, if you were wondering what a dime was, here\\'s',\n",
              " \"In the year 2050, the world has transformed into a place where people are being exposed to the full range of modern technologies. It's hard to imagine what the world will look like in 2070.\\n\\nWhile many of us might think of it as just the past, a lot of these technologies are actually coming back. Some of the most prominent are:\\n\\nNew technologies are being developed that will affect how we live, work, and play. These are the things that are causing the greatest\",\n",
              " 'Despite all the challenges, she believed that one day she would be able to teach her son to swim.\\n\\nWhen she found out he would be in high school in the fall of 2001, she vowed to get him a swimming team.\\n\\n\"I want to do something for him,\" she said. \"I want to make him swim again.\"\\n\\nShe has since been able to raise about $8,000 to buy a boat for him to swim with.\\n\\nIn the meantime',\n",
              " 'In the quiet of the evening, I heard a voice whisper to me.\\n\\n\"Good evening.\"\\n\\nI turned to face the voice.\\n\\n\"Good evening, friend. I\\'m sorry to bother you. I was just having a thought.\"\\n\\nI didn\\'t know what the thought was. It sounded like some sort of joke, but there was no way I could tell if it was, or if it was anything.\\n\\n\"So…what do you want to talk',\n",
              " 'The invention that changed the world forever was the invention of the transistor.\\n\\n\"The transistor was the first transistor that could be used to communicate with other transistors. That\\'s why it\\'s been called the\\'singularity.\\' It\\'s the beginning of communication between the Internet and the world.\"\\n\\nThe next big thing was that transistor radios. Radio was the first radio that was capable of recording a voice, then sending that voice over the Internet. That was the birth of the Internet.\\n',\n",
              " 'As they ventured into the unknown, the explorers discovered the remains of a long-dead civilization. The planet had been ravaged by a vast enemy, and it was now up to the survivors to fight back against their oppressors.\\n\\nIn the years following the attack, the survivors made their way through the harsh landscapes of the frozen wastes of the world of Tharbad, which had been deserted for centuries by the natives. To survive in this harsh environment, many of the survivors had adapted to the',\n",
              " \"The book he left behind contained secrets about the world he'd seen, about his parents, about the world he'd created for himself. It was a world he'd created in his mind, but it had not been perfect.\\n\\nHis name was Peter Parker, but he didn't know that. He was not Peter Parker. He was the boy who had been created by God, but he wasn't the boy who had lived in God's image. He wasn't the one who had died in\",\n",
              " \"In the midst of chaos, she managed to find a way to control herself and avoid the wrath of the gods, and the gods rewarded her with immortality. Her life is now known as Ayla's Song.\\n\\nThe Firstborn\\n\\nIn this universe, the Firstborn is a male immortal who is the youngest son of the mortal mother and the god of death. He is the first of the gods to inherit the mortal realm and wields the power of the gods. He was born\",\n",
              " 'With great determination, he decided to pursue the job. \"It\\'s a job that I\\'ve wanted to do my whole life, and I\\'ve been so frustrated at times, so I decided to move on and pursue something else,\" he says.\\n\\nHis wife, Janice, says she understands why he chose the career. \"I have two daughters and I want to raise them in a place where they\\'re surrounded by good people,\" she says. \"They want to be successful, they want',\n",
              " 'The ancient artifact was believed to hold the power to grant life to those who had died on its surface, but it was destroyed by the forces of darkness and was never recovered.\\n\\nThe Elder Scrolls Online: Tamriel Unlimited\\n\\nThe artifact was the first object discovered by the Argonians, and it was their first use of the artifact to grant life. This is the only instance of the Elder Scrolls Online that includes a questline related to this artifact.\\n\\nThe Elder Scrolls Online: Tam',\n",
              " 'After analyzing the data, the scientist concluded that the data support a hypothesis that the Earth\\'s climate system is not stable.\\n\\n\"The data show that climate variability is increasing. It\\'s not that we\\'re going backwards,\" he said.\\n\\n\"If you\\'re looking at the atmosphere, it\\'s not changing, it\\'s changing in response to climate change,\" he continued. \"We are at a point where we\\'re just continuing to see this increase in variability.\"\\n\\nWhile the scientists say',\n",
              " 'The unexpected letter he received revealed that the government\\'s own internal security team had investigated the case and found no evidence that the two men were involved in any serious crime.\\n\\nHe also discovered that the letter was sent by a government-owned company and that the company\\'s email address was registered in the name of an unnamed individual, who was also a member of the National Security Council.\\n\\n\"I know we\\'ve been through a lot but this is just unbelievable,\" said Mr. Goudreau',\n",
              " 'At the edge of the universe, there exists a place called \"the Void\". In the Void, life is impossible. There are only two things left to do. You must either accept your fate or fight to survive. What follows is a series of stories that explores the possibilities of the Void.\\n\\nThe Void is not a place of peace. There are no rules or rules that govern the Void. Each of you, each of you is at the mercy of a dark force that seeks to destroy',\n",
              " 'When I opened the mysterious box, I found a small set of instructions. One of them was to fill out the form and send it to me with a quick note. I did this and within a few days, I received an email with my order. I had it delivered to my home in the middle of the night.\\n\\nI opened it and was greeted by the first thing that popped up: the note that I had received from Amazon. I opened it again to find a very strange note',\n",
              " \"The truth about her past was finally uncovered by a friend of the family and she was forced to leave the family home.\\n\\nMs Soubry was a friend of the family who had been living in the house since she was 12.\\n\\nShe was last seen at 8pm on Friday night on the night she went missing.\\n\\nShe is understood to have left the house with her friend on foot when she was taken away.\\n\\nMs Soubry's family are desperate to know\",\n",
              " 'As the rain poured down, I remembered the feeling I had during the rain.\\n\\nI was alone, and my heart pounded with every step I took.\\n\\nI thought of all the things I could do for those around me, the things I could do for them.\\n\\nI thought of what it would be like to be a hero.\\n\\nI thought of everything I could do to make my world a better place.\\n\\nI thought of all of the things I could do',\n",
              " 'In the heart of the city lies a hidden gem, a monument to the man who created the city. The legend of the \"Buckminster Fuller\" is one of the most beloved of all time, and the site has been preserved by locals for more than 40 years.\\n\\nLocated on the site of the former home of a large furniture store and garage, the original Buckminster Fuller home has been transformed into a museum to showcase the man who gave birth to the city of Philadelphia in 1845',\n",
              " 'For generations, people have searched for an answer to how to survive a massive earthquake. For years, scientists and engineers have studied how to prepare for a catastrophic event. In the past, however, they have focused on the immediate aftermath, rather than how to prepare for a longer-term disaster.\\n\\nIn the past, scientists have focused on the immediate aftermath, rather than how to prepare for a longer-term disaster.\\n\\nNow, the US Geological Survey, the agency that collects and manages',\n",
              " 'In the silence of the night, a faint sound of a single human voice drifted across the darkness.\\n\\n\"There\\'s a girl…\"\\n\\nThe boy that could not be reached by the others muttered as he stood up.\\n\\nThe boy that could not be reached by the others muttered as he stood up.\\n\\n\"Who the hell are you!?\"\\n\\n\"I\\'m just a kid, but I know how to fight!\"\\n\\n\"I\\'m just a kid… I\\'m',\n",
              " 'The key to solving the mystery was hidden within the design.\\n\\nThe interior is in a state of flux, but is still in the early stages of development. The company is looking to partner with a major player in the industry to bring it to market. The project is still in the early stages.\\n\\n\"We\\'ve been working on this since last year and have been very happy with the results,\" says Marni. \"We are excited about what is in store for the future and',\n",
              " \"In a world dominated by technology, humans have forgotten how to harness their creativity and ingenuity.\\n\\nWe've turned our back on the beauty of nature, and we've become the worst species on Earth.\\n\\nWe've lost the ability to make things out of nothing.\\n\\nWe've turned our back on our own instincts.\\n\\nWe've lost our capacity for compassion, empathy, and understanding.\\n\\nWe've lost the capacity for self-control.\\n\\nWe've lost the\",\n",
              " \"The hero stood before the crowd, ready to do battle with the beast. He had a sword in his hand, but he couldn't reach the beast. He looked at his sword, and it was broken.\\n\\nThe hero was speechless. The man stared at the broken sword. It wasn't a sword, but a piece of wood. The hero tried to reach out and help him, but his hand was wrapped in a cloth. He looked at the hero, and he couldn't help\",\n",
              " 'The strange object they discovered in the desert was not the largest object they had ever seen, but was still far larger than any known object ever seen before. It was a very large, cylindrical, white-colored cube, which was hovering in the air. It had a diameter of 1.1 meters, and its circumference was roughly 10 kilometers. The object was composed of numerous objects of various sizes. The object was emitting bright light that was in the range of several hundred times brighter than any',\n",
              " \"During the experiment, the team noticed a strange pattern of behavior:\\n\\nWhen we first saw the bird, it was completely calm. It was sitting on the ledge, and it was completely silent. After some time, it started singing loudly. We were able to record the bird's behavior from a distance of 20 meters, and recorded it on video. The birds were also singing from the same frequency.\\n\\nThe bird's behavior was similar to a human's, suggesting that it was singing from\",\n",
              " 'The prophecy foretold that only one person could save the world from the threat of a virus called the Black Death. The character of Dr. Zola was based on the late scientist, Dr. William Brant, who had worked on the Black Death.\\n\\nThe Black Death was caused by the bacterium Sarcophila, which is naturally resistant to all known antibiotics. The Black Death is the cause of many deaths and deaths of all sorts in the world today. However, the Black Death',\n",
              " 'On the day of the celebration, everyone gathered to celebrate the new year with a party.\\n\\nThe new year, the day of the celebration, everyone gathered to celebrate the new year with a party.\\n\\nThe night before the celebration, everyone gathered to celebrate the new year with a party.\\n\\nThe night before the celebration, everyone gathered to celebrate the new year with a party.\\n\\nThe night before the celebration, everyone gathered to celebrate the new year with a party.\\n\\n',\n",
              " 'With newfound courage, she set out to find a suitable place to live.\\n\\nIt was only after she discovered a job as a nurse that she began to look around for a better life. After a few unsuccessful attempts, she finally found her dream home in the village of Bessouki in the mountains of eastern Japan.\\n\\n\"I had heard from my doctor that the village\\'s mountains were very cold and cold people were always dying there, so I was hoping to find a place that',\n",
              " 'In a remote village, people believe in the power of the gods.\\n\\nIn a remote village, people believe in the power of the gods.\\n\\nBattles\\n\\nThe following are the battles fought in the series:\\n\\nTrivia\\n\\nIn the Japanese version, the \"Koukai\" is a combination of the words \"kai\" (literally \"life force\") and \"neng\" (literally \"flesh\").\\n\\nThe name of the series, \"Kob',\n",
              " 'As they reached the summit of the mountain, they saw a massive statue of a giant bull, which was now a statue of a giant bull.\\n\\n\"The statue of the bull was still alive,\" said the headman.\\n\\nAt the same time, the headman took out a wooden pole and put it on top of the statue. He said that the statue of the bull would stand for a month, and then it would be toppled by the wind.\\n\\nWhen he saw the',\n",
              " \"The purpose of the secret organization was to keep the world from falling into the same trap as the Nazis did.\\n\\nHe said: 'The secret organization was to keep the world from falling into the same trap as the Nazis did.\\n\\n'There was a plan for the fall of the world, and it was to be orchestrated by the United States of America and its allies.\\n\\n'The plan was to have a war which would break up the world and lead to the rise of a\",\n",
              " 'At the break of dawn, the soldiers prepared to set up camp.\\n\\nAs the sun rose, they saw the enemy advancing, and they began to make their way through the thick jungle, carrying their weapons and weapons-like equipment. They were looking for the headquarters of the First Legion. They could not find it, so they stopped and waited, waiting for the enemy to come out and face them.\\n\\nWhen the enemy appeared, they were very aggressive, and it was only when they',\n",
              " 'Her dream was to create a world where everyone could find their own happiness.\\n\\nShe would have never imagined that by working with the most talented students at her school, she would be making a difference in her students\\' lives.\\n\\nNow, a year later, her dream has become a reality.\\n\\n\"I think people are realizing that if you don\\'t put your hands to work in a positive way, you\\'re not going to have a good life,\" she said.\\n\\nHer',\n",
              " 'After years of conflict, the two sides finally agreed to a ceasefire, the first of its kind in more than a decade.\\n\\n\"I know people are upset about the ceasefire,\" said the mayor of Gaza City, Mohammed Abu Zuhri. \"But I have to tell you, we are not fighting for a ceasefire. We are fighting for our lives.\"\\n\\nBut for the families of those killed, this was a bitter day, and an end to a long conflict.\\n\\n\"',\n",
              " 'The sound of laughter filled the air as they began to talk about what happened to the boy, while the boy, who was dressed as an elf, said \"Oh, hey, how are you? Can I help you?\"\\n\\nThe elf, who had a beard and a mustache, looked at the boy. \"Hmm, I\\'m a little tired.\" He looked at the boy, who was dressed as a girl, \"Let\\'s have a chat.\"\\n\\nThe boy was the same age',\n",
              " 'For the first time in history, humans have the ability to turn their bodies into solar panels and generate electricity, a feat that could revolutionize the energy industry.\\n\\nThe technology, known as solar energy capture, uses mirrors to capture sunlight and convert it into electricity.\\n\\n\"It\\'s not just a matter of using mirrors and a battery,\" said Dr. Michael Wimmer, professor of electrical and computer engineering at MIT and the principal investigator for the Solar Energy Systems Research Lab (SERL),',\n",
              " 'The recipe handed down from her grandmother contained a mixture of spices, such as turmeric and coriander, along with some of the best beans she had ever tasted. She had never seen them before and was impressed by the taste. She brought them to the house with her and began to cook them.\\n\\n\"When I first tried them I was very excited,\" she said. \"I was thinking, \\'This is it, this is what I\\'ve always wanted to make\\'. Then I realized',\n",
              " 'With only a map and a compass, he set out to find his way home.\\n\\nHis story has been reported in several places, including the Washington Post, New York Times, Time, Rolling Stone, and many more. He has been featured in numerous documentaries, including \"The Search for Koba\" and \"Istanbul.\"\\n\\nIn his article, Koba also describes how he and other local residents found a way to avoid the deadly crash.\\n\\n\"We had to navigate through',\n",
              " 'In the ancient library, she found a book that described the world of the Noxians. It was written in the style of a Ylissean language, using a language of her own, and was translated into Noxian by a Noxian girl named Shiroe. It was a book that detailed the history of the Noxian people and the history of all of Noxus, and it was written in a style that was similar to that of the Noxian language',\n",
              " \"They say the waterfall in the forest has the power to kill. They say it can even kill people.\\n\\nThe only thing that could stop it is the river and the cliff. But the water is very strong. It can even kill the river.\\n\\nWhat should I do?\\n\\nI don't know what to do.\\n\\nIt seems that even though he's strong, he's not very intelligent.\\n\\nI thought I should be the one to tell him to stop.\",\n",
              " 'Her invention had the potential to change the lives of hundreds of thousands of people who had been abandoned by their parents in the early 20th century and who were left with little education, health care or housing.\\n\\nThe success of the project was a testament to the potential of the internet for human change.\\n\\nA similar project, in the U.K., is being developed by the Open University. The project, called The Connected World, is a global network that connects people from all over',\n",
              " 'At the end of the journey, they discovered that the island was in fact the remnants of a huge city. In the middle of the city was a huge pool.\\n\\n\"This is… this… this is the pool from the battle?\"\\n\\n\"Well, there\\'s no one there, but since I\\'m the captain of this ship, I\\'m able to see the enemy right in front of my eyes.\"\\n\\n\"The enemies are…?\"\\n\\nThe captain replied with a curious',\n",
              " 'The artifact was a relic from a civilization that went extinct a long time ago, and so it had a lot of cultural significance. I\\'m always looking for these types of things to see how they\\'re being used, and I\\'m going to be working with a team of artists, sculptors, and animators to make it look like it was made by a different civilization.\"\\n\\nIt seems the team at Polygon has been working overtime to get the most realistic version of the game possible. You',\n",
              " 'With a deep breath, he stepped forward and declared that he was the leader.\\n\\n\"I am the leader of the Third Generation. The Third Generation is the foundation that gave birth to the world.\"\\n\\nHearing the words, the people were stunned.\\n\\nThe Third Generation was a person who had already appeared before them.\\n\\nHe was a man who had come to this world with the goal of spreading the light of the Three Great Great Powers.\\n\\nThe Second Generation was']"
            ]
          },
          "execution_count": 1523,
          "metadata": {},
          "output_type": "execute_result"
        }
      ],
      "source": [
        "start_time = time.time()\n",
        "\n",
        "medium_generator_inference = [medium_generator(sentence, truncation=\"longest_first\", max_length=100)[0][\"generated_text\"] for sentence in incomplete_sentences]\n",
        "\n",
        "end_time = time.time()\n",
        "\n",
        "time_taken = round(end_time - start_time, 4)\n",
        "\n",
        "print(f\"Tiempo tomado para inferenciar: {time_taken} Segundos...\")\n",
        "medium_generator_inference"
      ]
    },
    {
      "cell_type": "code",
      "execution_count": null,
      "id": "7c86de34-c7e4-4bac-ac0a-41e4abd4a742",
      "metadata": {
        "id": "7c86de34-c7e4-4bac-ac0a-41e4abd4a742",
        "outputId": "35a26ee2-1f08-4208-f19e-abdde8199a73"
      },
      "outputs": [
        {
          "name": "stdout",
          "output_type": "stream",
          "text": [
            "The advancements in artificial intelligence are leading to the creation of intelligent machines that could be used to assist with the maintenance of human society, but many of these machines may not be able to cope with our current challenges.\n",
            "\n",
            "The most significant advancement in artificial intelligence is the development of \"machine learning\" – the ability to learn from experience. In artificial intelligence, computers are able to learn from past experiences and then apply that knowledge to create a new, smarter machine.\n",
            "\n",
            "One way machine learning is used\n"
          ]
        }
      ],
      "source": [
        "print(medium_generator_inference[0])"
      ]
    },
    {
      "cell_type": "code",
      "execution_count": null,
      "id": "346d1a4c-7033-4321-ab64-53edc00ddcd1",
      "metadata": {
        "scrolled": true,
        "id": "346d1a4c-7033-4321-ab64-53edc00ddcd1",
        "outputId": "8285c44d-9f38-43ca-b92b-7bc93f027d94"
      },
      "outputs": [
        {
          "data": {
            "text/plain": [
              "[47.44174575805664,\n",
              " 19.946609497070312,\n",
              " 29.84640121459961,\n",
              " 41.35002899169922,\n",
              " 18.491994857788086,\n",
              " 37.926475524902344,\n",
              " 13.808712005615234,\n",
              " 17.998035430908203,\n",
              " 20.325084686279297,\n",
              " 20.752315521240234,\n",
              " 15.81444263458252,\n",
              " 118.67166137695312,\n",
              " 30.987804412841797,\n",
              " 146.37506103515625,\n",
              " 16.962440490722656,\n",
              " 66.50182342529297,\n",
              " 41.01630783081055,\n",
              " 15.358922958374023,\n",
              " 553.356201171875,\n",
              " 14.458283424377441,\n",
              " 19.778684616088867,\n",
              " 68.53721618652344,\n",
              " 23.94940757751465,\n",
              " 16.513822555541992,\n",
              " 32.74993896484375,\n",
              " 14.875834465026855,\n",
              " 47.03964614868164,\n",
              " 28.143938064575195,\n",
              " 40.90784454345703,\n",
              " 90.03572082519531,\n",
              " 21.717357635498047,\n",
              " 37.7556266784668,\n",
              " 21.461238861083984,\n",
              " 55.53892517089844,\n",
              " 29.602333068847656,\n",
              " 9.218260765075684,\n",
              " 40.60610580444336,\n",
              " 18.44229507446289,\n",
              " 11.84510612487793,\n",
              " 11.569950103759766,\n",
              " 18.823453903198242,\n",
              " 7.375147342681885,\n",
              " 203.1672821044922,\n",
              " 19.679168701171875,\n",
              " 35.31068420410156,\n",
              " 36.77849197387695,\n",
              " 36.20113754272461,\n",
              " 10.718667984008789,\n",
              " 60.46562957763672,\n",
              " 22.053693771362305]"
            ]
          },
          "execution_count": 1527,
          "metadata": {},
          "output_type": "execute_result"
        }
      ],
      "source": [
        "\n",
        "perplexities = [] # Arreglo vacío para calcular perplexities.\n",
        "\n",
        "for  sentence in incomplete_sentences:\n",
        "    # Tokenizar el texto utilizando  el tokenizer del pipeline\n",
        "    inputs = medium_generator.tokenizer(sentence, return_tensors=\"pt\") # return tensor for pytorch\n",
        "\n",
        "    with torch.no_grad():\n",
        "        outputs = medium_generator.model(**inputs, labels=inputs[\"input_ids\"])\n",
        "        loss = outputs.loss\n",
        "\n",
        "    # Calcular la perplejidad\n",
        "    perplexity = torch.exp(loss)\n",
        "    perplexities.append(perplexity)\n",
        "\n",
        "perplexities = [p.item() for p in perplexities]\n",
        "perplexities"
      ]
    },
    {
      "cell_type": "code",
      "execution_count": null,
      "id": "689ab20c-8b27-4c56-a009-a6fed2d0c402",
      "metadata": {
        "scrolled": true,
        "id": "689ab20c-8b27-4c56-a009-a6fed2d0c402",
        "outputId": "11ef57e7-8cf6-4758-e13c-6531716a32a2"
      },
      "outputs": [
        {
          "data": {
            "text/html": [
              "<div>\n",
              "<style scoped>\n",
              "    .dataframe tbody tr th:only-of-type {\n",
              "        vertical-align: middle;\n",
              "    }\n",
              "\n",
              "    .dataframe tbody tr th {\n",
              "        vertical-align: top;\n",
              "    }\n",
              "\n",
              "    .dataframe thead th {\n",
              "        text-align: right;\n",
              "    }\n",
              "</style>\n",
              "<table border=\"1\" class=\"dataframe\">\n",
              "  <thead>\n",
              "    <tr style=\"text-align: right;\">\n",
              "      <th></th>\n",
              "      <th>Generated Sentence</th>\n",
              "      <th>Perplexity</th>\n",
              "    </tr>\n",
              "  </thead>\n",
              "  <tbody>\n",
              "    <tr>\n",
              "      <th>0</th>\n",
              "      <td>The advancements in artificial intelligence ar...</td>\n",
              "      <td>47.441746</td>\n",
              "    </tr>\n",
              "    <tr>\n",
              "      <th>1</th>\n",
              "      <td>In a world where technology continues to evolv...</td>\n",
              "      <td>19.946609</td>\n",
              "    </tr>\n",
              "    <tr>\n",
              "      <th>2</th>\n",
              "      <td>The future of humanity lies in the ability to ...</td>\n",
              "      <td>29.846401</td>\n",
              "    </tr>\n",
              "    <tr>\n",
              "      <th>3</th>\n",
              "      <td>When scientists discovered the new form of ene...</td>\n",
              "      <td>41.350029</td>\n",
              "    </tr>\n",
              "    <tr>\n",
              "      <th>4</th>\n",
              "      <td>As I walked through the forest that day, I sud...</td>\n",
              "      <td>18.491995</td>\n",
              "    </tr>\n",
              "    <tr>\n",
              "      <th>5</th>\n",
              "      <td>The secret to achieving true happiness is to l...</td>\n",
              "      <td>37.926476</td>\n",
              "    </tr>\n",
              "    <tr>\n",
              "      <th>6</th>\n",
              "      <td>With the discovery of life on another planet, ...</td>\n",
              "      <td>13.808712</td>\n",
              "    </tr>\n",
              "    <tr>\n",
              "      <th>7</th>\n",
              "      <td>After years of research, they finally created ...</td>\n",
              "      <td>17.998035</td>\n",
              "    </tr>\n",
              "    <tr>\n",
              "      <th>8</th>\n",
              "      <td>In the year 2050, the world has transformed in...</td>\n",
              "      <td>20.325085</td>\n",
              "    </tr>\n",
              "    <tr>\n",
              "      <th>9</th>\n",
              "      <td>Despite all the challenges, she believed that ...</td>\n",
              "      <td>20.752316</td>\n",
              "    </tr>\n",
              "    <tr>\n",
              "      <th>10</th>\n",
              "      <td>In the quiet of the evening, I heard a voice w...</td>\n",
              "      <td>15.814443</td>\n",
              "    </tr>\n",
              "    <tr>\n",
              "      <th>11</th>\n",
              "      <td>The invention that changed the world forever w...</td>\n",
              "      <td>118.671661</td>\n",
              "    </tr>\n",
              "    <tr>\n",
              "      <th>12</th>\n",
              "      <td>As they ventured into the unknown, the explore...</td>\n",
              "      <td>30.987804</td>\n",
              "    </tr>\n",
              "    <tr>\n",
              "      <th>13</th>\n",
              "      <td>The book he left behind contained secrets abou...</td>\n",
              "      <td>146.375061</td>\n",
              "    </tr>\n",
              "    <tr>\n",
              "      <th>14</th>\n",
              "      <td>In the midst of chaos, she managed to find a w...</td>\n",
              "      <td>16.962440</td>\n",
              "    </tr>\n",
              "    <tr>\n",
              "      <th>15</th>\n",
              "      <td>With great determination, he decided to pursue...</td>\n",
              "      <td>66.501823</td>\n",
              "    </tr>\n",
              "    <tr>\n",
              "      <th>16</th>\n",
              "      <td>The ancient artifact was believed to hold the ...</td>\n",
              "      <td>41.016308</td>\n",
              "    </tr>\n",
              "    <tr>\n",
              "      <th>17</th>\n",
              "      <td>After analyzing the data, the scientist conclu...</td>\n",
              "      <td>15.358923</td>\n",
              "    </tr>\n",
              "    <tr>\n",
              "      <th>18</th>\n",
              "      <td>The unexpected letter he received revealed tha...</td>\n",
              "      <td>553.356201</td>\n",
              "    </tr>\n",
              "    <tr>\n",
              "      <th>19</th>\n",
              "      <td>At the edge of the universe, there exists a pl...</td>\n",
              "      <td>14.458283</td>\n",
              "    </tr>\n",
              "    <tr>\n",
              "      <th>20</th>\n",
              "      <td>When I opened the mysterious box, I found a sm...</td>\n",
              "      <td>19.778685</td>\n",
              "    </tr>\n",
              "    <tr>\n",
              "      <th>21</th>\n",
              "      <td>The truth about her past was finally uncovered...</td>\n",
              "      <td>68.537216</td>\n",
              "    </tr>\n",
              "    <tr>\n",
              "      <th>22</th>\n",
              "      <td>As the rain poured down, I remembered the feel...</td>\n",
              "      <td>23.949408</td>\n",
              "    </tr>\n",
              "    <tr>\n",
              "      <th>23</th>\n",
              "      <td>In the heart of the city lies a hidden gem, a ...</td>\n",
              "      <td>16.513823</td>\n",
              "    </tr>\n",
              "    <tr>\n",
              "      <th>24</th>\n",
              "      <td>For generations, people have searched for an a...</td>\n",
              "      <td>32.749939</td>\n",
              "    </tr>\n",
              "    <tr>\n",
              "      <th>25</th>\n",
              "      <td>In the silence of the night, a faint sound of ...</td>\n",
              "      <td>14.875834</td>\n",
              "    </tr>\n",
              "    <tr>\n",
              "      <th>26</th>\n",
              "      <td>The key to solving the mystery was hidden with...</td>\n",
              "      <td>47.039646</td>\n",
              "    </tr>\n",
              "    <tr>\n",
              "      <th>27</th>\n",
              "      <td>In a world dominated by technology, humans hav...</td>\n",
              "      <td>28.143938</td>\n",
              "    </tr>\n",
              "    <tr>\n",
              "      <th>28</th>\n",
              "      <td>The hero stood before the crowd, ready to do b...</td>\n",
              "      <td>40.907845</td>\n",
              "    </tr>\n",
              "    <tr>\n",
              "      <th>29</th>\n",
              "      <td>The strange object they discovered in the dese...</td>\n",
              "      <td>90.035721</td>\n",
              "    </tr>\n",
              "    <tr>\n",
              "      <th>30</th>\n",
              "      <td>During the experiment, the team noticed a stra...</td>\n",
              "      <td>21.717358</td>\n",
              "    </tr>\n",
              "    <tr>\n",
              "      <th>31</th>\n",
              "      <td>The prophecy foretold that only one person cou...</td>\n",
              "      <td>37.755627</td>\n",
              "    </tr>\n",
              "    <tr>\n",
              "      <th>32</th>\n",
              "      <td>On the day of the celebration, everyone gather...</td>\n",
              "      <td>21.461239</td>\n",
              "    </tr>\n",
              "    <tr>\n",
              "      <th>33</th>\n",
              "      <td>With newfound courage, she set out to find a s...</td>\n",
              "      <td>55.538925</td>\n",
              "    </tr>\n",
              "    <tr>\n",
              "      <th>34</th>\n",
              "      <td>In a remote village, people believe in the pow...</td>\n",
              "      <td>29.602333</td>\n",
              "    </tr>\n",
              "    <tr>\n",
              "      <th>35</th>\n",
              "      <td>As they reached the summit of the mountain, th...</td>\n",
              "      <td>9.218261</td>\n",
              "    </tr>\n",
              "    <tr>\n",
              "      <th>36</th>\n",
              "      <td>The purpose of the secret organization was to ...</td>\n",
              "      <td>40.606106</td>\n",
              "    </tr>\n",
              "    <tr>\n",
              "      <th>37</th>\n",
              "      <td>At the break of dawn, the soldiers prepared to...</td>\n",
              "      <td>18.442295</td>\n",
              "    </tr>\n",
              "    <tr>\n",
              "      <th>38</th>\n",
              "      <td>Her dream was to create a world where everyone...</td>\n",
              "      <td>11.845106</td>\n",
              "    </tr>\n",
              "    <tr>\n",
              "      <th>39</th>\n",
              "      <td>After years of conflict, the two sides finally...</td>\n",
              "      <td>11.569950</td>\n",
              "    </tr>\n",
              "    <tr>\n",
              "      <th>40</th>\n",
              "      <td>The sound of laughter filled the air as they b...</td>\n",
              "      <td>18.823454</td>\n",
              "    </tr>\n",
              "    <tr>\n",
              "      <th>41</th>\n",
              "      <td>For the first time in history, humans have the...</td>\n",
              "      <td>7.375147</td>\n",
              "    </tr>\n",
              "    <tr>\n",
              "      <th>42</th>\n",
              "      <td>The recipe handed down from her grandmother co...</td>\n",
              "      <td>203.167282</td>\n",
              "    </tr>\n",
              "    <tr>\n",
              "      <th>43</th>\n",
              "      <td>With only a map and a compass, he set out to f...</td>\n",
              "      <td>19.679169</td>\n",
              "    </tr>\n",
              "    <tr>\n",
              "      <th>44</th>\n",
              "      <td>In the ancient library, she found a book that ...</td>\n",
              "      <td>35.310684</td>\n",
              "    </tr>\n",
              "    <tr>\n",
              "      <th>45</th>\n",
              "      <td>They say the waterfall in the forest has the p...</td>\n",
              "      <td>36.778492</td>\n",
              "    </tr>\n",
              "    <tr>\n",
              "      <th>46</th>\n",
              "      <td>Her invention had the potential to change the ...</td>\n",
              "      <td>36.201138</td>\n",
              "    </tr>\n",
              "    <tr>\n",
              "      <th>47</th>\n",
              "      <td>At the end of the journey, they discovered tha...</td>\n",
              "      <td>10.718668</td>\n",
              "    </tr>\n",
              "    <tr>\n",
              "      <th>48</th>\n",
              "      <td>The artifact was a relic from a civilization t...</td>\n",
              "      <td>60.465630</td>\n",
              "    </tr>\n",
              "    <tr>\n",
              "      <th>49</th>\n",
              "      <td>With a deep breath, he stepped forward and dec...</td>\n",
              "      <td>22.053694</td>\n",
              "    </tr>\n",
              "  </tbody>\n",
              "</table>\n",
              "</div>"
            ],
            "text/plain": [
              "                                   Generated Sentence  Perplexity\n",
              "0   The advancements in artificial intelligence ar...   47.441746\n",
              "1   In a world where technology continues to evolv...   19.946609\n",
              "2   The future of humanity lies in the ability to ...   29.846401\n",
              "3   When scientists discovered the new form of ene...   41.350029\n",
              "4   As I walked through the forest that day, I sud...   18.491995\n",
              "5   The secret to achieving true happiness is to l...   37.926476\n",
              "6   With the discovery of life on another planet, ...   13.808712\n",
              "7   After years of research, they finally created ...   17.998035\n",
              "8   In the year 2050, the world has transformed in...   20.325085\n",
              "9   Despite all the challenges, she believed that ...   20.752316\n",
              "10  In the quiet of the evening, I heard a voice w...   15.814443\n",
              "11  The invention that changed the world forever w...  118.671661\n",
              "12  As they ventured into the unknown, the explore...   30.987804\n",
              "13  The book he left behind contained secrets abou...  146.375061\n",
              "14  In the midst of chaos, she managed to find a w...   16.962440\n",
              "15  With great determination, he decided to pursue...   66.501823\n",
              "16  The ancient artifact was believed to hold the ...   41.016308\n",
              "17  After analyzing the data, the scientist conclu...   15.358923\n",
              "18  The unexpected letter he received revealed tha...  553.356201\n",
              "19  At the edge of the universe, there exists a pl...   14.458283\n",
              "20  When I opened the mysterious box, I found a sm...   19.778685\n",
              "21  The truth about her past was finally uncovered...   68.537216\n",
              "22  As the rain poured down, I remembered the feel...   23.949408\n",
              "23  In the heart of the city lies a hidden gem, a ...   16.513823\n",
              "24  For generations, people have searched for an a...   32.749939\n",
              "25  In the silence of the night, a faint sound of ...   14.875834\n",
              "26  The key to solving the mystery was hidden with...   47.039646\n",
              "27  In a world dominated by technology, humans hav...   28.143938\n",
              "28  The hero stood before the crowd, ready to do b...   40.907845\n",
              "29  The strange object they discovered in the dese...   90.035721\n",
              "30  During the experiment, the team noticed a stra...   21.717358\n",
              "31  The prophecy foretold that only one person cou...   37.755627\n",
              "32  On the day of the celebration, everyone gather...   21.461239\n",
              "33  With newfound courage, she set out to find a s...   55.538925\n",
              "34  In a remote village, people believe in the pow...   29.602333\n",
              "35  As they reached the summit of the mountain, th...    9.218261\n",
              "36  The purpose of the secret organization was to ...   40.606106\n",
              "37  At the break of dawn, the soldiers prepared to...   18.442295\n",
              "38  Her dream was to create a world where everyone...   11.845106\n",
              "39  After years of conflict, the two sides finally...   11.569950\n",
              "40  The sound of laughter filled the air as they b...   18.823454\n",
              "41  For the first time in history, humans have the...    7.375147\n",
              "42  The recipe handed down from her grandmother co...  203.167282\n",
              "43  With only a map and a compass, he set out to f...   19.679169\n",
              "44  In the ancient library, she found a book that ...   35.310684\n",
              "45  They say the waterfall in the forest has the p...   36.778492\n",
              "46  Her invention had the potential to change the ...   36.201138\n",
              "47  At the end of the journey, they discovered tha...   10.718668\n",
              "48  The artifact was a relic from a civilization t...   60.465630\n",
              "49  With a deep breath, he stepped forward and dec...   22.053694"
            ]
          },
          "execution_count": 1539,
          "metadata": {},
          "output_type": "execute_result"
        }
      ],
      "source": [
        "df_medium_gen_sentences_perpl = pd.DataFrame({\"Generated Sentence\": medium_generator_inference, \"Perplexity\": perplexities})\n",
        "df_medium_gen_sentences_perpl\n"
      ]
    },
    {
      "cell_type": "code",
      "execution_count": null,
      "id": "db5494ae-8b0c-4984-bdf0-8529efb15ee6",
      "metadata": {
        "id": "db5494ae-8b0c-4984-bdf0-8529efb15ee6"
      },
      "outputs": [],
      "source": [
        "benchmark.loc[('Model1', \"Size2\"), (\"Text Generation\", \"Name\")] =  model.name_or_path\n",
        "benchmark.loc[('Model1', \"Size2\"), (\"Text Generation\", \"Size (GB)\")] =  model_memory_size_gb\n",
        "benchmark.loc[('Model1', \"Size2\"), (\"Text Generation\", \"Qty of Parameters\")] =  total_params\n",
        "benchmark.loc[('Model1', \"Size2\"), (\"Text Generation\", \"Inference Time\")] =  time_taken\n",
        "benchmark.loc[('Model1', \"Size2\"), (\"Text Generation\", \"Metric\")] =  f\"Average perplexity: {np.mean(perplexities)}\""
      ]
    },
    {
      "cell_type": "markdown",
      "id": "8179719e-123e-4e87-9a47-27ee44afacf9",
      "metadata": {
        "id": "8179719e-123e-4e87-9a47-27ee44afacf9"
      },
      "source": [
        "### Set 4, modelo 2"
      ]
    },
    {
      "cell_type": "markdown",
      "id": "5cba7f92-063e-433a-9c4e-e68456eaa86c",
      "metadata": {
        "id": "5cba7f92-063e-433a-9c4e-e68456eaa86c"
      },
      "source": [
        "#### Small Size"
      ]
    },
    {
      "cell_type": "code",
      "execution_count": null,
      "id": "4a990c25-6ae8-406f-8d2b-b6a70b3bd0a5",
      "metadata": {
        "id": "4a990c25-6ae8-406f-8d2b-b6a70b3bd0a5",
        "outputId": "5b5d800e-5ec6-4332-fa55-49582d62a6e1"
      },
      "outputs": [
        {
          "name": "stdout",
          "output_type": "stream",
          "text": [
            "El modelo tiene aproximadamente 124,439,808 parámetros.\n",
            "El modelo tiene aproximadamente 0.46 GB en memoria.\n"
          ]
        }
      ],
      "source": [
        "small_generator_1 = pipeline(\n",
        "    task=\"text-generation\",\n",
        "    model=\"microsoft/DialoGPT-small\",\n",
        "    model_kwargs={\"cache_dir\": cache_dir},\n",
        "\n",
        "    # Configuración de generación\n",
        "    max_length=50,        # Longitud máxima del texto generado\n",
        "    num_return_sequences=1, # Número de secuencias a generar\n",
        "    do_sample=True,       # Usar muestreo probabilístico\n",
        "    temperature=0.7,      # Control de creatividad\n",
        "    top_k=50,            # Filtro de top-k tokens\n",
        "    top_p=0.95,          # Nucleus sampling\n",
        "    pad_token_id=50256,   # EOS token ID para GPT-2\n",
        "    truncation=True\n",
        ")\n",
        "\n",
        "model = small_generator_1.model\n",
        "total_params = sum(p.numel() for p in model.parameters())\n",
        "print(f\"El modelo tiene aproximadamente {total_params:,} parámetros.\")\n",
        "\n",
        "# Calcular el tamaño en memoria del modelo en base al dtype de los parámetros\n",
        "model_memory_size = sum(p.numel() * p.element_size() for p in model.parameters())\n",
        "model_memory_size_gb = model_memory_size / (1024 ** 3)  # Convertir a GB\n",
        "\n",
        "# Mostrar el tamaño en memoria\n",
        "print(f\"El modelo tiene aproximadamente {model_memory_size_gb:.2f} GB en memoria.\")"
      ]
    },
    {
      "cell_type": "code",
      "execution_count": null,
      "id": "dc06b418-73a9-4765-ba08-edbddd316989",
      "metadata": {
        "scrolled": true,
        "id": "dc06b418-73a9-4765-ba08-edbddd316989",
        "outputId": "9b2240d6-988e-468e-bf36-1932d654a3cf"
      },
      "outputs": [
        {
          "name": "stdout",
          "output_type": "stream",
          "text": [
            "Tiempo tomado para inferenciar: 16.9203 Segundos...\n"
          ]
        },
        {
          "data": {
            "text/plain": [
              "['The advancements in artificial intelligence are leading to a future of peace and order.',\n",
              " 'In a world where technology continues to evolve, one day we might be able to do that.',\n",
              " 'The future of humanity lies in the ability to merge three or more of these things.',\n",
              " 'When scientists discovered the new form of energy, they realized the power of matter is the power of matter.',\n",
              " 'As I walked through the forest that day, I suddenly saw a giant statue of a tree',\n",
              " 'The secret to achieving true happiness is to stop eating meat.',\n",
              " 'With the discovery of life on another planet, scientists now discover life on other planets!',\n",
              " 'After years of research, they finally created a device that can detect the heart rate from your heart rate.',\n",
              " 'In the year 2050, the world has transformed into a place where you can make and enjoy a good meal.',\n",
              " 'Despite all the challenges, she believed that one day she would go back and do her homework',\n",
              " \"In the quiet of the evening, I heard a voice whisper'The end is near... '\",\n",
              " 'The invention that changed the world forever was the invention of the internet.',\n",
              " 'As they ventured into the unknown, the explorers discovered a new way to find out.',\n",
              " 'The book he left behind contained secrets about the universe, such as the way to make it work',\n",
              " 'In the midst of chaos, she managed to find a way to make pancakes.',\n",
              " 'With great determination, he decided to pursue his passion for engineering.',\n",
              " 'The ancient artifact was believed to hold the power to teleport.',\n",
              " 'After analyzing the data, the scientist concluded that the rate of cancer in China is about the same as the rate in the US.',\n",
              " 'The unexpected letter he received revealed himself.',\n",
              " 'At the edge of the universe, there exists a universe, the universe exists, and there exists a universe.',\n",
              " 'When I opened the mysterious box, I found myself as well as the mystery box.',\n",
              " 'The truth about her past was finally uncovered by the internet.',\n",
              " 'As the rain poured down, I remembered that the rain is a metaphor for rain.',\n",
              " 'In the heart of the city lies a hidden artifact weapon.',\n",
              " 'For generations, people have searched for it.',\n",
              " 'In the silence of the night, a faint sound of...',\n",
              " 'The key to solving the mystery was hidden within!',\n",
              " 'In a world dominated by technology, humans have forgotten everything you said.',\n",
              " 'The hero stood before the crowd, ready to save the day',\n",
              " 'The strange object they discovered in the desert was a smallpox vaccine.',\n",
              " \"During the experiment, the team noticed a strange texture on the surface of the water, it's a bug, it's been reported numerous times before.\",\n",
              " 'The prophecy foretold that only one person could be left alive to live to 100.',\n",
              " 'On the day of the celebration, everyone gathered to take a picture.',\n",
              " 'With newfound courage, she set out to go on a journey to become a hero',\n",
              " 'In a remote village, people believe in the power of prayer.',\n",
              " 'As they reached the summit of the mountain, they saw a large group of people on a bike.',\n",
              " 'The purpose of the secret organization was to have a secret organization.',\n",
              " 'At the break of dawn, the soldiers prepared to meet their demise',\n",
              " 'Her dream was to create a world where everyone could do that.',\n",
              " 'After years of conflict, the two sides finally agreed to a common border.',\n",
              " 'The sound of laughter filled the air as they began to walk away',\n",
              " 'For the first time in history, humans have the ability to create new life on the planet.',\n",
              " 'The recipe handed down from her grandmother contained the recipe, the grandmother said, It was a recipe for cake.',\n",
              " 'With only a map and a compass, he set out to find a compass, a map and a compass, and a compass.',\n",
              " 'In the ancient library, she found a book that described the past, the future.',\n",
              " 'They say the waterfall in the forest has the power to generate power.',\n",
              " 'Her invention had the potential to change the world.',\n",
              " 'At the end of the journey, they discovered the planet that they lived on.',\n",
              " 'The artifact was a relic from a civilization that has been going around in the world.',\n",
              " 'With a deep breath, he stepped forward and declared his arms wide.']"
            ]
          },
          "execution_count": 1543,
          "metadata": {},
          "output_type": "execute_result"
        }
      ],
      "source": [
        "start_time = time.time()\n",
        "\n",
        "small_generator_1_inference = [small_generator_1(sentence, truncation=\"longest_first\", max_length=100)[0][\"generated_text\"] for sentence in incomplete_sentences]\n",
        "\n",
        "end_time = time.time()\n",
        "\n",
        "time_taken = round(end_time - start_time, 4)\n",
        "\n",
        "print(f\"Tiempo tomado para inferenciar: {time_taken} Segundos...\")\n",
        "small_generator_1_inference"
      ]
    },
    {
      "cell_type": "code",
      "execution_count": null,
      "id": "04050449-27ed-4671-b2dd-ac6595d8d09b",
      "metadata": {
        "id": "04050449-27ed-4671-b2dd-ac6595d8d09b",
        "outputId": "5dd96482-14f6-431e-9f32-73f6a9d4f539"
      },
      "outputs": [
        {
          "name": "stdout",
          "output_type": "stream",
          "text": [
            "The advancements in artificial intelligence are leading to a future of peace and order.\n"
          ]
        }
      ],
      "source": [
        "print(small_generator_1_inference[0])"
      ]
    },
    {
      "cell_type": "code",
      "execution_count": null,
      "id": "35d5e536-a274-42af-b10b-e73521cac3f1",
      "metadata": {
        "scrolled": true,
        "id": "35d5e536-a274-42af-b10b-e73521cac3f1",
        "outputId": "52d5d465-e547-4279-ec65-fd4d33c53a96"
      },
      "outputs": [
        {
          "data": {
            "text/plain": [
              "[75.20668029785156,\n",
              " 158.69947814941406,\n",
              " 128.48069763183594,\n",
              " 349.7920837402344,\n",
              " 251.6754913330078,\n",
              " 89.39590454101562,\n",
              " 657.7110595703125,\n",
              " 164.04637145996094,\n",
              " 190.09722900390625,\n",
              " 265.13720703125,\n",
              " 678.32568359375,\n",
              " 95.51153564453125,\n",
              " 1292.83984375,\n",
              " 371.82000732421875,\n",
              " 692.0060424804688,\n",
              " 2390.437255859375,\n",
              " 134.18423461914062,\n",
              " 593.8638305664062,\n",
              " 2746.577392578125,\n",
              " 368.3653564453125,\n",
              " 650.5374755859375,\n",
              " 562.1292724609375,\n",
              " 2046.1776123046875,\n",
              " 414.8588562011719,\n",
              " 894.4588012695312,\n",
              " 780.4979858398438,\n",
              " 248.8794708251953,\n",
              " 636.14453125,\n",
              " 5047.44775390625,\n",
              " 167.88009643554688,\n",
              " 2680.970703125,\n",
              " 61.009037017822266,\n",
              " 718.3629150390625,\n",
              " 1009.6556396484375,\n",
              " 506.80511474609375,\n",
              " 253.83416748046875,\n",
              " 118.10392761230469,\n",
              " 1454.71337890625,\n",
              " 44.247703552246094,\n",
              " 458.1981201171875,\n",
              " 161.70318603515625,\n",
              " 168.57363891601562,\n",
              " 4450.4208984375,\n",
              " 215.23548889160156,\n",
              " 382.66986083984375,\n",
              " 130.34103393554688,\n",
              " 160.44970703125,\n",
              " 480.05633544921875,\n",
              " 90.53653717041016,\n",
              " 1194.9051513671875]"
            ]
          },
          "execution_count": 1547,
          "metadata": {},
          "output_type": "execute_result"
        }
      ],
      "source": [
        "\n",
        "perplexities = [] # Arreglo vacío para calcular perplexities.\n",
        "\n",
        "for  sentence in incomplete_sentences:\n",
        "    # Tokenizar el texto utilizando  el tokenizer del pipeline\n",
        "    inputs = small_generator_1.tokenizer(sentence, return_tensors=\"pt\") # return tensor for pytorch\n",
        "\n",
        "    with torch.no_grad():\n",
        "        outputs = small_generator_1.model(**inputs, labels=inputs[\"input_ids\"])\n",
        "        loss = outputs.loss\n",
        "\n",
        "    # Calcular la perplejidad\n",
        "    perplexity = torch.exp(loss)\n",
        "    perplexities.append(perplexity)\n",
        "\n",
        "perplexities = [p.item() for p in perplexities]\n",
        "perplexities"
      ]
    },
    {
      "cell_type": "code",
      "execution_count": null,
      "id": "02ad3ce6-5298-4d35-b3f8-e5495c7d3756",
      "metadata": {
        "scrolled": true,
        "id": "02ad3ce6-5298-4d35-b3f8-e5495c7d3756",
        "outputId": "92995758-33c2-4d31-d481-55037e4acee3"
      },
      "outputs": [
        {
          "data": {
            "text/html": [
              "<div>\n",
              "<style scoped>\n",
              "    .dataframe tbody tr th:only-of-type {\n",
              "        vertical-align: middle;\n",
              "    }\n",
              "\n",
              "    .dataframe tbody tr th {\n",
              "        vertical-align: top;\n",
              "    }\n",
              "\n",
              "    .dataframe thead th {\n",
              "        text-align: right;\n",
              "    }\n",
              "</style>\n",
              "<table border=\"1\" class=\"dataframe\">\n",
              "  <thead>\n",
              "    <tr style=\"text-align: right;\">\n",
              "      <th></th>\n",
              "      <th>Generated Sentence</th>\n",
              "      <th>Perplexity</th>\n",
              "    </tr>\n",
              "  </thead>\n",
              "  <tbody>\n",
              "    <tr>\n",
              "      <th>0</th>\n",
              "      <td>The advancements in artificial intelligence ar...</td>\n",
              "      <td>75.206680</td>\n",
              "    </tr>\n",
              "    <tr>\n",
              "      <th>1</th>\n",
              "      <td>In a world where technology continues to evolv...</td>\n",
              "      <td>158.699478</td>\n",
              "    </tr>\n",
              "    <tr>\n",
              "      <th>2</th>\n",
              "      <td>The future of humanity lies in the ability to ...</td>\n",
              "      <td>128.480698</td>\n",
              "    </tr>\n",
              "    <tr>\n",
              "      <th>3</th>\n",
              "      <td>When scientists discovered the new form of ene...</td>\n",
              "      <td>349.792084</td>\n",
              "    </tr>\n",
              "    <tr>\n",
              "      <th>4</th>\n",
              "      <td>As I walked through the forest that day, I sud...</td>\n",
              "      <td>251.675491</td>\n",
              "    </tr>\n",
              "    <tr>\n",
              "      <th>5</th>\n",
              "      <td>The secret to achieving true happiness is to s...</td>\n",
              "      <td>89.395905</td>\n",
              "    </tr>\n",
              "    <tr>\n",
              "      <th>6</th>\n",
              "      <td>With the discovery of life on another planet, ...</td>\n",
              "      <td>657.711060</td>\n",
              "    </tr>\n",
              "    <tr>\n",
              "      <th>7</th>\n",
              "      <td>After years of research, they finally created ...</td>\n",
              "      <td>164.046371</td>\n",
              "    </tr>\n",
              "    <tr>\n",
              "      <th>8</th>\n",
              "      <td>In the year 2050, the world has transformed in...</td>\n",
              "      <td>190.097229</td>\n",
              "    </tr>\n",
              "    <tr>\n",
              "      <th>9</th>\n",
              "      <td>Despite all the challenges, she believed that ...</td>\n",
              "      <td>265.137207</td>\n",
              "    </tr>\n",
              "    <tr>\n",
              "      <th>10</th>\n",
              "      <td>In the quiet of the evening, I heard a voice w...</td>\n",
              "      <td>678.325684</td>\n",
              "    </tr>\n",
              "    <tr>\n",
              "      <th>11</th>\n",
              "      <td>The invention that changed the world forever w...</td>\n",
              "      <td>95.511536</td>\n",
              "    </tr>\n",
              "    <tr>\n",
              "      <th>12</th>\n",
              "      <td>As they ventured into the unknown, the explore...</td>\n",
              "      <td>1292.839844</td>\n",
              "    </tr>\n",
              "    <tr>\n",
              "      <th>13</th>\n",
              "      <td>The book he left behind contained secrets abou...</td>\n",
              "      <td>371.820007</td>\n",
              "    </tr>\n",
              "    <tr>\n",
              "      <th>14</th>\n",
              "      <td>In the midst of chaos, she managed to find a w...</td>\n",
              "      <td>692.006042</td>\n",
              "    </tr>\n",
              "    <tr>\n",
              "      <th>15</th>\n",
              "      <td>With great determination, he decided to pursue...</td>\n",
              "      <td>2390.437256</td>\n",
              "    </tr>\n",
              "    <tr>\n",
              "      <th>16</th>\n",
              "      <td>The ancient artifact was believed to hold the ...</td>\n",
              "      <td>134.184235</td>\n",
              "    </tr>\n",
              "    <tr>\n",
              "      <th>17</th>\n",
              "      <td>After analyzing the data, the scientist conclu...</td>\n",
              "      <td>593.863831</td>\n",
              "    </tr>\n",
              "    <tr>\n",
              "      <th>18</th>\n",
              "      <td>The unexpected letter he received revealed him...</td>\n",
              "      <td>2746.577393</td>\n",
              "    </tr>\n",
              "    <tr>\n",
              "      <th>19</th>\n",
              "      <td>At the edge of the universe, there exists a un...</td>\n",
              "      <td>368.365356</td>\n",
              "    </tr>\n",
              "    <tr>\n",
              "      <th>20</th>\n",
              "      <td>When I opened the mysterious box, I found myse...</td>\n",
              "      <td>650.537476</td>\n",
              "    </tr>\n",
              "    <tr>\n",
              "      <th>21</th>\n",
              "      <td>The truth about her past was finally uncovered...</td>\n",
              "      <td>562.129272</td>\n",
              "    </tr>\n",
              "    <tr>\n",
              "      <th>22</th>\n",
              "      <td>As the rain poured down, I remembered that the...</td>\n",
              "      <td>2046.177612</td>\n",
              "    </tr>\n",
              "    <tr>\n",
              "      <th>23</th>\n",
              "      <td>In the heart of the city lies a hidden artifac...</td>\n",
              "      <td>414.858856</td>\n",
              "    </tr>\n",
              "    <tr>\n",
              "      <th>24</th>\n",
              "      <td>For generations, people have searched for it.</td>\n",
              "      <td>894.458801</td>\n",
              "    </tr>\n",
              "    <tr>\n",
              "      <th>25</th>\n",
              "      <td>In the silence of the night, a faint sound of...</td>\n",
              "      <td>780.497986</td>\n",
              "    </tr>\n",
              "    <tr>\n",
              "      <th>26</th>\n",
              "      <td>The key to solving the mystery was hidden within!</td>\n",
              "      <td>248.879471</td>\n",
              "    </tr>\n",
              "    <tr>\n",
              "      <th>27</th>\n",
              "      <td>In a world dominated by technology, humans hav...</td>\n",
              "      <td>636.144531</td>\n",
              "    </tr>\n",
              "    <tr>\n",
              "      <th>28</th>\n",
              "      <td>The hero stood before the crowd, ready to save...</td>\n",
              "      <td>5047.447754</td>\n",
              "    </tr>\n",
              "    <tr>\n",
              "      <th>29</th>\n",
              "      <td>The strange object they discovered in the dese...</td>\n",
              "      <td>167.880096</td>\n",
              "    </tr>\n",
              "    <tr>\n",
              "      <th>30</th>\n",
              "      <td>During the experiment, the team noticed a stra...</td>\n",
              "      <td>2680.970703</td>\n",
              "    </tr>\n",
              "    <tr>\n",
              "      <th>31</th>\n",
              "      <td>The prophecy foretold that only one person cou...</td>\n",
              "      <td>61.009037</td>\n",
              "    </tr>\n",
              "    <tr>\n",
              "      <th>32</th>\n",
              "      <td>On the day of the celebration, everyone gather...</td>\n",
              "      <td>718.362915</td>\n",
              "    </tr>\n",
              "    <tr>\n",
              "      <th>33</th>\n",
              "      <td>With newfound courage, she set out to go on a ...</td>\n",
              "      <td>1009.655640</td>\n",
              "    </tr>\n",
              "    <tr>\n",
              "      <th>34</th>\n",
              "      <td>In a remote village, people believe in the pow...</td>\n",
              "      <td>506.805115</td>\n",
              "    </tr>\n",
              "    <tr>\n",
              "      <th>35</th>\n",
              "      <td>As they reached the summit of the mountain, th...</td>\n",
              "      <td>253.834167</td>\n",
              "    </tr>\n",
              "    <tr>\n",
              "      <th>36</th>\n",
              "      <td>The purpose of the secret organization was to ...</td>\n",
              "      <td>118.103928</td>\n",
              "    </tr>\n",
              "    <tr>\n",
              "      <th>37</th>\n",
              "      <td>At the break of dawn, the soldiers prepared to...</td>\n",
              "      <td>1454.713379</td>\n",
              "    </tr>\n",
              "    <tr>\n",
              "      <th>38</th>\n",
              "      <td>Her dream was to create a world where everyone...</td>\n",
              "      <td>44.247704</td>\n",
              "    </tr>\n",
              "    <tr>\n",
              "      <th>39</th>\n",
              "      <td>After years of conflict, the two sides finally...</td>\n",
              "      <td>458.198120</td>\n",
              "    </tr>\n",
              "    <tr>\n",
              "      <th>40</th>\n",
              "      <td>The sound of laughter filled the air as they b...</td>\n",
              "      <td>161.703186</td>\n",
              "    </tr>\n",
              "    <tr>\n",
              "      <th>41</th>\n",
              "      <td>For the first time in history, humans have the...</td>\n",
              "      <td>168.573639</td>\n",
              "    </tr>\n",
              "    <tr>\n",
              "      <th>42</th>\n",
              "      <td>The recipe handed down from her grandmother co...</td>\n",
              "      <td>4450.420898</td>\n",
              "    </tr>\n",
              "    <tr>\n",
              "      <th>43</th>\n",
              "      <td>With only a map and a compass, he set out to f...</td>\n",
              "      <td>215.235489</td>\n",
              "    </tr>\n",
              "    <tr>\n",
              "      <th>44</th>\n",
              "      <td>In the ancient library, she found a book that ...</td>\n",
              "      <td>382.669861</td>\n",
              "    </tr>\n",
              "    <tr>\n",
              "      <th>45</th>\n",
              "      <td>They say the waterfall in the forest has the p...</td>\n",
              "      <td>130.341034</td>\n",
              "    </tr>\n",
              "    <tr>\n",
              "      <th>46</th>\n",
              "      <td>Her invention had the potential to change the ...</td>\n",
              "      <td>160.449707</td>\n",
              "    </tr>\n",
              "    <tr>\n",
              "      <th>47</th>\n",
              "      <td>At the end of the journey, they discovered the...</td>\n",
              "      <td>480.056335</td>\n",
              "    </tr>\n",
              "    <tr>\n",
              "      <th>48</th>\n",
              "      <td>The artifact was a relic from a civilization t...</td>\n",
              "      <td>90.536537</td>\n",
              "    </tr>\n",
              "    <tr>\n",
              "      <th>49</th>\n",
              "      <td>With a deep breath, he stepped forward and dec...</td>\n",
              "      <td>1194.905151</td>\n",
              "    </tr>\n",
              "  </tbody>\n",
              "</table>\n",
              "</div>"
            ],
            "text/plain": [
              "                                   Generated Sentence   Perplexity\n",
              "0   The advancements in artificial intelligence ar...    75.206680\n",
              "1   In a world where technology continues to evolv...   158.699478\n",
              "2   The future of humanity lies in the ability to ...   128.480698\n",
              "3   When scientists discovered the new form of ene...   349.792084\n",
              "4   As I walked through the forest that day, I sud...   251.675491\n",
              "5   The secret to achieving true happiness is to s...    89.395905\n",
              "6   With the discovery of life on another planet, ...   657.711060\n",
              "7   After years of research, they finally created ...   164.046371\n",
              "8   In the year 2050, the world has transformed in...   190.097229\n",
              "9   Despite all the challenges, she believed that ...   265.137207\n",
              "10  In the quiet of the evening, I heard a voice w...   678.325684\n",
              "11  The invention that changed the world forever w...    95.511536\n",
              "12  As they ventured into the unknown, the explore...  1292.839844\n",
              "13  The book he left behind contained secrets abou...   371.820007\n",
              "14  In the midst of chaos, she managed to find a w...   692.006042\n",
              "15  With great determination, he decided to pursue...  2390.437256\n",
              "16  The ancient artifact was believed to hold the ...   134.184235\n",
              "17  After analyzing the data, the scientist conclu...   593.863831\n",
              "18  The unexpected letter he received revealed him...  2746.577393\n",
              "19  At the edge of the universe, there exists a un...   368.365356\n",
              "20  When I opened the mysterious box, I found myse...   650.537476\n",
              "21  The truth about her past was finally uncovered...   562.129272\n",
              "22  As the rain poured down, I remembered that the...  2046.177612\n",
              "23  In the heart of the city lies a hidden artifac...   414.858856\n",
              "24      For generations, people have searched for it.   894.458801\n",
              "25   In the silence of the night, a faint sound of...   780.497986\n",
              "26  The key to solving the mystery was hidden within!   248.879471\n",
              "27  In a world dominated by technology, humans hav...   636.144531\n",
              "28  The hero stood before the crowd, ready to save...  5047.447754\n",
              "29  The strange object they discovered in the dese...   167.880096\n",
              "30  During the experiment, the team noticed a stra...  2680.970703\n",
              "31  The prophecy foretold that only one person cou...    61.009037\n",
              "32  On the day of the celebration, everyone gather...   718.362915\n",
              "33  With newfound courage, she set out to go on a ...  1009.655640\n",
              "34  In a remote village, people believe in the pow...   506.805115\n",
              "35  As they reached the summit of the mountain, th...   253.834167\n",
              "36  The purpose of the secret organization was to ...   118.103928\n",
              "37  At the break of dawn, the soldiers prepared to...  1454.713379\n",
              "38  Her dream was to create a world where everyone...    44.247704\n",
              "39  After years of conflict, the two sides finally...   458.198120\n",
              "40  The sound of laughter filled the air as they b...   161.703186\n",
              "41  For the first time in history, humans have the...   168.573639\n",
              "42  The recipe handed down from her grandmother co...  4450.420898\n",
              "43  With only a map and a compass, he set out to f...   215.235489\n",
              "44  In the ancient library, she found a book that ...   382.669861\n",
              "45  They say the waterfall in the forest has the p...   130.341034\n",
              "46  Her invention had the potential to change the ...   160.449707\n",
              "47  At the end of the journey, they discovered the...   480.056335\n",
              "48  The artifact was a relic from a civilization t...    90.536537\n",
              "49  With a deep breath, he stepped forward and dec...  1194.905151"
            ]
          },
          "execution_count": 1549,
          "metadata": {},
          "output_type": "execute_result"
        }
      ],
      "source": [
        "df_small_1_gen_sentences_perpl = pd.DataFrame({\"Generated Sentence\": small_generator_1_inference, \"Perplexity\": perplexities})\n",
        "df_small_1_gen_sentences_perpl\n"
      ]
    },
    {
      "cell_type": "code",
      "execution_count": null,
      "id": "9728f3b7-991f-4132-9712-f26e7e64ff6f",
      "metadata": {
        "id": "9728f3b7-991f-4132-9712-f26e7e64ff6f"
      },
      "outputs": [],
      "source": [
        "benchmark.loc[('Model2', \"Size1\"), (\"Text Generation\", \"Name\")] =  model.name_or_path\n",
        "benchmark.loc[('Model2', \"Size1\"), (\"Text Generation\", \"Size (GB)\")] =  model_memory_size_gb\n",
        "benchmark.loc[('Model2', \"Size1\"), (\"Text Generation\", \"Qty of Parameters\")] =  total_params\n",
        "benchmark.loc[('Model2', \"Size1\"), (\"Text Generation\", \"Inference Time\")] =  time_taken\n",
        "benchmark.loc[('Model2', \"Size1\"), (\"Text Generation\", \"Metric\")] =  f\"Average perplexity: {np.mean(perplexities)}\""
      ]
    },
    {
      "cell_type": "markdown",
      "id": "f0c987f2-179b-4754-91c0-86f62addf423",
      "metadata": {
        "id": "f0c987f2-179b-4754-91c0-86f62addf423"
      },
      "source": [
        "#### Large Size"
      ]
    },
    {
      "cell_type": "code",
      "execution_count": null,
      "id": "a7666154-b5d7-43c1-bee9-36bd39ec7516",
      "metadata": {
        "id": "a7666154-b5d7-43c1-bee9-36bd39ec7516",
        "outputId": "97d809b5-1838-4e99-a405-41c31235751e"
      },
      "outputs": [
        {
          "name": "stdout",
          "output_type": "stream",
          "text": [
            "El modelo tiene aproximadamente 774,030,080 parámetros.\n",
            "El modelo tiene aproximadamente 2.88 GB en memoria.\n"
          ]
        }
      ],
      "source": [
        "large_generator_1 = pipeline(\n",
        "    \"text-generation\", model=\"microsoft/DialoGPT-large\", # 2.7 billones de parametros\n",
        "    model_kwargs={\"cache_dir\": cache_dir},\n",
        "\n",
        "    # Configuración de generación\n",
        "    max_length=50,        # Longitud máxima del texto generado\n",
        "    num_return_sequences=1, # Número de secuencias a generar\n",
        "    do_sample=True,       # Usar muestreo probabilístico\n",
        "    temperature=0.7,      # Control de creatividad\n",
        "    top_k=50,            # Filtro de top-k tokens\n",
        "    top_p=0.95,          # Nucleus sampling\n",
        "    pad_token_id=50256,   # EOS token ID para GPT-2\n",
        "    truncation=True\n",
        ")\n",
        "\n",
        "model = large_generator_1.model\n",
        "total_params = sum(p.numel() for p in model.parameters())\n",
        "print(f\"El modelo tiene aproximadamente {total_params:,} parámetros.\")\n",
        "\n",
        "# Calcular el tamaño en memoria del modelo en base al dtype de los parámetros\n",
        "model_memory_size = sum(p.numel() * p.element_size() for p in model.parameters())\n",
        "model_memory_size_gb = model_memory_size / (1024 ** 3)  # Convertir a GB\n",
        "\n",
        "# Mostrar el tamaño en memoria\n",
        "print(f\"El modelo tiene aproximadamente {model_memory_size_gb:.2f} GB en memoria.\")"
      ]
    },
    {
      "cell_type": "code",
      "execution_count": null,
      "id": "dc7d0161-3ad6-4b15-86d5-2419c324a790",
      "metadata": {
        "scrolled": true,
        "id": "dc7d0161-3ad6-4b15-86d5-2419c324a790",
        "outputId": "997c642a-a66c-437b-9fcd-78cc328a3e8a"
      },
      "outputs": [
        {
          "name": "stdout",
          "output_type": "stream",
          "text": [
            "Tiempo tomado para inferenciar: 88.7574 Segundos...\n"
          ]
        },
        {
          "data": {
            "text/plain": [
              "['The advancements in artificial intelligence are leading to a new meta.',\n",
              " 'In a world where technology continues to evolve, one day we might find out if that technology will be worth it.',\n",
              " 'The future of humanity lies in the ability to merge all the best features of the previous generations.',\n",
              " 'When scientists discovered the new form of energy, they realized that the energy of the nuclear power plants.',\n",
              " 'As I walked through the forest that day, I suddenly saw a black hole.',\n",
              " 'The secret to achieving true happiness is to play with the little boy.',\n",
              " 'With the discovery of life on another planet, scientists now have the ability to see their own galaxy.',\n",
              " 'After years of research, they finally created a device that can withstand a high caliber bullet to the head.',\n",
              " 'In the year 2050, the world has transformed into a place where humans are actually living.',\n",
              " 'Despite all the challenges, she believed that one day she would learn.',\n",
              " \"In the quiet of the evening, I heard a voice whisper, He's the first in the world to get a real estate agent for his wife.\",\n",
              " 'The invention that changed the world forever was the one that did it for me. the first time I saw it on the show, it was a surprise to me',\n",
              " 'As they ventured into the unknown, the explorers discovered that there was nothing interesting to discover.',\n",
              " 'The book he left behind contained secrets about his secret identity',\n",
              " 'In the midst of chaos, she managed to find the secret of the future. The rest of the universe is still in the future.',\n",
              " 'With great determination, he decided to pursue his dream, and instead of being born in Korea',\n",
              " 'The ancient artifact was believed to hold the power to the universe. It is likely that it was a result of an ancient relic.',\n",
              " 'After analyzing the data, the scientist concluded that it would be a great idea to make the data available to the public.',\n",
              " 'The unexpected letter he received revealed that he has a black friend.',\n",
              " 'At the edge of the universe, there exists a universe.',\n",
              " 'When I opened the mysterious box, I found that a little girl in a kitty suit.',\n",
              " 'The truth about her past was finally uncovered by the last episode.',\n",
              " 'As the rain poured down, I remembered how good it was.',\n",
              " \"In the heart of the city lies a hidden gem that you'll never see\",\n",
              " 'For generations, people have searched for hours and hours, trying to find the best place to live in the world.',\n",
              " 'In the silence of the night, a faint sound of a plane.',\n",
              " 'The key to solving the mystery was hidden within the mystery.',\n",
              " 'In a world dominated by technology, humans have forgotten about the human species.',\n",
              " 'The hero stood before the crowd, ready to deliver the message.',\n",
              " 'The strange object they discovered in the desert was a few hundred meters away.',\n",
              " 'During the experiment, the team noticed a strange thing.',\n",
              " 'The prophecy foretold that only one person could save her',\n",
              " 'On the day of the celebration, everyone gathered to the back of the convention centre in a circle.',\n",
              " 'With newfound courage, she set out to find the body.',\n",
              " 'In a remote village, people believe in the power of magic.',\n",
              " 'As they reached the summit of the mountain, they saw a train of snowithice...',\n",
              " 'The purpose of the secret organization was to destroy the city.',\n",
              " 'At the break of dawn, the soldiers prepared to be in the presence of the emperor.',\n",
              " 'Her dream was to create a world where everyone could have a voice in the matter. He was also an artist.',\n",
              " 'After years of conflict, the two sides finally agreed to a compromise.',\n",
              " 'The sound of laughter filled the air as they began to play the song.',\n",
              " 'For the first time in history, humans have the ability to do it.',\n",
              " 'The recipe handed down from her grandmother contained the recipe for the next one.',\n",
              " 'With only a map and a compass, he set out to find the hidden gems.',\n",
              " 'In the ancient library, she found a book that described the universe as being a multiverse.',\n",
              " 'They say the waterfall in the forest has the power to create a supercharger.',\n",
              " 'Her invention had the potential to change the game.',\n",
              " 'At the end of the journey, they discovered that they were on the road to becoming a human.',\n",
              " 'The artifact was a relic from a civilization that had a very similar culture and culture.',\n",
              " 'With a deep breath, he stepped forward and declared himself a god.']"
            ]
          },
          "execution_count": 1565,
          "metadata": {},
          "output_type": "execute_result"
        }
      ],
      "source": [
        "start_time = time.time()\n",
        "\n",
        "large_generator_1_inference = [large_generator_1(sentence, truncation=\"longest_first\", max_length=100)[0][\"generated_text\"] for sentence in incomplete_sentences]\n",
        "\n",
        "end_time = time.time()\n",
        "\n",
        "time_taken = round(end_time - start_time, 4)\n",
        "\n",
        "print(f\"Tiempo tomado para inferenciar: {time_taken} Segundos...\")\n",
        "large_generator_1_inference"
      ]
    },
    {
      "cell_type": "code",
      "execution_count": null,
      "id": "37435392-0403-41cb-8d1c-229b910be4bc",
      "metadata": {
        "id": "37435392-0403-41cb-8d1c-229b910be4bc",
        "outputId": "b513519a-c58d-4c8e-90a6-9b2e40e5d93a"
      },
      "outputs": [
        {
          "name": "stdout",
          "output_type": "stream",
          "text": [
            "The advancements in artificial intelligence are leading to a new meta.\n"
          ]
        }
      ],
      "source": [
        "print(large_generator_1_inference[0])"
      ]
    },
    {
      "cell_type": "code",
      "execution_count": null,
      "id": "2be6f6bb-69c3-4919-95df-1f79d9f81ca1",
      "metadata": {
        "scrolled": true,
        "id": "2be6f6bb-69c3-4919-95df-1f79d9f81ca1",
        "outputId": "23d12e65-6e8f-4cb2-c098-a42eca419b7b"
      },
      "outputs": [
        {
          "data": {
            "text/plain": [
              "[86.4425277709961,\n",
              " 115.37690734863281,\n",
              " 111.75117492675781,\n",
              " 255.60504150390625,\n",
              " 164.26953125,\n",
              " 60.67809295654297,\n",
              " 257.1209716796875,\n",
              " 91.36827087402344,\n",
              " 94.65205383300781,\n",
              " 154.6094970703125,\n",
              " 252.07423400878906,\n",
              " 197.93450927734375,\n",
              " 605.4110107421875,\n",
              " 537.3984375,\n",
              " 292.4465026855469,\n",
              " 570.32080078125,\n",
              " 115.94828796386719,\n",
              " 458.7554016113281,\n",
              " 5125.3740234375,\n",
              " 184.7517852783203,\n",
              " 268.78045654296875,\n",
              " 292.40606689453125,\n",
              " 781.47998046875,\n",
              " 82.61290740966797,\n",
              " 1762.1717529296875,\n",
              " 107.66260528564453,\n",
              " 102.68138885498047,\n",
              " 300.29742431640625,\n",
              " 892.5151977539062,\n",
              " 217.56503295898438,\n",
              " 740.41064453125,\n",
              " 109.77156066894531,\n",
              " 287.73699951171875,\n",
              " 2151.0302734375,\n",
              " 161.15927124023438,\n",
              " 192.96713256835938,\n",
              " 79.46022033691406,\n",
              " 403.86993408203125,\n",
              " 42.12229537963867,\n",
              " 301.23150634765625,\n",
              " 97.05018615722656,\n",
              " 44.535308837890625,\n",
              " 2281.102783203125,\n",
              " 89.81026458740234,\n",
              " 271.9473571777344,\n",
              " 116.9812240600586,\n",
              " 168.8507080078125,\n",
              " 155.35775756835938,\n",
              " 79.1382827758789,\n",
              " 459.6077880859375]"
            ]
          },
          "execution_count": 1569,
          "metadata": {},
          "output_type": "execute_result"
        }
      ],
      "source": [
        "\n",
        "perplexities = [] # Arreglo vacío para calcular perplexities.\n",
        "\n",
        "for  sentence in incomplete_sentences:\n",
        "    # Tokenizar el texto utilizando  el tokenizer del pipeline\n",
        "    inputs = large_generator_1.tokenizer(sentence, return_tensors=\"pt\") # return tensor for pytorch\n",
        "\n",
        "    with torch.no_grad():\n",
        "        outputs = large_generator_1.model(**inputs, labels=inputs[\"input_ids\"])\n",
        "        loss = outputs.loss\n",
        "\n",
        "    # Calcular la perplejidad\n",
        "    perplexity = torch.exp(loss)\n",
        "    perplexities.append(perplexity)\n",
        "\n",
        "perplexities = [p.item() for p in perplexities]\n",
        "perplexities"
      ]
    },
    {
      "cell_type": "code",
      "execution_count": null,
      "id": "9f0181c9-a655-4640-b919-21f1145b4476",
      "metadata": {
        "scrolled": true,
        "id": "9f0181c9-a655-4640-b919-21f1145b4476",
        "outputId": "8702c3ef-bfe3-409d-b689-7fb2745efb31"
      },
      "outputs": [
        {
          "data": {
            "text/html": [
              "<div>\n",
              "<style scoped>\n",
              "    .dataframe tbody tr th:only-of-type {\n",
              "        vertical-align: middle;\n",
              "    }\n",
              "\n",
              "    .dataframe tbody tr th {\n",
              "        vertical-align: top;\n",
              "    }\n",
              "\n",
              "    .dataframe thead th {\n",
              "        text-align: right;\n",
              "    }\n",
              "</style>\n",
              "<table border=\"1\" class=\"dataframe\">\n",
              "  <thead>\n",
              "    <tr style=\"text-align: right;\">\n",
              "      <th></th>\n",
              "      <th>Generated Sentence</th>\n",
              "      <th>Perplexity</th>\n",
              "    </tr>\n",
              "  </thead>\n",
              "  <tbody>\n",
              "    <tr>\n",
              "      <th>0</th>\n",
              "      <td>The advancements in artificial intelligence ar...</td>\n",
              "      <td>86.442528</td>\n",
              "    </tr>\n",
              "    <tr>\n",
              "      <th>1</th>\n",
              "      <td>In a world where technology continues to evolv...</td>\n",
              "      <td>115.376907</td>\n",
              "    </tr>\n",
              "    <tr>\n",
              "      <th>2</th>\n",
              "      <td>The future of humanity lies in the ability to ...</td>\n",
              "      <td>111.751175</td>\n",
              "    </tr>\n",
              "    <tr>\n",
              "      <th>3</th>\n",
              "      <td>When scientists discovered the new form of ene...</td>\n",
              "      <td>255.605042</td>\n",
              "    </tr>\n",
              "    <tr>\n",
              "      <th>4</th>\n",
              "      <td>As I walked through the forest that day, I sud...</td>\n",
              "      <td>164.269531</td>\n",
              "    </tr>\n",
              "    <tr>\n",
              "      <th>5</th>\n",
              "      <td>The secret to achieving true happiness is to p...</td>\n",
              "      <td>60.678093</td>\n",
              "    </tr>\n",
              "    <tr>\n",
              "      <th>6</th>\n",
              "      <td>With the discovery of life on another planet, ...</td>\n",
              "      <td>257.120972</td>\n",
              "    </tr>\n",
              "    <tr>\n",
              "      <th>7</th>\n",
              "      <td>After years of research, they finally created ...</td>\n",
              "      <td>91.368271</td>\n",
              "    </tr>\n",
              "    <tr>\n",
              "      <th>8</th>\n",
              "      <td>In the year 2050, the world has transformed in...</td>\n",
              "      <td>94.652054</td>\n",
              "    </tr>\n",
              "    <tr>\n",
              "      <th>9</th>\n",
              "      <td>Despite all the challenges, she believed that ...</td>\n",
              "      <td>154.609497</td>\n",
              "    </tr>\n",
              "    <tr>\n",
              "      <th>10</th>\n",
              "      <td>In the quiet of the evening, I heard a voice w...</td>\n",
              "      <td>252.074234</td>\n",
              "    </tr>\n",
              "    <tr>\n",
              "      <th>11</th>\n",
              "      <td>The invention that changed the world forever w...</td>\n",
              "      <td>197.934509</td>\n",
              "    </tr>\n",
              "    <tr>\n",
              "      <th>12</th>\n",
              "      <td>As they ventured into the unknown, the explore...</td>\n",
              "      <td>605.411011</td>\n",
              "    </tr>\n",
              "    <tr>\n",
              "      <th>13</th>\n",
              "      <td>The book he left behind contained secrets abou...</td>\n",
              "      <td>537.398438</td>\n",
              "    </tr>\n",
              "    <tr>\n",
              "      <th>14</th>\n",
              "      <td>In the midst of chaos, she managed to find the...</td>\n",
              "      <td>292.446503</td>\n",
              "    </tr>\n",
              "    <tr>\n",
              "      <th>15</th>\n",
              "      <td>With great determination, he decided to pursue...</td>\n",
              "      <td>570.320801</td>\n",
              "    </tr>\n",
              "    <tr>\n",
              "      <th>16</th>\n",
              "      <td>The ancient artifact was believed to hold the ...</td>\n",
              "      <td>115.948288</td>\n",
              "    </tr>\n",
              "    <tr>\n",
              "      <th>17</th>\n",
              "      <td>After analyzing the data, the scientist conclu...</td>\n",
              "      <td>458.755402</td>\n",
              "    </tr>\n",
              "    <tr>\n",
              "      <th>18</th>\n",
              "      <td>The unexpected letter he received revealed tha...</td>\n",
              "      <td>5125.374023</td>\n",
              "    </tr>\n",
              "    <tr>\n",
              "      <th>19</th>\n",
              "      <td>At the edge of the universe, there exists a un...</td>\n",
              "      <td>184.751785</td>\n",
              "    </tr>\n",
              "    <tr>\n",
              "      <th>20</th>\n",
              "      <td>When I opened the mysterious box, I found that...</td>\n",
              "      <td>268.780457</td>\n",
              "    </tr>\n",
              "    <tr>\n",
              "      <th>21</th>\n",
              "      <td>The truth about her past was finally uncovered...</td>\n",
              "      <td>292.406067</td>\n",
              "    </tr>\n",
              "    <tr>\n",
              "      <th>22</th>\n",
              "      <td>As the rain poured down, I remembered how good...</td>\n",
              "      <td>781.479980</td>\n",
              "    </tr>\n",
              "    <tr>\n",
              "      <th>23</th>\n",
              "      <td>In the heart of the city lies a hidden gem tha...</td>\n",
              "      <td>82.612907</td>\n",
              "    </tr>\n",
              "    <tr>\n",
              "      <th>24</th>\n",
              "      <td>For generations, people have searched for hour...</td>\n",
              "      <td>1762.171753</td>\n",
              "    </tr>\n",
              "    <tr>\n",
              "      <th>25</th>\n",
              "      <td>In the silence of the night, a faint sound of ...</td>\n",
              "      <td>107.662605</td>\n",
              "    </tr>\n",
              "    <tr>\n",
              "      <th>26</th>\n",
              "      <td>The key to solving the mystery was hidden with...</td>\n",
              "      <td>102.681389</td>\n",
              "    </tr>\n",
              "    <tr>\n",
              "      <th>27</th>\n",
              "      <td>In a world dominated by technology, humans hav...</td>\n",
              "      <td>300.297424</td>\n",
              "    </tr>\n",
              "    <tr>\n",
              "      <th>28</th>\n",
              "      <td>The hero stood before the crowd, ready to deli...</td>\n",
              "      <td>892.515198</td>\n",
              "    </tr>\n",
              "    <tr>\n",
              "      <th>29</th>\n",
              "      <td>The strange object they discovered in the dese...</td>\n",
              "      <td>217.565033</td>\n",
              "    </tr>\n",
              "    <tr>\n",
              "      <th>30</th>\n",
              "      <td>During the experiment, the team noticed a stra...</td>\n",
              "      <td>740.410645</td>\n",
              "    </tr>\n",
              "    <tr>\n",
              "      <th>31</th>\n",
              "      <td>The prophecy foretold that only one person cou...</td>\n",
              "      <td>109.771561</td>\n",
              "    </tr>\n",
              "    <tr>\n",
              "      <th>32</th>\n",
              "      <td>On the day of the celebration, everyone gather...</td>\n",
              "      <td>287.737000</td>\n",
              "    </tr>\n",
              "    <tr>\n",
              "      <th>33</th>\n",
              "      <td>With newfound courage, she set out to find the...</td>\n",
              "      <td>2151.030273</td>\n",
              "    </tr>\n",
              "    <tr>\n",
              "      <th>34</th>\n",
              "      <td>In a remote village, people believe in the pow...</td>\n",
              "      <td>161.159271</td>\n",
              "    </tr>\n",
              "    <tr>\n",
              "      <th>35</th>\n",
              "      <td>As they reached the summit of the mountain, th...</td>\n",
              "      <td>192.967133</td>\n",
              "    </tr>\n",
              "    <tr>\n",
              "      <th>36</th>\n",
              "      <td>The purpose of the secret organization was to ...</td>\n",
              "      <td>79.460220</td>\n",
              "    </tr>\n",
              "    <tr>\n",
              "      <th>37</th>\n",
              "      <td>At the break of dawn, the soldiers prepared to...</td>\n",
              "      <td>403.869934</td>\n",
              "    </tr>\n",
              "    <tr>\n",
              "      <th>38</th>\n",
              "      <td>Her dream was to create a world where everyone...</td>\n",
              "      <td>42.122295</td>\n",
              "    </tr>\n",
              "    <tr>\n",
              "      <th>39</th>\n",
              "      <td>After years of conflict, the two sides finally...</td>\n",
              "      <td>301.231506</td>\n",
              "    </tr>\n",
              "    <tr>\n",
              "      <th>40</th>\n",
              "      <td>The sound of laughter filled the air as they b...</td>\n",
              "      <td>97.050186</td>\n",
              "    </tr>\n",
              "    <tr>\n",
              "      <th>41</th>\n",
              "      <td>For the first time in history, humans have the...</td>\n",
              "      <td>44.535309</td>\n",
              "    </tr>\n",
              "    <tr>\n",
              "      <th>42</th>\n",
              "      <td>The recipe handed down from her grandmother co...</td>\n",
              "      <td>2281.102783</td>\n",
              "    </tr>\n",
              "    <tr>\n",
              "      <th>43</th>\n",
              "      <td>With only a map and a compass, he set out to f...</td>\n",
              "      <td>89.810265</td>\n",
              "    </tr>\n",
              "    <tr>\n",
              "      <th>44</th>\n",
              "      <td>In the ancient library, she found a book that ...</td>\n",
              "      <td>271.947357</td>\n",
              "    </tr>\n",
              "    <tr>\n",
              "      <th>45</th>\n",
              "      <td>They say the waterfall in the forest has the p...</td>\n",
              "      <td>116.981224</td>\n",
              "    </tr>\n",
              "    <tr>\n",
              "      <th>46</th>\n",
              "      <td>Her invention had the potential to change the ...</td>\n",
              "      <td>168.850708</td>\n",
              "    </tr>\n",
              "    <tr>\n",
              "      <th>47</th>\n",
              "      <td>At the end of the journey, they discovered tha...</td>\n",
              "      <td>155.357758</td>\n",
              "    </tr>\n",
              "    <tr>\n",
              "      <th>48</th>\n",
              "      <td>The artifact was a relic from a civilization t...</td>\n",
              "      <td>79.138283</td>\n",
              "    </tr>\n",
              "    <tr>\n",
              "      <th>49</th>\n",
              "      <td>With a deep breath, he stepped forward and dec...</td>\n",
              "      <td>459.607788</td>\n",
              "    </tr>\n",
              "  </tbody>\n",
              "</table>\n",
              "</div>"
            ],
            "text/plain": [
              "                                   Generated Sentence   Perplexity\n",
              "0   The advancements in artificial intelligence ar...    86.442528\n",
              "1   In a world where technology continues to evolv...   115.376907\n",
              "2   The future of humanity lies in the ability to ...   111.751175\n",
              "3   When scientists discovered the new form of ene...   255.605042\n",
              "4   As I walked through the forest that day, I sud...   164.269531\n",
              "5   The secret to achieving true happiness is to p...    60.678093\n",
              "6   With the discovery of life on another planet, ...   257.120972\n",
              "7   After years of research, they finally created ...    91.368271\n",
              "8   In the year 2050, the world has transformed in...    94.652054\n",
              "9   Despite all the challenges, she believed that ...   154.609497\n",
              "10  In the quiet of the evening, I heard a voice w...   252.074234\n",
              "11  The invention that changed the world forever w...   197.934509\n",
              "12  As they ventured into the unknown, the explore...   605.411011\n",
              "13  The book he left behind contained secrets abou...   537.398438\n",
              "14  In the midst of chaos, she managed to find the...   292.446503\n",
              "15  With great determination, he decided to pursue...   570.320801\n",
              "16  The ancient artifact was believed to hold the ...   115.948288\n",
              "17  After analyzing the data, the scientist conclu...   458.755402\n",
              "18  The unexpected letter he received revealed tha...  5125.374023\n",
              "19  At the edge of the universe, there exists a un...   184.751785\n",
              "20  When I opened the mysterious box, I found that...   268.780457\n",
              "21  The truth about her past was finally uncovered...   292.406067\n",
              "22  As the rain poured down, I remembered how good...   781.479980\n",
              "23  In the heart of the city lies a hidden gem tha...    82.612907\n",
              "24  For generations, people have searched for hour...  1762.171753\n",
              "25  In the silence of the night, a faint sound of ...   107.662605\n",
              "26  The key to solving the mystery was hidden with...   102.681389\n",
              "27  In a world dominated by technology, humans hav...   300.297424\n",
              "28  The hero stood before the crowd, ready to deli...   892.515198\n",
              "29  The strange object they discovered in the dese...   217.565033\n",
              "30  During the experiment, the team noticed a stra...   740.410645\n",
              "31  The prophecy foretold that only one person cou...   109.771561\n",
              "32  On the day of the celebration, everyone gather...   287.737000\n",
              "33  With newfound courage, she set out to find the...  2151.030273\n",
              "34  In a remote village, people believe in the pow...   161.159271\n",
              "35  As they reached the summit of the mountain, th...   192.967133\n",
              "36  The purpose of the secret organization was to ...    79.460220\n",
              "37  At the break of dawn, the soldiers prepared to...   403.869934\n",
              "38  Her dream was to create a world where everyone...    42.122295\n",
              "39  After years of conflict, the two sides finally...   301.231506\n",
              "40  The sound of laughter filled the air as they b...    97.050186\n",
              "41  For the first time in history, humans have the...    44.535309\n",
              "42  The recipe handed down from her grandmother co...  2281.102783\n",
              "43  With only a map and a compass, he set out to f...    89.810265\n",
              "44  In the ancient library, she found a book that ...   271.947357\n",
              "45  They say the waterfall in the forest has the p...   116.981224\n",
              "46  Her invention had the potential to change the ...   168.850708\n",
              "47  At the end of the journey, they discovered tha...   155.357758\n",
              "48  The artifact was a relic from a civilization t...    79.138283\n",
              "49  With a deep breath, he stepped forward and dec...   459.607788"
            ]
          },
          "execution_count": 1571,
          "metadata": {},
          "output_type": "execute_result"
        }
      ],
      "source": [
        "df_large_1_gen_sentences_perpl = pd.DataFrame({\"Generated Sentence\": large_generator_1_inference, \"Perplexity\": perplexities})\n",
        "df_large_1_gen_sentences_perpl\n"
      ]
    },
    {
      "cell_type": "code",
      "execution_count": null,
      "id": "08008bfc-b9f8-4cb3-b7e0-36aa07123ca1",
      "metadata": {
        "id": "08008bfc-b9f8-4cb3-b7e0-36aa07123ca1"
      },
      "outputs": [],
      "source": [
        "benchmark.loc[('Model2', \"Size2\"), (\"Text Generation\", \"Name\")] =  model.name_or_path\n",
        "benchmark.loc[('Model2', \"Size2\"), (\"Text Generation\", \"Size (GB)\")] =  model_memory_size_gb\n",
        "benchmark.loc[('Model2', \"Size2\"), (\"Text Generation\", \"Qty of Parameters\")] =  total_params\n",
        "benchmark.loc[('Model2', \"Size2\"), (\"Text Generation\", \"Inference Time\")] =  time_taken\n",
        "benchmark.loc[('Model2', \"Size2\"), (\"Text Generation\", \"Metric\")] =  f\"Average perplexity: {np.mean(perplexities)}\""
      ]
    },
    {
      "cell_type": "code",
      "execution_count": null,
      "id": "a72c11e3-bc41-4a3f-8e34-12edcc2b5977",
      "metadata": {
        "id": "a72c11e3-bc41-4a3f-8e34-12edcc2b5977",
        "outputId": "d7a05dc5-bbff-4ad0-ab68-7d326ee64b77"
      },
      "outputs": [
        {
          "data": {
            "text/html": [
              "<div>\n",
              "<style scoped>\n",
              "    .dataframe tbody tr th:only-of-type {\n",
              "        vertical-align: middle;\n",
              "    }\n",
              "\n",
              "    .dataframe tbody tr th {\n",
              "        vertical-align: top;\n",
              "    }\n",
              "\n",
              "    .dataframe thead th {\n",
              "        text-align: right;\n",
              "    }\n",
              "</style>\n",
              "<table border=\"1\" class=\"dataframe\">\n",
              "  <thead>\n",
              "    <tr style=\"text-align: right;\">\n",
              "      <th></th>\n",
              "      <th>Info</th>\n",
              "      <th>Name</th>\n",
              "      <th>Inference Time</th>\n",
              "      <th>Size (GB)</th>\n",
              "      <th>Qty of Parameters</th>\n",
              "      <th>Metric</th>\n",
              "    </tr>\n",
              "    <tr>\n",
              "      <th>Model</th>\n",
              "      <th>Size</th>\n",
              "      <th></th>\n",
              "      <th></th>\n",
              "      <th></th>\n",
              "      <th></th>\n",
              "      <th></th>\n",
              "    </tr>\n",
              "  </thead>\n",
              "  <tbody>\n",
              "    <tr>\n",
              "      <th rowspan=\"2\" valign=\"top\">Model1</th>\n",
              "      <th>Size1</th>\n",
              "      <td>gpt2</td>\n",
              "      <td>235.7916</td>\n",
              "      <td>0.463574</td>\n",
              "      <td>124439808</td>\n",
              "      <td>Average perplexity: 63.79095924377442</td>\n",
              "    </tr>\n",
              "    <tr>\n",
              "      <th>Size2</th>\n",
              "      <td>gpt2-medium</td>\n",
              "      <td>450.3852</td>\n",
              "      <td>1.321819</td>\n",
              "      <td>354823168</td>\n",
              "      <td>Average perplexity: 47.56505925178528</td>\n",
              "    </tr>\n",
              "    <tr>\n",
              "      <th rowspan=\"2\" valign=\"top\">Model2</th>\n",
              "      <th>Size1</th>\n",
              "      <td>microsoft/DialoGPT-small</td>\n",
              "      <td>16.9203</td>\n",
              "      <td>0.463574</td>\n",
              "      <td>124439808</td>\n",
              "      <td>Average perplexity: 757.6795557403565</td>\n",
              "    </tr>\n",
              "    <tr>\n",
              "      <th>Size2</th>\n",
              "      <td>microsoft/DialoGPT-large</td>\n",
              "      <td>88.7574</td>\n",
              "      <td>2.883487</td>\n",
              "      <td>774030080</td>\n",
              "      <td>Average perplexity: 455.49206748962405</td>\n",
              "    </tr>\n",
              "  </tbody>\n",
              "</table>\n",
              "</div>"
            ],
            "text/plain": [
              "Info                              Name Inference Time Size (GB)  \\\n",
              "Model  Size                                                       \n",
              "Model1 Size1                      gpt2       235.7916  0.463574   \n",
              "       Size2               gpt2-medium       450.3852  1.321819   \n",
              "Model2 Size1  microsoft/DialoGPT-small        16.9203  0.463574   \n",
              "       Size2  microsoft/DialoGPT-large        88.7574  2.883487   \n",
              "\n",
              "Info         Qty of Parameters                                  Metric  \n",
              "Model  Size                                                             \n",
              "Model1 Size1         124439808   Average perplexity: 63.79095924377442  \n",
              "       Size2         354823168   Average perplexity: 47.56505925178528  \n",
              "Model2 Size1         124439808   Average perplexity: 757.6795557403565  \n",
              "       Size2         774030080  Average perplexity: 455.49206748962405  "
            ]
          },
          "execution_count": 1575,
          "metadata": {},
          "output_type": "execute_result"
        }
      ],
      "source": [
        "benchmark[\"Text Generation\"]"
      ]
    },
    {
      "cell_type": "markdown",
      "id": "35ef0dee-921a-4606-99f2-538264a00517",
      "metadata": {
        "id": "35ef0dee-921a-4606-99f2-538264a00517"
      },
      "source": [
        "## Zero-shot classification"
      ]
    },
    {
      "cell_type": "code",
      "execution_count": null,
      "id": "451b956f-b7f6-417a-8f7f-8def1adc6fb2",
      "metadata": {
        "scrolled": true,
        "id": "451b956f-b7f6-417a-8f7f-8def1adc6fb2",
        "outputId": "491c681c-521b-41a6-9ad4-826edca6aa89"
      },
      "outputs": [
        {
          "data": {
            "text/html": [
              "<div>\n",
              "<style scoped>\n",
              "    .dataframe tbody tr th:only-of-type {\n",
              "        vertical-align: middle;\n",
              "    }\n",
              "\n",
              "    .dataframe tbody tr th {\n",
              "        vertical-align: top;\n",
              "    }\n",
              "\n",
              "    .dataframe thead th {\n",
              "        text-align: right;\n",
              "    }\n",
              "</style>\n",
              "<table border=\"1\" class=\"dataframe\">\n",
              "  <thead>\n",
              "    <tr style=\"text-align: right;\">\n",
              "      <th></th>\n",
              "      <th>id</th>\n",
              "      <th>verse_text</th>\n",
              "      <th>label</th>\n",
              "    </tr>\n",
              "  </thead>\n",
              "  <tbody>\n",
              "    <tr>\n",
              "      <th>0</th>\n",
              "      <td>0</td>\n",
              "      <td>my canoe to make more steady,</td>\n",
              "      <td>no_impact</td>\n",
              "    </tr>\n",
              "    <tr>\n",
              "      <th>1</th>\n",
              "      <td>1</td>\n",
              "      <td>and be glad in the summer morning when the kin...</td>\n",
              "      <td>positive</td>\n",
              "    </tr>\n",
              "    <tr>\n",
              "      <th>2</th>\n",
              "      <td>2</td>\n",
              "      <td>and when they reached the strait symplegades</td>\n",
              "      <td>no_impact</td>\n",
              "    </tr>\n",
              "    <tr>\n",
              "      <th>3</th>\n",
              "      <td>3</td>\n",
              "      <td>she sought for flowers</td>\n",
              "      <td>no_impact</td>\n",
              "    </tr>\n",
              "    <tr>\n",
              "      <th>4</th>\n",
              "      <td>4</td>\n",
              "      <td>if they are hungry, paradise</td>\n",
              "      <td>no_impact</td>\n",
              "    </tr>\n",
              "    <tr>\n",
              "      <th>...</th>\n",
              "      <td>...</td>\n",
              "      <td>...</td>\n",
              "      <td>...</td>\n",
              "    </tr>\n",
              "    <tr>\n",
              "      <th>99</th>\n",
              "      <td>99</td>\n",
              "      <td>shall live my highland mary.</td>\n",
              "      <td>no_impact</td>\n",
              "    </tr>\n",
              "    <tr>\n",
              "      <th>100</th>\n",
              "      <td>100</td>\n",
              "      <td>now is past since last we met</td>\n",
              "      <td>no_impact</td>\n",
              "    </tr>\n",
              "    <tr>\n",
              "      <th>101</th>\n",
              "      <td>101</td>\n",
              "      <td>begins to live</td>\n",
              "      <td>no_impact</td>\n",
              "    </tr>\n",
              "    <tr>\n",
              "      <th>102</th>\n",
              "      <td>102</td>\n",
              "      <td>beneath the hazel bough;</td>\n",
              "      <td>no_impact</td>\n",
              "    </tr>\n",
              "    <tr>\n",
              "      <th>103</th>\n",
              "      <td>103</td>\n",
              "      <td>daring to ask for naught, and having naught re...</td>\n",
              "      <td>no_impact</td>\n",
              "    </tr>\n",
              "  </tbody>\n",
              "</table>\n",
              "<p>104 rows × 3 columns</p>\n",
              "</div>"
            ],
            "text/plain": [
              "      id                                         verse_text      label\n",
              "0      0                      my canoe to make more steady,  no_impact\n",
              "1      1  and be glad in the summer morning when the kin...   positive\n",
              "2      2       and when they reached the strait symplegades  no_impact\n",
              "3      3                             she sought for flowers  no_impact\n",
              "4      4                       if they are hungry, paradise  no_impact\n",
              "..   ...                                                ...        ...\n",
              "99    99                       shall live my highland mary.  no_impact\n",
              "100  100                      now is past since last we met  no_impact\n",
              "101  101                                     begins to live  no_impact\n",
              "102  102                           beneath the hazel bough;  no_impact\n",
              "103  103  daring to ask for naught, and having naught re...  no_impact\n",
              "\n",
              "[104 rows x 3 columns]"
            ]
          },
          "execution_count": 1607,
          "metadata": {},
          "output_type": "execute_result"
        }
      ],
      "source": [
        "poem_sample"
      ]
    },
    {
      "cell_type": "code",
      "execution_count": null,
      "id": "19a89da1-c67e-4374-958c-8bf336ece132",
      "metadata": {
        "id": "19a89da1-c67e-4374-958c-8bf336ece132",
        "outputId": "5c36a793-6fbe-493c-b497-e45acd5332db"
      },
      "outputs": [
        {
          "data": {
            "text/plain": [
              "array(['no_impact', 'positive', 'negative'], dtype=object)"
            ]
          },
          "execution_count": 1609,
          "metadata": {},
          "output_type": "execute_result"
        }
      ],
      "source": [
        "poem_sample[\"label\"].unique()"
      ]
    },
    {
      "cell_type": "code",
      "execution_count": null,
      "id": "db4f0593-795c-447e-b60e-b1c9a2419d4f",
      "metadata": {
        "scrolled": true,
        "id": "db4f0593-795c-447e-b60e-b1c9a2419d4f",
        "outputId": "cb890416-2e96-4b4b-fdab-3526b2592da7"
      },
      "outputs": [
        {
          "data": {
            "text/plain": [
              "'my canoe to make more steady,'"
            ]
          },
          "execution_count": 1603,
          "metadata": {},
          "output_type": "execute_result"
        }
      ],
      "source": [
        "poem = poem_sample[\"verse_text\"].iloc[0]\n",
        "poem"
      ]
    },
    {
      "cell_type": "code",
      "execution_count": null,
      "id": "137bb482-a179-4561-8df2-00dc0876e14b",
      "metadata": {
        "id": "137bb482-a179-4561-8df2-00dc0876e14b",
        "outputId": "0ff4e4cc-4967-4d39-e781-4324c735a189"
      },
      "outputs": [
        {
          "data": {
            "text/plain": [
              "'positive'"
            ]
          },
          "execution_count": 1675,
          "metadata": {},
          "output_type": "execute_result"
        }
      ],
      "source": [
        "def categorize_poem(modelo, poem: str) -> str:\n",
        "    \"\"\"\n",
        "    Define categorías de clasificación y devuelve la categoría con la mayor confianza.\n",
        "\n",
        "    Arguments:\n",
        "        poem (str): El poema que será clasificado.\n",
        "\n",
        "    Returns:\n",
        "        str: La etiqueta más probable con mayor puntuación.\n",
        "\n",
        "    \"\"\"\n",
        "    results = modelo(\n",
        "        poem,\n",
        "        candidate_labels=[\n",
        "            'no_impact',\n",
        "            'positive',\n",
        "            'negative',\n",
        "        ]\n",
        "    )\n",
        "\n",
        "    return results[\"labels\"][np.argmax(results[\"scores\"])] # Retorna la etiqueta cuyo score es mas alto, en el dominio de los arreglos\n",
        "\n",
        "categorize_poem(small_zero_shot, poem)"
      ]
    },
    {
      "cell_type": "markdown",
      "id": "705bfc03-ede8-46bb-b481-82079f0eb6a4",
      "metadata": {
        "id": "705bfc03-ede8-46bb-b481-82079f0eb6a4"
      },
      "source": [
        "### Set 5, modelo 1"
      ]
    },
    {
      "cell_type": "markdown",
      "id": "074e0533-645c-4ff3-866a-e0eb52b8e80e",
      "metadata": {
        "id": "074e0533-645c-4ff3-866a-e0eb52b8e80e"
      },
      "source": [
        "#### Small Size"
      ]
    },
    {
      "cell_type": "code",
      "execution_count": null,
      "id": "46877ae2-5a9f-400e-9155-e4f6b1304c6b",
      "metadata": {
        "id": "46877ae2-5a9f-400e-9155-e4f6b1304c6b"
      },
      "outputs": [],
      "source": [
        "def unpack_tuple(dataFrame):\n",
        "    unpacked = [];\n",
        "    for val in dataFrame:\n",
        "        unpacked.append(*val)\n",
        "    return unpacked"
      ]
    },
    {
      "cell_type": "code",
      "execution_count": null,
      "id": "b2241976-2e80-426d-adec-98236c691b1b",
      "metadata": {
        "id": "b2241976-2e80-426d-adec-98236c691b1b",
        "outputId": "d56a2125-be6e-425c-bc6a-dd01b96cbedd"
      },
      "outputs": [
        {
          "name": "stderr",
          "output_type": "stream",
          "text": [
            "/Users/user/Documents/ITLA/2024 C3/NLP/segundo periodo/LLMs Aplications/env/lib/python3.12/site-packages/transformers/convert_slow_tokenizer.py:561: UserWarning: The sentencepiece tokenizer that you are converting to a fast tokenizer uses the byte fallback option which is not implemented in the fast tokenizers. In practice this means that the fast version of the tokenizer can produce unknown tokens whereas the sentencepiece version would have converted these unknown tokens into a sequence of byte tokens matching the original piece of text.\n",
            "  warnings.warn(\n"
          ]
        },
        {
          "name": "stdout",
          "output_type": "stream",
          "text": [
            "El modelo tiene aproximadamente 141,897,219 parámetros.\n",
            "El modelo tiene aproximadamente 0.53 GB en memoria.\n"
          ]
        }
      ],
      "source": [
        "# Crear pipeline de clasificación de cero disparos\n",
        "small_zero_shot = pipeline(\n",
        "    task=\"zero-shot-classification\",\n",
        "    model=\"cross-encoder/nli-deberta-v3-small\",\n",
        "    model_kwargs={\"cache_dir\": cache_dir},\n",
        ")\n",
        "model = small_zero_shot.model\n",
        "total_params = sum(p.numel() for p in model.parameters())\n",
        "print(f\"El modelo tiene aproximadamente {total_params:,} parámetros.\")\n",
        "\n",
        "# Calcular el tamaño en memoria del modelo en base al dtype de los parámetros\n",
        "model_memory_size = sum(p.numel() * p.element_size() for p in model.parameters())\n",
        "model_memory_size_gb = model_memory_size / (1024 ** 3)  # Convertir a GB\n",
        "\n",
        "# Mostrar el tamaño en memoria\n",
        "print(f\"El modelo tiene aproximadamente {model_memory_size_gb:.2f} GB en memoria.\")"
      ]
    },
    {
      "cell_type": "code",
      "execution_count": null,
      "id": "9f3adf7d-783c-473d-95f8-79c5cdf8ecbb",
      "metadata": {
        "scrolled": true,
        "id": "9f3adf7d-783c-473d-95f8-79c5cdf8ecbb",
        "outputId": "859fe710-2ab4-4707-f67b-893aafd108de"
      },
      "outputs": [
        {
          "name": "stdout",
          "output_type": "stream",
          "text": [
            "Tiempo tomado para inferenciar: 33.7986 Segundos...\n"
          ]
        },
        {
          "data": {
            "text/plain": [
              "['negative',\n",
              " 'positive',\n",
              " 'negative',\n",
              " 'positive',\n",
              " 'positive',\n",
              " 'negative',\n",
              " 'negative',\n",
              " 'positive',\n",
              " 'negative',\n",
              " 'negative',\n",
              " 'positive',\n",
              " 'negative',\n",
              " 'negative',\n",
              " 'positive',\n",
              " 'positive',\n",
              " 'negative',\n",
              " 'positive',\n",
              " 'positive',\n",
              " 'positive',\n",
              " 'negative',\n",
              " 'negative',\n",
              " 'positive',\n",
              " 'positive',\n",
              " 'negative',\n",
              " 'positive',\n",
              " 'negative',\n",
              " 'positive',\n",
              " 'negative',\n",
              " 'negative',\n",
              " 'negative',\n",
              " 'positive',\n",
              " 'no_impact',\n",
              " 'negative',\n",
              " 'negative',\n",
              " 'positive',\n",
              " 'negative',\n",
              " 'positive',\n",
              " 'positive',\n",
              " 'negative',\n",
              " 'positive',\n",
              " 'negative',\n",
              " 'positive',\n",
              " 'positive',\n",
              " 'positive',\n",
              " 'negative',\n",
              " 'positive',\n",
              " 'negative',\n",
              " 'negative',\n",
              " 'negative',\n",
              " 'negative',\n",
              " 'positive',\n",
              " 'negative',\n",
              " 'negative',\n",
              " 'positive',\n",
              " 'negative',\n",
              " 'negative',\n",
              " 'negative',\n",
              " 'negative',\n",
              " 'negative',\n",
              " 'positive',\n",
              " 'negative',\n",
              " 'positive',\n",
              " 'negative',\n",
              " 'negative',\n",
              " 'negative',\n",
              " 'positive',\n",
              " 'negative',\n",
              " 'positive',\n",
              " 'negative',\n",
              " 'negative',\n",
              " 'positive',\n",
              " 'positive',\n",
              " 'no_impact',\n",
              " 'positive',\n",
              " 'positive',\n",
              " 'positive',\n",
              " 'negative',\n",
              " 'positive',\n",
              " 'positive',\n",
              " 'negative',\n",
              " 'negative',\n",
              " 'positive',\n",
              " 'negative',\n",
              " 'negative',\n",
              " 'negative',\n",
              " 'negative',\n",
              " 'negative',\n",
              " 'negative',\n",
              " 'negative',\n",
              " 'positive',\n",
              " 'negative',\n",
              " 'positive',\n",
              " 'negative',\n",
              " 'negative',\n",
              " 'positive',\n",
              " 'negative',\n",
              " 'positive',\n",
              " 'negative',\n",
              " 'positive',\n",
              " 'positive',\n",
              " 'no_impact',\n",
              " 'positive',\n",
              " 'positive',\n",
              " 'negative']"
            ]
          },
          "execution_count": 1990,
          "metadata": {},
          "output_type": "execute_result"
        }
      ],
      "source": [
        "start_time = time.time()\n",
        "\n",
        "small_zero_shot_inferences = [categorize_poem(small_zero_shot, poem) for poem in poem_sample[\"verse_text\"]]\n",
        "\n",
        "end_time = time.time()\n",
        "\n",
        "time_taken = round(end_time - start_time, 4)\n",
        "\n",
        "print(f\"Tiempo tomado para inferenciar: {time_taken} Segundos...\")\n",
        "small_zero_shot_inferences"
      ]
    },
    {
      "cell_type": "code",
      "execution_count": null,
      "id": "78cce41d-46a4-40b4-a40e-2994b270cb5f",
      "metadata": {
        "scrolled": true,
        "id": "78cce41d-46a4-40b4-a40e-2994b270cb5f",
        "outputId": "af63c0d8-248a-4354-8a72-96bc94d5f627"
      },
      "outputs": [
        {
          "name": "stdout",
          "output_type": "stream",
          "text": [
            "negative \n",
            " daring to ask for naught, and having naught received.\n"
          ]
        }
      ],
      "source": [
        "print(small_zero_shot_inferences[-1],\"\\n\", poem_sample[\"verse_text\"].iloc[-1])"
      ]
    },
    {
      "cell_type": "code",
      "execution_count": null,
      "id": "3d88c6d5-0860-46e3-a821-a75324dfb517",
      "metadata": {
        "id": "3d88c6d5-0860-46e3-a821-a75324dfb517",
        "outputId": "f78fdb6f-b4ab-4e0f-9900-6982a1197c3b"
      },
      "outputs": [
        {
          "name": "stdout",
          "output_type": "stream",
          "text": [
            "accuracy: 0.33653846153846156\n"
          ]
        },
        {
          "data": {
            "image/png": "[encoded data removed]",
            "text/plain": [
              "<Figure size 700x500 with 2 Axes>"
            ]
          },
          "metadata": {},
          "output_type": "display_data"
        }
      ],
      "source": [
        "accuracy = accuracy_score(list(poem_sample[\"label\"]), small_zero_shot_inferences)\n",
        "\n",
        "classification_labels = unpack_tuple(pd.DataFrame(small_zero_shot_inferences).value_counts().keys().to_list())\n",
        "print(f\"accuracy: {accuracy}\")\n",
        "\n",
        "fig, ax =  plt.subplots(figsize=(7, 5))\n",
        "conf_mat = confusion_matrix(poem_sample[\"label\"], small_zero_shot_inferences, labels=classification_labels)\n",
        "\n",
        "ax = sns.heatmap(conf_mat, annot=True, xticklabels=classification_labels, yticklabels=classification_labels, cmap=\"Blues\")\n",
        "\n",
        "ax.set(\n",
        "    title=\"Matriz de confusión Para Zero Shot Classification\",\n",
        "    xlabel=\"Valor Predicho\",\n",
        "    ylabel=\"Valor Verdadero\"\n",
        ")\n",
        "plt.tight_layout()\n",
        "plt.show()"
      ]
    },
    {
      "cell_type": "code",
      "execution_count": null,
      "id": "391fbb10-9f62-4d00-a190-1e507a00e400",
      "metadata": {
        "id": "391fbb10-9f62-4d00-a190-1e507a00e400"
      },
      "outputs": [],
      "source": [
        "benchmark.loc[('Model1', \"Size1\"), (\"Zero Shot Classification\", \"Name\")] =  model.name_or_path\n",
        "benchmark.loc[('Model1', \"Size1\"), (\"Zero Shot Classification\", \"Size (GB)\")] =  model_memory_size_gb\n",
        "benchmark.loc[('Model1', \"Size1\"), (\"Zero Shot Classification\", \"Qty of Parameters\")] =  total_params\n",
        "benchmark.loc[('Model1', \"Size1\"), (\"Zero Shot Classification\", \"Inference Time\")] =  time_taken\n",
        "benchmark.loc[('Model1', \"Size1\"), (\"Zero Shot Classification\", \"Metric\")] =  f\"Accuracy: {accuracy}\""
      ]
    },
    {
      "cell_type": "markdown",
      "id": "0fd63a4e-83da-4b84-95e4-b9cd36b3a44e",
      "metadata": {
        "id": "0fd63a4e-83da-4b84-95e4-b9cd36b3a44e"
      },
      "source": [
        "#### Medium Size"
      ]
    },
    {
      "cell_type": "code",
      "execution_count": null,
      "id": "75b6c5bd-43f2-4c0b-9ae1-2ba622cee5eb",
      "metadata": {
        "id": "75b6c5bd-43f2-4c0b-9ae1-2ba622cee5eb",
        "outputId": "a58cbbfc-5dc2-4be3-a193-c647148a8f80"
      },
      "outputs": [
        {
          "name": "stdout",
          "output_type": "stream",
          "text": [
            "El modelo tiene aproximadamente 139,194,627 parámetros.\n",
            "El modelo tiene aproximadamente 0.52 GB en memoria.\n"
          ]
        }
      ],
      "source": [
        "zero_shot_base = pipeline(\n",
        "    task=\"zero-shot-classification\",\n",
        "    model='cross-encoder/nli-deberta-base',\n",
        "    model_kwargs={\"cache_dir\": cache_dir})\n",
        "\n",
        "model = zero_shot_base.model\n",
        "total_params = sum(p.numel() for p in model.parameters())\n",
        "print(f\"El modelo tiene aproximadamente {total_params:,} parámetros.\")\n",
        "\n",
        "# Calcular el tamaño en memoria del modelo en base al dtype de los parámetros\n",
        "model_memory_size = sum(p.numel() * p.element_size() for p in model.parameters())\n",
        "model_memory_size_gb = model_memory_size / (1024 ** 3)  # Convertir a GB\n",
        "\n",
        "# Mostrar el tamaño en memoria\n",
        "print(f\"El modelo tiene aproximadamente {model_memory_size_gb:.2f} GB en memoria.\")"
      ]
    },
    {
      "cell_type": "code",
      "execution_count": null,
      "id": "d6805921-a4af-4e19-a11c-895ef3f7daa2",
      "metadata": {
        "scrolled": true,
        "id": "d6805921-a4af-4e19-a11c-895ef3f7daa2",
        "outputId": "44ca4ef1-e17f-47b5-ec9a-b794972a5101"
      },
      "outputs": [
        {
          "name": "stdout",
          "output_type": "stream",
          "text": [
            "Tiempo tomado para inferenciar: 48.8022 Segundos...\n"
          ]
        },
        {
          "data": {
            "text/plain": [
              "['positive',\n",
              " 'positive',\n",
              " 'positive',\n",
              " 'positive',\n",
              " 'positive',\n",
              " 'negative',\n",
              " 'negative',\n",
              " 'positive',\n",
              " 'negative',\n",
              " 'negative',\n",
              " 'positive',\n",
              " 'negative',\n",
              " 'negative',\n",
              " 'positive',\n",
              " 'negative',\n",
              " 'negative',\n",
              " 'negative',\n",
              " 'positive',\n",
              " 'positive',\n",
              " 'positive',\n",
              " 'negative',\n",
              " 'positive',\n",
              " 'positive',\n",
              " 'negative',\n",
              " 'negative',\n",
              " 'negative',\n",
              " 'negative',\n",
              " 'negative',\n",
              " 'negative',\n",
              " 'negative',\n",
              " 'positive',\n",
              " 'no_impact',\n",
              " 'negative',\n",
              " 'negative',\n",
              " 'positive',\n",
              " 'negative',\n",
              " 'positive',\n",
              " 'negative',\n",
              " 'negative',\n",
              " 'positive',\n",
              " 'positive',\n",
              " 'positive',\n",
              " 'positive',\n",
              " 'positive',\n",
              " 'negative',\n",
              " 'negative',\n",
              " 'negative',\n",
              " 'negative',\n",
              " 'negative',\n",
              " 'positive',\n",
              " 'positive',\n",
              " 'negative',\n",
              " 'negative',\n",
              " 'negative',\n",
              " 'negative',\n",
              " 'positive',\n",
              " 'positive',\n",
              " 'positive',\n",
              " 'negative',\n",
              " 'positive',\n",
              " 'negative',\n",
              " 'positive',\n",
              " 'negative',\n",
              " 'negative',\n",
              " 'negative',\n",
              " 'negative',\n",
              " 'negative',\n",
              " 'positive',\n",
              " 'negative',\n",
              " 'negative',\n",
              " 'positive',\n",
              " 'positive',\n",
              " 'positive',\n",
              " 'positive',\n",
              " 'positive',\n",
              " 'negative',\n",
              " 'negative',\n",
              " 'positive',\n",
              " 'positive',\n",
              " 'negative',\n",
              " 'negative',\n",
              " 'positive',\n",
              " 'negative',\n",
              " 'negative',\n",
              " 'negative',\n",
              " 'negative',\n",
              " 'no_impact',\n",
              " 'negative',\n",
              " 'negative',\n",
              " 'positive',\n",
              " 'negative',\n",
              " 'positive',\n",
              " 'negative',\n",
              " 'negative',\n",
              " 'positive',\n",
              " 'negative',\n",
              " 'positive',\n",
              " 'negative',\n",
              " 'negative',\n",
              " 'positive',\n",
              " 'no_impact',\n",
              " 'positive',\n",
              " 'positive',\n",
              " 'negative']"
            ]
          },
          "execution_count": 1996,
          "metadata": {},
          "output_type": "execute_result"
        }
      ],
      "source": [
        "start_time = time.time()\n",
        "\n",
        "zero_shot_base_inferences = [categorize_poem(zero_shot_base, poem) for poem in poem_sample[\"verse_text\"]]\n",
        "\n",
        "end_time = time.time()\n",
        "\n",
        "time_taken = round(end_time - start_time, 4)\n",
        "\n",
        "print(f\"Tiempo tomado para inferenciar: {time_taken} Segundos...\")\n",
        "zero_shot_base_inferences"
      ]
    },
    {
      "cell_type": "code",
      "execution_count": null,
      "id": "301165f2-344a-483e-9462-760b755dffbc",
      "metadata": {
        "id": "301165f2-344a-483e-9462-760b755dffbc",
        "outputId": "a72e43a5-49ba-495f-9169-ff8870a5f55e"
      },
      "outputs": [
        {
          "name": "stdout",
          "output_type": "stream",
          "text": [
            "negative \n",
            " daring to ask for naught, and having naught received.\n"
          ]
        }
      ],
      "source": [
        "print(zero_shot_base_inferences[-1],\"\\n\", poem_sample[\"verse_text\"].iloc[-1])"
      ]
    },
    {
      "cell_type": "code",
      "execution_count": null,
      "id": "2da94c66-18ac-4d14-b779-f544ab1aea77",
      "metadata": {
        "id": "2da94c66-18ac-4d14-b779-f544ab1aea77",
        "outputId": "d017ef7c-3164-4416-c6b6-9bb25c365807"
      },
      "outputs": [
        {
          "name": "stdout",
          "output_type": "stream",
          "text": [
            "accuracy: 0.3269230769230769\n"
          ]
        },
        {
          "data": {
            "image/png": "[encoded data removed]",
            "text/plain": [
              "<Figure size 700x500 with 2 Axes>"
            ]
          },
          "metadata": {},
          "output_type": "display_data"
        }
      ],
      "source": [
        "accuracy = accuracy_score(list(poem_sample[\"label\"]), zero_shot_base_inferences)\n",
        "\n",
        "classification_labels = unpack_tuple(pd.DataFrame(zero_shot_base_inferences).value_counts().keys().to_list())\n",
        "print(f\"accuracy: {accuracy}\")\n",
        "\n",
        "fig, ax =  plt.subplots(figsize=(7, 5))\n",
        "conf_mat = confusion_matrix(poem_sample[\"label\"], zero_shot_base_inferences, labels=classification_labels)\n",
        "\n",
        "ax = sns.heatmap(conf_mat, annot=True, xticklabels=classification_labels, yticklabels=classification_labels, cmap=\"Blues\")\n",
        "\n",
        "ax.set(\n",
        "    title=\"Matriz de confusión Para Zero Shot Classification\",\n",
        "    xlabel=\"Valor Predicho\",\n",
        "    ylabel=\"Valor Verdadero\"\n",
        ")\n",
        "plt.tight_layout()\n",
        "plt.show()"
      ]
    },
    {
      "cell_type": "code",
      "execution_count": null,
      "id": "d741d5aa-85cb-4973-84df-55a70c815b48",
      "metadata": {
        "id": "d741d5aa-85cb-4973-84df-55a70c815b48"
      },
      "outputs": [],
      "source": [
        "benchmark.loc[('Model1', \"Size2\"), (\"Zero Shot Classification\", \"Name\")] =  model.name_or_path\n",
        "benchmark.loc[('Model1', \"Size2\"), (\"Zero Shot Classification\", \"Size (GB)\")] =  model_memory_size_gb\n",
        "benchmark.loc[('Model1', \"Size2\"), (\"Zero Shot Classification\", \"Qty of Parameters\")] =  total_params\n",
        "benchmark.loc[('Model1', \"Size2\"), (\"Zero Shot Classification\", \"Inference Time\")] =  time_taken\n",
        "benchmark.loc[('Model1', \"Size2\"), (\"Zero Shot Classification\", \"Metric\")] =  f\"Accuracy: {accuracy}\""
      ]
    },
    {
      "cell_type": "markdown",
      "id": "f22f0105-08fc-44bc-a607-663c40494932",
      "metadata": {
        "id": "f22f0105-08fc-44bc-a607-663c40494932"
      },
      "source": [
        "### Set 5, modelo 2"
      ]
    },
    {
      "cell_type": "markdown",
      "id": "739bb922-326d-4a8a-8293-d801673de077",
      "metadata": {
        "id": "739bb922-326d-4a8a-8293-d801673de077"
      },
      "source": [
        "#### Medium Size"
      ]
    },
    {
      "cell_type": "code",
      "execution_count": null,
      "id": "865a83bd-2796-46dd-8777-79705e7939f6",
      "metadata": {
        "id": "865a83bd-2796-46dd-8777-79705e7939f6",
        "outputId": "2030d417-6277-4c36-b1c8-076eb1e76930"
      },
      "outputs": [
        {
          "name": "stdout",
          "output_type": "stream",
          "text": [
            "El modelo tiene aproximadamente 278,045,955 parámetros.\n",
            "El modelo tiene aproximadamente 1.04 GB en memoria.\n"
          ]
        }
      ],
      "source": [
        "zero_shot_base_1 = pipeline(\n",
        "    task=\"zero-shot-classification\",\n",
        "    model='mjwong/multilingual-e5-base-xnli',\n",
        "    model_kwargs={\"cache_dir\": cache_dir})\n",
        "\n",
        "\n",
        "model = zero_shot_base_1.model\n",
        "total_params = sum(p.numel() for p in model.parameters())\n",
        "print(f\"El modelo tiene aproximadamente {total_params:,} parámetros.\")\n",
        "\n",
        "# Calcular el tamaño en memoria del modelo en base al dtype de los parámetros\n",
        "model_memory_size = sum(p.numel() * p.element_size() for p in model.parameters())\n",
        "model_memory_size_gb = model_memory_size / (1024 ** 3)  # Convertir a GB\n",
        "\n",
        "# Mostrar el tamaño en memoria\n",
        "print(f\"El modelo tiene aproximadamente {model_memory_size_gb:.2f} GB en memoria.\")"
      ]
    },
    {
      "cell_type": "code",
      "execution_count": null,
      "id": "28fbfe9c-f5af-49ca-ba22-2ef70f3b7ec4",
      "metadata": {
        "scrolled": true,
        "id": "28fbfe9c-f5af-49ca-ba22-2ef70f3b7ec4",
        "outputId": "f2a03141-1af7-41a1-bddc-943e6177df8e"
      },
      "outputs": [
        {
          "name": "stdout",
          "output_type": "stream",
          "text": [
            "Tiempo tomado para inferenciar: 54.9696 Segundos...\n"
          ]
        },
        {
          "data": {
            "text/plain": [
              "['positive',\n",
              " 'positive',\n",
              " 'positive',\n",
              " 'positive',\n",
              " 'positive',\n",
              " 'negative',\n",
              " 'negative',\n",
              " 'positive',\n",
              " 'negative',\n",
              " 'positive',\n",
              " 'positive',\n",
              " 'negative',\n",
              " 'positive',\n",
              " 'positive',\n",
              " 'negative',\n",
              " 'negative',\n",
              " 'negative',\n",
              " 'positive',\n",
              " 'positive',\n",
              " 'negative',\n",
              " 'positive',\n",
              " 'positive',\n",
              " 'positive',\n",
              " 'positive',\n",
              " 'negative',\n",
              " 'negative',\n",
              " 'positive',\n",
              " 'negative',\n",
              " 'negative',\n",
              " 'negative',\n",
              " 'positive',\n",
              " 'negative',\n",
              " 'negative',\n",
              " 'positive',\n",
              " 'positive',\n",
              " 'negative',\n",
              " 'positive',\n",
              " 'negative',\n",
              " 'negative',\n",
              " 'positive',\n",
              " 'negative',\n",
              " 'positive',\n",
              " 'positive',\n",
              " 'positive',\n",
              " 'negative',\n",
              " 'negative',\n",
              " 'negative',\n",
              " 'negative',\n",
              " 'negative',\n",
              " 'negative',\n",
              " 'positive',\n",
              " 'positive',\n",
              " 'negative',\n",
              " 'positive',\n",
              " 'negative',\n",
              " 'positive',\n",
              " 'negative',\n",
              " 'positive',\n",
              " 'negative',\n",
              " 'positive',\n",
              " 'negative',\n",
              " 'positive',\n",
              " 'positive',\n",
              " 'negative',\n",
              " 'negative',\n",
              " 'positive',\n",
              " 'negative',\n",
              " 'positive',\n",
              " 'negative',\n",
              " 'negative',\n",
              " 'positive',\n",
              " 'negative',\n",
              " 'negative',\n",
              " 'positive',\n",
              " 'positive',\n",
              " 'positive',\n",
              " 'positive',\n",
              " 'positive',\n",
              " 'positive',\n",
              " 'positive',\n",
              " 'negative',\n",
              " 'positive',\n",
              " 'positive',\n",
              " 'negative',\n",
              " 'negative',\n",
              " 'negative',\n",
              " 'positive',\n",
              " 'negative',\n",
              " 'negative',\n",
              " 'positive',\n",
              " 'no_impact',\n",
              " 'positive',\n",
              " 'negative',\n",
              " 'negative',\n",
              " 'positive',\n",
              " 'positive',\n",
              " 'positive',\n",
              " 'negative',\n",
              " 'positive',\n",
              " 'positive',\n",
              " 'negative',\n",
              " 'positive',\n",
              " 'negative',\n",
              " 'negative']"
            ]
          },
          "execution_count": 2003,
          "metadata": {},
          "output_type": "execute_result"
        }
      ],
      "source": [
        "start_time = time.time()\n",
        "\n",
        "zero_shot_base_1_inferences = [categorize_poem(zero_shot_base_1, poem) for poem in poem_sample[\"verse_text\"]]\n",
        "\n",
        "end_time = time.time()\n",
        "\n",
        "time_taken = round(end_time - start_time, 4)\n",
        "\n",
        "print(f\"Tiempo tomado para inferenciar: {time_taken} Segundos...\")\n",
        "zero_shot_base_1_inferences"
      ]
    },
    {
      "cell_type": "code",
      "execution_count": null,
      "id": "8b2561f1-9b6b-4453-8398-eb63568c4354",
      "metadata": {
        "id": "8b2561f1-9b6b-4453-8398-eb63568c4354",
        "outputId": "c8aacb02-6dbd-42f2-c385-430a37197c78"
      },
      "outputs": [
        {
          "name": "stdout",
          "output_type": "stream",
          "text": [
            "negative \n",
            " daring to ask for naught, and having naught received.\n"
          ]
        }
      ],
      "source": [
        "print(zero_shot_base_1_inferences[-1],\"\\n\", poem_sample[\"verse_text\"].iloc[-1])"
      ]
    },
    {
      "cell_type": "code",
      "execution_count": null,
      "id": "1c38d3ee-cdb9-4d5e-b2a2-f7e87469daf1",
      "metadata": {
        "id": "1c38d3ee-cdb9-4d5e-b2a2-f7e87469daf1",
        "outputId": "cd5ed9a7-3f82-4c24-ad58-c772c0bc5b64"
      },
      "outputs": [
        {
          "name": "stdout",
          "output_type": "stream",
          "text": [
            "accuracy: 0.33653846153846156\n"
          ]
        },
        {
          "data": {
            "image/png": "[encoded data removed]",
            "text/plain": [
              "<Figure size 700x500 with 2 Axes>"
            ]
          },
          "metadata": {},
          "output_type": "display_data"
        }
      ],
      "source": [
        "accuracy = accuracy_score(list(poem_sample[\"label\"]), zero_shot_base_1_inferences)\n",
        "\n",
        "classification_labels = unpack_tuple(pd.DataFrame(zero_shot_base_1_inferences).value_counts().keys().to_list())\n",
        "print(f\"accuracy: {accuracy}\")\n",
        "\n",
        "fig, ax =  plt.subplots(figsize=(7, 5))\n",
        "conf_mat = confusion_matrix(poem_sample[\"label\"], zero_shot_base_1_inferences, labels=classification_labels)\n",
        "\n",
        "ax = sns.heatmap(conf_mat, annot=True, xticklabels=classification_labels, yticklabels=classification_labels, cmap=\"Blues\")\n",
        "\n",
        "ax.set(\n",
        "    title=\"Matriz de confusión Para Zero Shot Classification\",\n",
        "    xlabel=\"Valor Predicho\",\n",
        "    ylabel=\"Valor Verdadero\"\n",
        ")\n",
        "plt.tight_layout()\n",
        "plt.show()"
      ]
    },
    {
      "cell_type": "code",
      "execution_count": null,
      "id": "6b445b21-e29c-46ee-a938-557c1709a465",
      "metadata": {
        "id": "6b445b21-e29c-46ee-a938-557c1709a465"
      },
      "outputs": [],
      "source": [
        "benchmark.loc[('Model2', \"Size1\"), (\"Zero Shot Classification\", \"Name\")] =  model.name_or_path\n",
        "benchmark.loc[('Model2', \"Size1\"), (\"Zero Shot Classification\", \"Size (GB)\")] =  model_memory_size_gb\n",
        "benchmark.loc[('Model2', \"Size1\"), (\"Zero Shot Classification\", \"Qty of Parameters\")] =  total_params\n",
        "benchmark.loc[('Model2', \"Size1\"), (\"Zero Shot Classification\", \"Inference Time\")] =  time_taken\n",
        "benchmark.loc[('Model2', \"Size1\"), (\"Zero Shot Classification\", \"Metric\")] =  f\"Accuracy: {accuracy}\""
      ]
    },
    {
      "cell_type": "markdown",
      "id": "22691ec4-0012-4fe5-84e0-1d86c5fbe3d9",
      "metadata": {
        "id": "22691ec4-0012-4fe5-84e0-1d86c5fbe3d9"
      },
      "source": [
        "#### Large Size"
      ]
    },
    {
      "cell_type": "code",
      "execution_count": null,
      "id": "dda4c211-b8d1-4d31-897c-6f9b4679c8d5",
      "metadata": {
        "id": "dda4c211-b8d1-4d31-897c-6f9b4679c8d5",
        "outputId": "35f691df-88e8-4562-c196-33a16276ead5"
      },
      "outputs": [
        {
          "name": "stdout",
          "output_type": "stream",
          "text": [
            "El modelo tiene aproximadamente 559,893,507 parámetros.\n",
            "El modelo tiene aproximadamente 2.09 GB en memoria.\n"
          ]
        }
      ],
      "source": [
        "zero_shot_large_1 = pipeline(\n",
        "    task=\"zero-shot-classification\",\n",
        "    model='mjwong/multilingual-e5-large-xnli',\n",
        "    model_kwargs={\"cache_dir\": cache_dir})\n",
        "\n",
        "\n",
        "model = zero_shot_large_1.model\n",
        "total_params = sum(p.numel() for p in model.parameters())\n",
        "print(f\"El modelo tiene aproximadamente {total_params:,} parámetros.\")\n",
        "\n",
        "# Calcular el tamaño en memoria del modelo en base al dtype de los parámetros\n",
        "model_memory_size = sum(p.numel() * p.element_size() for p in model.parameters())\n",
        "model_memory_size_gb = model_memory_size / (1024 ** 3)  # Convertir a GB\n",
        "\n",
        "# Mostrar el tamaño en memoria\n",
        "print(f\"El modelo tiene aproximadamente {model_memory_size_gb:.2f} GB en memoria.\")"
      ]
    },
    {
      "cell_type": "code",
      "execution_count": null,
      "id": "7dbe02ba-474f-43d5-9e4e-a31b733db70f",
      "metadata": {
        "scrolled": true,
        "id": "7dbe02ba-474f-43d5-9e4e-a31b733db70f",
        "outputId": "272375ca-6612-4185-e6ce-8c58a581b709"
      },
      "outputs": [
        {
          "name": "stdout",
          "output_type": "stream",
          "text": [
            "Tiempo tomado para inferenciar: 77.4458 Segundos...\n"
          ]
        },
        {
          "data": {
            "text/plain": [
              "['negative',\n",
              " 'positive',\n",
              " 'negative',\n",
              " 'no_impact',\n",
              " 'positive',\n",
              " 'negative',\n",
              " 'positive',\n",
              " 'positive',\n",
              " 'no_impact',\n",
              " 'positive',\n",
              " 'positive',\n",
              " 'negative',\n",
              " 'negative',\n",
              " 'positive',\n",
              " 'negative',\n",
              " 'negative',\n",
              " 'positive',\n",
              " 'negative',\n",
              " 'negative',\n",
              " 'negative',\n",
              " 'positive',\n",
              " 'positive',\n",
              " 'positive',\n",
              " 'negative',\n",
              " 'positive',\n",
              " 'negative',\n",
              " 'positive',\n",
              " 'negative',\n",
              " 'negative',\n",
              " 'negative',\n",
              " 'positive',\n",
              " 'no_impact',\n",
              " 'negative',\n",
              " 'no_impact',\n",
              " 'positive',\n",
              " 'no_impact',\n",
              " 'negative',\n",
              " 'positive',\n",
              " 'negative',\n",
              " 'positive',\n",
              " 'negative',\n",
              " 'negative',\n",
              " 'positive',\n",
              " 'positive',\n",
              " 'negative',\n",
              " 'negative',\n",
              " 'negative',\n",
              " 'negative',\n",
              " 'negative',\n",
              " 'negative',\n",
              " 'positive',\n",
              " 'negative',\n",
              " 'negative',\n",
              " 'positive',\n",
              " 'negative',\n",
              " 'positive',\n",
              " 'negative',\n",
              " 'positive',\n",
              " 'negative',\n",
              " 'positive',\n",
              " 'negative',\n",
              " 'positive',\n",
              " 'no_impact',\n",
              " 'negative',\n",
              " 'negative',\n",
              " 'positive',\n",
              " 'negative',\n",
              " 'positive',\n",
              " 'negative',\n",
              " 'negative',\n",
              " 'positive',\n",
              " 'positive',\n",
              " 'negative',\n",
              " 'positive',\n",
              " 'no_impact',\n",
              " 'negative',\n",
              " 'negative',\n",
              " 'positive',\n",
              " 'positive',\n",
              " 'no_impact',\n",
              " 'negative',\n",
              " 'positive',\n",
              " 'negative',\n",
              " 'negative',\n",
              " 'negative',\n",
              " 'negative',\n",
              " 'positive',\n",
              " 'positive',\n",
              " 'negative',\n",
              " 'negative',\n",
              " 'positive',\n",
              " 'negative',\n",
              " 'negative',\n",
              " 'negative',\n",
              " 'positive',\n",
              " 'no_impact',\n",
              " 'positive',\n",
              " 'negative',\n",
              " 'no_impact',\n",
              " 'positive',\n",
              " 'negative',\n",
              " 'positive',\n",
              " 'negative',\n",
              " 'negative']"
            ]
          },
          "execution_count": 2010,
          "metadata": {},
          "output_type": "execute_result"
        }
      ],
      "source": [
        "start_time = time.time()\n",
        "\n",
        "zero_shot_large_1_inferences = [categorize_poem(zero_shot_large_1, poem) for poem in poem_sample[\"verse_text\"]]\n",
        "\n",
        "end_time = time.time()\n",
        "\n",
        "time_taken = round(end_time - start_time, 4)\n",
        "\n",
        "print(f\"Tiempo tomado para inferenciar: {time_taken} Segundos...\")\n",
        "zero_shot_large_1_inferences"
      ]
    },
    {
      "cell_type": "code",
      "execution_count": null,
      "id": "6a24e04a-6d9e-4915-af13-a20d4e3c30e5",
      "metadata": {
        "id": "6a24e04a-6d9e-4915-af13-a20d4e3c30e5",
        "outputId": "903434c0-145b-4d86-8f40-bb97586182d8"
      },
      "outputs": [
        {
          "name": "stdout",
          "output_type": "stream",
          "text": [
            "negative \n",
            " daring to ask for naught, and having naught received.\n"
          ]
        }
      ],
      "source": [
        "print(zero_shot_large_1_inferences[-1],\"\\n\", poem_sample[\"verse_text\"].iloc[-1])"
      ]
    },
    {
      "cell_type": "code",
      "execution_count": null,
      "id": "ac09275c-2956-47c7-9f44-330b2ff45f38",
      "metadata": {
        "id": "ac09275c-2956-47c7-9f44-330b2ff45f38",
        "outputId": "9045e36c-a698-4a90-b668-640176581b1b"
      },
      "outputs": [
        {
          "name": "stdout",
          "output_type": "stream",
          "text": [
            "accuracy: 0.3557692307692308\n"
          ]
        },
        {
          "data": {
            "image/png": "[encoded data removed]",
            "text/plain": [
              "<Figure size 700x500 with 2 Axes>"
            ]
          },
          "metadata": {},
          "output_type": "display_data"
        }
      ],
      "source": [
        "accuracy = accuracy_score(list(poem_sample[\"label\"]), zero_shot_large_1_inferences)\n",
        "\n",
        "#classification_labels = poem_sample[\"label\"].unique()\n",
        "classification_labels = unpack_tuple(pd.DataFrame(zero_shot_large_1_inferences).value_counts().keys().to_list())\n",
        "print(f\"accuracy: {accuracy}\")\n",
        "\n",
        "fig, ax =  plt.subplots(figsize=(7, 5))\n",
        "#zero_shot_large_1_inferences\n",
        "conf_mat = confusion_matrix(poem_sample[\"label\"], zero_shot_large_1_inferences, labels=classification_labels)\n",
        "\n",
        "ax = sns.heatmap(conf_mat, annot=True, xticklabels=classification_labels, yticklabels=classification_labels, cmap=\"Blues\")\n",
        "\n",
        "ax.set(\n",
        "    title=\"Matriz de confusión Para Zero Shot Classification\",\n",
        "    xlabel=\"Valor Predicho\",\n",
        "    ylabel=\"Valor Verdadero\"\n",
        ")\n",
        "plt.tight_layout()\n",
        "plt.show()"
      ]
    },
    {
      "cell_type": "code",
      "execution_count": null,
      "id": "f93cb360-35c0-4bff-ae55-734eefec6fce",
      "metadata": {
        "id": "f93cb360-35c0-4bff-ae55-734eefec6fce",
        "outputId": "4677cda4-69cf-44b4-e889-0641e2fed242"
      },
      "outputs": [
        {
          "name": "stdout",
          "output_type": "stream",
          "text": [
            "54\n",
            "40\n",
            "10\n"
          ]
        }
      ],
      "source": [
        "print(len([inference for inference in zero_shot_large_1_inferences if inference==\"negative\"]))\n",
        "print(len([inference for inference in zero_shot_large_1_inferences if inference==\"positive\"]))\n",
        "print(len([inference for inference in zero_shot_large_1_inferences if inference==\"no_impact\"]))"
      ]
    },
    {
      "cell_type": "code",
      "execution_count": null,
      "id": "f85fd4d8-716f-40e2-acb4-79ef76f9e96a",
      "metadata": {
        "id": "f85fd4d8-716f-40e2-acb4-79ef76f9e96a"
      },
      "outputs": [],
      "source": [
        "benchmark.loc[('Model2', \"Size2\"), (\"Zero Shot Classification\", \"Name\")] =  model.name_or_path\n",
        "benchmark.loc[('Model2', \"Size2\"), (\"Zero Shot Classification\", \"Size (GB)\")] =  model_memory_size_gb\n",
        "benchmark.loc[('Model2', \"Size2\"), (\"Zero Shot Classification\", \"Qty of Parameters\")] =  total_params\n",
        "benchmark.loc[('Model2', \"Size2\"), (\"Zero Shot Classification\", \"Inference Time\")] =  time_taken\n",
        "benchmark.loc[('Model2', \"Size2\"), (\"Zero Shot Classification\", \"Metric\")] =  f\"Accuracy: {accuracy}\""
      ]
    },
    {
      "cell_type": "code",
      "execution_count": null,
      "id": "630ab853-5152-43e3-a9b7-074fad02a0c9",
      "metadata": {
        "id": "630ab853-5152-43e3-a9b7-074fad02a0c9",
        "outputId": "c92b8aa3-0ed7-44f5-959d-d9a44ca7128a"
      },
      "outputs": [
        {
          "data": {
            "text/html": [
              "<div>\n",
              "<style scoped>\n",
              "    .dataframe tbody tr th:only-of-type {\n",
              "        vertical-align: middle;\n",
              "    }\n",
              "\n",
              "    .dataframe tbody tr th {\n",
              "        vertical-align: top;\n",
              "    }\n",
              "\n",
              "    .dataframe thead th {\n",
              "        text-align: right;\n",
              "    }\n",
              "</style>\n",
              "<table border=\"1\" class=\"dataframe\">\n",
              "  <thead>\n",
              "    <tr style=\"text-align: right;\">\n",
              "      <th></th>\n",
              "      <th>Info</th>\n",
              "      <th>Name</th>\n",
              "      <th>Inference Time</th>\n",
              "      <th>Size (GB)</th>\n",
              "      <th>Qty of Parameters</th>\n",
              "      <th>Metric</th>\n",
              "    </tr>\n",
              "    <tr>\n",
              "      <th>Model</th>\n",
              "      <th>Size</th>\n",
              "      <th></th>\n",
              "      <th></th>\n",
              "      <th></th>\n",
              "      <th></th>\n",
              "      <th></th>\n",
              "    </tr>\n",
              "  </thead>\n",
              "  <tbody>\n",
              "    <tr>\n",
              "      <th rowspan=\"2\" valign=\"top\">Model1</th>\n",
              "      <th>Size1</th>\n",
              "      <td>cross-encoder/nli-deberta-v3-small</td>\n",
              "      <td>33.7986</td>\n",
              "      <td>0.528608</td>\n",
              "      <td>141897219</td>\n",
              "      <td>Accuracy: 0.33653846153846156</td>\n",
              "    </tr>\n",
              "    <tr>\n",
              "      <th>Size2</th>\n",
              "      <td>cross-encoder/nli-deberta-base</td>\n",
              "      <td>48.8022</td>\n",
              "      <td>0.51854</td>\n",
              "      <td>139194627</td>\n",
              "      <td>Accuracy: 0.3269230769230769</td>\n",
              "    </tr>\n",
              "    <tr>\n",
              "      <th rowspan=\"2\" valign=\"top\">Model2</th>\n",
              "      <th>Size1</th>\n",
              "      <td>mjwong/multilingual-e5-base-xnli</td>\n",
              "      <td>54.9696</td>\n",
              "      <td>1.035802</td>\n",
              "      <td>278045955</td>\n",
              "      <td>Accuracy: 0.33653846153846156</td>\n",
              "    </tr>\n",
              "    <tr>\n",
              "      <th>Size2</th>\n",
              "      <td>mjwong/multilingual-e5-large-xnli</td>\n",
              "      <td>77.4458</td>\n",
              "      <td>2.085766</td>\n",
              "      <td>559893507</td>\n",
              "      <td>Accuracy: 0.3557692307692308</td>\n",
              "    </tr>\n",
              "  </tbody>\n",
              "</table>\n",
              "</div>"
            ],
            "text/plain": [
              "Info                                        Name Inference Time Size (GB)  \\\n",
              "Model  Size                                                                 \n",
              "Model1 Size1  cross-encoder/nli-deberta-v3-small        33.7986  0.528608   \n",
              "       Size2      cross-encoder/nli-deberta-base        48.8022   0.51854   \n",
              "Model2 Size1    mjwong/multilingual-e5-base-xnli        54.9696  1.035802   \n",
              "       Size2   mjwong/multilingual-e5-large-xnli        77.4458  2.085766   \n",
              "\n",
              "Info         Qty of Parameters                         Metric  \n",
              "Model  Size                                                    \n",
              "Model1 Size1         141897219  Accuracy: 0.33653846153846156  \n",
              "       Size2         139194627   Accuracy: 0.3269230769230769  \n",
              "Model2 Size1         278045955  Accuracy: 0.33653846153846156  \n",
              "       Size2         559893507   Accuracy: 0.3557692307692308  "
            ]
          },
          "execution_count": 2015,
          "metadata": {},
          "output_type": "execute_result"
        }
      ],
      "source": [
        "benchmark[\"Zero Shot Classification\"]"
      ]
    },
    {
      "cell_type": "markdown",
      "id": "37985b7c-235e-4c45-8a38-f8acf3a6d312",
      "metadata": {
        "id": "37985b7c-235e-4c45-8a38-f8acf3a6d312"
      },
      "source": [
        "## Few-shot learning [prompt engineering] [text gen]"
      ]
    },
    {
      "cell_type": "markdown",
      "id": "670cc816-e01f-432b-9460-7ac5cfd3e2fe",
      "metadata": {
        "id": "670cc816-e01f-432b-9460-7ac5cfd3e2fe"
      },
      "source": [
        "### Set 6, modelo 1"
      ]
    },
    {
      "cell_type": "markdown",
      "id": "cc904361-df4b-4fb7-bf24-90e0d2346216",
      "metadata": {
        "id": "cc904361-df4b-4fb7-bf24-90e0d2346216"
      },
      "source": [
        "#### Medium Size"
      ]
    },
    {
      "cell_type": "code",
      "execution_count": null,
      "id": "d11d3459-3a6b-4cea-9505-2b0716d4c8d5",
      "metadata": {
        "id": "d11d3459-3a6b-4cea-9505-2b0716d4c8d5",
        "outputId": "705800b8-3725-4d38-d98b-93e7dbb784f1"
      },
      "outputs": [
        {
          "name": "stdout",
          "output_type": "stream",
          "text": [
            "El modelo tiene aproximadamente 125,198,592 parámetros.\n",
            "El modelo tiene aproximadamente 0.47 GB en memoria.\n"
          ]
        }
      ],
      "source": [
        "# We will limit the response length for our few-shot learning tasks.\n",
        "few_shot_medium = pipeline(\n",
        "    task=\"text-generation\",\n",
        "    model=\"EleutherAI/gpt-neo-125m\",\n",
        "    max_new_tokens=40,\n",
        "    eos_token_id= few_shot_medium.tokenizer.eos_token_id,\n",
        "    model_kwargs={\"cache_dir\": cache_dir},\n",
        ")\n",
        "\n",
        "model = few_shot_medium.model\n",
        "total_params = sum(p.numel() for p in model.parameters())\n",
        "print(f\"El modelo tiene aproximadamente {total_params:,} parámetros.\")\n",
        "\n",
        "# Calcular el tamaño en memoria del modelo en base al dtype de los parámetros\n",
        "model_memory_size = sum(p.numel() * p.element_size() for p in model.parameters())\n",
        "model_memory_size_gb = model_memory_size / (1024 ** 3)  # Convertir a GB\n",
        "\n",
        "# Mostrar el tamaño en memoria\n",
        "print(f\"El modelo tiene aproximadamente {model_memory_size_gb:.2f} GB en memoria.\")"
      ]
    },
    {
      "cell_type": "code",
      "execution_count": null,
      "id": "c0459a9d-1543-4767-a28a-3626d8544218",
      "metadata": {
        "scrolled": true,
        "id": "c0459a9d-1543-4767-a28a-3626d8544218",
        "outputId": "a2ba0ff8-3821-4437-b995-d851adb84e75"
      },
      "outputs": [
        {
          "name": "stdout",
          "output_type": "stream",
          "text": [
            "Poema: \"The sun rises over the horizon\"\n",
            "Sentimiento: Positive\n",
            "\n",
            "Poema: \"The storm clouds darken the sky\"\n",
            "Sentimiento: Positive\n",
            "\n",
            "Poema: \"A new dawn brings hope\"\n",
            "Sentimiento: Positive\n",
            "\n",
            "Poema: \"Rage filled the hearts of the warriors\"\n",
            "Sentimiento: Positive\n",
            "\n",
            "Poema: \"The stars shine brightly in the night\"\n",
            "Sentimiento: Positive\n",
            "\n"
          ]
        }
      ],
      "source": [
        "import warnings\n",
        "warnings.filterwarnings(\"ignore\")\n",
        "\n",
        "# Arreglo de poemas a clasificar\n",
        "poemas = [\n",
        "    \"The sun rises over the horizon\",\n",
        "    \"The storm clouds darken the sky\",\n",
        "    \"A new dawn brings hope\",\n",
        "    \"Rage filled the hearts of the warriors\",\n",
        "    \"The stars shine brightly in the night\"\n",
        "]\n",
        "\n",
        "# Prompt base con ejemplos etiquetados\n",
        "prompt_base = \"\"\"For each poem, describe its sentiment as Positive, Negative, or Neutral.\n",
        "\n",
        "[Poem]: \"The sun rises over the horizon\"\n",
        "[Sentiment]: Positive\n",
        "###\n",
        "[Poem]: \"The storm clouds darken the sky\"\n",
        "[Sentiment]: Negative\n",
        "###\n",
        "[Poem]: \"A new dawn brings hope\"\n",
        "[Sentiment]: Positive\n",
        "###\n",
        "[Poem]: \"Rage filled the hearts of the warriors\"\n",
        "[Sentiment]: Negative\n",
        "###\n",
        "[Poem]: \"The stars shine brightly in the night\"\n",
        "[Sentiment]: Positive\n",
        "###\n",
        "\"\"\"\n",
        "\n",
        "# Función para obtener el sentimiento de cada poema\n",
        "def obtener_sentimiento(poema):\n",
        "    prompt = prompt_base + f'[Poem]: \"{poema}\"\\n[Sentiment]:'\n",
        "\n",
        "    # Genera la predicción\n",
        "    result = few_shot_medium(\n",
        "        prompt,\n",
        "        max_new_tokens=10,  # Ajusta la longitud de texto generado\n",
        "        num_return_sequences=1,\n",
        "        do_sample=True,\n",
        "        temperature=0.7\n",
        "    )\n",
        "\n",
        "    # Postprocesamiento para extraer solo el sentimiento (Positive, Negative o Neutral)\n",
        "    generated_text = result[0][\"generated_text\"]\n",
        "    for sentimiento in [\"Positive\", \"Negative\", \"Neutral\"]:\n",
        "        if sentimiento in generated_text:\n",
        "            return sentimiento\n",
        "    return \"Unknown\"  # Por si no se detecta ningún sentimiento válido\n",
        "\n",
        "# Recorre el arreglo de poemas y obtiene el sentimiento para cada uno\n",
        "for poema in poemas:\n",
        "    sentimiento = obtener_sentimiento(poema)\n",
        "    print(f'Poema: \"{poema}\"\\nSentimiento: {sentimiento}\\n')\n"
      ]
    },
    {
      "cell_type": "code",
      "execution_count": null,
      "id": "ee6a8c01-598e-4c97-833b-86babd153d29",
      "metadata": {
        "id": "ee6a8c01-598e-4c97-833b-86babd153d29"
      },
      "outputs": [],
      "source": [
        "sentiment_inference_df"
      ]
    },
    {
      "cell_type": "code",
      "execution_count": null,
      "id": "ffda314f-d730-40cf-b524-59617f6155b7",
      "metadata": {
        "id": "ffda314f-d730-40cf-b524-59617f6155b7"
      },
      "outputs": [],
      "source": []
    },
    {
      "cell_type": "code",
      "execution_count": null,
      "id": "937796ed-7f66-41e7-9a12-6555a066f114",
      "metadata": {
        "id": "937796ed-7f66-41e7-9a12-6555a066f114"
      },
      "outputs": [],
      "source": [
        "benchmark.loc[('Model1', \"Size1\"), (\"Few Shot Learning\", \"Name\")] =  model.name_or_path\n",
        "benchmark.loc[('Model1', \"Size1\"), (\"Few Shot Learning\", \"Size (GB)\")] =  model_memory_size_gb\n",
        "benchmark.loc[('Model1', \"Size1\"), (\"Few Shot Learning\", \"Qty of Parameters\")] =  total_params"
      ]
    },
    {
      "cell_type": "markdown",
      "id": "debb64f5-ff10-478a-a261-f39bc0ec9c2c",
      "metadata": {
        "id": "debb64f5-ff10-478a-a261-f39bc0ec9c2c"
      },
      "source": [
        "#### Large Size"
      ]
    },
    {
      "cell_type": "code",
      "execution_count": null,
      "id": "08e6f291-f72d-4166-afc0-c3e242bf4e01",
      "metadata": {
        "id": "08e6f291-f72d-4166-afc0-c3e242bf4e01",
        "outputId": "ae20d07d-4148-4094-e0e3-a75e327cdb4f"
      },
      "outputs": [
        {
          "name": "stdout",
          "output_type": "stream",
          "text": [
            "El modelo tiene aproximadamente 1,315,575,808 parámetros.\n",
            "El modelo tiene aproximadamente 4.90 GB en memoria.\n"
          ]
        }
      ],
      "source": [
        "# We will limit the response length for our few-shot learning tasks.\n",
        "few_shot_large = pipeline(\n",
        "    task=\"text-generation\",\n",
        "    model=\"EleutherAI/gpt-neo-1.3B\",\n",
        "    max_new_tokens=10,\n",
        "    model_kwargs={\"cache_dir\": cache_dir},\n",
        ")\n",
        "\n",
        "model = few_shot_large.model\n",
        "total_params = sum(p.numel() for p in model.parameters())\n",
        "print(f\"El modelo tiene aproximadamente {total_params:,} parámetros.\")\n",
        "\n",
        "# Calcular el tamaño en memoria del modelo en base al dtype de los parámetros\n",
        "model_memory_size = sum(p.numel() * p.element_size() for p in model.parameters())\n",
        "model_memory_size_gb = model_memory_size / (1024 ** 3)  # Convertir a GB\n",
        "\n",
        "# Mostrar el tamaño en memoria\n",
        "print(f\"El modelo tiene aproximadamente {model_memory_size_gb:.2f} GB en memoria.\")"
      ]
    },
    {
      "cell_type": "code",
      "execution_count": null,
      "id": "6888d2ba-d5bb-4e69-ba39-d599e96140ca",
      "metadata": {
        "id": "6888d2ba-d5bb-4e69-ba39-d599e96140ca"
      },
      "outputs": [],
      "source": [
        "benchmark.loc[('Model1', \"Size2\"), (\"Few Shot Learning\", \"Name\")] =  model.name_or_path\n",
        "benchmark.loc[('Model1', \"Size2\"), (\"Few Shot Learning\", \"Size (GB)\")] =  model_memory_size_gb\n",
        "benchmark.loc[('Model1', \"Size2\"), (\"Few Shot Learning\", \"Qty of Parameters\")] =  total_params"
      ]
    },
    {
      "cell_type": "code",
      "execution_count": null,
      "id": "1d983083-f093-4b9c-bcaf-30fa7ee1bffa",
      "metadata": {
        "id": "1d983083-f093-4b9c-bcaf-30fa7ee1bffa"
      },
      "outputs": [],
      "source": [
        "eos_token_id = few_shot_large.tokenizer.encode(\"###\")[0]"
      ]
    },
    {
      "cell_type": "code",
      "execution_count": null,
      "id": "d5f61ea5-9b22-4cad-bf9c-bfdc99cf4988",
      "metadata": {
        "id": "d5f61ea5-9b22-4cad-bf9c-bfdc99cf4988",
        "outputId": "1ba67dce-6ec6-4572-8105-b5daf86bee3f"
      },
      "outputs": [
        {
          "name": "stderr",
          "output_type": "stream",
          "text": [
            "Setting `pad_token_id` to `eos_token_id`:None for open-end generation.\n"
          ]
        },
        {
          "name": "stdout",
          "output_type": "stream",
          "text": [
            "For each tweet, describe its sentiment:\n",
            "\n",
            "[Tweet]: \"I hate it when my phone battery dies.\"\n",
            "[Sentiment]: Negative\n",
            "###\n",
            "[Tweet]: \"My day has been 👍\"\n",
            "[Sentiment]: Positive\n",
            "###\n",
            "[Tweet]: \"This is the link to the article\"\n",
            "[Sentiment]: Neutral\n",
            "###\n",
            "[Tweet]: \"This new music video was incredible\"\n",
            "[Sentiment]: Negative\n",
            "###\n"
          ]
        }
      ],
      "source": [
        "    # Without any examples, the model output is inconsistent and usually incorrect.\n",
        "    # With 1 example for each sentiment, the model is more likely to understand!\n",
        "    results = few_shot_large(\n",
        "        \"\"\"For each tweet, describe its sentiment:\n",
        "\n",
        "    [Tweet]: \"I hate it when my phone battery dies.\"\n",
        "    [Sentiment]: Negative\n",
        "    ###\n",
        "    [Tweet]: \"My day has been 👍\"\n",
        "    [Sentiment]: Positive\n",
        "    ###\n",
        "    [Tweet]: \"This is the link to the article\"\n",
        "    [Sentiment]: Neutral\n",
        "    ###\n",
        "    [Tweet]: \"This new music video was incredible\"\n",
        "    [Sentiment]:\"\"\",\n",
        "        eos_token_id=eos_token_id,\n",
        "    )\n",
        "\n",
        "    print(results[0][\"generated_text\"])"
      ]
    },
    {
      "cell_type": "markdown",
      "id": "095f8f06-74e4-4f48-a7f0-5cd225681ab4",
      "metadata": {
        "id": "095f8f06-74e4-4f48-a7f0-5cd225681ab4"
      },
      "source": [
        "### Set 6, modelo 2"
      ]
    },
    {
      "cell_type": "markdown",
      "id": "a3fa7718-55a6-416c-8447-d7528cb04a7c",
      "metadata": {
        "id": "a3fa7718-55a6-416c-8447-d7528cb04a7c"
      },
      "source": [
        "#### Medium Size"
      ]
    },
    {
      "cell_type": "code",
      "execution_count": null,
      "id": "a0cc6fad-b8f0-428a-8362-aa2baf8ce3c1",
      "metadata": {
        "id": "a0cc6fad-b8f0-428a-8362-aa2baf8ce3c1",
        "outputId": "cef41370-ea76-429c-c46f-de96da0768cd"
      },
      "outputs": [
        {
          "name": "stdout",
          "output_type": "stream",
          "text": [
            "El modelo tiene aproximadamente 346,763,264 parámetros.\n",
            "El modelo tiene aproximadamente 1.29 GB en memoria.\n"
          ]
        }
      ],
      "source": [
        "# We will limit the response length for our few-shot learning tasks.\n",
        "few_shot_medium_1 = pipeline(\n",
        "    task=\"text-generation\",\n",
        "    model=\"microsoft/biogpt\",\n",
        "    max_new_tokens=10,\n",
        "    model_kwargs={\"cache_dir\": cache_dir},\n",
        ")\n",
        "\n",
        "model = few_shot_medium_1.model\n",
        "total_params = sum(p.numel() for p in model.parameters())\n",
        "print(f\"El modelo tiene aproximadamente {total_params:,} parámetros.\")\n",
        "\n",
        "# Calcular el tamaño en memoria del modelo en base al dtype de los parámetros\n",
        "model_memory_size = sum(p.numel() * p.element_size() for p in model.parameters())\n",
        "model_memory_size_gb = model_memory_size / (1024 ** 3)  # Convertir a GB\n",
        "\n",
        "# Mostrar el tamaño en memoria\n",
        "print(f\"El modelo tiene aproximadamente {model_memory_size_gb:.2f} GB en memoria.\")"
      ]
    },
    {
      "cell_type": "code",
      "execution_count": null,
      "id": "e677d478-de11-4191-b86b-2f27043064f1",
      "metadata": {
        "id": "e677d478-de11-4191-b86b-2f27043064f1"
      },
      "outputs": [],
      "source": [
        "benchmark.loc[('Model2', \"Size1\"), (\"Few Shot Learning\", \"Name\")] =  model.name_or_path\n",
        "benchmark.loc[('Model2', \"Size1\"), (\"Few Shot Learning\", \"Size (GB)\")] =  model_memory_size_gb\n",
        "benchmark.loc[('Model2', \"Size1\"), (\"Few Shot Learning\", \"Qty of Parameters\")] =  total_params"
      ]
    },
    {
      "cell_type": "code",
      "execution_count": null,
      "id": "9dc74d8e-6691-4351-8a99-912ec40a58b4",
      "metadata": {
        "id": "9dc74d8e-6691-4351-8a99-912ec40a58b4"
      },
      "outputs": [],
      "source": []
    },
    {
      "cell_type": "markdown",
      "id": "f8815b78-6e66-4a35-84b9-bb90ab49be2e",
      "metadata": {
        "id": "f8815b78-6e66-4a35-84b9-bb90ab49be2e"
      },
      "source": [
        "#### Large Size"
      ]
    },
    {
      "cell_type": "code",
      "execution_count": null,
      "id": "c69eb165-47e1-4ba9-a608-b94c47399737",
      "metadata": {
        "id": "c69eb165-47e1-4ba9-a608-b94c47399737",
        "outputId": "7d1d455b-f264-450c-d5be-689aa1939edd"
      },
      "outputs": [
        {
          "name": "stdout",
          "output_type": "stream",
          "text": [
            "El modelo tiene aproximadamente 1,571,188,800 parámetros.\n",
            "El modelo tiene aproximadamente 5.85 GB en memoria.\n"
          ]
        }
      ],
      "source": [
        "# We will limit the response length for our few-shot learning tasks.\n",
        "few_shot_large_1 = pipeline(\n",
        "    task=\"text-generation\",\n",
        "    model=\"microsoft/BioGPT-Large\",\n",
        "    max_new_tokens=10,\n",
        "    model_kwargs={\"cache_dir\": cache_dir},\n",
        ")\n",
        "\n",
        "model = few_shot_large_1.model\n",
        "total_params = sum(p.numel() for p in model.parameters())\n",
        "print(f\"El modelo tiene aproximadamente {total_params:,} parámetros.\")\n",
        "\n",
        "\n",
        "# Calcular el tamaño en memoria del modelo en base al dtype de los parámetros\n",
        "model_memory_size = sum(p.numel() * p.element_size() for p in model.parameters())\n",
        "model_memory_size_gb = model_memory_size / (1024 ** 3)  # Convertir a GB\n",
        "\n",
        "# Mostrar el tamaño en memoria\n",
        "print(f\"El modelo tiene aproximadamente {model_memory_size_gb:.2f} GB en memoria.\")"
      ]
    },
    {
      "cell_type": "code",
      "execution_count": null,
      "id": "169e121a-197c-4f16-b1df-1575c9c3c020",
      "metadata": {
        "id": "169e121a-197c-4f16-b1df-1575c9c3c020"
      },
      "outputs": [],
      "source": [
        "benchmark.loc[('Model2', \"Size2\"), (\"Few Shot Learning\", \"Name\")] =  model.name_or_path\n",
        "benchmark.loc[('Model2', \"Size2\"), (\"Few Shot Learning\", \"Size (GB)\")] =  model_memory_size_gb\n",
        "benchmark.loc[('Model2', \"Size2\"), (\"Few Shot Learning\", \"Qty of Parameters\")] =  total_params"
      ]
    },
    {
      "cell_type": "code",
      "execution_count": null,
      "id": "96ebbfb5-0f37-4303-bf91-5e13f5483f2a",
      "metadata": {
        "id": "96ebbfb5-0f37-4303-bf91-5e13f5483f2a",
        "outputId": "f7864c67-94b5-4621-bb0b-dc735a8a8960"
      },
      "outputs": [
        {
          "data": {
            "text/html": [
              "<div>\n",
              "<style scoped>\n",
              "    .dataframe tbody tr th:only-of-type {\n",
              "        vertical-align: middle;\n",
              "    }\n",
              "\n",
              "    .dataframe tbody tr th {\n",
              "        vertical-align: top;\n",
              "    }\n",
              "\n",
              "    .dataframe thead tr th {\n",
              "        text-align: left;\n",
              "    }\n",
              "\n",
              "    .dataframe thead tr:last-of-type th {\n",
              "        text-align: right;\n",
              "    }\n",
              "</style>\n",
              "<table border=\"1\" class=\"dataframe\">\n",
              "  <thead>\n",
              "    <tr>\n",
              "      <th></th>\n",
              "      <th>Task</th>\n",
              "      <th colspan=\"5\" halign=\"left\">Summarization</th>\n",
              "      <th colspan=\"5\" halign=\"left\">Text Classification</th>\n",
              "      <th>...</th>\n",
              "      <th colspan=\"5\" halign=\"left\">Zero Shot Classification</th>\n",
              "      <th colspan=\"5\" halign=\"left\">Few Shot Learning</th>\n",
              "    </tr>\n",
              "    <tr>\n",
              "      <th></th>\n",
              "      <th>Info</th>\n",
              "      <th>Name</th>\n",
              "      <th>Inference Time</th>\n",
              "      <th>Size (GB)</th>\n",
              "      <th>Qty of Parameters</th>\n",
              "      <th>Metric</th>\n",
              "      <th>Name</th>\n",
              "      <th>Inference Time</th>\n",
              "      <th>Size (GB)</th>\n",
              "      <th>Qty of Parameters</th>\n",
              "      <th>Metric</th>\n",
              "      <th>...</th>\n",
              "      <th>Name</th>\n",
              "      <th>Inference Time</th>\n",
              "      <th>Size (GB)</th>\n",
              "      <th>Qty of Parameters</th>\n",
              "      <th>Metric</th>\n",
              "      <th>Name</th>\n",
              "      <th>Inference Time</th>\n",
              "      <th>Size (GB)</th>\n",
              "      <th>Qty of Parameters</th>\n",
              "      <th>Metric</th>\n",
              "    </tr>\n",
              "    <tr>\n",
              "      <th>Model</th>\n",
              "      <th>Size</th>\n",
              "      <th></th>\n",
              "      <th></th>\n",
              "      <th></th>\n",
              "      <th></th>\n",
              "      <th></th>\n",
              "      <th></th>\n",
              "      <th></th>\n",
              "      <th></th>\n",
              "      <th></th>\n",
              "      <th></th>\n",
              "      <th></th>\n",
              "      <th></th>\n",
              "      <th></th>\n",
              "      <th></th>\n",
              "      <th></th>\n",
              "      <th></th>\n",
              "      <th></th>\n",
              "      <th></th>\n",
              "      <th></th>\n",
              "      <th></th>\n",
              "      <th></th>\n",
              "    </tr>\n",
              "  </thead>\n",
              "  <tbody>\n",
              "    <tr>\n",
              "      <th rowspan=\"2\" valign=\"top\">Model1</th>\n",
              "      <th>Size1</th>\n",
              "      <td>t5-small</td>\n",
              "      <td>45.933</td>\n",
              "      <td>0.225405</td>\n",
              "      <td>60506624</td>\n",
              "      <td>Rouge_average 0.1209</td>\n",
              "      <td>nickwong64/bert-base-uncased-poems-sentiment</td>\n",
              "      <td>8.256</td>\n",
              "      <td>0.407865</td>\n",
              "      <td>109485316</td>\n",
              "      <td>Accuracy: 0.8461538461538461</td>\n",
              "      <td>...</td>\n",
              "      <td>cross-encoder/nli-deberta-v3-small</td>\n",
              "      <td>23.8266</td>\n",
              "      <td>0.528608</td>\n",
              "      <td>141897219</td>\n",
              "      <td>Accuracy: 0.33653846153846156</td>\n",
              "      <td>NaN</td>\n",
              "      <td>NaN</td>\n",
              "      <td>NaN</td>\n",
              "      <td>NaN</td>\n",
              "      <td>NaN</td>\n",
              "    </tr>\n",
              "    <tr>\n",
              "      <th>Size2</th>\n",
              "      <td>t5-large</td>\n",
              "      <td>641.1396</td>\n",
              "      <td>2.748028</td>\n",
              "      <td>737668096</td>\n",
              "      <td>Rouge_average 0.119</td>\n",
              "      <td>siebert/sentiment-roberta-large-english</td>\n",
              "      <td>9.6166</td>\n",
              "      <td>1.323826</td>\n",
              "      <td>355361794</td>\n",
              "      <td>Accuracy: 0.8857142857142857</td>\n",
              "      <td>...</td>\n",
              "      <td>cross-encoder/nli-deberta-base</td>\n",
              "      <td>26.2828</td>\n",
              "      <td>0.51854</td>\n",
              "      <td>139194627</td>\n",
              "      <td>Accuracy: 0.3269230769230769</td>\n",
              "      <td>NaN</td>\n",
              "      <td>NaN</td>\n",
              "      <td>NaN</td>\n",
              "      <td>NaN</td>\n",
              "      <td>NaN</td>\n",
              "    </tr>\n",
              "    <tr>\n",
              "      <th rowspan=\"2\" valign=\"top\">Model2</th>\n",
              "      <th>Size1</th>\n",
              "      <td>ainize/bart-base-cnn</td>\n",
              "      <td>59.1367</td>\n",
              "      <td>0.519382</td>\n",
              "      <td>139420416</td>\n",
              "      <td>Rouge_average: 0.1469</td>\n",
              "      <td>WeightWatcher/albert-large-v2-mnli</td>\n",
              "      <td>15.8204</td>\n",
              "      <td>0.065889</td>\n",
              "      <td>17687043</td>\n",
              "      <td>Accuracy: 0.38</td>\n",
              "      <td>...</td>\n",
              "      <td>mjwong/multilingual-e5-base-xnli</td>\n",
              "      <td>20.9839</td>\n",
              "      <td>1.035802</td>\n",
              "      <td>278045955</td>\n",
              "      <td>Accuracy: 0.33653846153846156</td>\n",
              "      <td>NaN</td>\n",
              "      <td>NaN</td>\n",
              "      <td>NaN</td>\n",
              "      <td>NaN</td>\n",
              "      <td>NaN</td>\n",
              "    </tr>\n",
              "    <tr>\n",
              "      <th>Size2</th>\n",
              "      <td>facebook/bart-large-cnn</td>\n",
              "      <td>129.8954</td>\n",
              "      <td>1.51355</td>\n",
              "      <td>406290432</td>\n",
              "      <td>Rouge_average: 0.1403</td>\n",
              "      <td>AiManatee/RoBERTa_poem_sentiment</td>\n",
              "      <td>7.1454</td>\n",
              "      <td>0.464353</td>\n",
              "      <td>124648708</td>\n",
              "      <td>Accuracy: 0.6634615384615384</td>\n",
              "      <td>...</td>\n",
              "      <td>mjwong/multilingual-e5-large-xnli</td>\n",
              "      <td>52.1881</td>\n",
              "      <td>2.085766</td>\n",
              "      <td>559893507</td>\n",
              "      <td>Accuracy: 0.3557692307692308</td>\n",
              "      <td>NaN</td>\n",
              "      <td>NaN</td>\n",
              "      <td>NaN</td>\n",
              "      <td>NaN</td>\n",
              "      <td>NaN</td>\n",
              "    </tr>\n",
              "  </tbody>\n",
              "</table>\n",
              "<p>4 rows × 30 columns</p>\n",
              "</div>"
            ],
            "text/plain": [
              "Task                    Summarization                           \\\n",
              "Info                             Name Inference Time Size (GB)   \n",
              "Model  Size                                                      \n",
              "Model1 Size1                 t5-small         45.933  0.225405   \n",
              "       Size2                 t5-large       641.1396  2.748028   \n",
              "Model2 Size1     ainize/bart-base-cnn        59.1367  0.519382   \n",
              "       Size2  facebook/bart-large-cnn       129.8954   1.51355   \n",
              "\n",
              "Task                                                   \\\n",
              "Info         Qty of Parameters                 Metric   \n",
              "Model  Size                                             \n",
              "Model1 Size1          60506624   Rouge_average 0.1209   \n",
              "       Size2         737668096    Rouge_average 0.119   \n",
              "Model2 Size1         139420416  Rouge_average: 0.1469   \n",
              "       Size2         406290432  Rouge_average: 0.1403   \n",
              "\n",
              "Task                                   Text Classification                 \\\n",
              "Info                                                  Name Inference Time   \n",
              "Model  Size                                                                 \n",
              "Model1 Size1  nickwong64/bert-base-uncased-poems-sentiment          8.256   \n",
              "       Size2       siebert/sentiment-roberta-large-english         9.6166   \n",
              "Model2 Size1            WeightWatcher/albert-large-v2-mnli        15.8204   \n",
              "       Size2              AiManatee/RoBERTa_poem_sentiment         7.1454   \n",
              "\n",
              "Task                                                                    ...  \\\n",
              "Info         Size (GB) Qty of Parameters                        Metric  ...   \n",
              "Model  Size                                                             ...   \n",
              "Model1 Size1  0.407865         109485316  Accuracy: 0.8461538461538461  ...   \n",
              "       Size2  1.323826         355361794  Accuracy: 0.8857142857142857  ...   \n",
              "Model2 Size1  0.065889          17687043                Accuracy: 0.38  ...   \n",
              "       Size2  0.464353         124648708  Accuracy: 0.6634615384615384  ...   \n",
              "\n",
              "Task                    Zero Shot Classification                           \\\n",
              "Info                                        Name Inference Time Size (GB)   \n",
              "Model  Size                                                                 \n",
              "Model1 Size1  cross-encoder/nli-deberta-v3-small        23.8266  0.528608   \n",
              "       Size2      cross-encoder/nli-deberta-base        26.2828   0.51854   \n",
              "Model2 Size1    mjwong/multilingual-e5-base-xnli        20.9839  1.035802   \n",
              "       Size2   mjwong/multilingual-e5-large-xnli        52.1881  2.085766   \n",
              "\n",
              "Task                                                           \\\n",
              "Info         Qty of Parameters                         Metric   \n",
              "Model  Size                                                     \n",
              "Model1 Size1         141897219  Accuracy: 0.33653846153846156   \n",
              "       Size2         139194627   Accuracy: 0.3269230769230769   \n",
              "Model2 Size1         278045955  Accuracy: 0.33653846153846156   \n",
              "       Size2         559893507   Accuracy: 0.3557692307692308   \n",
              "\n",
              "Task         Few Shot Learning                                             \\\n",
              "Info                      Name Inference Time Size (GB) Qty of Parameters   \n",
              "Model  Size                                                                 \n",
              "Model1 Size1               NaN            NaN       NaN               NaN   \n",
              "       Size2               NaN            NaN       NaN               NaN   \n",
              "Model2 Size1               NaN            NaN       NaN               NaN   \n",
              "       Size2               NaN            NaN       NaN               NaN   \n",
              "\n",
              "Task                 \n",
              "Info         Metric  \n",
              "Model  Size          \n",
              "Model1 Size1    NaN  \n",
              "       Size2    NaN  \n",
              "Model2 Size1    NaN  \n",
              "       Size2    NaN  \n",
              "\n",
              "[4 rows x 30 columns]"
            ]
          },
          "execution_count": 1756,
          "metadata": {},
          "output_type": "execute_result"
        }
      ],
      "source": [
        "benchmark"
      ]
    },
    {
      "cell_type": "code",
      "execution_count": null,
      "id": "ee67bd19-3868-4cad-9527-3f12e951de3d",
      "metadata": {
        "id": "ee67bd19-3868-4cad-9527-3f12e951de3d"
      },
      "outputs": [],
      "source": [
        "benchmark.to_excel(\"benchmark.xlsx\")"
      ]
    },
    {
      "cell_type": "code",
      "execution_count": null,
      "id": "e1c4b47a-0b3e-4d51-b548-5c214f01ed4f",
      "metadata": {
        "id": "e1c4b47a-0b3e-4d51-b548-5c214f01ed4f"
      },
      "outputs": [],
      "source": [
        "(benchmark.T).to_excel(\"benchmark_v2.xlsx\")"
      ]
    },
    {
      "cell_type": "code",
      "execution_count": null,
      "id": "3787fb7b-fabc-492f-a849-62d378a76a8f",
      "metadata": {
        "id": "3787fb7b-fabc-492f-a849-62d378a76a8f"
      },
      "outputs": [],
      "source": []
    }
  ],
  "metadata": {
    "kernelspec": {
      "display_name": "Python 3 (ipykernel)",
      "language": "python",
      "name": "python3"
    },
    "language_info": {
      "codemirror_mode": {
        "name": "ipython",
        "version": 3
      },
      "file_extension": ".py",
      "mimetype": "text/x-python",
      "name": "python",
      "nbconvert_exporter": "python",
      "pygments_lexer": "ipython3",
      "version": "3.12.7"
    },
    "colab": {
      "provenance": [],
      "include_colab_link": true
    }
  },
  "nbformat": 4,
  "nbformat_minor": 5
}